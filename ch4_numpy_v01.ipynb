{
 "nbformat": 4,
 "nbformat_minor": 2,
 "metadata": {
  "language_info": {
   "name": "python",
   "codemirror_mode": {
    "name": "ipython",
    "version": 3
   },
   "version": "3.7.4-final"
  },
  "orig_nbformat": 2,
  "file_extension": ".py",
  "mimetype": "text/x-python",
  "name": "python",
  "npconvert_exporter": "python",
  "pygments_lexer": "ipython3",
  "version": 3,
  "kernelspec": {
   "name": "python37464bitanaconda3virtualenv997d5965856a4fd1b4ba6b6708f89a85",
   "display_name": "Python 3.7.4 64-bit ('anaconda3': virtualenv)"
  }
 },
 "cells": [
  {
   "cell_type": "markdown",
   "execution_count": null,
   "metadata": {},
   "outputs": [],
   "source": [
    "# chapter 4. Numpy basics"
   ]
  },
  {
   "cell_type": "code",
   "execution_count": 1,
   "metadata": {},
   "outputs": [],
   "source": [
    "import numpy as np\n",
    "\n",
    "np.random.seed(12345)\n",
    "\n",
    "import matplotlib.pyplot as plt\n",
    "plt.rc('figure', figsize=(10, 6))\n",
    "np.set_printoptions(precision=4, suppress=True)"
   ]
  },
  {
   "cell_type": "code",
   "execution_count": 2,
   "metadata": {},
   "outputs": [],
   "source": [
    "import numpy as np\n",
    "\n",
    "my_arr = np.arange(1000000)\n",
    "my_list = list(range(1000000))"
   ]
  },
  {
   "cell_type": "code",
   "execution_count": 3,
   "metadata": {},
   "outputs": [
    {
     "output_type": "stream",
     "name": "stdout",
     "text": "CPU times: user 13.9 ms, sys: 6.4 ms, total: 20.3 ms\nWall time: 20.9 ms\nCPU times: user 622 ms, sys: 172 ms, total: 795 ms\nWall time: 807 ms\n"
    }
   ],
   "source": [
    "# print CPU times\n",
    "%time for _ in range(10): my_arr2 = my_arr * 2\n",
    "%time for _ in range(10): my_list2 = [x * 2 for x in my_list]"
   ]
  },
  {
   "cell_type": "markdown",
   "execution_count": null,
   "metadata": {},
   "outputs": [],
   "source": [
    "## 4.1 numpy ndarray"
   ]
  },
  {
   "cell_type": "code",
   "execution_count": 4,
   "metadata": {},
   "outputs": [
    {
     "output_type": "execute_result",
     "data": {
      "text/plain": "array([[-0.2047,  0.4789, -0.5194],\n       [-0.5557,  1.9658,  1.3934]])"
     },
     "metadata": {},
     "execution_count": 4
    }
   ],
   "source": [
    "import numpy as np\n",
    "\n",
    "data = np.random.randn(2, 3)\n",
    "data"
   ]
  },
  {
   "cell_type": "code",
   "execution_count": 5,
   "metadata": {},
   "outputs": [
    {
     "output_type": "execute_result",
     "data": {
      "text/plain": "array([[-2.0471,  4.7894, -5.1944],\n       [-5.5573, 19.6578, 13.9341]])"
     },
     "metadata": {},
     "execution_count": 5
    }
   ],
   "source": [
    "data * 10"
   ]
  },
  {
   "cell_type": "code",
   "execution_count": 6,
   "metadata": {},
   "outputs": [
    {
     "output_type": "execute_result",
     "data": {
      "text/plain": "array([[-0.4094,  0.9579, -1.0389],\n       [-1.1115,  3.9316,  2.7868]])"
     },
     "metadata": {},
     "execution_count": 6
    }
   ],
   "source": [
    "data + data"
   ]
  },
  {
   "cell_type": "code",
   "execution_count": 7,
   "metadata": {},
   "outputs": [
    {
     "output_type": "execute_result",
     "data": {
      "text/plain": "(2, 3)"
     },
     "metadata": {},
     "execution_count": 7
    }
   ],
   "source": [
    "data.shape"
   ]
  },
  {
   "cell_type": "code",
   "execution_count": 8,
   "metadata": {},
   "outputs": [
    {
     "output_type": "execute_result",
     "data": {
      "text/plain": "dtype('float64')"
     },
     "metadata": {},
     "execution_count": 8
    }
   ],
   "source": [
    "data.dtype"
   ]
  },
  {
   "cell_type": "markdown",
   "execution_count": null,
   "metadata": {},
   "outputs": [],
   "source": [
    "### creating ndarrays"
   ]
  },
  {
   "cell_type": "code",
   "execution_count": 9,
   "metadata": {},
   "outputs": [
    {
     "output_type": "execute_result",
     "data": {
      "text/plain": "array([6. , 7.5, 8. , 0. , 1. ])"
     },
     "metadata": {},
     "execution_count": 9
    }
   ],
   "source": [
    "data1 = [6, 7.5, 8, 0, 1]\n",
    "arr1 = np.array(data1)\n",
    "arr1"
   ]
  },
  {
   "cell_type": "code",
   "execution_count": 10,
   "metadata": {},
   "outputs": [
    {
     "output_type": "execute_result",
     "data": {
      "text/plain": "dtype('float64')"
     },
     "metadata": {},
     "execution_count": 10
    }
   ],
   "source": [
    "arr1.dtype"
   ]
  },
  {
   "cell_type": "code",
   "execution_count": 11,
   "metadata": {},
   "outputs": [
    {
     "output_type": "execute_result",
     "data": {
      "text/plain": "(5,)"
     },
     "metadata": {},
     "execution_count": 11
    }
   ],
   "source": [
    "arr1.shape"
   ]
  },
  {
   "cell_type": "code",
   "execution_count": 12,
   "metadata": {},
   "outputs": [
    {
     "output_type": "execute_result",
     "data": {
      "text/plain": "5"
     },
     "metadata": {},
     "execution_count": 12
    }
   ],
   "source": [
    "arr1.shape[0]"
   ]
  },
  {
   "cell_type": "code",
   "execution_count": 13,
   "metadata": {},
   "outputs": [
    {
     "output_type": "execute_result",
     "data": {
      "text/plain": "1"
     },
     "metadata": {},
     "execution_count": 13
    }
   ],
   "source": [
    "len(arr1.shape)"
   ]
  },
  {
   "cell_type": "code",
   "execution_count": 14,
   "metadata": {},
   "outputs": [
    {
     "output_type": "execute_result",
     "data": {
      "text/plain": "array([[1, 2, 3, 4],\n       [5, 6, 7, 8]])"
     },
     "metadata": {},
     "execution_count": 14
    }
   ],
   "source": [
    "data2 = [[1, 2, 3, 4], [5, 6, 7, 8]]\n",
    "arr2 = np.array(data2)\n",
    "arr2"
   ]
  },
  {
   "cell_type": "code",
   "execution_count": 15,
   "metadata": {},
   "outputs": [
    {
     "output_type": "execute_result",
     "data": {
      "text/plain": "(2, 4)"
     },
     "metadata": {},
     "execution_count": 15
    }
   ],
   "source": [
    "arr2.shape"
   ]
  },
  {
   "cell_type": "code",
   "execution_count": 16,
   "metadata": {},
   "outputs": [
    {
     "output_type": "execute_result",
     "data": {
      "text/plain": "2"
     },
     "metadata": {},
     "execution_count": 16
    }
   ],
   "source": [
    "arr2.shape[0]"
   ]
  },
  {
   "cell_type": "code",
   "execution_count": 17,
   "metadata": {},
   "outputs": [
    {
     "output_type": "execute_result",
     "data": {
      "text/plain": "4"
     },
     "metadata": {},
     "execution_count": 17
    }
   ],
   "source": [
    "arr2.shape[1]"
   ]
  },
  {
   "cell_type": "code",
   "execution_count": 18,
   "metadata": {},
   "outputs": [
    {
     "output_type": "execute_result",
     "data": {
      "text/plain": "dtype('int64')"
     },
     "metadata": {},
     "execution_count": 18
    }
   ],
   "source": [
    "arr2.dtype"
   ]
  },
  {
   "cell_type": "code",
   "execution_count": 19,
   "metadata": {},
   "outputs": [
    {
     "output_type": "execute_result",
     "data": {
      "text/plain": "2"
     },
     "metadata": {},
     "execution_count": 19
    }
   ],
   "source": [
    "# use .ndim attrib to check the number of dimensions of an array\n",
    "arr2.ndim"
   ]
  },
  {
   "cell_type": "code",
   "execution_count": 20,
   "metadata": {},
   "outputs": [
    {
     "output_type": "execute_result",
     "data": {
      "text/plain": "array([0., 0., 0., 0., 0., 0., 0., 0., 0., 0.])"
     },
     "metadata": {},
     "execution_count": 20
    }
   ],
   "source": [
    "np.zeros(10)"
   ]
  },
  {
   "cell_type": "code",
   "execution_count": 21,
   "metadata": {},
   "outputs": [
    {
     "output_type": "stream",
     "name": "stdout",
     "text": "[[0. 0. 0.]\n [0. 0. 0.]] \n\n"
    },
    {
     "output_type": "display_data",
     "data": {
      "text/plain": "<Figure size 720x432 with 1 Axes>",
      "image/svg+xml": "<?xml version=\"1.0\" encoding=\"utf-8\" standalone=\"no\"?>\n<!DOCTYPE svg PUBLIC \"-//W3C//DTD SVG 1.1//EN\"\n  \"http://www.w3.org/Graphics/SVG/1.1/DTD/svg11.dtd\">\n<!-- Created with matplotlib (https://matplotlib.org/) -->\n<svg height=\"361.037344pt\" version=\"1.1\" viewBox=\"0 0 549.236875 361.037344\" width=\"549.236875pt\" xmlns=\"http://www.w3.org/2000/svg\" xmlns:xlink=\"http://www.w3.org/1999/xlink\">\n <defs>\n  <style type=\"text/css\">\n*{stroke-linecap:butt;stroke-linejoin:round;}\n  </style>\n </defs>\n <g id=\"figure_1\">\n  <g id=\"patch_1\">\n   <path d=\"M 0 361.037344 \nL 549.236875 361.037344 \nL 549.236875 0 \nL 0 0 \nz\n\" style=\"fill:none;\"/>\n  </g>\n  <g id=\"axes_1\">\n   <g id=\"patch_2\">\n    <path d=\"M 44.845313 337.159219 \nL 534.085312 337.159219 \nL 534.085312 10.999219 \nL 44.845313 10.999219 \nz\n\" style=\"fill:#ffffff;\"/>\n   </g>\n   <g clip-path=\"url(#pad722b7ddd)\">\n    <image height=\"327\" id=\"image8761e735a7\" transform=\"scale(1 -1)translate(0 -327)\" width=\"490\" x=\"44.845313\" xlink:href=\"data:image/png;base64,\niVBORw0KGgoAAAANSUhEUgAAAeoAAAFHCAYAAABu7w8KAAAABHNCSVQICAgIfAhkiAAABTpJREFUeJzt1TEBACAMwDDAv+ehgJseiYJ+3TMzCwBIOr8DAIA3owaAMKMGgDCjBoAwowaAMKMGgDCjBoAwowaAMKMGgDCjBoAwowaAMKMGgDCjBoAwowaAMKMGgDCjBoAwowaAMKMGgDCjBoAwowaAMKMGgDCjBoAwowaAMKMGgDCjBoAwowaAMKMGgDCjBoAwowaAMKMGgDCjBoAwowaAMKMGgDCjBoAwowaAMKMGgDCjBoAwowaAMKMGgDCjBoAwowaAMKMGgDCjBoAwowaAMKMGgDCjBoAwowaAMKMGgDCjBoAwowaAMKMGgDCjBoAwowaAMKMGgDCjBoAwowaAMKMGgDCjBoAwowaAMKMGgDCjBoAwowaAMKMGgDCjBoAwowaAMKMGgDCjBoAwowaAMKMGgDCjBoAwowaAMKMGgDCjBoAwowaAMKMGgDCjBoAwowaAMKMGgDCjBoAwowaAMKMGgDCjBoAwowaAMKMGgDCjBoAwowaAMKMGgDCjBoAwowaAMKMGgDCjBoAwowaAMKMGgDCjBoAwowaAMKMGgDCjBoAwowaAMKMGgDCjBoAwowaAMKMGgDCjBoAwowaAMKMGgDCjBoAwowaAMKMGgDCjBoAwowaAMKMGgDCjBoAwowaAMKMGgDCjBoAwowaAMKMGgDCjBoAwowaAMKMGgDCjBoAwowaAMKMGgDCjBoAwowaAMKMGgDCjBoAwowaAMKMGgDCjBoAwowaAMKMGgDCjBoAwowaAMKMGgDCjBoAwowaAMKMGgDCjBoAwowaAMKMGgDCjBoAwowaAMKMGgDCjBoAwowaAMKMGgDCjBoAwowaAMKMGgDCjBoAwowaAMKMGgDCjBoAwowaAMKMGgDCjBoAwowaAMKMGgDCjBoAwowaAMKMGgDCjBoAwowaAMKMGgDCjBoAwowaAMKMGgDCjBoAwowaAMKMGgDCjBoAwowaAMKMGgDCjBoAwowaAMKMGgDCjBoAwowaAMKMGgDCjBoAwowaAMKMGgDCjBoAwowaAMKMGgDCjBoAwowaAMKMGgDCjBoAwowaAMKMGgDCjBoAwowaAMKMGgDCjBoAwowaAMKMGgDCjBoAwowaAMKMGgDCjBoAwowaAMKMGgDCjBoAwowaAMKMGgDCjBoAwowaAMKMGgDCjBoAwowaAMKMGgDCjBoAwowaAMKMGgDCjBoAwowaAMKMGgDCjBoAwowaAMKMGgDCjBoAwowaAMKMGgDCjBoAwowaAMKMGgDCjBoAwowaAMKMGgDCjBoAwowaAMKMGgDCjBoAwowaAMKMGgDCjBoAwowaAMKMGgDCjBoAwowaAMKMGgDCjBoAwowaAMKMGgDCjBoAwowaAMKMGgDCjBoAwowaAMKMGgDCjBoAwowaAMKMGgDCjBoAwowaAMKMGgDCjBoAwowaAMKMGgDCjBoAwowaAMKMGgDCjBoAwowaAMKMGgDCjBoAwowaAMKMGgDCjBoAwowaAMKMGgDCjBoAwowaAMKMGgDCjBoAwowaAMKMGgDCjBoAwowaAMKMGgDCjBoAwowaAMKMGgDCjBoAwowaAMKMGgDCjBoAwowaAMKMGgDCjBoAwowaAMKMGgDCjBoAwowaAMKMGgDCjBoAwowaAMKMGgDCjBoAwowaAMKMGgDCjBoAwowaAMKMGgDCjBoAwowaAMKMGgDCjBoAwowaAMKMGgDCjBoAwowaAMKMGgDCjBoAwowaAMKMGgDCjBoAwowaAMKMGgDCjBoAwowaAMKMGgDCjBoAwowaAsAuxPgaKanQ7DgAAAABJRU5ErkJggg==\" y=\"-10.159219\"/>\n   </g>\n   <g id=\"matplotlib.axis_1\">\n    <g id=\"xtick_1\">\n     <g id=\"line2d_1\">\n      <defs>\n       <path d=\"M 0 0 \nL 0 3.5 \n\" id=\"mf1d0547019\" style=\"stroke:#000000;stroke-width:0.8;\"/>\n      </defs>\n      <g>\n       <use style=\"stroke:#000000;stroke-width:0.8;\" x=\"44.845313\" xlink:href=\"#mf1d0547019\" y=\"337.159219\"/>\n      </g>\n     </g>\n     <g id=\"text_1\">\n      <!-- −0.5 -->\n      <defs>\n       <path d=\"M 10.59375 35.5 \nL 73.1875 35.5 \nL 73.1875 27.203125 \nL 10.59375 27.203125 \nz\n\" id=\"DejaVuSans-8722\"/>\n       <path d=\"M 31.78125 66.40625 \nQ 24.171875 66.40625 20.328125 58.90625 \nQ 16.5 51.421875 16.5 36.375 \nQ 16.5 21.390625 20.328125 13.890625 \nQ 24.171875 6.390625 31.78125 6.390625 \nQ 39.453125 6.390625 43.28125 13.890625 \nQ 47.125 21.390625 47.125 36.375 \nQ 47.125 51.421875 43.28125 58.90625 \nQ 39.453125 66.40625 31.78125 66.40625 \nz\nM 31.78125 74.21875 \nQ 44.046875 74.21875 50.515625 64.515625 \nQ 56.984375 54.828125 56.984375 36.375 \nQ 56.984375 17.96875 50.515625 8.265625 \nQ 44.046875 -1.421875 31.78125 -1.421875 \nQ 19.53125 -1.421875 13.0625 8.265625 \nQ 6.59375 17.96875 6.59375 36.375 \nQ 6.59375 54.828125 13.0625 64.515625 \nQ 19.53125 74.21875 31.78125 74.21875 \nz\n\" id=\"DejaVuSans-48\"/>\n       <path d=\"M 10.6875 12.40625 \nL 21 12.40625 \nL 21 0 \nL 10.6875 0 \nz\n\" id=\"DejaVuSans-46\"/>\n       <path d=\"M 10.796875 72.90625 \nL 49.515625 72.90625 \nL 49.515625 64.59375 \nL 19.828125 64.59375 \nL 19.828125 46.734375 \nQ 21.96875 47.46875 24.109375 47.828125 \nQ 26.265625 48.1875 28.421875 48.1875 \nQ 40.625 48.1875 47.75 41.5 \nQ 54.890625 34.8125 54.890625 23.390625 \nQ 54.890625 11.625 47.5625 5.09375 \nQ 40.234375 -1.421875 26.90625 -1.421875 \nQ 22.3125 -1.421875 17.546875 -0.640625 \nQ 12.796875 0.140625 7.71875 1.703125 \nL 7.71875 11.625 \nQ 12.109375 9.234375 16.796875 8.0625 \nQ 21.484375 6.890625 26.703125 6.890625 \nQ 35.15625 6.890625 40.078125 11.328125 \nQ 45.015625 15.765625 45.015625 23.390625 \nQ 45.015625 31 40.078125 35.4375 \nQ 35.15625 39.890625 26.703125 39.890625 \nQ 22.75 39.890625 18.8125 39.015625 \nQ 14.890625 38.140625 10.796875 36.28125 \nz\n\" id=\"DejaVuSans-53\"/>\n      </defs>\n      <g transform=\"translate(32.703906 351.757656)scale(0.1 -0.1)\">\n       <use xlink:href=\"#DejaVuSans-8722\"/>\n       <use x=\"83.789062\" xlink:href=\"#DejaVuSans-48\"/>\n       <use x=\"147.412109\" xlink:href=\"#DejaVuSans-46\"/>\n       <use x=\"179.199219\" xlink:href=\"#DejaVuSans-53\"/>\n      </g>\n     </g>\n    </g>\n    <g id=\"xtick_2\">\n     <g id=\"line2d_2\">\n      <g>\n       <use style=\"stroke:#000000;stroke-width:0.8;\" x=\"126.385313\" xlink:href=\"#mf1d0547019\" y=\"337.159219\"/>\n      </g>\n     </g>\n     <g id=\"text_2\">\n      <!-- 0.0 -->\n      <g transform=\"translate(118.43375 351.757656)scale(0.1 -0.1)\">\n       <use xlink:href=\"#DejaVuSans-48\"/>\n       <use x=\"63.623047\" xlink:href=\"#DejaVuSans-46\"/>\n       <use x=\"95.410156\" xlink:href=\"#DejaVuSans-48\"/>\n      </g>\n     </g>\n    </g>\n    <g id=\"xtick_3\">\n     <g id=\"line2d_3\">\n      <g>\n       <use style=\"stroke:#000000;stroke-width:0.8;\" x=\"207.925313\" xlink:href=\"#mf1d0547019\" y=\"337.159219\"/>\n      </g>\n     </g>\n     <g id=\"text_3\">\n      <!-- 0.5 -->\n      <g transform=\"translate(199.97375 351.757656)scale(0.1 -0.1)\">\n       <use xlink:href=\"#DejaVuSans-48\"/>\n       <use x=\"63.623047\" xlink:href=\"#DejaVuSans-46\"/>\n       <use x=\"95.410156\" xlink:href=\"#DejaVuSans-53\"/>\n      </g>\n     </g>\n    </g>\n    <g id=\"xtick_4\">\n     <g id=\"line2d_4\">\n      <g>\n       <use style=\"stroke:#000000;stroke-width:0.8;\" x=\"289.465312\" xlink:href=\"#mf1d0547019\" y=\"337.159219\"/>\n      </g>\n     </g>\n     <g id=\"text_4\">\n      <!-- 1.0 -->\n      <defs>\n       <path d=\"M 12.40625 8.296875 \nL 28.515625 8.296875 \nL 28.515625 63.921875 \nL 10.984375 60.40625 \nL 10.984375 69.390625 \nL 28.421875 72.90625 \nL 38.28125 72.90625 \nL 38.28125 8.296875 \nL 54.390625 8.296875 \nL 54.390625 0 \nL 12.40625 0 \nz\n\" id=\"DejaVuSans-49\"/>\n      </defs>\n      <g transform=\"translate(281.51375 351.757656)scale(0.1 -0.1)\">\n       <use xlink:href=\"#DejaVuSans-49\"/>\n       <use x=\"63.623047\" xlink:href=\"#DejaVuSans-46\"/>\n       <use x=\"95.410156\" xlink:href=\"#DejaVuSans-48\"/>\n      </g>\n     </g>\n    </g>\n    <g id=\"xtick_5\">\n     <g id=\"line2d_5\">\n      <g>\n       <use style=\"stroke:#000000;stroke-width:0.8;\" x=\"371.005313\" xlink:href=\"#mf1d0547019\" y=\"337.159219\"/>\n      </g>\n     </g>\n     <g id=\"text_5\">\n      <!-- 1.5 -->\n      <g transform=\"translate(363.05375 351.757656)scale(0.1 -0.1)\">\n       <use xlink:href=\"#DejaVuSans-49\"/>\n       <use x=\"63.623047\" xlink:href=\"#DejaVuSans-46\"/>\n       <use x=\"95.410156\" xlink:href=\"#DejaVuSans-53\"/>\n      </g>\n     </g>\n    </g>\n    <g id=\"xtick_6\">\n     <g id=\"line2d_6\">\n      <g>\n       <use style=\"stroke:#000000;stroke-width:0.8;\" x=\"452.545312\" xlink:href=\"#mf1d0547019\" y=\"337.159219\"/>\n      </g>\n     </g>\n     <g id=\"text_6\">\n      <!-- 2.0 -->\n      <defs>\n       <path d=\"M 19.1875 8.296875 \nL 53.609375 8.296875 \nL 53.609375 0 \nL 7.328125 0 \nL 7.328125 8.296875 \nQ 12.9375 14.109375 22.625 23.890625 \nQ 32.328125 33.6875 34.8125 36.53125 \nQ 39.546875 41.84375 41.421875 45.53125 \nQ 43.3125 49.21875 43.3125 52.78125 \nQ 43.3125 58.59375 39.234375 62.25 \nQ 35.15625 65.921875 28.609375 65.921875 \nQ 23.96875 65.921875 18.8125 64.3125 \nQ 13.671875 62.703125 7.8125 59.421875 \nL 7.8125 69.390625 \nQ 13.765625 71.78125 18.9375 73 \nQ 24.125 74.21875 28.421875 74.21875 \nQ 39.75 74.21875 46.484375 68.546875 \nQ 53.21875 62.890625 53.21875 53.421875 \nQ 53.21875 48.921875 51.53125 44.890625 \nQ 49.859375 40.875 45.40625 35.40625 \nQ 44.1875 33.984375 37.640625 27.21875 \nQ 31.109375 20.453125 19.1875 8.296875 \nz\n\" id=\"DejaVuSans-50\"/>\n      </defs>\n      <g transform=\"translate(444.59375 351.757656)scale(0.1 -0.1)\">\n       <use xlink:href=\"#DejaVuSans-50\"/>\n       <use x=\"63.623047\" xlink:href=\"#DejaVuSans-46\"/>\n       <use x=\"95.410156\" xlink:href=\"#DejaVuSans-48\"/>\n      </g>\n     </g>\n    </g>\n    <g id=\"xtick_7\">\n     <g id=\"line2d_7\">\n      <g>\n       <use style=\"stroke:#000000;stroke-width:0.8;\" x=\"534.085312\" xlink:href=\"#mf1d0547019\" y=\"337.159219\"/>\n      </g>\n     </g>\n     <g id=\"text_7\">\n      <!-- 2.5 -->\n      <g transform=\"translate(526.13375 351.757656)scale(0.1 -0.1)\">\n       <use xlink:href=\"#DejaVuSans-50\"/>\n       <use x=\"63.623047\" xlink:href=\"#DejaVuSans-46\"/>\n       <use x=\"95.410156\" xlink:href=\"#DejaVuSans-53\"/>\n      </g>\n     </g>\n    </g>\n   </g>\n   <g id=\"matplotlib.axis_2\">\n    <g id=\"ytick_1\">\n     <g id=\"line2d_8\">\n      <defs>\n       <path d=\"M 0 0 \nL -3.5 0 \n\" id=\"meb809ff28a\" style=\"stroke:#000000;stroke-width:0.8;\"/>\n      </defs>\n      <g>\n       <use style=\"stroke:#000000;stroke-width:0.8;\" x=\"44.845313\" xlink:href=\"#meb809ff28a\" y=\"10.999219\"/>\n      </g>\n     </g>\n     <g id=\"text_8\">\n      <!-- −0.50 -->\n      <g transform=\"translate(7.2 14.798438)scale(0.1 -0.1)\">\n       <use xlink:href=\"#DejaVuSans-8722\"/>\n       <use x=\"83.789062\" xlink:href=\"#DejaVuSans-48\"/>\n       <use x=\"147.412109\" xlink:href=\"#DejaVuSans-46\"/>\n       <use x=\"179.199219\" xlink:href=\"#DejaVuSans-53\"/>\n       <use x=\"242.822266\" xlink:href=\"#DejaVuSans-48\"/>\n      </g>\n     </g>\n    </g>\n    <g id=\"ytick_2\">\n     <g id=\"line2d_9\">\n      <g>\n       <use style=\"stroke:#000000;stroke-width:0.8;\" x=\"44.845313\" xlink:href=\"#meb809ff28a\" y=\"51.769219\"/>\n      </g>\n     </g>\n     <g id=\"text_9\">\n      <!-- −0.25 -->\n      <g transform=\"translate(7.2 55.568438)scale(0.1 -0.1)\">\n       <use xlink:href=\"#DejaVuSans-8722\"/>\n       <use x=\"83.789062\" xlink:href=\"#DejaVuSans-48\"/>\n       <use x=\"147.412109\" xlink:href=\"#DejaVuSans-46\"/>\n       <use x=\"179.199219\" xlink:href=\"#DejaVuSans-50\"/>\n       <use x=\"242.822266\" xlink:href=\"#DejaVuSans-53\"/>\n      </g>\n     </g>\n    </g>\n    <g id=\"ytick_3\">\n     <g id=\"line2d_10\">\n      <g>\n       <use style=\"stroke:#000000;stroke-width:0.8;\" x=\"44.845313\" xlink:href=\"#meb809ff28a\" y=\"92.539219\"/>\n      </g>\n     </g>\n     <g id=\"text_10\">\n      <!-- 0.00 -->\n      <g transform=\"translate(15.579688 96.338438)scale(0.1 -0.1)\">\n       <use xlink:href=\"#DejaVuSans-48\"/>\n       <use x=\"63.623047\" xlink:href=\"#DejaVuSans-46\"/>\n       <use x=\"95.410156\" xlink:href=\"#DejaVuSans-48\"/>\n       <use x=\"159.033203\" xlink:href=\"#DejaVuSans-48\"/>\n      </g>\n     </g>\n    </g>\n    <g id=\"ytick_4\">\n     <g id=\"line2d_11\">\n      <g>\n       <use style=\"stroke:#000000;stroke-width:0.8;\" x=\"44.845313\" xlink:href=\"#meb809ff28a\" y=\"133.309219\"/>\n      </g>\n     </g>\n     <g id=\"text_11\">\n      <!-- 0.25 -->\n      <g transform=\"translate(15.579688 137.108438)scale(0.1 -0.1)\">\n       <use xlink:href=\"#DejaVuSans-48\"/>\n       <use x=\"63.623047\" xlink:href=\"#DejaVuSans-46\"/>\n       <use x=\"95.410156\" xlink:href=\"#DejaVuSans-50\"/>\n       <use x=\"159.033203\" xlink:href=\"#DejaVuSans-53\"/>\n      </g>\n     </g>\n    </g>\n    <g id=\"ytick_5\">\n     <g id=\"line2d_12\">\n      <g>\n       <use style=\"stroke:#000000;stroke-width:0.8;\" x=\"44.845313\" xlink:href=\"#meb809ff28a\" y=\"174.079219\"/>\n      </g>\n     </g>\n     <g id=\"text_12\">\n      <!-- 0.50 -->\n      <g transform=\"translate(15.579688 177.878438)scale(0.1 -0.1)\">\n       <use xlink:href=\"#DejaVuSans-48\"/>\n       <use x=\"63.623047\" xlink:href=\"#DejaVuSans-46\"/>\n       <use x=\"95.410156\" xlink:href=\"#DejaVuSans-53\"/>\n       <use x=\"159.033203\" xlink:href=\"#DejaVuSans-48\"/>\n      </g>\n     </g>\n    </g>\n    <g id=\"ytick_6\">\n     <g id=\"line2d_13\">\n      <g>\n       <use style=\"stroke:#000000;stroke-width:0.8;\" x=\"44.845313\" xlink:href=\"#meb809ff28a\" y=\"214.849219\"/>\n      </g>\n     </g>\n     <g id=\"text_13\">\n      <!-- 0.75 -->\n      <defs>\n       <path d=\"M 8.203125 72.90625 \nL 55.078125 72.90625 \nL 55.078125 68.703125 \nL 28.609375 0 \nL 18.3125 0 \nL 43.21875 64.59375 \nL 8.203125 64.59375 \nz\n\" id=\"DejaVuSans-55\"/>\n      </defs>\n      <g transform=\"translate(15.579688 218.648438)scale(0.1 -0.1)\">\n       <use xlink:href=\"#DejaVuSans-48\"/>\n       <use x=\"63.623047\" xlink:href=\"#DejaVuSans-46\"/>\n       <use x=\"95.410156\" xlink:href=\"#DejaVuSans-55\"/>\n       <use x=\"159.033203\" xlink:href=\"#DejaVuSans-53\"/>\n      </g>\n     </g>\n    </g>\n    <g id=\"ytick_7\">\n     <g id=\"line2d_14\">\n      <g>\n       <use style=\"stroke:#000000;stroke-width:0.8;\" x=\"44.845313\" xlink:href=\"#meb809ff28a\" y=\"255.619219\"/>\n      </g>\n     </g>\n     <g id=\"text_14\">\n      <!-- 1.00 -->\n      <g transform=\"translate(15.579688 259.418438)scale(0.1 -0.1)\">\n       <use xlink:href=\"#DejaVuSans-49\"/>\n       <use x=\"63.623047\" xlink:href=\"#DejaVuSans-46\"/>\n       <use x=\"95.410156\" xlink:href=\"#DejaVuSans-48\"/>\n       <use x=\"159.033203\" xlink:href=\"#DejaVuSans-48\"/>\n      </g>\n     </g>\n    </g>\n    <g id=\"ytick_8\">\n     <g id=\"line2d_15\">\n      <g>\n       <use style=\"stroke:#000000;stroke-width:0.8;\" x=\"44.845313\" xlink:href=\"#meb809ff28a\" y=\"296.389219\"/>\n      </g>\n     </g>\n     <g id=\"text_15\">\n      <!-- 1.25 -->\n      <g transform=\"translate(15.579688 300.188438)scale(0.1 -0.1)\">\n       <use xlink:href=\"#DejaVuSans-49\"/>\n       <use x=\"63.623047\" xlink:href=\"#DejaVuSans-46\"/>\n       <use x=\"95.410156\" xlink:href=\"#DejaVuSans-50\"/>\n       <use x=\"159.033203\" xlink:href=\"#DejaVuSans-53\"/>\n      </g>\n     </g>\n    </g>\n    <g id=\"ytick_9\">\n     <g id=\"line2d_16\">\n      <g>\n       <use style=\"stroke:#000000;stroke-width:0.8;\" x=\"44.845313\" xlink:href=\"#meb809ff28a\" y=\"337.159219\"/>\n      </g>\n     </g>\n     <g id=\"text_16\">\n      <!-- 1.50 -->\n      <g transform=\"translate(15.579688 340.958438)scale(0.1 -0.1)\">\n       <use xlink:href=\"#DejaVuSans-49\"/>\n       <use x=\"63.623047\" xlink:href=\"#DejaVuSans-46\"/>\n       <use x=\"95.410156\" xlink:href=\"#DejaVuSans-53\"/>\n       <use x=\"159.033203\" xlink:href=\"#DejaVuSans-48\"/>\n      </g>\n     </g>\n    </g>\n   </g>\n   <g id=\"patch_3\">\n    <path d=\"M 44.845313 337.159219 \nL 44.845313 10.999219 \n\" style=\"fill:none;stroke:#000000;stroke-linecap:square;stroke-linejoin:miter;stroke-width:0.8;\"/>\n   </g>\n   <g id=\"patch_4\">\n    <path d=\"M 534.085312 337.159219 \nL 534.085312 10.999219 \n\" style=\"fill:none;stroke:#000000;stroke-linecap:square;stroke-linejoin:miter;stroke-width:0.8;\"/>\n   </g>\n   <g id=\"patch_5\">\n    <path d=\"M 44.845313 337.159219 \nL 534.085312 337.159219 \n\" style=\"fill:none;stroke:#000000;stroke-linecap:square;stroke-linejoin:miter;stroke-width:0.8;\"/>\n   </g>\n   <g id=\"patch_6\">\n    <path d=\"M 44.845313 10.999219 \nL 534.085312 10.999219 \n\" style=\"fill:none;stroke:#000000;stroke-linecap:square;stroke-linejoin:miter;stroke-width:0.8;\"/>\n   </g>\n  </g>\n </g>\n <defs>\n  <clipPath id=\"pad722b7ddd\">\n   <rect height=\"326.16\" width=\"489.24\" x=\"44.845313\" y=\"10.999219\"/>\n  </clipPath>\n </defs>\n</svg>\n",
      "image/png": "[encoded data removed]"
     },
     "metadata": {
      "needs_background": "light"
     }
    }
   ],
   "source": [
    "zeros_arr = np.zeros((2, 3))\n",
    "print(zeros_arr, '\\n')\n",
    "\n",
    "plt.imshow(zeros_arr, cmap='binary')\n",
    "plt.show()"
   ]
  },
  {
   "cell_type": "code",
   "execution_count": 22,
   "metadata": {},
   "outputs": [
    {
     "output_type": "execute_result",
     "data": {
      "text/plain": "array([[[0., 0., 0.],\n        [0., 0., 0.],\n        [0., 0., 0.],\n        [0., 0., 0.]],\n\n       [[0., 0., 0.],\n        [0., 0., 0.],\n        [0., 0., 0.],\n        [0., 0., 0.]]])"
     },
     "metadata": {},
     "execution_count": 22
    }
   ],
   "source": [
    "a_3d_arr = np.zeros((2, 4, 3))\n",
    "a_3d_arr"
   ]
  },
  {
   "cell_type": "code",
   "execution_count": 23,
   "metadata": {},
   "outputs": [
    {
     "output_type": "stream",
     "name": "stdout",
     "text": "[[[ 0.0929  0.2817  0.769   1.2464]\n  [ 1.0072 -1.2962  0.275   0.2289]\n  [ 1.3529  0.8864 -2.0016 -0.3718]]\n\n [[ 1.669  -0.4386 -0.5397  0.477 ]\n  [ 3.2489 -1.0212 -0.5771  0.1241]\n  [ 0.3026  0.5238  0.0009  1.3438]]] \n\n"
    },
    {
     "output_type": "display_data",
     "data": {
      "text/plain": "<Figure size 720x432 with 1 Axes>",
      "image/svg+xml": "<?xml version=\"1.0\" encoding=\"utf-8\" standalone=\"no\"?>\n<!DOCTYPE svg PUBLIC \"-//W3C//DTD SVG 1.1//EN\"\n  \"http://www.w3.org/Graphics/SVG/1.1/DTD/svg11.dtd\">\n<!-- Created with matplotlib (https://matplotlib.org/) -->\n<svg height=\"361.037344pt\" version=\"1.1\" viewBox=\"0 0 488.514375 361.037344\" width=\"488.514375pt\" xmlns=\"http://www.w3.org/2000/svg\" xmlns:xlink=\"http://www.w3.org/1999/xlink\">\n <defs>\n  <style type=\"text/css\">\n*{stroke-linecap:butt;stroke-linejoin:round;}\n  </style>\n </defs>\n <g id=\"figure_1\">\n  <g id=\"patch_1\">\n   <path d=\"M 0 361.037344 \nL 488.514375 361.037344 \nL 488.514375 0 \nL 0 0 \nz\n\" style=\"fill:none;\"/>\n  </g>\n  <g id=\"axes_1\">\n   <g id=\"patch_2\">\n    <path d=\"M 38.482813 337.159219 \nL 473.362813 337.159219 \nL 473.362813 10.999219 \nL 38.482813 10.999219 \nz\n\" style=\"fill:#ffffff;\"/>\n   </g>\n   <g clip-path=\"url(#p8ff6d79e4c)\">\n    <image height=\"327\" id=\"image45c7d05321\" transform=\"scale(1 -1)translate(0 -327)\" width=\"435\" x=\"38.482813\" xlink:href=\"data:image/png;base64,\niVBORw0KGgoAAAANSUhEUgAAAbMAAAFHCAYAAAAr7qKIAAAABHNCSVQICAgIfAhkiAAABThJREFUeJzt10GNw0AABEHnZBL5GpIRGIzBhFNiEEaQYFjdY9VSFYL5teaxLMt3IWXbttkTGHBd1+wJDDrPc/YEBv3NHgAA/yVmAOSJGQB5YgZAnpgBkCdmAOSJGQB5YgZAnpgBkCdmAOSJGQB5YgZAnpgBkCdmAOSJGQB5YgZAnpgBkCdmAOSJGQB5YgZAnpgBkCdmAOSJGQB5YgZAnpgBkCdmAOSJGQB5YgZAnpgBkCdmAOSJGQB5YgZAnpgBkCdmAOSJGQB5YgZAnpgBkCdmAOSJGQB5YgZAnpgBkCdmAOSJGQB5YgZAnpgBkCdmAOSJGQB5YgZAnpgBkCdmAOSJGQB5YgZAnpgBkCdmAOSJGQB5YgZAnpgBkCdmAOSJGQB5YgZAnpgBkCdmAOSJGQB5YgZAnpgBkCdmAOSJGQB5YgZAnpgBkCdmAOSJGQB5YgZAnpgBkCdmAOSJGQB5YgZAnpgBkCdmAOSJGQB5YgZAnpgBkCdmAOSJGQB5YgZAnpgBkCdmAOSJGQB5YgZAnpgBkCdmAOSJGQB5YgZAnpgBkCdmAOSJGQB5YgZAnpgBkCdmAOSJGQB5YgZAnpgBkCdmAOSJGQB5YgZAnpgBkCdmAOSJGQB5YgZA3vp8PmdvYNDr9Zo9gQH7vs+ewKB1XWdPYJBnBkCemAGQJ2YA5IkZAHliBkCemAGQJ2YA5IkZAHliBkCemAGQJ2YA5IkZAHliBkCemAGQJ2YA5IkZAHliBkCemAGQJ2YA5IkZAHliBkCemAGQJ2YA5IkZAHliBkCemAGQJ2YA5IkZAHliBkCemAGQJ2YA5IkZAHliBkCemAGQJ2YA5IkZAHliBkCemAGQJ2YA5IkZAHliBkCemAGQJ2YA5IkZAHliBkCemAGQJ2YA5IkZAHliBkCemAGQJ2YA5IkZAHliBkCemAGQJ2YA5IkZAHliBkCemAGQJ2YA5IkZAHliBkCemAGQJ2YA5IkZAHliBkCemAGQJ2YA5IkZAHliBkCemAGQJ2YA5IkZAHliBkCemAGQJ2YA5IkZAHliBkCemAGQJ2YA5IkZAHliBkCemAGQJ2YA5IkZAHliBkCemAGQJ2YA5IkZAHliBkCemAGQJ2YA5IkZAHliBkCemAGQJ2YA5IkZAHliBkCemAGQJ2YA5IkZAHliBkCemAGQJ2YA5IkZAHliBkCemAGQJ2YA5IkZAHmP4zi+s0cw5r7v2RMY8H6/Z09g0OfzmT2BQZ4ZAHliBkCemAGQJ2YA5IkZAHliBkCemAGQJ2YA5IkZAHliBkCemAGQJ2YA5IkZAHliBkCemAGQJ2YA5IkZAHliBkCemAGQJ2YA5IkZAHliBkCemAGQJ2YA5IkZAHliBkCemAGQJ2YA5IkZAHliBkCemAGQJ2YA5IkZAHliBkCemAGQJ2YA5IkZAHliBkCemAGQJ2YA5IkZAHliBkCemAGQJ2YA5IkZAHliBkCemAGQJ2YA5IkZAHliBkCemAGQJ2YA5IkZAHliBkCemAGQJ2YA5IkZAHliBkCemAGQJ2YA5IkZAHliBkCemAGQJ2YA5IkZAHliBkCemAGQJ2YA5IkZAHliBkCemAGQJ2YA5IkZAHliBkCemAGQJ2YA5IkZAHliBkCemAGQJ2YA5IkZAHliBkCemAGQJ2YA5IkZAHliBkCemAGQJ2YA5IkZAHliBkCemAGQJ2YA5IkZAHliBkCemAGQJ2YA5IkZAHliBkCemAGQJ2YA5IkZAHliBkCemAGQJ2YA5IkZAHliBkCemAGQJ2YA5P0Av3QVc6XmakgAAAAASUVORK5CYII=\" y=\"-10.159219\"/>\n   </g>\n   <g id=\"matplotlib.axis_1\">\n    <g id=\"xtick_1\">\n     <g id=\"line2d_1\">\n      <defs>\n       <path d=\"M 0 0 \nL 0 3.5 \n\" id=\"m81dec4bc08\" style=\"stroke:#000000;stroke-width:0.8;\"/>\n      </defs>\n      <g>\n       <use style=\"stroke:#000000;stroke-width:0.8;\" x=\"38.482813\" xlink:href=\"#m81dec4bc08\" y=\"337.159219\"/>\n      </g>\n     </g>\n     <g id=\"text_1\">\n      <!-- −0.5 -->\n      <defs>\n       <path d=\"M 10.59375 35.5 \nL 73.1875 35.5 \nL 73.1875 27.203125 \nL 10.59375 27.203125 \nz\n\" id=\"DejaVuSans-8722\"/>\n       <path d=\"M 31.78125 66.40625 \nQ 24.171875 66.40625 20.328125 58.90625 \nQ 16.5 51.421875 16.5 36.375 \nQ 16.5 21.390625 20.328125 13.890625 \nQ 24.171875 6.390625 31.78125 6.390625 \nQ 39.453125 6.390625 43.28125 13.890625 \nQ 47.125 21.390625 47.125 36.375 \nQ 47.125 51.421875 43.28125 58.90625 \nQ 39.453125 66.40625 31.78125 66.40625 \nz\nM 31.78125 74.21875 \nQ 44.046875 74.21875 50.515625 64.515625 \nQ 56.984375 54.828125 56.984375 36.375 \nQ 56.984375 17.96875 50.515625 8.265625 \nQ 44.046875 -1.421875 31.78125 -1.421875 \nQ 19.53125 -1.421875 13.0625 8.265625 \nQ 6.59375 17.96875 6.59375 36.375 \nQ 6.59375 54.828125 13.0625 64.515625 \nQ 19.53125 74.21875 31.78125 74.21875 \nz\n\" id=\"DejaVuSans-48\"/>\n       <path d=\"M 10.6875 12.40625 \nL 21 12.40625 \nL 21 0 \nL 10.6875 0 \nz\n\" id=\"DejaVuSans-46\"/>\n       <path d=\"M 10.796875 72.90625 \nL 49.515625 72.90625 \nL 49.515625 64.59375 \nL 19.828125 64.59375 \nL 19.828125 46.734375 \nQ 21.96875 47.46875 24.109375 47.828125 \nQ 26.265625 48.1875 28.421875 48.1875 \nQ 40.625 48.1875 47.75 41.5 \nQ 54.890625 34.8125 54.890625 23.390625 \nQ 54.890625 11.625 47.5625 5.09375 \nQ 40.234375 -1.421875 26.90625 -1.421875 \nQ 22.3125 -1.421875 17.546875 -0.640625 \nQ 12.796875 0.140625 7.71875 1.703125 \nL 7.71875 11.625 \nQ 12.109375 9.234375 16.796875 8.0625 \nQ 21.484375 6.890625 26.703125 6.890625 \nQ 35.15625 6.890625 40.078125 11.328125 \nQ 45.015625 15.765625 45.015625 23.390625 \nQ 45.015625 31 40.078125 35.4375 \nQ 35.15625 39.890625 26.703125 39.890625 \nQ 22.75 39.890625 18.8125 39.015625 \nQ 14.890625 38.140625 10.796875 36.28125 \nz\n\" id=\"DejaVuSans-53\"/>\n      </defs>\n      <g transform=\"translate(26.341406 351.757656)scale(0.1 -0.1)\">\n       <use xlink:href=\"#DejaVuSans-8722\"/>\n       <use x=\"83.789062\" xlink:href=\"#DejaVuSans-48\"/>\n       <use x=\"147.412109\" xlink:href=\"#DejaVuSans-46\"/>\n       <use x=\"179.199219\" xlink:href=\"#DejaVuSans-53\"/>\n      </g>\n     </g>\n    </g>\n    <g id=\"xtick_2\">\n     <g id=\"line2d_2\">\n      <g>\n       <use style=\"stroke:#000000;stroke-width:0.8;\" x=\"92.842813\" xlink:href=\"#m81dec4bc08\" y=\"337.159219\"/>\n      </g>\n     </g>\n     <g id=\"text_2\">\n      <!-- 0.0 -->\n      <g transform=\"translate(84.89125 351.757656)scale(0.1 -0.1)\">\n       <use xlink:href=\"#DejaVuSans-48\"/>\n       <use x=\"63.623047\" xlink:href=\"#DejaVuSans-46\"/>\n       <use x=\"95.410156\" xlink:href=\"#DejaVuSans-48\"/>\n      </g>\n     </g>\n    </g>\n    <g id=\"xtick_3\">\n     <g id=\"line2d_3\">\n      <g>\n       <use style=\"stroke:#000000;stroke-width:0.8;\" x=\"147.202813\" xlink:href=\"#m81dec4bc08\" y=\"337.159219\"/>\n      </g>\n     </g>\n     <g id=\"text_3\">\n      <!-- 0.5 -->\n      <g transform=\"translate(139.25125 351.757656)scale(0.1 -0.1)\">\n       <use xlink:href=\"#DejaVuSans-48\"/>\n       <use x=\"63.623047\" xlink:href=\"#DejaVuSans-46\"/>\n       <use x=\"95.410156\" xlink:href=\"#DejaVuSans-53\"/>\n      </g>\n     </g>\n    </g>\n    <g id=\"xtick_4\">\n     <g id=\"line2d_4\">\n      <g>\n       <use style=\"stroke:#000000;stroke-width:0.8;\" x=\"201.562813\" xlink:href=\"#m81dec4bc08\" y=\"337.159219\"/>\n      </g>\n     </g>\n     <g id=\"text_4\">\n      <!-- 1.0 -->\n      <defs>\n       <path d=\"M 12.40625 8.296875 \nL 28.515625 8.296875 \nL 28.515625 63.921875 \nL 10.984375 60.40625 \nL 10.984375 69.390625 \nL 28.421875 72.90625 \nL 38.28125 72.90625 \nL 38.28125 8.296875 \nL 54.390625 8.296875 \nL 54.390625 0 \nL 12.40625 0 \nz\n\" id=\"DejaVuSans-49\"/>\n      </defs>\n      <g transform=\"translate(193.61125 351.757656)scale(0.1 -0.1)\">\n       <use xlink:href=\"#DejaVuSans-49\"/>\n       <use x=\"63.623047\" xlink:href=\"#DejaVuSans-46\"/>\n       <use x=\"95.410156\" xlink:href=\"#DejaVuSans-48\"/>\n      </g>\n     </g>\n    </g>\n    <g id=\"xtick_5\">\n     <g id=\"line2d_5\">\n      <g>\n       <use style=\"stroke:#000000;stroke-width:0.8;\" x=\"255.922813\" xlink:href=\"#m81dec4bc08\" y=\"337.159219\"/>\n      </g>\n     </g>\n     <g id=\"text_5\">\n      <!-- 1.5 -->\n      <g transform=\"translate(247.97125 351.757656)scale(0.1 -0.1)\">\n       <use xlink:href=\"#DejaVuSans-49\"/>\n       <use x=\"63.623047\" xlink:href=\"#DejaVuSans-46\"/>\n       <use x=\"95.410156\" xlink:href=\"#DejaVuSans-53\"/>\n      </g>\n     </g>\n    </g>\n    <g id=\"xtick_6\">\n     <g id=\"line2d_6\">\n      <g>\n       <use style=\"stroke:#000000;stroke-width:0.8;\" x=\"310.282813\" xlink:href=\"#m81dec4bc08\" y=\"337.159219\"/>\n      </g>\n     </g>\n     <g id=\"text_6\">\n      <!-- 2.0 -->\n      <defs>\n       <path d=\"M 19.1875 8.296875 \nL 53.609375 8.296875 \nL 53.609375 0 \nL 7.328125 0 \nL 7.328125 8.296875 \nQ 12.9375 14.109375 22.625 23.890625 \nQ 32.328125 33.6875 34.8125 36.53125 \nQ 39.546875 41.84375 41.421875 45.53125 \nQ 43.3125 49.21875 43.3125 52.78125 \nQ 43.3125 58.59375 39.234375 62.25 \nQ 35.15625 65.921875 28.609375 65.921875 \nQ 23.96875 65.921875 18.8125 64.3125 \nQ 13.671875 62.703125 7.8125 59.421875 \nL 7.8125 69.390625 \nQ 13.765625 71.78125 18.9375 73 \nQ 24.125 74.21875 28.421875 74.21875 \nQ 39.75 74.21875 46.484375 68.546875 \nQ 53.21875 62.890625 53.21875 53.421875 \nQ 53.21875 48.921875 51.53125 44.890625 \nQ 49.859375 40.875 45.40625 35.40625 \nQ 44.1875 33.984375 37.640625 27.21875 \nQ 31.109375 20.453125 19.1875 8.296875 \nz\n\" id=\"DejaVuSans-50\"/>\n      </defs>\n      <g transform=\"translate(302.33125 351.757656)scale(0.1 -0.1)\">\n       <use xlink:href=\"#DejaVuSans-50\"/>\n       <use x=\"63.623047\" xlink:href=\"#DejaVuSans-46\"/>\n       <use x=\"95.410156\" xlink:href=\"#DejaVuSans-48\"/>\n      </g>\n     </g>\n    </g>\n    <g id=\"xtick_7\">\n     <g id=\"line2d_7\">\n      <g>\n       <use style=\"stroke:#000000;stroke-width:0.8;\" x=\"364.642813\" xlink:href=\"#m81dec4bc08\" y=\"337.159219\"/>\n      </g>\n     </g>\n     <g id=\"text_7\">\n      <!-- 2.5 -->\n      <g transform=\"translate(356.69125 351.757656)scale(0.1 -0.1)\">\n       <use xlink:href=\"#DejaVuSans-50\"/>\n       <use x=\"63.623047\" xlink:href=\"#DejaVuSans-46\"/>\n       <use x=\"95.410156\" xlink:href=\"#DejaVuSans-53\"/>\n      </g>\n     </g>\n    </g>\n    <g id=\"xtick_8\">\n     <g id=\"line2d_8\">\n      <g>\n       <use style=\"stroke:#000000;stroke-width:0.8;\" x=\"419.002813\" xlink:href=\"#m81dec4bc08\" y=\"337.159219\"/>\n      </g>\n     </g>\n     <g id=\"text_8\">\n      <!-- 3.0 -->\n      <defs>\n       <path d=\"M 40.578125 39.3125 \nQ 47.65625 37.796875 51.625 33 \nQ 55.609375 28.21875 55.609375 21.1875 \nQ 55.609375 10.40625 48.1875 4.484375 \nQ 40.765625 -1.421875 27.09375 -1.421875 \nQ 22.515625 -1.421875 17.65625 -0.515625 \nQ 12.796875 0.390625 7.625 2.203125 \nL 7.625 11.71875 \nQ 11.71875 9.328125 16.59375 8.109375 \nQ 21.484375 6.890625 26.8125 6.890625 \nQ 36.078125 6.890625 40.9375 10.546875 \nQ 45.796875 14.203125 45.796875 21.1875 \nQ 45.796875 27.640625 41.28125 31.265625 \nQ 36.765625 34.90625 28.71875 34.90625 \nL 20.21875 34.90625 \nL 20.21875 43.015625 \nL 29.109375 43.015625 \nQ 36.375 43.015625 40.234375 45.921875 \nQ 44.09375 48.828125 44.09375 54.296875 \nQ 44.09375 59.90625 40.109375 62.90625 \nQ 36.140625 65.921875 28.71875 65.921875 \nQ 24.65625 65.921875 20.015625 65.03125 \nQ 15.375 64.15625 9.8125 62.3125 \nL 9.8125 71.09375 \nQ 15.4375 72.65625 20.34375 73.4375 \nQ 25.25 74.21875 29.59375 74.21875 \nQ 40.828125 74.21875 47.359375 69.109375 \nQ 53.90625 64.015625 53.90625 55.328125 \nQ 53.90625 49.265625 50.4375 45.09375 \nQ 46.96875 40.921875 40.578125 39.3125 \nz\n\" id=\"DejaVuSans-51\"/>\n      </defs>\n      <g transform=\"translate(411.05125 351.757656)scale(0.1 -0.1)\">\n       <use xlink:href=\"#DejaVuSans-51\"/>\n       <use x=\"63.623047\" xlink:href=\"#DejaVuSans-46\"/>\n       <use x=\"95.410156\" xlink:href=\"#DejaVuSans-48\"/>\n      </g>\n     </g>\n    </g>\n    <g id=\"xtick_9\">\n     <g id=\"line2d_9\">\n      <g>\n       <use style=\"stroke:#000000;stroke-width:0.8;\" x=\"473.362813\" xlink:href=\"#m81dec4bc08\" y=\"337.159219\"/>\n      </g>\n     </g>\n     <g id=\"text_9\">\n      <!-- 3.5 -->\n      <g transform=\"translate(465.41125 351.757656)scale(0.1 -0.1)\">\n       <use xlink:href=\"#DejaVuSans-51\"/>\n       <use x=\"63.623047\" xlink:href=\"#DejaVuSans-46\"/>\n       <use x=\"95.410156\" xlink:href=\"#DejaVuSans-53\"/>\n      </g>\n     </g>\n    </g>\n   </g>\n   <g id=\"matplotlib.axis_2\">\n    <g id=\"ytick_1\">\n     <g id=\"line2d_10\">\n      <defs>\n       <path d=\"M 0 0 \nL -3.5 0 \n\" id=\"m0babaf6bb2\" style=\"stroke:#000000;stroke-width:0.8;\"/>\n      </defs>\n      <g>\n       <use style=\"stroke:#000000;stroke-width:0.8;\" x=\"38.482813\" xlink:href=\"#m0babaf6bb2\" y=\"10.999219\"/>\n      </g>\n     </g>\n     <g id=\"text_10\">\n      <!-- −0.5 -->\n      <g transform=\"translate(7.2 14.798438)scale(0.1 -0.1)\">\n       <use xlink:href=\"#DejaVuSans-8722\"/>\n       <use x=\"83.789062\" xlink:href=\"#DejaVuSans-48\"/>\n       <use x=\"147.412109\" xlink:href=\"#DejaVuSans-46\"/>\n       <use x=\"179.199219\" xlink:href=\"#DejaVuSans-53\"/>\n      </g>\n     </g>\n    </g>\n    <g id=\"ytick_2\">\n     <g id=\"line2d_11\">\n      <g>\n       <use style=\"stroke:#000000;stroke-width:0.8;\" x=\"38.482813\" xlink:href=\"#m0babaf6bb2\" y=\"65.359219\"/>\n      </g>\n     </g>\n     <g id=\"text_11\">\n      <!-- 0.0 -->\n      <g transform=\"translate(15.579688 69.158438)scale(0.1 -0.1)\">\n       <use xlink:href=\"#DejaVuSans-48\"/>\n       <use x=\"63.623047\" xlink:href=\"#DejaVuSans-46\"/>\n       <use x=\"95.410156\" xlink:href=\"#DejaVuSans-48\"/>\n      </g>\n     </g>\n    </g>\n    <g id=\"ytick_3\">\n     <g id=\"line2d_12\">\n      <g>\n       <use style=\"stroke:#000000;stroke-width:0.8;\" x=\"38.482813\" xlink:href=\"#m0babaf6bb2\" y=\"119.719219\"/>\n      </g>\n     </g>\n     <g id=\"text_12\">\n      <!-- 0.5 -->\n      <g transform=\"translate(15.579688 123.518438)scale(0.1 -0.1)\">\n       <use xlink:href=\"#DejaVuSans-48\"/>\n       <use x=\"63.623047\" xlink:href=\"#DejaVuSans-46\"/>\n       <use x=\"95.410156\" xlink:href=\"#DejaVuSans-53\"/>\n      </g>\n     </g>\n    </g>\n    <g id=\"ytick_4\">\n     <g id=\"line2d_13\">\n      <g>\n       <use style=\"stroke:#000000;stroke-width:0.8;\" x=\"38.482813\" xlink:href=\"#m0babaf6bb2\" y=\"174.079219\"/>\n      </g>\n     </g>\n     <g id=\"text_13\">\n      <!-- 1.0 -->\n      <g transform=\"translate(15.579688 177.878438)scale(0.1 -0.1)\">\n       <use xlink:href=\"#DejaVuSans-49\"/>\n       <use x=\"63.623047\" xlink:href=\"#DejaVuSans-46\"/>\n       <use x=\"95.410156\" xlink:href=\"#DejaVuSans-48\"/>\n      </g>\n     </g>\n    </g>\n    <g id=\"ytick_5\">\n     <g id=\"line2d_14\">\n      <g>\n       <use style=\"stroke:#000000;stroke-width:0.8;\" x=\"38.482813\" xlink:href=\"#m0babaf6bb2\" y=\"228.439219\"/>\n      </g>\n     </g>\n     <g id=\"text_14\">\n      <!-- 1.5 -->\n      <g transform=\"translate(15.579688 232.238438)scale(0.1 -0.1)\">\n       <use xlink:href=\"#DejaVuSans-49\"/>\n       <use x=\"63.623047\" xlink:href=\"#DejaVuSans-46\"/>\n       <use x=\"95.410156\" xlink:href=\"#DejaVuSans-53\"/>\n      </g>\n     </g>\n    </g>\n    <g id=\"ytick_6\">\n     <g id=\"line2d_15\">\n      <g>\n       <use style=\"stroke:#000000;stroke-width:0.8;\" x=\"38.482813\" xlink:href=\"#m0babaf6bb2\" y=\"282.799219\"/>\n      </g>\n     </g>\n     <g id=\"text_15\">\n      <!-- 2.0 -->\n      <g transform=\"translate(15.579688 286.598438)scale(0.1 -0.1)\">\n       <use xlink:href=\"#DejaVuSans-50\"/>\n       <use x=\"63.623047\" xlink:href=\"#DejaVuSans-46\"/>\n       <use x=\"95.410156\" xlink:href=\"#DejaVuSans-48\"/>\n      </g>\n     </g>\n    </g>\n    <g id=\"ytick_7\">\n     <g id=\"line2d_16\">\n      <g>\n       <use style=\"stroke:#000000;stroke-width:0.8;\" x=\"38.482813\" xlink:href=\"#m0babaf6bb2\" y=\"337.159219\"/>\n      </g>\n     </g>\n     <g id=\"text_16\">\n      <!-- 2.5 -->\n      <g transform=\"translate(15.579688 340.958438)scale(0.1 -0.1)\">\n       <use xlink:href=\"#DejaVuSans-50\"/>\n       <use x=\"63.623047\" xlink:href=\"#DejaVuSans-46\"/>\n       <use x=\"95.410156\" xlink:href=\"#DejaVuSans-53\"/>\n      </g>\n     </g>\n    </g>\n   </g>\n   <g id=\"patch_3\">\n    <path d=\"M 38.482813 337.159219 \nL 38.482813 10.999219 \n\" style=\"fill:none;stroke:#000000;stroke-linecap:square;stroke-linejoin:miter;stroke-width:0.8;\"/>\n   </g>\n   <g id=\"patch_4\">\n    <path d=\"M 473.362813 337.159219 \nL 473.362813 10.999219 \n\" style=\"fill:none;stroke:#000000;stroke-linecap:square;stroke-linejoin:miter;stroke-width:0.8;\"/>\n   </g>\n   <g id=\"patch_5\">\n    <path d=\"M 38.482813 337.159219 \nL 473.362813 337.159219 \n\" style=\"fill:none;stroke:#000000;stroke-linecap:square;stroke-linejoin:miter;stroke-width:0.8;\"/>\n   </g>\n   <g id=\"patch_6\">\n    <path d=\"M 38.482813 10.999219 \nL 473.362813 10.999219 \n\" style=\"fill:none;stroke:#000000;stroke-linecap:square;stroke-linejoin:miter;stroke-width:0.8;\"/>\n   </g>\n  </g>\n </g>\n <defs>\n  <clipPath id=\"p8ff6d79e4c\">\n   <rect height=\"326.16\" width=\"434.88\" x=\"38.482813\" y=\"10.999219\"/>\n  </clipPath>\n </defs>\n</svg>\n",
      "image/png": "[encoded data removed]"
     },
     "metadata": {
      "needs_background": "light"
     }
    },
    {
     "output_type": "display_data",
     "data": {
      "text/plain": "<Figure size 720x432 with 1 Axes>",
      "image/svg+xml": "<?xml version=\"1.0\" encoding=\"utf-8\" standalone=\"no\"?>\n<!DOCTYPE svg PUBLIC \"-//W3C//DTD SVG 1.1//EN\"\n  \"http://www.w3.org/Graphics/SVG/1.1/DTD/svg11.dtd\">\n<!-- Created with matplotlib (https://matplotlib.org/) -->\n<svg height=\"361.037344pt\" version=\"1.1\" viewBox=\"0 0 488.514375 361.037344\" width=\"488.514375pt\" xmlns=\"http://www.w3.org/2000/svg\" xmlns:xlink=\"http://www.w3.org/1999/xlink\">\n <defs>\n  <style type=\"text/css\">\n*{stroke-linecap:butt;stroke-linejoin:round;}\n  </style>\n </defs>\n <g id=\"figure_1\">\n  <g id=\"patch_1\">\n   <path d=\"M 0 361.037344 \nL 488.514375 361.037344 \nL 488.514375 0 \nL 0 0 \nz\n\" style=\"fill:none;\"/>\n  </g>\n  <g id=\"axes_1\">\n   <g id=\"patch_2\">\n    <path d=\"M 38.482813 337.159219 \nL 473.362813 337.159219 \nL 473.362813 10.999219 \nL 38.482813 10.999219 \nz\n\" style=\"fill:#ffffff;\"/>\n   </g>\n   <g clip-path=\"url(#p3fa171f881)\">\n    <image height=\"327\" id=\"image34463ecd49\" transform=\"scale(1 -1)translate(0 -327)\" width=\"435\" x=\"38.482813\" xlink:href=\"data:image/png;base64,\niVBORw0KGgoAAAANSUhEUgAAAbMAAAFHCAYAAAAr7qKIAAAABHNCSVQICAgIfAhkiAAABTdJREFUeJzt17GNhEAQRUH2dCKNzWxThGgwMXEwNwAuhtEZoydVRfClNp76te/7s5Dy/X5nT2DA+/2ePYFB27bNnsCgn9kDAOC/xAyAPDEDIE/MAMgTMwDyxAyAPDEDIE/MAMgTMwDyxAyAPDEDIE/MAMgTMwDyxAyAPDEDIE/MAMgTMwDyxAyAPDEDIE/MAMgTMwDyxAyAPDEDIE/MAMgTMwDyxAyAPDEDIE/MAMgTMwDyxAyAPDEDIE/MAMgTMwDyxAyAPDEDIE/MAMgTMwDyxAyAPDEDIE/MAMgTMwDyxAyAPDEDIE/MAMgTMwDyxAyAPDEDIE/MAMgTMwDyxAyAPDEDIE/MAMgTMwDyxAyAPDEDIE/MAMgTMwDyxAyAPDEDIE/MAMgTMwDyxAyAPDEDIE/MAMgTMwDyxAyAPDEDIE/MAMgTMwDyxAyAPDEDIE/MAMgTMwDyxAyAPDEDIE/MAMgTMwDyxAyAPDEDIE/MAMgTMwDyxAyAPDEDIE/MAMgTMwDyxAyAPDEDIE/MAMgTMwDyxAyAPDEDIE/MAMgTMwDyxAyAPDEDIE/MAMgTMwDyxAyAPDEDIE/MAMgTMwDyxAyAPDEDIE/MAMgTMwDyxAyAPDEDIE/MAMh7LcvyzB7BmOdxspLrumZPYNBxHLMnMMhnBkCemAGQJ2YA5IkZAHliBkCemAGQJ2YA5IkZAHliBkCemAGQJ2YA5IkZAHliBkCemAGQJ2YA5IkZAHliBkCemAGQJ2YA5IkZAHliBkCemAGQJ2YA5IkZAHliBkCemAGQJ2YA5IkZAHliBkCemAGQJ2YA5IkZAHliBkCemAGQJ2YA5IkZAHliBkCemAGQJ2YA5IkZAHliBkCemAGQJ2YA5IkZAHliBkCemAGQJ2YA5IkZAHliBkCemAGQJ2YA5IkZAHliBkCemAGQJ2YA5IkZAHliBkCemAGQJ2YA5IkZAHliBkCemAGQJ2YA5IkZAHliBkCemAGQJ2YA5IkZAHliBkCemAGQJ2YA5IkZAHliBkCemAGQJ2YA5IkZAHliBkCemAGQJ2YA5IkZAHliBkCemAGQJ2YA5IkZAHliBkCemAGQJ2YA5IkZAHliBkCemAGQJ2YA5IkZAHliBkCemAGQJ2YA5IkZAHliBkCemAGQJ2YA5IkZAHliBkCemAGQJ2YA5IkZAHliBkCemAGQJ2YA5IkZAHm/n89n9gYGnec5ewID1nWdPYFB933PnsAgnxkAeWIGQJ6YAZAnZgDkiRkAeWIGQJ6YAZAnZgDkiRkAeWIGQJ6YAZAnZgDkiRkAeWIGQJ6YAZAnZgDkiRkAeWIGQJ6YAZAnZgDkiRkAeWIGQJ6YAZAnZgDkiRkAeWIGQJ6YAZAnZgDkiRkAeWIGQJ6YAZAnZgDkiRkAeWIGQJ6YAZAnZgDkiRkAeWIGQJ6YAZAnZgDkiRkAeWIGQJ6YAZAnZgDkiRkAeWIGQJ6YAZAnZgDkiRkAeWIGQJ6YAZAnZgDkiRkAeWIGQJ6YAZAnZgDkiRkAeWIGQJ6YAZAnZgDkiRkAeWIGQJ6YAZAnZgDkiRkAeWIGQJ6YAZAnZgDkiRkAeWIGQJ6YAZAnZgDkiRkAeWIGQJ6YAZAnZgDkiRkAeWIGQJ6YAZAnZgDkiRkAeWIGQJ6YAZAnZgDkiRkAeWIGQJ6YAZAnZgDkiRkAeWIGQJ6YAZAnZgDkiRkAeWIGQJ6YAZAnZgDkiRkAeWIGQJ6YAZAnZgDkiRkAeWIGQJ6YAZAnZgDkiRkAeWIGQJ6YAZAnZgDk/QHk/RqYN2KXrwAAAABJRU5ErkJggg==\" y=\"-10.159219\"/>\n   </g>\n   <g id=\"matplotlib.axis_1\">\n    <g id=\"xtick_1\">\n     <g id=\"line2d_1\">\n      <defs>\n       <path d=\"M 0 0 \nL 0 3.5 \n\" id=\"md3f494fdc2\" style=\"stroke:#000000;stroke-width:0.8;\"/>\n      </defs>\n      <g>\n       <use style=\"stroke:#000000;stroke-width:0.8;\" x=\"38.482813\" xlink:href=\"#md3f494fdc2\" y=\"337.159219\"/>\n      </g>\n     </g>\n     <g id=\"text_1\">\n      <!-- −0.5 -->\n      <defs>\n       <path d=\"M 10.59375 35.5 \nL 73.1875 35.5 \nL 73.1875 27.203125 \nL 10.59375 27.203125 \nz\n\" id=\"DejaVuSans-8722\"/>\n       <path d=\"M 31.78125 66.40625 \nQ 24.171875 66.40625 20.328125 58.90625 \nQ 16.5 51.421875 16.5 36.375 \nQ 16.5 21.390625 20.328125 13.890625 \nQ 24.171875 6.390625 31.78125 6.390625 \nQ 39.453125 6.390625 43.28125 13.890625 \nQ 47.125 21.390625 47.125 36.375 \nQ 47.125 51.421875 43.28125 58.90625 \nQ 39.453125 66.40625 31.78125 66.40625 \nz\nM 31.78125 74.21875 \nQ 44.046875 74.21875 50.515625 64.515625 \nQ 56.984375 54.828125 56.984375 36.375 \nQ 56.984375 17.96875 50.515625 8.265625 \nQ 44.046875 -1.421875 31.78125 -1.421875 \nQ 19.53125 -1.421875 13.0625 8.265625 \nQ 6.59375 17.96875 6.59375 36.375 \nQ 6.59375 54.828125 13.0625 64.515625 \nQ 19.53125 74.21875 31.78125 74.21875 \nz\n\" id=\"DejaVuSans-48\"/>\n       <path d=\"M 10.6875 12.40625 \nL 21 12.40625 \nL 21 0 \nL 10.6875 0 \nz\n\" id=\"DejaVuSans-46\"/>\n       <path d=\"M 10.796875 72.90625 \nL 49.515625 72.90625 \nL 49.515625 64.59375 \nL 19.828125 64.59375 \nL 19.828125 46.734375 \nQ 21.96875 47.46875 24.109375 47.828125 \nQ 26.265625 48.1875 28.421875 48.1875 \nQ 40.625 48.1875 47.75 41.5 \nQ 54.890625 34.8125 54.890625 23.390625 \nQ 54.890625 11.625 47.5625 5.09375 \nQ 40.234375 -1.421875 26.90625 -1.421875 \nQ 22.3125 -1.421875 17.546875 -0.640625 \nQ 12.796875 0.140625 7.71875 1.703125 \nL 7.71875 11.625 \nQ 12.109375 9.234375 16.796875 8.0625 \nQ 21.484375 6.890625 26.703125 6.890625 \nQ 35.15625 6.890625 40.078125 11.328125 \nQ 45.015625 15.765625 45.015625 23.390625 \nQ 45.015625 31 40.078125 35.4375 \nQ 35.15625 39.890625 26.703125 39.890625 \nQ 22.75 39.890625 18.8125 39.015625 \nQ 14.890625 38.140625 10.796875 36.28125 \nz\n\" id=\"DejaVuSans-53\"/>\n      </defs>\n      <g transform=\"translate(26.341406 351.757656)scale(0.1 -0.1)\">\n       <use xlink:href=\"#DejaVuSans-8722\"/>\n       <use x=\"83.789062\" xlink:href=\"#DejaVuSans-48\"/>\n       <use x=\"147.412109\" xlink:href=\"#DejaVuSans-46\"/>\n       <use x=\"179.199219\" xlink:href=\"#DejaVuSans-53\"/>\n      </g>\n     </g>\n    </g>\n    <g id=\"xtick_2\">\n     <g id=\"line2d_2\">\n      <g>\n       <use style=\"stroke:#000000;stroke-width:0.8;\" x=\"92.842813\" xlink:href=\"#md3f494fdc2\" y=\"337.159219\"/>\n      </g>\n     </g>\n     <g id=\"text_2\">\n      <!-- 0.0 -->\n      <g transform=\"translate(84.89125 351.757656)scale(0.1 -0.1)\">\n       <use xlink:href=\"#DejaVuSans-48\"/>\n       <use x=\"63.623047\" xlink:href=\"#DejaVuSans-46\"/>\n       <use x=\"95.410156\" xlink:href=\"#DejaVuSans-48\"/>\n      </g>\n     </g>\n    </g>\n    <g id=\"xtick_3\">\n     <g id=\"line2d_3\">\n      <g>\n       <use style=\"stroke:#000000;stroke-width:0.8;\" x=\"147.202813\" xlink:href=\"#md3f494fdc2\" y=\"337.159219\"/>\n      </g>\n     </g>\n     <g id=\"text_3\">\n      <!-- 0.5 -->\n      <g transform=\"translate(139.25125 351.757656)scale(0.1 -0.1)\">\n       <use xlink:href=\"#DejaVuSans-48\"/>\n       <use x=\"63.623047\" xlink:href=\"#DejaVuSans-46\"/>\n       <use x=\"95.410156\" xlink:href=\"#DejaVuSans-53\"/>\n      </g>\n     </g>\n    </g>\n    <g id=\"xtick_4\">\n     <g id=\"line2d_4\">\n      <g>\n       <use style=\"stroke:#000000;stroke-width:0.8;\" x=\"201.562813\" xlink:href=\"#md3f494fdc2\" y=\"337.159219\"/>\n      </g>\n     </g>\n     <g id=\"text_4\">\n      <!-- 1.0 -->\n      <defs>\n       <path d=\"M 12.40625 8.296875 \nL 28.515625 8.296875 \nL 28.515625 63.921875 \nL 10.984375 60.40625 \nL 10.984375 69.390625 \nL 28.421875 72.90625 \nL 38.28125 72.90625 \nL 38.28125 8.296875 \nL 54.390625 8.296875 \nL 54.390625 0 \nL 12.40625 0 \nz\n\" id=\"DejaVuSans-49\"/>\n      </defs>\n      <g transform=\"translate(193.61125 351.757656)scale(0.1 -0.1)\">\n       <use xlink:href=\"#DejaVuSans-49\"/>\n       <use x=\"63.623047\" xlink:href=\"#DejaVuSans-46\"/>\n       <use x=\"95.410156\" xlink:href=\"#DejaVuSans-48\"/>\n      </g>\n     </g>\n    </g>\n    <g id=\"xtick_5\">\n     <g id=\"line2d_5\">\n      <g>\n       <use style=\"stroke:#000000;stroke-width:0.8;\" x=\"255.922813\" xlink:href=\"#md3f494fdc2\" y=\"337.159219\"/>\n      </g>\n     </g>\n     <g id=\"text_5\">\n      <!-- 1.5 -->\n      <g transform=\"translate(247.97125 351.757656)scale(0.1 -0.1)\">\n       <use xlink:href=\"#DejaVuSans-49\"/>\n       <use x=\"63.623047\" xlink:href=\"#DejaVuSans-46\"/>\n       <use x=\"95.410156\" xlink:href=\"#DejaVuSans-53\"/>\n      </g>\n     </g>\n    </g>\n    <g id=\"xtick_6\">\n     <g id=\"line2d_6\">\n      <g>\n       <use style=\"stroke:#000000;stroke-width:0.8;\" x=\"310.282813\" xlink:href=\"#md3f494fdc2\" y=\"337.159219\"/>\n      </g>\n     </g>\n     <g id=\"text_6\">\n      <!-- 2.0 -->\n      <defs>\n       <path d=\"M 19.1875 8.296875 \nL 53.609375 8.296875 \nL 53.609375 0 \nL 7.328125 0 \nL 7.328125 8.296875 \nQ 12.9375 14.109375 22.625 23.890625 \nQ 32.328125 33.6875 34.8125 36.53125 \nQ 39.546875 41.84375 41.421875 45.53125 \nQ 43.3125 49.21875 43.3125 52.78125 \nQ 43.3125 58.59375 39.234375 62.25 \nQ 35.15625 65.921875 28.609375 65.921875 \nQ 23.96875 65.921875 18.8125 64.3125 \nQ 13.671875 62.703125 7.8125 59.421875 \nL 7.8125 69.390625 \nQ 13.765625 71.78125 18.9375 73 \nQ 24.125 74.21875 28.421875 74.21875 \nQ 39.75 74.21875 46.484375 68.546875 \nQ 53.21875 62.890625 53.21875 53.421875 \nQ 53.21875 48.921875 51.53125 44.890625 \nQ 49.859375 40.875 45.40625 35.40625 \nQ 44.1875 33.984375 37.640625 27.21875 \nQ 31.109375 20.453125 19.1875 8.296875 \nz\n\" id=\"DejaVuSans-50\"/>\n      </defs>\n      <g transform=\"translate(302.33125 351.757656)scale(0.1 -0.1)\">\n       <use xlink:href=\"#DejaVuSans-50\"/>\n       <use x=\"63.623047\" xlink:href=\"#DejaVuSans-46\"/>\n       <use x=\"95.410156\" xlink:href=\"#DejaVuSans-48\"/>\n      </g>\n     </g>\n    </g>\n    <g id=\"xtick_7\">\n     <g id=\"line2d_7\">\n      <g>\n       <use style=\"stroke:#000000;stroke-width:0.8;\" x=\"364.642813\" xlink:href=\"#md3f494fdc2\" y=\"337.159219\"/>\n      </g>\n     </g>\n     <g id=\"text_7\">\n      <!-- 2.5 -->\n      <g transform=\"translate(356.69125 351.757656)scale(0.1 -0.1)\">\n       <use xlink:href=\"#DejaVuSans-50\"/>\n       <use x=\"63.623047\" xlink:href=\"#DejaVuSans-46\"/>\n       <use x=\"95.410156\" xlink:href=\"#DejaVuSans-53\"/>\n      </g>\n     </g>\n    </g>\n    <g id=\"xtick_8\">\n     <g id=\"line2d_8\">\n      <g>\n       <use style=\"stroke:#000000;stroke-width:0.8;\" x=\"419.002813\" xlink:href=\"#md3f494fdc2\" y=\"337.159219\"/>\n      </g>\n     </g>\n     <g id=\"text_8\">\n      <!-- 3.0 -->\n      <defs>\n       <path d=\"M 40.578125 39.3125 \nQ 47.65625 37.796875 51.625 33 \nQ 55.609375 28.21875 55.609375 21.1875 \nQ 55.609375 10.40625 48.1875 4.484375 \nQ 40.765625 -1.421875 27.09375 -1.421875 \nQ 22.515625 -1.421875 17.65625 -0.515625 \nQ 12.796875 0.390625 7.625 2.203125 \nL 7.625 11.71875 \nQ 11.71875 9.328125 16.59375 8.109375 \nQ 21.484375 6.890625 26.8125 6.890625 \nQ 36.078125 6.890625 40.9375 10.546875 \nQ 45.796875 14.203125 45.796875 21.1875 \nQ 45.796875 27.640625 41.28125 31.265625 \nQ 36.765625 34.90625 28.71875 34.90625 \nL 20.21875 34.90625 \nL 20.21875 43.015625 \nL 29.109375 43.015625 \nQ 36.375 43.015625 40.234375 45.921875 \nQ 44.09375 48.828125 44.09375 54.296875 \nQ 44.09375 59.90625 40.109375 62.90625 \nQ 36.140625 65.921875 28.71875 65.921875 \nQ 24.65625 65.921875 20.015625 65.03125 \nQ 15.375 64.15625 9.8125 62.3125 \nL 9.8125 71.09375 \nQ 15.4375 72.65625 20.34375 73.4375 \nQ 25.25 74.21875 29.59375 74.21875 \nQ 40.828125 74.21875 47.359375 69.109375 \nQ 53.90625 64.015625 53.90625 55.328125 \nQ 53.90625 49.265625 50.4375 45.09375 \nQ 46.96875 40.921875 40.578125 39.3125 \nz\n\" id=\"DejaVuSans-51\"/>\n      </defs>\n      <g transform=\"translate(411.05125 351.757656)scale(0.1 -0.1)\">\n       <use xlink:href=\"#DejaVuSans-51\"/>\n       <use x=\"63.623047\" xlink:href=\"#DejaVuSans-46\"/>\n       <use x=\"95.410156\" xlink:href=\"#DejaVuSans-48\"/>\n      </g>\n     </g>\n    </g>\n    <g id=\"xtick_9\">\n     <g id=\"line2d_9\">\n      <g>\n       <use style=\"stroke:#000000;stroke-width:0.8;\" x=\"473.362813\" xlink:href=\"#md3f494fdc2\" y=\"337.159219\"/>\n      </g>\n     </g>\n     <g id=\"text_9\">\n      <!-- 3.5 -->\n      <g transform=\"translate(465.41125 351.757656)scale(0.1 -0.1)\">\n       <use xlink:href=\"#DejaVuSans-51\"/>\n       <use x=\"63.623047\" xlink:href=\"#DejaVuSans-46\"/>\n       <use x=\"95.410156\" xlink:href=\"#DejaVuSans-53\"/>\n      </g>\n     </g>\n    </g>\n   </g>\n   <g id=\"matplotlib.axis_2\">\n    <g id=\"ytick_1\">\n     <g id=\"line2d_10\">\n      <defs>\n       <path d=\"M 0 0 \nL -3.5 0 \n\" id=\"m274df3f2f7\" style=\"stroke:#000000;stroke-width:0.8;\"/>\n      </defs>\n      <g>\n       <use style=\"stroke:#000000;stroke-width:0.8;\" x=\"38.482813\" xlink:href=\"#m274df3f2f7\" y=\"10.999219\"/>\n      </g>\n     </g>\n     <g id=\"text_10\">\n      <!-- −0.5 -->\n      <g transform=\"translate(7.2 14.798438)scale(0.1 -0.1)\">\n       <use xlink:href=\"#DejaVuSans-8722\"/>\n       <use x=\"83.789062\" xlink:href=\"#DejaVuSans-48\"/>\n       <use x=\"147.412109\" xlink:href=\"#DejaVuSans-46\"/>\n       <use x=\"179.199219\" xlink:href=\"#DejaVuSans-53\"/>\n      </g>\n     </g>\n    </g>\n    <g id=\"ytick_2\">\n     <g id=\"line2d_11\">\n      <g>\n       <use style=\"stroke:#000000;stroke-width:0.8;\" x=\"38.482813\" xlink:href=\"#m274df3f2f7\" y=\"65.359219\"/>\n      </g>\n     </g>\n     <g id=\"text_11\">\n      <!-- 0.0 -->\n      <g transform=\"translate(15.579688 69.158438)scale(0.1 -0.1)\">\n       <use xlink:href=\"#DejaVuSans-48\"/>\n       <use x=\"63.623047\" xlink:href=\"#DejaVuSans-46\"/>\n       <use x=\"95.410156\" xlink:href=\"#DejaVuSans-48\"/>\n      </g>\n     </g>\n    </g>\n    <g id=\"ytick_3\">\n     <g id=\"line2d_12\">\n      <g>\n       <use style=\"stroke:#000000;stroke-width:0.8;\" x=\"38.482813\" xlink:href=\"#m274df3f2f7\" y=\"119.719219\"/>\n      </g>\n     </g>\n     <g id=\"text_12\">\n      <!-- 0.5 -->\n      <g transform=\"translate(15.579688 123.518438)scale(0.1 -0.1)\">\n       <use xlink:href=\"#DejaVuSans-48\"/>\n       <use x=\"63.623047\" xlink:href=\"#DejaVuSans-46\"/>\n       <use x=\"95.410156\" xlink:href=\"#DejaVuSans-53\"/>\n      </g>\n     </g>\n    </g>\n    <g id=\"ytick_4\">\n     <g id=\"line2d_13\">\n      <g>\n       <use style=\"stroke:#000000;stroke-width:0.8;\" x=\"38.482813\" xlink:href=\"#m274df3f2f7\" y=\"174.079219\"/>\n      </g>\n     </g>\n     <g id=\"text_13\">\n      <!-- 1.0 -->\n      <g transform=\"translate(15.579688 177.878438)scale(0.1 -0.1)\">\n       <use xlink:href=\"#DejaVuSans-49\"/>\n       <use x=\"63.623047\" xlink:href=\"#DejaVuSans-46\"/>\n       <use x=\"95.410156\" xlink:href=\"#DejaVuSans-48\"/>\n      </g>\n     </g>\n    </g>\n    <g id=\"ytick_5\">\n     <g id=\"line2d_14\">\n      <g>\n       <use style=\"stroke:#000000;stroke-width:0.8;\" x=\"38.482813\" xlink:href=\"#m274df3f2f7\" y=\"228.439219\"/>\n      </g>\n     </g>\n     <g id=\"text_14\">\n      <!-- 1.5 -->\n      <g transform=\"translate(15.579688 232.238438)scale(0.1 -0.1)\">\n       <use xlink:href=\"#DejaVuSans-49\"/>\n       <use x=\"63.623047\" xlink:href=\"#DejaVuSans-46\"/>\n       <use x=\"95.410156\" xlink:href=\"#DejaVuSans-53\"/>\n      </g>\n     </g>\n    </g>\n    <g id=\"ytick_6\">\n     <g id=\"line2d_15\">\n      <g>\n       <use style=\"stroke:#000000;stroke-width:0.8;\" x=\"38.482813\" xlink:href=\"#m274df3f2f7\" y=\"282.799219\"/>\n      </g>\n     </g>\n     <g id=\"text_15\">\n      <!-- 2.0 -->\n      <g transform=\"translate(15.579688 286.598438)scale(0.1 -0.1)\">\n       <use xlink:href=\"#DejaVuSans-50\"/>\n       <use x=\"63.623047\" xlink:href=\"#DejaVuSans-46\"/>\n       <use x=\"95.410156\" xlink:href=\"#DejaVuSans-48\"/>\n      </g>\n     </g>\n    </g>\n    <g id=\"ytick_7\">\n     <g id=\"line2d_16\">\n      <g>\n       <use style=\"stroke:#000000;stroke-width:0.8;\" x=\"38.482813\" xlink:href=\"#m274df3f2f7\" y=\"337.159219\"/>\n      </g>\n     </g>\n     <g id=\"text_16\">\n      <!-- 2.5 -->\n      <g transform=\"translate(15.579688 340.958438)scale(0.1 -0.1)\">\n       <use xlink:href=\"#DejaVuSans-50\"/>\n       <use x=\"63.623047\" xlink:href=\"#DejaVuSans-46\"/>\n       <use x=\"95.410156\" xlink:href=\"#DejaVuSans-53\"/>\n      </g>\n     </g>\n    </g>\n   </g>\n   <g id=\"patch_3\">\n    <path d=\"M 38.482813 337.159219 \nL 38.482813 10.999219 \n\" style=\"fill:none;stroke:#000000;stroke-linecap:square;stroke-linejoin:miter;stroke-width:0.8;\"/>\n   </g>\n   <g id=\"patch_4\">\n    <path d=\"M 473.362813 337.159219 \nL 473.362813 10.999219 \n\" style=\"fill:none;stroke:#000000;stroke-linecap:square;stroke-linejoin:miter;stroke-width:0.8;\"/>\n   </g>\n   <g id=\"patch_5\">\n    <path d=\"M 38.482813 337.159219 \nL 473.362813 337.159219 \n\" style=\"fill:none;stroke:#000000;stroke-linecap:square;stroke-linejoin:miter;stroke-width:0.8;\"/>\n   </g>\n   <g id=\"patch_6\">\n    <path d=\"M 38.482813 10.999219 \nL 473.362813 10.999219 \n\" style=\"fill:none;stroke:#000000;stroke-linecap:square;stroke-linejoin:miter;stroke-width:0.8;\"/>\n   </g>\n  </g>\n </g>\n <defs>\n  <clipPath id=\"p3fa171f881\">\n   <rect height=\"326.16\" width=\"434.88\" x=\"38.482813\" y=\"10.999219\"/>\n  </clipPath>\n </defs>\n</svg>\n",
      "image/png": "[encoded data removed]"
     },
     "metadata": {
      "needs_background": "light"
     }
    }
   ],
   "source": [
    "a_random_3d_arr = np.random.randn(2, 3, 4)\n",
    "print(a_random_3d_arr, '\\n')\n",
    "\n",
    "extent = (a_random_3d_arr[0])\n",
    "for _ in a_random_3d_arr:\n",
    "    plt.imshow(_, cmap='binary')\n",
    "    plt.show()"
   ]
  },
  {
   "cell_type": "code",
   "execution_count": 24,
   "metadata": {},
   "outputs": [
    {
     "output_type": "execute_result",
     "data": {
      "text/plain": "array([0, 1, 2, 3, 4, 5, 6, 7, 8, 9])"
     },
     "metadata": {},
     "execution_count": 24
    }
   ],
   "source": [
    "a_1d_range_arr = np.arange(10)\n",
    "a_1d_range_arr"
   ]
  },
  {
   "cell_type": "code",
   "execution_count": 25,
   "metadata": {},
   "outputs": [
    {
     "output_type": "stream",
     "name": "stdout",
     "text": "[[1. 0. 0. 0. 0.]\n [0. 1. 0. 0. 0.]\n [0. 0. 1. 0. 0.]\n [0. 0. 0. 1. 0.]\n [0. 0. 0. 0. 1.]]\n"
    },
    {
     "output_type": "display_data",
     "data": {
      "text/plain": "<Figure size 720x432 with 1 Axes>",
      "image/svg+xml": "<?xml version=\"1.0\" encoding=\"utf-8\" standalone=\"no\"?>\n<!DOCTYPE svg PUBLIC \"-//W3C//DTD SVG 1.1//EN\"\n  \"http://www.w3.org/Graphics/SVG/1.1/DTD/svg11.dtd\">\n<!-- Created with matplotlib (https://matplotlib.org/) -->\n<svg height=\"357.238125pt\" version=\"1.1\" viewBox=\"0 0 353.9225 357.238125\" width=\"353.9225pt\" xmlns=\"http://www.w3.org/2000/svg\" xmlns:xlink=\"http://www.w3.org/1999/xlink\">\n <defs>\n  <style type=\"text/css\">\n*{stroke-linecap:butt;stroke-linejoin:round;}\n  </style>\n </defs>\n <g id=\"figure_1\">\n  <g id=\"patch_1\">\n   <path d=\"M 0 357.238125 \nL 353.9225 357.238125 \nL 353.9225 0 \nL 0 0 \nz\n\" style=\"fill:none;\"/>\n  </g>\n  <g id=\"axes_1\">\n   <g id=\"patch_2\">\n    <path d=\"M 20.5625 333.36 \nL 346.7225 333.36 \nL 346.7225 7.2 \nL 20.5625 7.2 \nz\n\" style=\"fill:#ffffff;\"/>\n   </g>\n   <g clip-path=\"url(#pa23928b007)\">\n    <image height=\"327\" id=\"image437eebcc6c\" transform=\"scale(1 -1)translate(0 -327)\" width=\"327\" x=\"20.5625\" xlink:href=\"data:image/png;base64,\niVBORw0KGgoAAAANSUhEUgAAAUcAAAFHCAYAAAAySY5rAAAABHNCSVQICAgIfAhkiAAABFdJREFUeJzt1jFqJFAMBcHRMve/spxsZDrXB1ed4KGg0ezufgD+m5nrCU/4dz0A4EXiCBDEESCII0AQR4AgjgBBHAGCOAIEcQQI4ggQxBEgiCNAEEeAII4AQRwBgjgCBHEECOIIEMQRIIgjQBBHgCCOAEEcAYI4AgRxBAjiCBDEESCII0AQR4AgjgBBHAGCOAIEcQQI4ggQxBEgiCNAEEeAII4AQRwBgjgCBHEECOIIEMQRIIgjQBBHgCCOAEEcAYI4AgRxBAjiCBDEESCII0AQR4AgjgBBHAGCOAIEcQQI4ggQxBEgiCNAEEeAII4AQRwBgjgCBHEECN/rAfCSmbmecG53ryc8wecIEMQRIIgjQBBHgCCOAEEcAYI4AgRxBAjiCBDEESCII0AQR4AgjgBBHAGCOAIEcQQI4ggQxBEgiCNAEEeAII4AQRwBgjgCBHEECOIIEMQRIIgjQBBHgCCOAEEcAYI4AgRxBAjiCBDEESCII0AQR4AgjgBBHAGCOAIEcQQI4ggQxBEgiCNAEEeAII4AQRwBgjgCBHEECOIIEMQRIIgjQBBHgCCOAEEcAYI4AgRxBAjiCBDEESCII0AQR4AgjgBBHAGCOAIEcQQI3+sBvGNmriec293rCTzC5wgQxBEgiCNAEEeAII4AQRwBgjgCBHEECOIIEMQRIIgjQBBHgCCOAEEcAYI4AgRxBAjiCBDEESCII0AQR4AgjgBBHAGCOAIEcQQI4ggQxBEgiCNAEEeAII4AQRwBgjgCBHEECOIIEMQRIIgjQBBHgCCOAEEcAYI4AgRxBAjiCBDEESCII0AQR4AgjgBBHAGCOAIEcQQI4ggQxBEgiCNAEEeAII4AQRwBgjgCBHEECOIIEMQRIIgjQBBHgCCOAEEcAYI4AgRxBAjf6wEvmJnrCU/Y3esJ8AyfI0AQR4AgjgBBHAGCOAIEcQQI4ggQxBEgiCNAEEeAII4AQRwBgjgCBHEECOIIEMQRIIgjQBBHgCCOAEEcAYI4AgRxBAjiCBDEESCII0AQR4AgjgBBHAGCOAIEcQQI4ggQxBEgiCNAEEeAII4AQRwBgjgCBHEECOIIEMQRIIgjQBBHgCCOAEEcAYI4AgRxBAjiCBDEESCII0AQR4AgjgBBHAGCOAIEcQQI4ggQxBEgiCNAEEeAII4AQRwBgjgCBHEECOIIEMQRIIgjQJjP57PXI67t/vkTAL/4HAGCOAIEcQQI4ggQxBEgiCNAEEeAII4AQRwBgjgCBHEECOIIEMQRIIgjQBBHgCCOAEEcAYI4AgRxBAjiCBDEESCII0AQR4AgjgBBHAGCOAIEcQQI4ggQxBEgiCNAEEeAII4AQRwBgjgCBHEECOIIEMQRIIgjQBBHgCCOAEEcAYI4AgRxBAjiCBDEESCII0AQR4AgjgBBHAGCOAIEcQQI4ggQxBEgiCNAEEeAII4AQRwBgjgCBHEECOIIEMQRIIgjQBBHgCCOAOEH2lcTjuypFb4AAAAASUVORK5CYII=\" y=\"-6.36\"/>\n   </g>\n   <g id=\"matplotlib.axis_1\">\n    <g id=\"xtick_1\">\n     <g id=\"line2d_1\">\n      <defs>\n       <path d=\"M 0 0 \nL 0 3.5 \n\" id=\"m92ae18ec30\" style=\"stroke:#000000;stroke-width:0.8;\"/>\n      </defs>\n      <g>\n       <use style=\"stroke:#000000;stroke-width:0.8;\" x=\"53.1785\" xlink:href=\"#m92ae18ec30\" y=\"333.36\"/>\n      </g>\n     </g>\n     <g id=\"text_1\">\n      <!-- 0 -->\n      <defs>\n       <path d=\"M 31.78125 66.40625 \nQ 24.171875 66.40625 20.328125 58.90625 \nQ 16.5 51.421875 16.5 36.375 \nQ 16.5 21.390625 20.328125 13.890625 \nQ 24.171875 6.390625 31.78125 6.390625 \nQ 39.453125 6.390625 43.28125 13.890625 \nQ 47.125 21.390625 47.125 36.375 \nQ 47.125 51.421875 43.28125 58.90625 \nQ 39.453125 66.40625 31.78125 66.40625 \nz\nM 31.78125 74.21875 \nQ 44.046875 74.21875 50.515625 64.515625 \nQ 56.984375 54.828125 56.984375 36.375 \nQ 56.984375 17.96875 50.515625 8.265625 \nQ 44.046875 -1.421875 31.78125 -1.421875 \nQ 19.53125 -1.421875 13.0625 8.265625 \nQ 6.59375 17.96875 6.59375 36.375 \nQ 6.59375 54.828125 13.0625 64.515625 \nQ 19.53125 74.21875 31.78125 74.21875 \nz\n\" id=\"DejaVuSans-48\"/>\n      </defs>\n      <g transform=\"translate(49.99725 347.958438)scale(0.1 -0.1)\">\n       <use xlink:href=\"#DejaVuSans-48\"/>\n      </g>\n     </g>\n    </g>\n    <g id=\"xtick_2\">\n     <g id=\"line2d_2\">\n      <g>\n       <use style=\"stroke:#000000;stroke-width:0.8;\" x=\"118.4105\" xlink:href=\"#m92ae18ec30\" y=\"333.36\"/>\n      </g>\n     </g>\n     <g id=\"text_2\">\n      <!-- 1 -->\n      <defs>\n       <path d=\"M 12.40625 8.296875 \nL 28.515625 8.296875 \nL 28.515625 63.921875 \nL 10.984375 60.40625 \nL 10.984375 69.390625 \nL 28.421875 72.90625 \nL 38.28125 72.90625 \nL 38.28125 8.296875 \nL 54.390625 8.296875 \nL 54.390625 0 \nL 12.40625 0 \nz\n\" id=\"DejaVuSans-49\"/>\n      </defs>\n      <g transform=\"translate(115.22925 347.958438)scale(0.1 -0.1)\">\n       <use xlink:href=\"#DejaVuSans-49\"/>\n      </g>\n     </g>\n    </g>\n    <g id=\"xtick_3\">\n     <g id=\"line2d_3\">\n      <g>\n       <use style=\"stroke:#000000;stroke-width:0.8;\" x=\"183.6425\" xlink:href=\"#m92ae18ec30\" y=\"333.36\"/>\n      </g>\n     </g>\n     <g id=\"text_3\">\n      <!-- 2 -->\n      <defs>\n       <path d=\"M 19.1875 8.296875 \nL 53.609375 8.296875 \nL 53.609375 0 \nL 7.328125 0 \nL 7.328125 8.296875 \nQ 12.9375 14.109375 22.625 23.890625 \nQ 32.328125 33.6875 34.8125 36.53125 \nQ 39.546875 41.84375 41.421875 45.53125 \nQ 43.3125 49.21875 43.3125 52.78125 \nQ 43.3125 58.59375 39.234375 62.25 \nQ 35.15625 65.921875 28.609375 65.921875 \nQ 23.96875 65.921875 18.8125 64.3125 \nQ 13.671875 62.703125 7.8125 59.421875 \nL 7.8125 69.390625 \nQ 13.765625 71.78125 18.9375 73 \nQ 24.125 74.21875 28.421875 74.21875 \nQ 39.75 74.21875 46.484375 68.546875 \nQ 53.21875 62.890625 53.21875 53.421875 \nQ 53.21875 48.921875 51.53125 44.890625 \nQ 49.859375 40.875 45.40625 35.40625 \nQ 44.1875 33.984375 37.640625 27.21875 \nQ 31.109375 20.453125 19.1875 8.296875 \nz\n\" id=\"DejaVuSans-50\"/>\n      </defs>\n      <g transform=\"translate(180.46125 347.958438)scale(0.1 -0.1)\">\n       <use xlink:href=\"#DejaVuSans-50\"/>\n      </g>\n     </g>\n    </g>\n    <g id=\"xtick_4\">\n     <g id=\"line2d_4\">\n      <g>\n       <use style=\"stroke:#000000;stroke-width:0.8;\" x=\"248.8745\" xlink:href=\"#m92ae18ec30\" y=\"333.36\"/>\n      </g>\n     </g>\n     <g id=\"text_4\">\n      <!-- 3 -->\n      <defs>\n       <path d=\"M 40.578125 39.3125 \nQ 47.65625 37.796875 51.625 33 \nQ 55.609375 28.21875 55.609375 21.1875 \nQ 55.609375 10.40625 48.1875 4.484375 \nQ 40.765625 -1.421875 27.09375 -1.421875 \nQ 22.515625 -1.421875 17.65625 -0.515625 \nQ 12.796875 0.390625 7.625 2.203125 \nL 7.625 11.71875 \nQ 11.71875 9.328125 16.59375 8.109375 \nQ 21.484375 6.890625 26.8125 6.890625 \nQ 36.078125 6.890625 40.9375 10.546875 \nQ 45.796875 14.203125 45.796875 21.1875 \nQ 45.796875 27.640625 41.28125 31.265625 \nQ 36.765625 34.90625 28.71875 34.90625 \nL 20.21875 34.90625 \nL 20.21875 43.015625 \nL 29.109375 43.015625 \nQ 36.375 43.015625 40.234375 45.921875 \nQ 44.09375 48.828125 44.09375 54.296875 \nQ 44.09375 59.90625 40.109375 62.90625 \nQ 36.140625 65.921875 28.71875 65.921875 \nQ 24.65625 65.921875 20.015625 65.03125 \nQ 15.375 64.15625 9.8125 62.3125 \nL 9.8125 71.09375 \nQ 15.4375 72.65625 20.34375 73.4375 \nQ 25.25 74.21875 29.59375 74.21875 \nQ 40.828125 74.21875 47.359375 69.109375 \nQ 53.90625 64.015625 53.90625 55.328125 \nQ 53.90625 49.265625 50.4375 45.09375 \nQ 46.96875 40.921875 40.578125 39.3125 \nz\n\" id=\"DejaVuSans-51\"/>\n      </defs>\n      <g transform=\"translate(245.69325 347.958438)scale(0.1 -0.1)\">\n       <use xlink:href=\"#DejaVuSans-51\"/>\n      </g>\n     </g>\n    </g>\n    <g id=\"xtick_5\">\n     <g id=\"line2d_5\">\n      <g>\n       <use style=\"stroke:#000000;stroke-width:0.8;\" x=\"314.1065\" xlink:href=\"#m92ae18ec30\" y=\"333.36\"/>\n      </g>\n     </g>\n     <g id=\"text_5\">\n      <!-- 4 -->\n      <defs>\n       <path d=\"M 37.796875 64.3125 \nL 12.890625 25.390625 \nL 37.796875 25.390625 \nz\nM 35.203125 72.90625 \nL 47.609375 72.90625 \nL 47.609375 25.390625 \nL 58.015625 25.390625 \nL 58.015625 17.1875 \nL 47.609375 17.1875 \nL 47.609375 0 \nL 37.796875 0 \nL 37.796875 17.1875 \nL 4.890625 17.1875 \nL 4.890625 26.703125 \nz\n\" id=\"DejaVuSans-52\"/>\n      </defs>\n      <g transform=\"translate(310.92525 347.958438)scale(0.1 -0.1)\">\n       <use xlink:href=\"#DejaVuSans-52\"/>\n      </g>\n     </g>\n    </g>\n   </g>\n   <g id=\"matplotlib.axis_2\">\n    <g id=\"ytick_1\">\n     <g id=\"line2d_6\">\n      <defs>\n       <path d=\"M 0 0 \nL -3.5 0 \n\" id=\"mef122a84d8\" style=\"stroke:#000000;stroke-width:0.8;\"/>\n      </defs>\n      <g>\n       <use style=\"stroke:#000000;stroke-width:0.8;\" x=\"20.5625\" xlink:href=\"#mef122a84d8\" y=\"39.816\"/>\n      </g>\n     </g>\n     <g id=\"text_6\">\n      <!-- 0 -->\n      <g transform=\"translate(7.2 43.615219)scale(0.1 -0.1)\">\n       <use xlink:href=\"#DejaVuSans-48\"/>\n      </g>\n     </g>\n    </g>\n    <g id=\"ytick_2\">\n     <g id=\"line2d_7\">\n      <g>\n       <use style=\"stroke:#000000;stroke-width:0.8;\" x=\"20.5625\" xlink:href=\"#mef122a84d8\" y=\"105.048\"/>\n      </g>\n     </g>\n     <g id=\"text_7\">\n      <!-- 1 -->\n      <g transform=\"translate(7.2 108.847219)scale(0.1 -0.1)\">\n       <use xlink:href=\"#DejaVuSans-49\"/>\n      </g>\n     </g>\n    </g>\n    <g id=\"ytick_3\">\n     <g id=\"line2d_8\">\n      <g>\n       <use style=\"stroke:#000000;stroke-width:0.8;\" x=\"20.5625\" xlink:href=\"#mef122a84d8\" y=\"170.28\"/>\n      </g>\n     </g>\n     <g id=\"text_8\">\n      <!-- 2 -->\n      <g transform=\"translate(7.2 174.079219)scale(0.1 -0.1)\">\n       <use xlink:href=\"#DejaVuSans-50\"/>\n      </g>\n     </g>\n    </g>\n    <g id=\"ytick_4\">\n     <g id=\"line2d_9\">\n      <g>\n       <use style=\"stroke:#000000;stroke-width:0.8;\" x=\"20.5625\" xlink:href=\"#mef122a84d8\" y=\"235.512\"/>\n      </g>\n     </g>\n     <g id=\"text_9\">\n      <!-- 3 -->\n      <g transform=\"translate(7.2 239.311219)scale(0.1 -0.1)\">\n       <use xlink:href=\"#DejaVuSans-51\"/>\n      </g>\n     </g>\n    </g>\n    <g id=\"ytick_5\">\n     <g id=\"line2d_10\">\n      <g>\n       <use style=\"stroke:#000000;stroke-width:0.8;\" x=\"20.5625\" xlink:href=\"#mef122a84d8\" y=\"300.744\"/>\n      </g>\n     </g>\n     <g id=\"text_10\">\n      <!-- 4 -->\n      <g transform=\"translate(7.2 304.543219)scale(0.1 -0.1)\">\n       <use xlink:href=\"#DejaVuSans-52\"/>\n      </g>\n     </g>\n    </g>\n   </g>\n   <g id=\"patch_3\">\n    <path d=\"M 20.5625 333.36 \nL 20.5625 7.2 \n\" style=\"fill:none;stroke:#000000;stroke-linecap:square;stroke-linejoin:miter;stroke-width:0.8;\"/>\n   </g>\n   <g id=\"patch_4\">\n    <path d=\"M 346.7225 333.36 \nL 346.7225 7.2 \n\" style=\"fill:none;stroke:#000000;stroke-linecap:square;stroke-linejoin:miter;stroke-width:0.8;\"/>\n   </g>\n   <g id=\"patch_5\">\n    <path d=\"M 20.5625 333.36 \nL 346.7225 333.36 \n\" style=\"fill:none;stroke:#000000;stroke-linecap:square;stroke-linejoin:miter;stroke-width:0.8;\"/>\n   </g>\n   <g id=\"patch_6\">\n    <path d=\"M 20.5625 7.2 \nL 346.7225 7.2 \n\" style=\"fill:none;stroke:#000000;stroke-linecap:square;stroke-linejoin:miter;stroke-width:0.8;\"/>\n   </g>\n  </g>\n </g>\n <defs>\n  <clipPath id=\"pa23928b007\">\n   <rect height=\"326.16\" width=\"326.16\" x=\"20.5625\" y=\"7.2\"/>\n  </clipPath>\n </defs>\n</svg>\n",
      "image/png": "[encoded data removed]"
     },
     "metadata": {
      "needs_background": "light"
     }
    }
   ],
   "source": [
    "eye_arr = np.eye(5)\n",
    "print(eye_arr)\n",
    "plt.imshow(eye_arr, cmap='binary')\n",
    "plt.show()"
   ]
  },
  {
   "cell_type": "markdown",
   "execution_count": null,
   "metadata": {},
   "outputs": [],
   "source": [
    "# data types for ndarrays"
   ]
  },
  {
   "cell_type": "code",
   "execution_count": 26,
   "metadata": {},
   "outputs": [
    {
     "output_type": "execute_result",
     "data": {
      "text/plain": "dtype('float64')"
     },
     "metadata": {},
     "execution_count": 26
    }
   ],
   "source": [
    "arr1 = np.array([1, 2, 3], dtype=np.float64)\n",
    "arr1.dtype"
   ]
  },
  {
   "cell_type": "code",
   "execution_count": 27,
   "metadata": {},
   "outputs": [
    {
     "output_type": "execute_result",
     "data": {
      "text/plain": "dtype('int32')"
     },
     "metadata": {},
     "execution_count": 27
    }
   ],
   "source": [
    "arr2 = np.array([1, 2, 3], dtype=np.int32)\n",
    "arr2.dtype"
   ]
  },
  {
   "cell_type": "code",
   "execution_count": 28,
   "metadata": {},
   "outputs": [
    {
     "output_type": "execute_result",
     "data": {
      "text/plain": "dtype('int64')"
     },
     "metadata": {},
     "execution_count": 28
    }
   ],
   "source": [
    "arr = np.array([1, 2, 3, 4, 5])\n",
    "arr.dtype"
   ]
  },
  {
   "cell_type": "code",
   "execution_count": 29,
   "metadata": {},
   "outputs": [
    {
     "output_type": "execute_result",
     "data": {
      "text/plain": "dtype('float64')"
     },
     "metadata": {},
     "execution_count": 29
    }
   ],
   "source": [
    "float_arr = arr.astype(np.float64)\n",
    "float_arr.dtype"
   ]
  },
  {
   "cell_type": "code",
   "execution_count": 30,
   "metadata": {},
   "outputs": [
    {
     "output_type": "execute_result",
     "data": {
      "text/plain": "array([ 3.7, -1.2, -2.6,  0.5, 12.9, 10.1])"
     },
     "metadata": {},
     "execution_count": 30
    }
   ],
   "source": [
    "arr = np.array([3.7, -1.2, -2.6, 0.5, 12.9, 10.1])\n",
    "arr"
   ]
  },
  {
   "cell_type": "code",
   "execution_count": 31,
   "metadata": {},
   "outputs": [
    {
     "output_type": "execute_result",
     "data": {
      "text/plain": "array([ 3, -1, -2,  0, 12, 10], dtype=int32)"
     },
     "metadata": {},
     "execution_count": 31
    }
   ],
   "source": [
    "arr.astype(np.int32)"
   ]
  },
  {
   "cell_type": "code",
   "execution_count": 32,
   "metadata": {},
   "outputs": [
    {
     "output_type": "execute_result",
     "data": {
      "text/plain": "array([  1.23,  -9.4 , 223.  ])"
     },
     "metadata": {},
     "execution_count": 32
    }
   ],
   "source": [
    "numerical_str = np.array(['1.23', '-9.4', '223'], dtype=np.string_)\n",
    "numerical_str.astype(float)"
   ]
  },
  {
   "cell_type": "code",
   "execution_count": 33,
   "metadata": {},
   "outputs": [
    {
     "output_type": "execute_result",
     "data": {
      "text/plain": "array([0., 1., 2., 3., 4., 5., 6., 7., 8., 9.])"
     },
     "metadata": {},
     "execution_count": 33
    }
   ],
   "source": [
    "# cast the data type to that of another array\n",
    "int_array = np.arange(10)\n",
    "calibers = np.array([.22, .270, .357, .380, .44, .50], dtype=np.float64)\n",
    "int_array.astype(calibers.dtype)"
   ]
  },
  {
   "cell_type": "code",
   "execution_count": 34,
   "metadata": {},
   "outputs": [
    {
     "output_type": "execute_result",
     "data": {
      "text/plain": "array([3435973856, 1075629260, 1305670058, 1081004130, 1717986928,\n       1076569702,  652835029, 1081083953], dtype=uint32)"
     },
     "metadata": {},
     "execution_count": 34
    }
   ],
   "source": [
    "empty_unit32 = np.empty(8, dtype='u4')\n",
    "empty_unit32"
   ]
  },
  {
   "cell_type": "markdown",
   "execution_count": null,
   "metadata": {},
   "outputs": [],
   "source": [
    "# arithmetic with numpy arrays"
   ]
  },
  {
   "cell_type": "code",
   "execution_count": 35,
   "metadata": {},
   "outputs": [
    {
     "output_type": "execute_result",
     "data": {
      "text/plain": "array([[1., 2., 3.],\n       [4., 5., 6.]])"
     },
     "metadata": {},
     "execution_count": 35
    }
   ],
   "source": [
    "arr = np.array([[1., 2., 3.], [4., 5., 6.]])\n",
    "arr"
   ]
  },
  {
   "cell_type": "code",
   "execution_count": 36,
   "metadata": {},
   "outputs": [
    {
     "output_type": "execute_result",
     "data": {
      "text/plain": "array([[ 1.,  4.,  9.],\n       [16., 25., 36.]])"
     },
     "metadata": {},
     "execution_count": 36
    }
   ],
   "source": [
    "arr * arr"
   ]
  },
  {
   "cell_type": "code",
   "execution_count": 37,
   "metadata": {},
   "outputs": [
    {
     "output_type": "execute_result",
     "data": {
      "text/plain": "array([[0., 0., 0.],\n       [0., 0., 0.]])"
     },
     "metadata": {},
     "execution_count": 37
    }
   ],
   "source": [
    "arr - arr"
   ]
  },
  {
   "cell_type": "code",
   "execution_count": 38,
   "metadata": {},
   "outputs": [
    {
     "output_type": "execute_result",
     "data": {
      "text/plain": "array([[1.    , 0.5   , 0.3333],\n       [0.25  , 0.2   , 0.1667]])"
     },
     "metadata": {},
     "execution_count": 38
    }
   ],
   "source": [
    "1 / arr"
   ]
  },
  {
   "cell_type": "code",
   "execution_count": 39,
   "metadata": {},
   "outputs": [
    {
     "output_type": "execute_result",
     "data": {
      "text/plain": "array([[1.    , 1.4142, 1.7321],\n       [2.    , 2.2361, 2.4495]])"
     },
     "metadata": {},
     "execution_count": 39
    }
   ],
   "source": [
    "arr ** 0.5"
   ]
  },
  {
   "cell_type": "code",
   "execution_count": 40,
   "metadata": {},
   "outputs": [
    {
     "output_type": "execute_result",
     "data": {
      "text/plain": "array([[ 0.,  4.,  1.],\n       [ 7.,  2., 12.]])"
     },
     "metadata": {},
     "execution_count": 40
    }
   ],
   "source": [
    "arr2 = np.array([[0., 4., 1.], [7., 2., 12.]])\n",
    "arr2"
   ]
  },
  {
   "cell_type": "code",
   "execution_count": 41,
   "metadata": {},
   "outputs": [
    {
     "output_type": "execute_result",
     "data": {
      "text/plain": "array([[False,  True, False],\n       [ True, False,  True]])"
     },
     "metadata": {},
     "execution_count": 41
    }
   ],
   "source": [
    "arr2 > arr"
   ]
  },
  {
   "cell_type": "markdown",
   "execution_count": null,
   "metadata": {},
   "outputs": [],
   "source": [
    "# basic indexing and slicing"
   ]
  },
  {
   "cell_type": "code",
   "execution_count": 42,
   "metadata": {},
   "outputs": [
    {
     "output_type": "execute_result",
     "data": {
      "text/plain": "array([0, 1, 2, 3, 4, 5, 6, 7, 8, 9])"
     },
     "metadata": {},
     "execution_count": 42
    }
   ],
   "source": [
    "arr = np.arange(10)\n",
    "arr"
   ]
  },
  {
   "cell_type": "code",
   "execution_count": 43,
   "metadata": {},
   "outputs": [
    {
     "output_type": "execute_result",
     "data": {
      "text/plain": "5"
     },
     "metadata": {},
     "execution_count": 43
    }
   ],
   "source": [
    "arr[5]"
   ]
  },
  {
   "cell_type": "code",
   "execution_count": 44,
   "metadata": {},
   "outputs": [
    {
     "output_type": "execute_result",
     "data": {
      "text/plain": "array([5, 6, 7])"
     },
     "metadata": {},
     "execution_count": 44
    }
   ],
   "source": [
    "arr[5:8]"
   ]
  },
  {
   "cell_type": "code",
   "execution_count": 45,
   "metadata": {},
   "outputs": [
    {
     "output_type": "stream",
     "name": "stdout",
     "text": "[5 6 7]\n"
    }
   ],
   "source": [
    "print(arr[5:8])"
   ]
  },
  {
   "cell_type": "code",
   "execution_count": 46,
   "metadata": {},
   "outputs": [
    {
     "output_type": "execute_result",
     "data": {
      "text/plain": "array([ 0,  1,  2,  3,  4, 99, 99, 99,  8,  9])"
     },
     "metadata": {},
     "execution_count": 46
    }
   ],
   "source": [
    "arr[5:8] = 99\n",
    "arr"
   ]
  },
  {
   "cell_type": "code",
   "execution_count": 47,
   "metadata": {},
   "outputs": [
    {
     "output_type": "execute_result",
     "data": {
      "text/plain": "array([99, 99, 99])"
     },
     "metadata": {},
     "execution_count": 47
    }
   ],
   "source": [
    "arr_slice = arr[5:8]\n",
    "arr_slice"
   ]
  },
  {
   "cell_type": "markdown",
   "execution_count": null,
   "metadata": {},
   "outputs": [],
   "source": [
    "* !!! array slices are **_views_** on the **_source array_**, i.e., the data in the source is not copied to the slice.\n",
    "* !!! any modifications to the **_view(slice)_** will be reflected in the source array."
   ]
  },
  {
   "cell_type": "code",
   "execution_count": 48,
   "metadata": {},
   "outputs": [
    {
     "output_type": "execute_result",
     "data": {
      "text/plain": "6"
     },
     "metadata": {},
     "execution_count": 48
    }
   ],
   "source": [
    "# get a slice of an array\n",
    "arr = np.arange(10)\n",
    "arr_slice = arr[5:8]\n",
    "arr_slice[1]"
   ]
  },
  {
   "cell_type": "code",
   "execution_count": 49,
   "metadata": {},
   "outputs": [
    {
     "output_type": "stream",
     "name": "stdout",
     "text": "[  5 999   7]\n"
    }
   ],
   "source": [
    "# modify the slice\n",
    "arr_slice[1] =  999\n",
    "print(arr_slice)"
   ]
  },
  {
   "cell_type": "code",
   "execution_count": 50,
   "metadata": {},
   "outputs": [
    {
     "output_type": "stream",
     "name": "stdout",
     "text": "[  0   1   2   3   4   5 999   7   8   9]\n"
    }
   ],
   "source": [
    "# note that the change to the slice is reflected in the source array\n",
    "print(arr)"
   ]
  },
  {
   "cell_type": "code",
   "execution_count": 51,
   "metadata": {},
   "outputs": [
    {
     "output_type": "stream",
     "name": "stdout",
     "text": "[ 0  1  2  3  4 64 64 64  8  9]\n"
    }
   ],
   "source": [
    "arr_slice[:] = 64\n",
    "print(arr)"
   ]
  },
  {
   "cell_type": "markdown",
   "execution_count": null,
   "metadata": {},
   "outputs": [],
   "source": [
    "* to make a copy of the data from the source array to a slice, the **_.copy()_** method must be used explicitly when \"cutting\" the slice"
   ]
  },
  {
   "cell_type": "code",
   "execution_count": 52,
   "metadata": {},
   "outputs": [
    {
     "output_type": "stream",
     "name": "stdout",
     "text": "[64 64 64]\n"
    }
   ],
   "source": [
    "# explicitly copy data from source array\n",
    "arr_slice_copied = arr[5:8].copy()\n",
    "print(arr_slice_copied)"
   ]
  },
  {
   "cell_type": "code",
   "execution_count": 53,
   "metadata": {},
   "outputs": [
    {
     "output_type": "stream",
     "name": "stdout",
     "text": "[999 999 999]\n[ 0  1  2  3  4 64 64 64  8  9]\n"
    }
   ],
   "source": [
    "# now, changing the slice will not affect the source array\n",
    "arr_slice_copied[:] = 999\n",
    "print(arr_slice_copied)\n",
    "print(arr)"
   ]
  },
  {
   "cell_type": "code",
   "execution_count": 54,
   "metadata": {},
   "outputs": [
    {
     "output_type": "execute_result",
     "data": {
      "text/plain": "array([[1, 2, 4],\n       [3, 4, 6],\n       [4, 6, 9]])"
     },
     "metadata": {},
     "execution_count": 54
    }
   ],
   "source": [
    "arr2d = np.array([[1, 2, 4], [3, 4, 6], [4, 6, 9]])\n",
    "arr2d"
   ]
  },
  {
   "cell_type": "code",
   "execution_count": 55,
   "metadata": {},
   "outputs": [
    {
     "output_type": "execute_result",
     "data": {
      "text/plain": "array([3, 4, 6])"
     },
     "metadata": {},
     "execution_count": 55
    }
   ],
   "source": [
    "arr2d[1]"
   ]
  },
  {
   "cell_type": "code",
   "execution_count": 56,
   "metadata": {},
   "outputs": [
    {
     "output_type": "execute_result",
     "data": {
      "text/plain": "6"
     },
     "metadata": {},
     "execution_count": 56
    }
   ],
   "source": [
    "arr2d[1][2]"
   ]
  },
  {
   "cell_type": "code",
   "execution_count": 57,
   "metadata": {},
   "outputs": [
    {
     "output_type": "execute_result",
     "data": {
      "text/plain": "6"
     },
     "metadata": {},
     "execution_count": 57
    }
   ],
   "source": [
    "arr2d[1, 2]"
   ]
  },
  {
   "cell_type": "code",
   "execution_count": 58,
   "metadata": {},
   "outputs": [
    {
     "output_type": "execute_result",
     "data": {
      "text/plain": "array([[[ 1,  2,  3],\n        [ 4,  5,  6]],\n\n       [[ 7,  8,  9],\n        [10, 11, 12]]])"
     },
     "metadata": {},
     "execution_count": 58
    }
   ],
   "source": [
    "arr3d = np.array([[[1, 2, 3], [4, 5, 6]], [[7, 8, 9], [10, 11, 12]]])\n",
    "arr3d"
   ]
  },
  {
   "cell_type": "code",
   "execution_count": 59,
   "metadata": {},
   "outputs": [
    {
     "output_type": "execute_result",
     "data": {
      "text/plain": "array([[1, 2, 3],\n       [4, 5, 6]])"
     },
     "metadata": {},
     "execution_count": 59
    }
   ],
   "source": [
    "arr3d[0]"
   ]
  },
  {
   "cell_type": "code",
   "execution_count": 60,
   "metadata": {},
   "outputs": [
    {
     "output_type": "execute_result",
     "data": {
      "text/plain": "array([4, 5, 6])"
     },
     "metadata": {},
     "execution_count": 60
    }
   ],
   "source": [
    "arr3d[0, 1]"
   ]
  },
  {
   "cell_type": "code",
   "execution_count": 61,
   "metadata": {},
   "outputs": [
    {
     "output_type": "execute_result",
     "data": {
      "text/plain": "array([[1, 2, 3],\n       [4, 5, 6]])"
     },
     "metadata": {},
     "execution_count": 61
    }
   ],
   "source": [
    "old_values = arr3d[0].copy()\n",
    "old_values"
   ]
  },
  {
   "cell_type": "code",
   "execution_count": 62,
   "metadata": {},
   "outputs": [
    {
     "output_type": "execute_result",
     "data": {
      "text/plain": "array([[42, 42, 42],\n       [42, 42, 42]])"
     },
     "metadata": {},
     "execution_count": 62
    }
   ],
   "source": [
    "arr3d[0] = 42\n",
    "arr3d[0]"
   ]
  },
  {
   "cell_type": "code",
   "execution_count": 63,
   "metadata": {},
   "outputs": [
    {
     "output_type": "execute_result",
     "data": {
      "text/plain": "array([[[ 1,  2,  3],\n        [ 4,  5,  6]],\n\n       [[ 7,  8,  9],\n        [10, 11, 12]]])"
     },
     "metadata": {},
     "execution_count": 63
    }
   ],
   "source": [
    "arr3d[0] = old_values\n",
    "arr3d"
   ]
  },
  {
   "cell_type": "code",
   "execution_count": 64,
   "metadata": {},
   "outputs": [
    {
     "output_type": "execute_result",
     "data": {
      "text/plain": "array([7, 8, 9])"
     },
     "metadata": {},
     "execution_count": 64
    }
   ],
   "source": [
    "arr3d[1, 0]"
   ]
  },
  {
   "cell_type": "code",
   "execution_count": 65,
   "metadata": {},
   "outputs": [
    {
     "output_type": "execute_result",
     "data": {
      "text/plain": "array([7, 8, 9])"
     },
     "metadata": {},
     "execution_count": 65
    }
   ],
   "source": [
    "# the above code is the same as the following\n",
    "x = arr3d[1][0]\n",
    "x"
   ]
  },
  {
   "cell_type": "markdown",
   "execution_count": null,
   "metadata": {},
   "outputs": [],
   "source": [
    "# indexing with slices\n",
    "\n",
    "* Note that slicing with labels in Pandas is different from normal Python slicing in that **_the endpoint is INCLUSIVE_**. "
   ]
  },
  {
   "cell_type": "code",
   "execution_count": 66,
   "metadata": {},
   "outputs": [
    {
     "output_type": "execute_result",
     "data": {
      "text/plain": "b    1.0\nc    2.0\ndtype: float64"
     },
     "metadata": {},
     "execution_count": 66
    }
   ],
   "source": [
    "import numpy as np\n",
    "import pandas as pd\n",
    "\n",
    "obj = pd.Series(np.arange(4.0), index=['a', 'b', 'c', 'd'])\n",
    "obj['b':'c']"
   ]
  },
  {
   "cell_type": "code",
   "execution_count": 67,
   "metadata": {},
   "outputs": [
    {
     "output_type": "execute_result",
     "data": {
      "text/plain": "a    0.0\nb    5.0\nc    5.0\nd    3.0\ndtype: float64"
     },
     "metadata": {},
     "execution_count": 67
    }
   ],
   "source": [
    "obj['b':'c'] = 5\n",
    "obj"
   ]
  },
  {
   "cell_type": "code",
   "execution_count": 68,
   "metadata": {},
   "outputs": [
    {
     "output_type": "execute_result",
     "data": {
      "text/plain": "          one  two  three  four\nOhio        0    1      2     3\nColorado    4    5      6     7\nUtah        8    9     10    11\nNY         12   13     14    15",
      "text/html": "<div>\n<style scoped>\n    .dataframe tbody tr th:only-of-type {\n        vertical-align: middle;\n    }\n\n    .dataframe tbody tr th {\n        vertical-align: top;\n    }\n\n    .dataframe thead th {\n        text-align: right;\n    }\n</style>\n<table border=\"1\" class=\"dataframe\">\n  <thead>\n    <tr style=\"text-align: right;\">\n      <th></th>\n      <th>one</th>\n      <th>two</th>\n      <th>three</th>\n      <th>four</th>\n    </tr>\n  </thead>\n  <tbody>\n    <tr>\n      <th>Ohio</th>\n      <td>0</td>\n      <td>1</td>\n      <td>2</td>\n      <td>3</td>\n    </tr>\n    <tr>\n      <th>Colorado</th>\n      <td>4</td>\n      <td>5</td>\n      <td>6</td>\n      <td>7</td>\n    </tr>\n    <tr>\n      <th>Utah</th>\n      <td>8</td>\n      <td>9</td>\n      <td>10</td>\n      <td>11</td>\n    </tr>\n    <tr>\n      <th>NY</th>\n      <td>12</td>\n      <td>13</td>\n      <td>14</td>\n      <td>15</td>\n    </tr>\n  </tbody>\n</table>\n</div>"
     },
     "metadata": {},
     "execution_count": 68
    }
   ],
   "source": [
    "data = pd.DataFrame(np.arange(16).reshape((4,4)), index=['Ohio', 'Colorado', 'Utah', 'NY'], columns=['one', 'two', 'three', 'four'])\n",
    "data"
   ]
  },
  {
   "cell_type": "markdown",
   "execution_count": null,
   "metadata": {},
   "outputs": [],
   "source": [
    "report one column by its index"
   ]
  },
  {
   "cell_type": "code",
   "execution_count": 69,
   "metadata": {},
   "outputs": [
    {
     "output_type": "execute_result",
     "data": {
      "text/plain": "Ohio         1\nColorado     5\nUtah         9\nNY          13\nName: two, dtype: int64"
     },
     "metadata": {},
     "execution_count": 69
    }
   ],
   "source": [
    "data['two']"
   ]
  },
  {
   "cell_type": "markdown",
   "execution_count": null,
   "metadata": {},
   "outputs": [],
   "source": [
    "report multiple columns by passing a one list of \"a list of column index\":"
   ]
  },
  {
   "cell_type": "code",
   "execution_count": 70,
   "metadata": {},
   "outputs": [
    {
     "output_type": "execute_result",
     "data": {
      "text/plain": "          three  one\nOhio          2    0\nColorado      6    4\nUtah         10    8\nNY           14   12",
      "text/html": "<div>\n<style scoped>\n    .dataframe tbody tr th:only-of-type {\n        vertical-align: middle;\n    }\n\n    .dataframe tbody tr th {\n        vertical-align: top;\n    }\n\n    .dataframe thead th {\n        text-align: right;\n    }\n</style>\n<table border=\"1\" class=\"dataframe\">\n  <thead>\n    <tr style=\"text-align: right;\">\n      <th></th>\n      <th>three</th>\n      <th>one</th>\n    </tr>\n  </thead>\n  <tbody>\n    <tr>\n      <th>Ohio</th>\n      <td>2</td>\n      <td>0</td>\n    </tr>\n    <tr>\n      <th>Colorado</th>\n      <td>6</td>\n      <td>4</td>\n    </tr>\n    <tr>\n      <th>Utah</th>\n      <td>10</td>\n      <td>8</td>\n    </tr>\n    <tr>\n      <th>NY</th>\n      <td>14</td>\n      <td>12</td>\n    </tr>\n  </tbody>\n</table>\n</div>"
     },
     "metadata": {},
     "execution_count": 70
    }
   ],
   "source": [
    "data[['three', 'one']]"
   ]
  },
  {
   "cell_type": "markdown",
   "execution_count": null,
   "metadata": {},
   "outputs": [],
   "source": [
    "## boolean indexing\n",
    "\n",
    "use a boolean DataFrame for indexing, such as one produced by a scalar comparison:"
   ]
  },
  {
   "cell_type": "code",
   "execution_count": 71,
   "metadata": {},
   "outputs": [
    {
     "output_type": "execute_result",
     "data": {
      "text/plain": "            one    two  three   four\nOhio       True   True   True   True\nColorado   True  False  False  False\nUtah      False  False  False  False\nNY        False  False  False  False",
      "text/html": "<div>\n<style scoped>\n    .dataframe tbody tr th:only-of-type {\n        vertical-align: middle;\n    }\n\n    .dataframe tbody tr th {\n        vertical-align: top;\n    }\n\n    .dataframe thead th {\n        text-align: right;\n    }\n</style>\n<table border=\"1\" class=\"dataframe\">\n  <thead>\n    <tr style=\"text-align: right;\">\n      <th></th>\n      <th>one</th>\n      <th>two</th>\n      <th>three</th>\n      <th>four</th>\n    </tr>\n  </thead>\n  <tbody>\n    <tr>\n      <th>Ohio</th>\n      <td>True</td>\n      <td>True</td>\n      <td>True</td>\n      <td>True</td>\n    </tr>\n    <tr>\n      <th>Colorado</th>\n      <td>True</td>\n      <td>False</td>\n      <td>False</td>\n      <td>False</td>\n    </tr>\n    <tr>\n      <th>Utah</th>\n      <td>False</td>\n      <td>False</td>\n      <td>False</td>\n      <td>False</td>\n    </tr>\n    <tr>\n      <th>NY</th>\n      <td>False</td>\n      <td>False</td>\n      <td>False</td>\n      <td>False</td>\n    </tr>\n  </tbody>\n</table>\n</div>"
     },
     "metadata": {},
     "execution_count": 71
    }
   ],
   "source": [
    "data < 5"
   ]
  },
  {
   "cell_type": "code",
   "execution_count": 72,
   "metadata": {},
   "outputs": [
    {
     "output_type": "execute_result",
     "data": {
      "text/plain": "          one  two  three  four\nOhio        0    0      0     0\nColorado    0    5      6     7\nUtah        8    9     10    11\nNY         12   13     14    15",
      "text/html": "<div>\n<style scoped>\n    .dataframe tbody tr th:only-of-type {\n        vertical-align: middle;\n    }\n\n    .dataframe tbody tr th {\n        vertical-align: top;\n    }\n\n    .dataframe thead th {\n        text-align: right;\n    }\n</style>\n<table border=\"1\" class=\"dataframe\">\n  <thead>\n    <tr style=\"text-align: right;\">\n      <th></th>\n      <th>one</th>\n      <th>two</th>\n      <th>three</th>\n      <th>four</th>\n    </tr>\n  </thead>\n  <tbody>\n    <tr>\n      <th>Ohio</th>\n      <td>0</td>\n      <td>0</td>\n      <td>0</td>\n      <td>0</td>\n    </tr>\n    <tr>\n      <th>Colorado</th>\n      <td>0</td>\n      <td>5</td>\n      <td>6</td>\n      <td>7</td>\n    </tr>\n    <tr>\n      <th>Utah</th>\n      <td>8</td>\n      <td>9</td>\n      <td>10</td>\n      <td>11</td>\n    </tr>\n    <tr>\n      <th>NY</th>\n      <td>12</td>\n      <td>13</td>\n      <td>14</td>\n      <td>15</td>\n    </tr>\n  </tbody>\n</table>\n</div>"
     },
     "metadata": {},
     "execution_count": 72
    }
   ],
   "source": [
    "# assign zero to all cells with value < 5\n",
    "data[data < 5] = 0\n",
    "data"
   ]
  },
  {
   "cell_type": "code",
   "execution_count": 73,
   "metadata": {},
   "outputs": [
    {
     "output_type": "stream",
     "name": "stdout",
     "text": "<class 'pandas.core.frame.DataFrame'>\n"
    }
   ],
   "source": [
    "print(type(data<5))"
   ]
  },
  {
   "cell_type": "code",
   "execution_count": 74,
   "metadata": {},
   "outputs": [
    {
     "output_type": "stream",
     "name": "stdout",
     "text": "<class 'pandas.core.frame.DataFrame'>\n"
    }
   ],
   "source": [
    "print(type(data))"
   ]
  },
  {
   "cell_type": "code",
   "execution_count": 75,
   "metadata": {},
   "outputs": [],
   "source": [
    "names = np.array(['Bob', 'Joe','Will', 'Bob', 'Will', 'Joe', 'Joe'])\n",
    "data = np.random.randn(7, 4)"
   ]
  },
  {
   "cell_type": "code",
   "execution_count": 76,
   "metadata": {},
   "outputs": [
    {
     "output_type": "execute_result",
     "data": {
      "text/plain": "array(['Bob', 'Joe', 'Will', 'Bob', 'Will', 'Joe', 'Joe'], dtype='<U4')"
     },
     "metadata": {},
     "execution_count": 76
    }
   ],
   "source": [
    "names"
   ]
  },
  {
   "cell_type": "code",
   "execution_count": 77,
   "metadata": {},
   "outputs": [
    {
     "output_type": "execute_result",
     "data": {
      "text/plain": "array([[-0.7135, -0.8312, -2.3702, -1.8608],\n       [-0.8608,  0.5601, -1.2659,  0.1198],\n       [-1.0635,  0.3329, -2.3594, -0.1995],\n       [-1.542 , -0.9707, -1.307 ,  0.2863],\n       [ 0.378 , -0.7539,  0.3313,  1.3497],\n       [ 0.0699,  0.2467, -0.0119,  1.0048],\n       [ 1.3272, -0.9193, -1.5491,  0.0222]])"
     },
     "metadata": {},
     "execution_count": 77
    }
   ],
   "source": [
    "data"
   ]
  },
  {
   "cell_type": "code",
   "execution_count": 78,
   "metadata": {},
   "outputs": [
    {
     "output_type": "execute_result",
     "data": {
      "text/plain": "array([ True, False, False,  True, False, False, False])"
     },
     "metadata": {},
     "execution_count": 78
    }
   ],
   "source": [
    "names == \"Bob\""
   ]
  },
  {
   "cell_type": "markdown",
   "execution_count": null,
   "metadata": {},
   "outputs": [],
   "source": [
    "The boolean values in the array obtained above can be used to filter \"rows\" in the same order,\n",
    "\n",
    "... i.e., row #N will be kept if the Nth boolean value in the array derived from the evaluation **_names==\"Bob\"_** is **_True_**, which is highlighted below:\n",
    "\n",
    "|           |  col_0  |  col_1  |  col_2  |  col_3  |\n",
    "| --------- |--------:|--------:|--------:|--------:|\n",
    "|**_row_0 Bob _**| **_XXX_**  | **_XXX_** | **_XXX_** | **_XXX_** |\n",
    "| row_1 Joe     | -  | - | -  | -   |\n",
    "| row_2 Will    | -  | - | -  | -   |\n",
    "|**_row_3 Bob_**| **_XXX_**  | **_XXX_** | **_XXX_** | **_XXX_** |\n",
    "| row_4 Will    | -  | - | -  | -   |\n",
    "| row_5 Joe    | -  | - | -  | -   |\n",
    "| row_6 Joe    | -  | - | -  | -   |"
   ]
  },
  {
   "cell_type": "code",
   "execution_count": 79,
   "metadata": {},
   "outputs": [
    {
     "output_type": "execute_result",
     "data": {
      "text/plain": "array([[-0.7135, -0.8312, -2.3702, -1.8608],\n       [-1.542 , -0.9707, -1.307 ,  0.2863]])"
     },
     "metadata": {},
     "execution_count": 79
    }
   ],
   "source": [
    "data[names == \"Bob\"]"
   ]
  },
  {
   "cell_type": "markdown",
   "execution_count": null,
   "metadata": {},
   "outputs": [],
   "source": [
    "get the rows whose index correspond to a boolean value of True\n",
    "\n",
    "... based on the evaluation **_names=='Bob'_**, i.e., only row 0 and 3\n",
    "\n",
    "..., and get only the columns from the 2nd one (inlusive) onward for these filtered rows\n",
    "\n",
    "... which are highlighted below: (Note that it returns a 2-d array)\n",
    "\n",
    "|           |  col_0  |  col_1  | _col_2_ | _col_3_ |\n",
    "| --------- |--------:|--------:|--------:|--------:|\n",
    "|**_row_0 Bob_**| -  | - |**_XXX_**|**_XXX_**|\n",
    "| row_1 Joe    | -  | - | -  | - |\n",
    "| row_2 Will    | -  | - | -  | -  |\n",
    "|**_row_3 Bob_**| - | - |**_XXX_**|**_XXX_**|\n",
    "| row_4 Will    | -  | - | -  | - |\n",
    "| row_5 Joe    | -  | - | -  | - |\n",
    "| row_6 Joe    | -  | - | -  | - |"
   ]
  },
  {
   "cell_type": "code",
   "execution_count": 80,
   "metadata": {},
   "outputs": [
    {
     "output_type": "execute_result",
     "data": {
      "text/plain": "array([[-2.3702, -1.8608],\n       [-1.307 ,  0.2863]])"
     },
     "metadata": {},
     "execution_count": 80
    }
   ],
   "source": [
    "data[names == 'Bob', 2:]"
   ]
  },
  {
   "cell_type": "markdown",
   "execution_count": null,
   "metadata": {},
   "outputs": [],
   "source": [
    "get the rows 1, 4, 5 whose index correspond to a boolean value of True\n",
    "\n",
    "... based on the evaluation **_names=='Joe'_**,\n",
    "\n",
    "..., and get only column 3\n",
    "\n",
    "... which are highlighted below: (Note that it returns a 1-d array)\n",
    "\n",
    "|           |  col_0  |  col_1  | _col_2_ | _col_3_ |\n",
    "| --------- |--------:|--------:|--------:|--------:|\n",
    "| row_0 Bob    | - | - | - | - |\n",
    "|**_row_1 Joe_**| - | - | - |**_XXX_**|\n",
    "| row_2 Will    | - | - | - | - |\n",
    "| row_3 Bob    | - | - | - | - |\n",
    "| row_4 Will| - | - | - | - |\n",
    "|**_row_5 Joe_**| - | - | - |**_XXX_**|\n",
    "|**_row_6 Joe_**| - | - | - |**_XXX_**|"
   ]
  },
  {
   "cell_type": "code",
   "execution_count": 81,
   "metadata": {},
   "outputs": [
    {
     "output_type": "execute_result",
     "data": {
      "text/plain": "array([0.1198, 1.0048, 0.0222])"
     },
     "metadata": {},
     "execution_count": 81
    }
   ],
   "source": [
    "data[names == \"Joe\", 3]"
   ]
  },
  {
   "cell_type": "code",
   "execution_count": 82,
   "metadata": {},
   "outputs": [
    {
     "output_type": "execute_result",
     "data": {
      "text/plain": "array([False,  True,  True, False,  True,  True,  True])"
     },
     "metadata": {},
     "execution_count": 82
    }
   ],
   "source": [
    "names != 'Bob'"
   ]
  },
  {
   "cell_type": "markdown",
   "execution_count": null,
   "metadata": {},
   "outputs": [],
   "source": [
    "Get the rows whose index that **DO NOT** corespond to **_True_**\n",
    "\n",
    "... based on evaluation **_names == 'Bob'_**\n",
    "\n",
    "... i.e., row 1, 2, 4, 5, 6\n",
    "\n",
    "|           |  col_0  |  col_1  |  col_2  |  col_3  |\n",
    "| --------- |--------:|--------:|--------:|--------:|\n",
    "| row_0 Bob    | -  | - | -  | -   |\n",
    "|**_row_1 Joe_**| **_XXX_**  | **_XXX_** | **_XXX_** | **_XXX_** |\n",
    "|**_row_2 Will_**| **_XXX_**  | **_XXX_** | **_XXX_** | **_XXX_** |\n",
    "| row_3 Bob    | -  | - | -  | -   |\n",
    "|**_row_4 Will_**| **_XXX_**  | **_XXX_** | **_XXX_** | **_XXX_** |\n",
    "|**_row_5 Joe_**| **_XXX_**  | **_XXX_** | **_XXX_** | **_XXX_** |\n",
    "|**_row_6 Joe_**| **_XXX_**  | **_XXX_** | **_XXX_** | **_XXX_** |"
   ]
  },
  {
   "cell_type": "code",
   "execution_count": 83,
   "metadata": {},
   "outputs": [
    {
     "output_type": "execute_result",
     "data": {
      "text/plain": "array([[-0.8608,  0.5601, -1.2659,  0.1198],\n       [-1.0635,  0.3329, -2.3594, -0.1995],\n       [ 0.378 , -0.7539,  0.3313,  1.3497],\n       [ 0.0699,  0.2467, -0.0119,  1.0048],\n       [ 1.3272, -0.9193, -1.5491,  0.0222]])"
     },
     "metadata": {},
     "execution_count": 83
    }
   ],
   "source": [
    "data[~(names == 'Bob')]"
   ]
  },
  {
   "cell_type": "code",
   "execution_count": 84,
   "metadata": {},
   "outputs": [
    {
     "output_type": "execute_result",
     "data": {
      "text/plain": "array([[-0.8608,  0.5601, -1.2659,  0.1198],\n       [-1.0635,  0.3329, -2.3594, -0.1995],\n       [ 0.378 , -0.7539,  0.3313,  1.3497],\n       [ 0.0699,  0.2467, -0.0119,  1.0048],\n       [ 1.3272, -0.9193, -1.5491,  0.0222]])"
     },
     "metadata": {},
     "execution_count": 84
    }
   ],
   "source": [
    "cond = names == 'Bob'\n",
    "data[~cond]"
   ]
  },
  {
   "cell_type": "code",
   "execution_count": 85,
   "metadata": {},
   "outputs": [
    {
     "output_type": "execute_result",
     "data": {
      "text/plain": "array([ True, False,  True,  True,  True, False, False])"
     },
     "metadata": {},
     "execution_count": 85
    }
   ],
   "source": [
    "mask = (names == 'Bob') | (names == 'Will')\n",
    "mask"
   ]
  },
  {
   "cell_type": "code",
   "execution_count": 86,
   "metadata": {},
   "outputs": [
    {
     "output_type": "execute_result",
     "data": {
      "text/plain": "array([[-0.7135, -0.8312, -2.3702, -1.8608],\n       [-1.0635,  0.3329, -2.3594, -0.1995],\n       [-1.542 , -0.9707, -1.307 ,  0.2863],\n       [ 0.378 , -0.7539,  0.3313,  1.3497]])"
     },
     "metadata": {},
     "execution_count": 86
    }
   ],
   "source": [
    "data[mask]"
   ]
  },
  {
   "cell_type": "code",
   "execution_count": 87,
   "metadata": {},
   "outputs": [
    {
     "output_type": "execute_result",
     "data": {
      "text/plain": "array([[0.    , 0.    , 0.    , 0.    ],\n       [0.    , 0.5601, 0.    , 0.1198],\n       [0.    , 0.3329, 0.    , 0.    ],\n       [0.    , 0.    , 0.    , 0.2863],\n       [0.378 , 0.    , 0.3313, 1.3497],\n       [0.0699, 0.2467, 0.    , 1.0048],\n       [1.3272, 0.    , 0.    , 0.0222]])"
     },
     "metadata": {},
     "execution_count": 87
    }
   ],
   "source": [
    "# assign value zero to those cells < 0\n",
    "data[data < 0] = 0\n",
    "data"
   ]
  },
  {
   "cell_type": "markdown",
   "execution_count": null,
   "metadata": {},
   "outputs": [],
   "source": [
    "assign value 7 to cells whose row index correspond to \"NOT Joe\"'\n",
    "\n",
    "... i.e. row 0, 2, 3, 4.\n",
    "\n",
    "|           |  col_0  |  col_1  |  col_2  |  col_3  |\n",
    "| --------- |--------:|--------:|--------:|--------:|\n",
    "| row_0     | 7 | 7 | 7 | 7 |\n",
    "| row_1     | -  | - | - | - |\n",
    "| row_2     | 7 | 7 | 7 | 7 |\n",
    "| row_3     | 7 | 7 | 7 | 7 |\n",
    "| row_4     | 7 | 7 | 7 | 7 |\n",
    "| row_5     | -  | - | - | - |\n",
    "| row_6     | -  | - | - | - |"
   ]
  },
  {
   "cell_type": "code",
   "execution_count": 88,
   "metadata": {},
   "outputs": [
    {
     "output_type": "execute_result",
     "data": {
      "text/plain": "array([[7.    , 7.    , 7.    , 7.    ],\n       [0.    , 0.5601, 0.    , 0.1198],\n       [7.    , 7.    , 7.    , 7.    ],\n       [7.    , 7.    , 7.    , 7.    ],\n       [7.    , 7.    , 7.    , 7.    ],\n       [0.0699, 0.2467, 0.    , 1.0048],\n       [1.3272, 0.    , 0.    , 0.0222]])"
     },
     "metadata": {},
     "execution_count": 88
    }
   ],
   "source": [
    "data[names != 'Joe'] = 7\n",
    "data"
   ]
  },
  {
   "cell_type": "markdown",
   "execution_count": null,
   "metadata": {},
   "outputs": [],
   "source": [
    "## Fancy Indexing"
   ]
  },
  {
   "cell_type": "code",
   "execution_count": 89,
   "metadata": {},
   "outputs": [
    {
     "output_type": "execute_result",
     "data": {
      "text/plain": "array([[37.7969, 64.3125, 12.8906, 25.3906],\n       [37.7969, 25.3906,  0.    ,  0.    ],\n       [35.2031, 72.9062, 47.6094, 72.9062],\n       [47.6094, 25.3906, 58.0156, 25.3906],\n       [58.0156, 17.1875, 47.6094, 17.1875],\n       [47.6094,  0.    , 37.7969,  0.    ],\n       [37.7969, 17.1875,  4.8906, 17.1875],\n       [ 4.8906, 26.7031,  0.    ,  0.    ]])"
     },
     "metadata": {},
     "execution_count": 89
    }
   ],
   "source": [
    "arr_8_4 = np.empty((8, 4))\n",
    "arr_8_4"
   ]
  },
  {
   "cell_type": "code",
   "execution_count": 90,
   "metadata": {},
   "outputs": [
    {
     "output_type": "execute_result",
     "data": {
      "text/plain": "array([[0., 0., 0., 0.],\n       [1., 1., 1., 1.],\n       [2., 2., 2., 2.],\n       [3., 3., 3., 3.],\n       [4., 4., 4., 4.],\n       [5., 5., 5., 5.],\n       [6., 6., 6., 6.],\n       [7., 7., 7., 7.]])"
     },
     "metadata": {},
     "execution_count": 90
    }
   ],
   "source": [
    "for i in range(8):\n",
    "    arr_8_4[i] = i\n",
    "\n",
    "arr_8_4"
   ]
  },
  {
   "cell_type": "markdown",
   "execution_count": null,
   "metadata": {},
   "outputs": [],
   "source": [
    "**_arr\\[\\[4, 3, 0\\]\\]_** filters row 4, 3, 0, in this order, for all columns:\n",
    "\n",
    "|             | _col_0_ | _col_1_ | _col_2_ | _col_3_ |\n",
    "|   -         | :-:    | :-:    | :-:    | :-:    |\n",
    "| **_row_0_** (plaeced at 3rd row) | 0. | 0. | 0. | 0. |\n",
    "| row_1 | -     | -     | -     | -     |\n",
    "| row_2 | -     | -     | -     | -     |\n",
    "| **_row_3_** (plaeced at 2nd row)| 3. | 3. | 3. | 3. |\n",
    "| **_row_4_** (plaeced at 1st row) | 4. | 4. | 4. | 4. |\n",
    "| row_5 | -     | -     | -     | -     |\n",
    "| row_6 | -     | -     | -     | -     |\n",
    "| row_7 | -     | -     | -     | -     |"
   ]
  },
  {
   "cell_type": "code",
   "execution_count": 91,
   "metadata": {},
   "outputs": [
    {
     "output_type": "execute_result",
     "data": {
      "text/plain": "array([[4., 4., 4., 4.],\n       [3., 3., 3., 3.],\n       [0., 0., 0., 0.]])"
     },
     "metadata": {},
     "execution_count": 91
    }
   ],
   "source": [
    "arr_8_4[[4, 3, 0]]"
   ]
  },
  {
   "cell_type": "markdown",
   "execution_count": null,
   "metadata": {},
   "outputs": [],
   "source": [
    "**_arr\\[\\[-3, -5, -1]\\]_** filters row 5 (-1), 3 (-5), 7 (-1), in this order, for all columns:\n",
    "\n",
    "|             | _col_0_ | _col_1_ | _col_2_ | _col_3_ |\n",
    "|   -         | :-:    | :-:    | :-:    | :-:    |\n",
    "| row_0 | -     | -     | -     | -     |\n",
    "| row_1 | -     | -     | -     | -     |\n",
    "| row_2 | -     | -     | -     | -     |\n",
    "| **_row_3_** (row -5, placed at the 2nd row) | 3. | 3. | 3. | 3. |\n",
    "| row_4 | -     | -     | -     | -     |\n",
    "| **_row_5_** (row -3, placed at the 1st row)  | 5. | 5. | 5. | 5. |\n",
    "| row_6 | -     | -     | -     | -     |\n",
    "| **_row_7_** (row -1, placed at the 3rd row) | 7. | 7. | 7. | 7. |"
   ]
  },
  {
   "cell_type": "code",
   "execution_count": 92,
   "metadata": {},
   "outputs": [
    {
     "output_type": "execute_result",
     "data": {
      "text/plain": "array([[5., 5., 5., 5.],\n       [3., 3., 3., 3.],\n       [7., 7., 7., 7.]])"
     },
     "metadata": {},
     "execution_count": 92
    }
   ],
   "source": [
    "# using negative indices selects rows from the end\n",
    "arr_8_4[[-3, -5, -1]]"
   ]
  },
  {
   "cell_type": "code",
   "execution_count": 93,
   "metadata": {},
   "outputs": [
    {
     "output_type": "execute_result",
     "data": {
      "text/plain": "array([[ 0,  1,  2,  3],\n       [ 4,  5,  6,  7],\n       [ 8,  9, 10, 11],\n       [12, 13, 14, 15],\n       [16, 17, 18, 19],\n       [20, 21, 22, 23],\n       [24, 25, 26, 27],\n       [28, 29, 30, 31]])"
     },
     "metadata": {},
     "execution_count": 93
    }
   ],
   "source": [
    "arr_8_4_new = np.arange(32).reshape(8, 4)\n",
    "arr_8_4_new"
   ]
  },
  {
   "cell_type": "markdown",
   "execution_count": null,
   "metadata": {},
   "outputs": [],
   "source": [
    "**_arr\\[\\[1, 5, 7\\], \\[0, 3, 1\\]\\]_** produces:\n",
    "\n",
    "|             | **_col_0_** | **_col_1_** | col_2 | **_col_3_** |\n",
    "|   -         | :-:    | :-:    | :-:    | :-:    |\n",
    "| row_0       | -     | -     | -     | -     |\n",
    "| **_row_1_** | 4\\[1,0\\]| -     | -     | -     |\n",
    "| row_2       | -     | -     | -     | -     |\n",
    "| row_3       | -     | -     | -     | -     |\n",
    "| row_4       | -     | -     | -     | -     |\n",
    "| **_row_5_** | -     | -     | -     |23\\[5,3\\]|\n",
    "| row_6       | -     | -     | -     | -     |\n",
    "| **_row_7_** | -     |29\\[7,1\\]| -     | -     |"
   ]
  },
  {
   "cell_type": "code",
   "execution_count": 94,
   "metadata": {},
   "outputs": [
    {
     "output_type": "execute_result",
     "data": {
      "text/plain": "array([ 4, 23, 29])"
     },
     "metadata": {},
     "execution_count": 94
    }
   ],
   "source": [
    "arr_8_4_new[[1, 5, 7], [0, 3, 1]]"
   ]
  },
  {
   "cell_type": "markdown",
   "execution_count": null,
   "metadata": {},
   "outputs": [],
   "source": [
    "To produces this:\n",
    "\n",
    "|             | **_col_0_** | **_col_1_** | col_2 | **_col_3_** |\n",
    "|   -         | :-:    | :-:    | :-:    | :-:    |\n",
    "| row_0       | -     | -     | -     | -     |\n",
    "| **_row_1_** | 4\\[1,0\\]| 5\\[1,1\\]| - | 7\\[1,3\\] |\n",
    "| row_2       | -     | -     | -     | -     |\n",
    "| row_3       | -     | -     | -     | -     |\n",
    "| row_4       | -     | -     | -     | -     |\n",
    "| **_row_5_** | 20\\[5,0\\] | 21\\[5,1\\] | -     |23\\[5,3\\]|\n",
    "| row_6       | -     | -     | -     | -     |\n",
    "| **_row_7_** | 28\\[7,0\\] | 29\\[7,1\\]| -     | 31\\[7,3\\] |\n",
    "\n",
    "... the code is the following, i.e. get rows 1, 5, 7 first and then get columns 0, 3, 1, in this order, for these rows: "
   ]
  },
  {
   "cell_type": "code",
   "execution_count": 95,
   "metadata": {},
   "outputs": [
    {
     "output_type": "execute_result",
     "data": {
      "text/plain": "array([[ 4,  7,  5],\n       [20, 23, 21],\n       [28, 31, 29]])"
     },
     "metadata": {},
     "execution_count": 95
    }
   ],
   "source": [
    "arr_8_4_new[[1, 5, 7]][: , [0, 3, 1]]"
   ]
  },
  {
   "cell_type": "markdown",
   "metadata": {},
   "source": [
    "## transposing arrays and swapping axes"
   ]
  },
  {
   "cell_type": "code",
   "execution_count": 96,
   "metadata": {},
   "outputs": [
    {
     "output_type": "execute_result",
     "data": {
      "text/plain": "array([[ 0,  1,  2,  3,  4],\n       [ 5,  6,  7,  8,  9],\n       [10, 11, 12, 13, 14]])"
     },
     "metadata": {},
     "execution_count": 96
    }
   ],
   "source": [
    "arr = np.arange(15).reshape((3, 5))\n",
    "arr"
   ]
  },
  {
   "cell_type": "code",
   "execution_count": 97,
   "metadata": {},
   "outputs": [
    {
     "output_type": "execute_result",
     "data": {
      "text/plain": "array([[ 0,  5, 10],\n       [ 1,  6, 11],\n       [ 2,  7, 12],\n       [ 3,  8, 13],\n       [ 4,  9, 14]])"
     },
     "metadata": {},
     "execution_count": 97
    }
   ],
   "source": [
    "arr.T"
   ]
  },
  {
   "cell_type": "code",
   "execution_count": 98,
   "metadata": {},
   "outputs": [
    {
     "output_type": "execute_result",
     "data": {
      "text/plain": "array([[ 0.7584, -0.6605,  0.8626],\n       [-0.01  ,  0.05  ,  0.6702],\n       [ 0.853 , -0.9559, -0.0235],\n       [-2.3042, -0.6525, -1.2183],\n       [-1.3326,  1.0746,  0.7236],\n       [ 0.69  ,  1.0015, -0.5031]])"
     },
     "metadata": {},
     "execution_count": 98
    }
   ],
   "source": [
    "arr = np.random.randn(6, 3)\n",
    "arr"
   ]
  },
  {
   "cell_type": "code",
   "execution_count": 99,
   "metadata": {},
   "outputs": [
    {
     "output_type": "execute_result",
     "data": {
      "text/plain": "array([[ 8.8642, -0.5543,  2.1232],\n       [-0.5543,  3.9361,  0.5549],\n       [ 2.1232,  0.5549,  3.4548]])"
     },
     "metadata": {},
     "execution_count": 99
    }
   ],
   "source": [
    "np.dot(arr.T, arr)"
   ]
  },
  {
   "cell_type": "code",
   "execution_count": 100,
   "metadata": {},
   "outputs": [
    {
     "output_type": "execute_result",
     "data": {
      "text/plain": "array([[[ 0,  1,  2,  3],\n        [ 4,  5,  6,  7]],\n\n       [[ 8,  9, 10, 11],\n        [12, 13, 14, 15]]])"
     },
     "metadata": {},
     "execution_count": 100
    }
   ],
   "source": [
    "arr = np.arange(16).reshape((2, 2, 4))\n",
    "arr"
   ]
  },
  {
   "cell_type": "code",
   "execution_count": 101,
   "metadata": {},
   "outputs": [
    {
     "output_type": "execute_result",
     "data": {
      "text/plain": "array([[[ 0,  1,  2,  3],\n        [ 8,  9, 10, 11]],\n\n       [[ 4,  5,  6,  7],\n        [12, 13, 14, 15]]])"
     },
     "metadata": {},
     "execution_count": 101
    }
   ],
   "source": [
    "arr.transpose((1, 0, 2))"
   ]
  },
  {
   "cell_type": "code",
   "execution_count": 102,
   "metadata": {},
   "outputs": [
    {
     "output_type": "execute_result",
     "data": {
      "text/plain": "array([[[ 0,  1,  2,  3],\n        [ 4,  5,  6,  7]],\n\n       [[ 8,  9, 10, 11],\n        [12, 13, 14, 15]]])"
     },
     "metadata": {},
     "execution_count": 102
    }
   ],
   "source": [
    "arr"
   ]
  },
  {
   "cell_type": "code",
   "execution_count": 103,
   "metadata": {},
   "outputs": [
    {
     "output_type": "execute_result",
     "data": {
      "text/plain": "array([[[ 0,  4],\n        [ 1,  5],\n        [ 2,  6],\n        [ 3,  7]],\n\n       [[ 8, 12],\n        [ 9, 13],\n        [10, 14],\n        [11, 15]]])"
     },
     "metadata": {},
     "execution_count": 103
    }
   ],
   "source": [
    "arr.swapaxes(1, 2)"
   ]
  },
  {
   "cell_type": "markdown",
   "metadata": {},
   "source": [
    "## universal functions"
   ]
  },
  {
   "cell_type": "code",
   "execution_count": 104,
   "metadata": {},
   "outputs": [
    {
     "output_type": "execute_result",
     "data": {
      "text/plain": "array([0, 1, 2, 3, 4, 5, 6, 7, 8, 9])"
     },
     "metadata": {},
     "execution_count": 104
    }
   ],
   "source": [
    "arr = np.arange(10)\n",
    "arr"
   ]
  },
  {
   "cell_type": "code",
   "execution_count": 105,
   "metadata": {},
   "outputs": [
    {
     "output_type": "execute_result",
     "data": {
      "text/plain": "array([0.    , 1.    , 1.4142, 1.7321, 2.    , 2.2361, 2.4495, 2.6458,\n       2.8284, 3.    ])"
     },
     "metadata": {},
     "execution_count": 105
    }
   ],
   "source": [
    "np.sqrt(arr)"
   ]
  },
  {
   "cell_type": "code",
   "execution_count": 106,
   "metadata": {},
   "outputs": [
    {
     "output_type": "execute_result",
     "data": {
      "text/plain": "array([   1.    ,    2.7183,    7.3891,   20.0855,   54.5982,  148.4132,\n        403.4288, 1096.6332, 2980.958 , 8103.0839])"
     },
     "metadata": {},
     "execution_count": 106
    }
   ],
   "source": [
    "np.exp(arr)"
   ]
  },
  {
   "cell_type": "code",
   "execution_count": 107,
   "metadata": {},
   "outputs": [],
   "source": [
    "x = np.random.randn(8)\n",
    "y = np.random.randn(8)"
   ]
  },
  {
   "cell_type": "code",
   "execution_count": 108,
   "metadata": {},
   "outputs": [
    {
     "output_type": "execute_result",
     "data": {
      "text/plain": "array([-0.6223, -0.9212, -0.7262,  0.2229,  0.0513, -1.1577,  0.8167,\n        0.4336])"
     },
     "metadata": {},
     "execution_count": 108
    }
   ],
   "source": [
    "x"
   ]
  },
  {
   "cell_type": "code",
   "execution_count": 109,
   "metadata": {},
   "outputs": [
    {
     "output_type": "execute_result",
     "data": {
      "text/plain": "array([ 1.0107,  1.8249, -0.9975,  0.8506, -0.1316,  0.9124,  0.1882,\n        2.1695])"
     },
     "metadata": {},
     "execution_count": 109
    }
   ],
   "source": [
    "y"
   ]
  },
  {
   "cell_type": "code",
   "execution_count": 110,
   "metadata": {},
   "outputs": [
    {
     "output_type": "execute_result",
     "data": {
      "text/plain": "array([ 1.0107,  1.8249, -0.7262,  0.8506,  0.0513,  0.9124,  0.8167,\n        2.1695])"
     },
     "metadata": {},
     "execution_count": 110
    }
   ],
   "source": [
    "np.maximum(x, y)"
   ]
  },
  {
   "cell_type": "code",
   "execution_count": 112,
   "metadata": {},
   "outputs": [
    {
     "output_type": "execute_result",
     "data": {
      "text/plain": "array([ 0.7634, -7.8283, -2.8127, -0.1633, -4.645 , -2.4129, -0.1813])"
     },
     "metadata": {},
     "execution_count": 112
    }
   ],
   "source": [
    "arr = np.random.randn(7) *5\n",
    "arr"
   ]
  },
  {
   "cell_type": "code",
   "execution_count": 113,
   "metadata": {},
   "outputs": [],
   "source": [
    "remainder, whole_part = np.modf(arr)"
   ]
  },
  {
   "cell_type": "code",
   "execution_count": 114,
   "metadata": {},
   "outputs": [
    {
     "output_type": "execute_result",
     "data": {
      "text/plain": "array([ 0.7634, -0.8283, -0.8127, -0.1633, -0.645 , -0.4129, -0.1813])"
     },
     "metadata": {},
     "execution_count": 114
    }
   ],
   "source": [
    "remainder"
   ]
  },
  {
   "cell_type": "code",
   "execution_count": 115,
   "metadata": {},
   "outputs": [
    {
     "output_type": "execute_result",
     "data": {
      "text/plain": "array([ 0., -7., -2., -0., -4., -2., -0.])"
     },
     "metadata": {},
     "execution_count": 115
    }
   ],
   "source": [
    "whole_part"
   ]
  },
  {
   "cell_type": "code",
   "execution_count": 116,
   "metadata": {},
   "outputs": [
    {
     "output_type": "execute_result",
     "data": {
      "text/plain": "array([ 0.7634, -7.8283, -2.8127, -0.1633, -4.645 , -2.4129, -0.1813])"
     },
     "metadata": {},
     "execution_count": 116
    }
   ],
   "source": [
    "arr"
   ]
  },
  {
   "cell_type": "code",
   "execution_count": 118,
   "metadata": {},
   "outputs": [
    {
     "output_type": "execute_result",
     "data": {
      "text/plain": "array([0.8737,    nan,    nan,    nan,    nan,    nan,    nan])"
     },
     "metadata": {},
     "execution_count": 118
    }
   ],
   "source": [
    "np.sqrt(arr)"
   ]
  },
  {
   "cell_type": "code",
   "execution_count": 119,
   "metadata": {},
   "outputs": [
    {
     "output_type": "execute_result",
     "data": {
      "text/plain": "array([0.8737,    nan,    nan,    nan,    nan,    nan,    nan])"
     },
     "metadata": {},
     "execution_count": 119
    }
   ],
   "source": [
    "np.sqrt(arr, arr)"
   ]
  },
  {
   "cell_type": "markdown",
   "metadata": {},
   "source": [
    "## 4.3 arrary-oriented programming with arrays"
   ]
  },
  {
   "cell_type": "code",
   "execution_count": 229,
   "metadata": {},
   "outputs": [],
   "source": [
    "# np.random.seed(42)\n",
    "points_x = np.sin(np.arange(-5, 5, 0.01))\n",
    "# np.random.seed(41)\n",
    "points_y = np.cos(np.arange(-5, 5, 0.01))"
   ]
  },
  {
   "cell_type": "code",
   "execution_count": 230,
   "metadata": {},
   "outputs": [],
   "source": [
    "xs, ys = np.meshgrid(points_x, points_y)"
   ]
  },
  {
   "cell_type": "code",
   "execution_count": 231,
   "metadata": {},
   "outputs": [
    {
     "output_type": "execute_result",
     "data": {
      "text/plain": "array([[ 0.9589,  0.9617,  0.9644, ..., -0.967 , -0.9644, -0.9617],\n       [ 0.9589,  0.9617,  0.9644, ..., -0.967 , -0.9644, -0.9617],\n       [ 0.9589,  0.9617,  0.9644, ..., -0.967 , -0.9644, -0.9617],\n       ...,\n       [ 0.9589,  0.9617,  0.9644, ..., -0.967 , -0.9644, -0.9617],\n       [ 0.9589,  0.9617,  0.9644, ..., -0.967 , -0.9644, -0.9617],\n       [ 0.9589,  0.9617,  0.9644, ..., -0.967 , -0.9644, -0.9617]])"
     },
     "metadata": {},
     "execution_count": 231
    }
   ],
   "source": [
    "xs"
   ]
  },
  {
   "cell_type": "code",
   "execution_count": 232,
   "metadata": {},
   "outputs": [
    {
     "output_type": "execute_result",
     "data": {
      "text/plain": "array([[0.2837, 0.2837, 0.2837, ..., 0.2837, 0.2837, 0.2837],\n       [0.2741, 0.2741, 0.2741, ..., 0.2741, 0.2741, 0.2741],\n       [0.2644, 0.2644, 0.2644, ..., 0.2644, 0.2644, 0.2644],\n       ...,\n       [0.2548, 0.2548, 0.2548, ..., 0.2548, 0.2548, 0.2548],\n       [0.2644, 0.2644, 0.2644, ..., 0.2644, 0.2644, 0.2644],\n       [0.2741, 0.2741, 0.2741, ..., 0.2741, 0.2741, 0.2741]])"
     },
     "metadata": {},
     "execution_count": 232
    }
   ],
   "source": [
    "ys"
   ]
  },
  {
   "cell_type": "code",
   "execution_count": 233,
   "metadata": {},
   "outputs": [
    {
     "output_type": "execute_result",
     "data": {
      "text/plain": "array([[1.    , 1.0027, 1.0053, ..., 1.0077, 1.0053, 1.0027],\n       [0.9973, 1.    , 1.0026, ..., 1.0051, 1.0026, 1.    ],\n       [0.9947, 0.9974, 1.    , ..., 1.0025, 1.    , 0.9974],\n       ...,\n       [0.9922, 0.9949, 0.9975, ..., 1.    , 0.9975, 0.9949],\n       [0.9947, 0.9974, 1.    , ..., 1.0025, 1.    , 0.9974],\n       [0.9973, 1.    , 1.0026, ..., 1.0051, 1.0026, 1.    ]])"
     },
     "metadata": {},
     "execution_count": 233
    }
   ],
   "source": [
    "z = np.sqrt(xs ** 2 + ys ** 2)\n",
    "z"
   ]
  },
  {
   "cell_type": "code",
   "execution_count": 234,
   "metadata": {},
   "outputs": [
    {
     "output_type": "display_data",
     "data": {
      "text/plain": "<Figure size 720x432 with 2 Axes>",
      "image/svg+xml": "<?xml version=\"1.0\" encoding=\"utf-8\" standalone=\"no\"?>\n<!DOCTYPE svg PUBLIC \"-//W3C//DTD SVG 1.1//EN\"\n  \"http://www.w3.org/Graphics/SVG/1.1/DTD/svg11.dtd\">\n<!-- Created with matplotlib (https://matplotlib.org/) -->\n<svg height=\"378.598125pt\" version=\"1.1\" viewBox=\"0 0 433.758625 378.598125\" width=\"433.758625pt\" xmlns=\"http://www.w3.org/2000/svg\" xmlns:xlink=\"http://www.w3.org/1999/xlink\">\n <defs>\n  <style type=\"text/css\">\n*{stroke-linecap:butt;stroke-linejoin:round;}\n  </style>\n </defs>\n <g id=\"figure_1\">\n  <g id=\"patch_1\">\n   <path d=\"M 0 378.598125 \nL 433.758625 378.598125 \nL 433.758625 0 \nL 0 0 \nz\n\" style=\"fill:none;\"/>\n  </g>\n  <g id=\"axes_1\">\n   <g id=\"patch_2\">\n    <path d=\"M 33.2875 354.72 \nL 359.4475 354.72 \nL 359.4475 28.56 \nL 33.2875 28.56 \nz\n\" style=\"fill:#ffffff;\"/>\n   </g>\n   <g clip-path=\"url(#p7c6f2bd514)\">\n    <image height=\"327\" id=\"image12ef7fcf7a\" transform=\"scale(1 -1)translate(0 -327)\" width=\"327\" x=\"33.2875\" xlink:href=\"data:image/png;base64,\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\" y=\"-27.72\"/>\n   </g>\n   <g id=\"matplotlib.axis_1\">\n    <g id=\"xtick_1\">\n     <g id=\"line2d_1\">\n      <defs>\n       <path d=\"M 0 0 \nL 0 3.5 \n\" id=\"m21160ca0a2\" style=\"stroke:#000000;stroke-width:0.8;\"/>\n      </defs>\n      <g>\n       <use style=\"stroke:#000000;stroke-width:0.8;\" x=\"33.45058\" xlink:href=\"#m21160ca0a2\" y=\"354.72\"/>\n      </g>\n     </g>\n     <g id=\"text_1\">\n      <!-- 0 -->\n      <defs>\n       <path d=\"M 31.78125 66.40625 \nQ 24.171875 66.40625 20.328125 58.90625 \nQ 16.5 51.421875 16.5 36.375 \nQ 16.5 21.390625 20.328125 13.890625 \nQ 24.171875 6.390625 31.78125 6.390625 \nQ 39.453125 6.390625 43.28125 13.890625 \nQ 47.125 21.390625 47.125 36.375 \nQ 47.125 51.421875 43.28125 58.90625 \nQ 39.453125 66.40625 31.78125 66.40625 \nz\nM 31.78125 74.21875 \nQ 44.046875 74.21875 50.515625 64.515625 \nQ 56.984375 54.828125 56.984375 36.375 \nQ 56.984375 17.96875 50.515625 8.265625 \nQ 44.046875 -1.421875 31.78125 -1.421875 \nQ 19.53125 -1.421875 13.0625 8.265625 \nQ 6.59375 17.96875 6.59375 36.375 \nQ 6.59375 54.828125 13.0625 64.515625 \nQ 19.53125 74.21875 31.78125 74.21875 \nz\n\" id=\"DejaVuSans-48\"/>\n      </defs>\n      <g transform=\"translate(30.26933 369.318438)scale(0.1 -0.1)\">\n       <use xlink:href=\"#DejaVuSans-48\"/>\n      </g>\n     </g>\n    </g>\n    <g id=\"xtick_2\">\n     <g id=\"line2d_2\">\n      <g>\n       <use style=\"stroke:#000000;stroke-width:0.8;\" x=\"98.68258\" xlink:href=\"#m21160ca0a2\" y=\"354.72\"/>\n      </g>\n     </g>\n     <g id=\"text_2\">\n      <!-- 200 -->\n      <defs>\n       <path d=\"M 19.1875 8.296875 \nL 53.609375 8.296875 \nL 53.609375 0 \nL 7.328125 0 \nL 7.328125 8.296875 \nQ 12.9375 14.109375 22.625 23.890625 \nQ 32.328125 33.6875 34.8125 36.53125 \nQ 39.546875 41.84375 41.421875 45.53125 \nQ 43.3125 49.21875 43.3125 52.78125 \nQ 43.3125 58.59375 39.234375 62.25 \nQ 35.15625 65.921875 28.609375 65.921875 \nQ 23.96875 65.921875 18.8125 64.3125 \nQ 13.671875 62.703125 7.8125 59.421875 \nL 7.8125 69.390625 \nQ 13.765625 71.78125 18.9375 73 \nQ 24.125 74.21875 28.421875 74.21875 \nQ 39.75 74.21875 46.484375 68.546875 \nQ 53.21875 62.890625 53.21875 53.421875 \nQ 53.21875 48.921875 51.53125 44.890625 \nQ 49.859375 40.875 45.40625 35.40625 \nQ 44.1875 33.984375 37.640625 27.21875 \nQ 31.109375 20.453125 19.1875 8.296875 \nz\n\" id=\"DejaVuSans-50\"/>\n      </defs>\n      <g transform=\"translate(89.13883 369.318438)scale(0.1 -0.1)\">\n       <use xlink:href=\"#DejaVuSans-50\"/>\n       <use x=\"63.623047\" xlink:href=\"#DejaVuSans-48\"/>\n       <use x=\"127.246094\" xlink:href=\"#DejaVuSans-48\"/>\n      </g>\n     </g>\n    </g>\n    <g id=\"xtick_3\">\n     <g id=\"line2d_3\">\n      <g>\n       <use style=\"stroke:#000000;stroke-width:0.8;\" x=\"163.91458\" xlink:href=\"#m21160ca0a2\" y=\"354.72\"/>\n      </g>\n     </g>\n     <g id=\"text_3\">\n      <!-- 400 -->\n      <defs>\n       <path d=\"M 37.796875 64.3125 \nL 12.890625 25.390625 \nL 37.796875 25.390625 \nz\nM 35.203125 72.90625 \nL 47.609375 72.90625 \nL 47.609375 25.390625 \nL 58.015625 25.390625 \nL 58.015625 17.1875 \nL 47.609375 17.1875 \nL 47.609375 0 \nL 37.796875 0 \nL 37.796875 17.1875 \nL 4.890625 17.1875 \nL 4.890625 26.703125 \nz\n\" id=\"DejaVuSans-52\"/>\n      </defs>\n      <g transform=\"translate(154.37083 369.318438)scale(0.1 -0.1)\">\n       <use xlink:href=\"#DejaVuSans-52\"/>\n       <use x=\"63.623047\" xlink:href=\"#DejaVuSans-48\"/>\n       <use x=\"127.246094\" xlink:href=\"#DejaVuSans-48\"/>\n      </g>\n     </g>\n    </g>\n    <g id=\"xtick_4\">\n     <g id=\"line2d_4\">\n      <g>\n       <use style=\"stroke:#000000;stroke-width:0.8;\" x=\"229.14658\" xlink:href=\"#m21160ca0a2\" y=\"354.72\"/>\n      </g>\n     </g>\n     <g id=\"text_4\">\n      <!-- 600 -->\n      <defs>\n       <path d=\"M 33.015625 40.375 \nQ 26.375 40.375 22.484375 35.828125 \nQ 18.609375 31.296875 18.609375 23.390625 \nQ 18.609375 15.53125 22.484375 10.953125 \nQ 26.375 6.390625 33.015625 6.390625 \nQ 39.65625 6.390625 43.53125 10.953125 \nQ 47.40625 15.53125 47.40625 23.390625 \nQ 47.40625 31.296875 43.53125 35.828125 \nQ 39.65625 40.375 33.015625 40.375 \nz\nM 52.59375 71.296875 \nL 52.59375 62.3125 \nQ 48.875 64.0625 45.09375 64.984375 \nQ 41.3125 65.921875 37.59375 65.921875 \nQ 27.828125 65.921875 22.671875 59.328125 \nQ 17.53125 52.734375 16.796875 39.40625 \nQ 19.671875 43.65625 24.015625 45.921875 \nQ 28.375 48.1875 33.59375 48.1875 \nQ 44.578125 48.1875 50.953125 41.515625 \nQ 57.328125 34.859375 57.328125 23.390625 \nQ 57.328125 12.15625 50.6875 5.359375 \nQ 44.046875 -1.421875 33.015625 -1.421875 \nQ 20.359375 -1.421875 13.671875 8.265625 \nQ 6.984375 17.96875 6.984375 36.375 \nQ 6.984375 53.65625 15.1875 63.9375 \nQ 23.390625 74.21875 37.203125 74.21875 \nQ 40.921875 74.21875 44.703125 73.484375 \nQ 48.484375 72.75 52.59375 71.296875 \nz\n\" id=\"DejaVuSans-54\"/>\n      </defs>\n      <g transform=\"translate(219.60283 369.318438)scale(0.1 -0.1)\">\n       <use xlink:href=\"#DejaVuSans-54\"/>\n       <use x=\"63.623047\" xlink:href=\"#DejaVuSans-48\"/>\n       <use x=\"127.246094\" xlink:href=\"#DejaVuSans-48\"/>\n      </g>\n     </g>\n    </g>\n    <g id=\"xtick_5\">\n     <g id=\"line2d_5\">\n      <g>\n       <use style=\"stroke:#000000;stroke-width:0.8;\" x=\"294.37858\" xlink:href=\"#m21160ca0a2\" y=\"354.72\"/>\n      </g>\n     </g>\n     <g id=\"text_5\">\n      <!-- 800 -->\n      <defs>\n       <path d=\"M 31.78125 34.625 \nQ 24.75 34.625 20.71875 30.859375 \nQ 16.703125 27.09375 16.703125 20.515625 \nQ 16.703125 13.921875 20.71875 10.15625 \nQ 24.75 6.390625 31.78125 6.390625 \nQ 38.8125 6.390625 42.859375 10.171875 \nQ 46.921875 13.96875 46.921875 20.515625 \nQ 46.921875 27.09375 42.890625 30.859375 \nQ 38.875 34.625 31.78125 34.625 \nz\nM 21.921875 38.8125 \nQ 15.578125 40.375 12.03125 44.71875 \nQ 8.5 49.078125 8.5 55.328125 \nQ 8.5 64.0625 14.71875 69.140625 \nQ 20.953125 74.21875 31.78125 74.21875 \nQ 42.671875 74.21875 48.875 69.140625 \nQ 55.078125 64.0625 55.078125 55.328125 \nQ 55.078125 49.078125 51.53125 44.71875 \nQ 48 40.375 41.703125 38.8125 \nQ 48.828125 37.15625 52.796875 32.3125 \nQ 56.78125 27.484375 56.78125 20.515625 \nQ 56.78125 9.90625 50.3125 4.234375 \nQ 43.84375 -1.421875 31.78125 -1.421875 \nQ 19.734375 -1.421875 13.25 4.234375 \nQ 6.78125 9.90625 6.78125 20.515625 \nQ 6.78125 27.484375 10.78125 32.3125 \nQ 14.796875 37.15625 21.921875 38.8125 \nz\nM 18.3125 54.390625 \nQ 18.3125 48.734375 21.84375 45.5625 \nQ 25.390625 42.390625 31.78125 42.390625 \nQ 38.140625 42.390625 41.71875 45.5625 \nQ 45.3125 48.734375 45.3125 54.390625 \nQ 45.3125 60.0625 41.71875 63.234375 \nQ 38.140625 66.40625 31.78125 66.40625 \nQ 25.390625 66.40625 21.84375 63.234375 \nQ 18.3125 60.0625 18.3125 54.390625 \nz\n\" id=\"DejaVuSans-56\"/>\n      </defs>\n      <g transform=\"translate(284.83483 369.318438)scale(0.1 -0.1)\">\n       <use xlink:href=\"#DejaVuSans-56\"/>\n       <use x=\"63.623047\" xlink:href=\"#DejaVuSans-48\"/>\n       <use x=\"127.246094\" xlink:href=\"#DejaVuSans-48\"/>\n      </g>\n     </g>\n    </g>\n   </g>\n   <g id=\"matplotlib.axis_2\">\n    <g id=\"ytick_1\">\n     <g id=\"line2d_6\">\n      <defs>\n       <path d=\"M 0 0 \nL -3.5 0 \n\" id=\"m033eebcd35\" style=\"stroke:#000000;stroke-width:0.8;\"/>\n      </defs>\n      <g>\n       <use style=\"stroke:#000000;stroke-width:0.8;\" x=\"33.2875\" xlink:href=\"#m033eebcd35\" y=\"28.72308\"/>\n      </g>\n     </g>\n     <g id=\"text_6\">\n      <!-- 0 -->\n      <g transform=\"translate(19.925 32.522299)scale(0.1 -0.1)\">\n       <use xlink:href=\"#DejaVuSans-48\"/>\n      </g>\n     </g>\n    </g>\n    <g id=\"ytick_2\">\n     <g id=\"line2d_7\">\n      <g>\n       <use style=\"stroke:#000000;stroke-width:0.8;\" x=\"33.2875\" xlink:href=\"#m033eebcd35\" y=\"93.95508\"/>\n      </g>\n     </g>\n     <g id=\"text_7\">\n      <!-- 200 -->\n      <g transform=\"translate(7.2 97.754299)scale(0.1 -0.1)\">\n       <use xlink:href=\"#DejaVuSans-50\"/>\n       <use x=\"63.623047\" xlink:href=\"#DejaVuSans-48\"/>\n       <use x=\"127.246094\" xlink:href=\"#DejaVuSans-48\"/>\n      </g>\n     </g>\n    </g>\n    <g id=\"ytick_3\">\n     <g id=\"line2d_8\">\n      <g>\n       <use style=\"stroke:#000000;stroke-width:0.8;\" x=\"33.2875\" xlink:href=\"#m033eebcd35\" y=\"159.18708\"/>\n      </g>\n     </g>\n     <g id=\"text_8\">\n      <!-- 400 -->\n      <g transform=\"translate(7.2 162.986299)scale(0.1 -0.1)\">\n       <use xlink:href=\"#DejaVuSans-52\"/>\n       <use x=\"63.623047\" xlink:href=\"#DejaVuSans-48\"/>\n       <use x=\"127.246094\" xlink:href=\"#DejaVuSans-48\"/>\n      </g>\n     </g>\n    </g>\n    <g id=\"ytick_4\">\n     <g id=\"line2d_9\">\n      <g>\n       <use style=\"stroke:#000000;stroke-width:0.8;\" x=\"33.2875\" xlink:href=\"#m033eebcd35\" y=\"224.41908\"/>\n      </g>\n     </g>\n     <g id=\"text_9\">\n      <!-- 600 -->\n      <g transform=\"translate(7.2 228.218299)scale(0.1 -0.1)\">\n       <use xlink:href=\"#DejaVuSans-54\"/>\n       <use x=\"63.623047\" xlink:href=\"#DejaVuSans-48\"/>\n       <use x=\"127.246094\" xlink:href=\"#DejaVuSans-48\"/>\n      </g>\n     </g>\n    </g>\n    <g id=\"ytick_5\">\n     <g id=\"line2d_10\">\n      <g>\n       <use style=\"stroke:#000000;stroke-width:0.8;\" x=\"33.2875\" xlink:href=\"#m033eebcd35\" y=\"289.65108\"/>\n      </g>\n     </g>\n     <g id=\"text_10\">\n      <!-- 800 -->\n      <g transform=\"translate(7.2 293.450299)scale(0.1 -0.1)\">\n       <use xlink:href=\"#DejaVuSans-56\"/>\n       <use x=\"63.623047\" xlink:href=\"#DejaVuSans-48\"/>\n       <use x=\"127.246094\" xlink:href=\"#DejaVuSans-48\"/>\n      </g>\n     </g>\n    </g>\n   </g>\n   <g id=\"patch_3\">\n    <path d=\"M 33.2875 354.72 \nL 33.2875 28.56 \n\" style=\"fill:none;stroke:#000000;stroke-linecap:square;stroke-linejoin:miter;stroke-width:0.8;\"/>\n   </g>\n   <g id=\"patch_4\">\n    <path d=\"M 359.4475 354.72 \nL 359.4475 28.56 \n\" style=\"fill:none;stroke:#000000;stroke-linecap:square;stroke-linejoin:miter;stroke-width:0.8;\"/>\n   </g>\n   <g id=\"patch_5\">\n    <path d=\"M 33.2875 354.72 \nL 359.4475 354.72 \n\" style=\"fill:none;stroke:#000000;stroke-linecap:square;stroke-linejoin:miter;stroke-width:0.8;\"/>\n   </g>\n   <g id=\"patch_6\">\n    <path d=\"M 33.2875 28.56 \nL 359.4475 28.56 \n\" style=\"fill:none;stroke:#000000;stroke-linecap:square;stroke-linejoin:miter;stroke-width:0.8;\"/>\n   </g>\n   <g id=\"text_11\">\n    <!-- image plot of $\\sqrt{x^2 + y^2}$ for a grid of values -->\n    <defs>\n     <path d=\"M 9.421875 54.6875 \nL 18.40625 54.6875 \nL 18.40625 0 \nL 9.421875 0 \nz\nM 9.421875 75.984375 \nL 18.40625 75.984375 \nL 18.40625 64.59375 \nL 9.421875 64.59375 \nz\n\" id=\"DejaVuSans-105\"/>\n     <path d=\"M 52 44.1875 \nQ 55.375 50.25 60.0625 53.125 \nQ 64.75 56 71.09375 56 \nQ 79.640625 56 84.28125 50.015625 \nQ 88.921875 44.046875 88.921875 33.015625 \nL 88.921875 0 \nL 79.890625 0 \nL 79.890625 32.71875 \nQ 79.890625 40.578125 77.09375 44.375 \nQ 74.3125 48.1875 68.609375 48.1875 \nQ 61.625 48.1875 57.5625 43.546875 \nQ 53.515625 38.921875 53.515625 30.90625 \nL 53.515625 0 \nL 44.484375 0 \nL 44.484375 32.71875 \nQ 44.484375 40.625 41.703125 44.40625 \nQ 38.921875 48.1875 33.109375 48.1875 \nQ 26.21875 48.1875 22.15625 43.53125 \nQ 18.109375 38.875 18.109375 30.90625 \nL 18.109375 0 \nL 9.078125 0 \nL 9.078125 54.6875 \nL 18.109375 54.6875 \nL 18.109375 46.1875 \nQ 21.1875 51.21875 25.484375 53.609375 \nQ 29.78125 56 35.6875 56 \nQ 41.65625 56 45.828125 52.96875 \nQ 50 49.953125 52 44.1875 \nz\n\" id=\"DejaVuSans-109\"/>\n     <path d=\"M 34.28125 27.484375 \nQ 23.390625 27.484375 19.1875 25 \nQ 14.984375 22.515625 14.984375 16.5 \nQ 14.984375 11.71875 18.140625 8.90625 \nQ 21.296875 6.109375 26.703125 6.109375 \nQ 34.1875 6.109375 38.703125 11.40625 \nQ 43.21875 16.703125 43.21875 25.484375 \nL 43.21875 27.484375 \nz\nM 52.203125 31.203125 \nL 52.203125 0 \nL 43.21875 0 \nL 43.21875 8.296875 \nQ 40.140625 3.328125 35.546875 0.953125 \nQ 30.953125 -1.421875 24.3125 -1.421875 \nQ 15.921875 -1.421875 10.953125 3.296875 \nQ 6 8.015625 6 15.921875 \nQ 6 25.140625 12.171875 29.828125 \nQ 18.359375 34.515625 30.609375 34.515625 \nL 43.21875 34.515625 \nL 43.21875 35.40625 \nQ 43.21875 41.609375 39.140625 45 \nQ 35.0625 48.390625 27.6875 48.390625 \nQ 23 48.390625 18.546875 47.265625 \nQ 14.109375 46.140625 10.015625 43.890625 \nL 10.015625 52.203125 \nQ 14.9375 54.109375 19.578125 55.046875 \nQ 24.21875 56 28.609375 56 \nQ 40.484375 56 46.34375 49.84375 \nQ 52.203125 43.703125 52.203125 31.203125 \nz\n\" id=\"DejaVuSans-97\"/>\n     <path d=\"M 45.40625 27.984375 \nQ 45.40625 37.75 41.375 43.109375 \nQ 37.359375 48.484375 30.078125 48.484375 \nQ 22.859375 48.484375 18.828125 43.109375 \nQ 14.796875 37.75 14.796875 27.984375 \nQ 14.796875 18.265625 18.828125 12.890625 \nQ 22.859375 7.515625 30.078125 7.515625 \nQ 37.359375 7.515625 41.375 12.890625 \nQ 45.40625 18.265625 45.40625 27.984375 \nz\nM 54.390625 6.78125 \nQ 54.390625 -7.171875 48.1875 -13.984375 \nQ 42 -20.796875 29.203125 -20.796875 \nQ 24.46875 -20.796875 20.265625 -20.09375 \nQ 16.0625 -19.390625 12.109375 -17.921875 \nL 12.109375 -9.1875 \nQ 16.0625 -11.328125 19.921875 -12.34375 \nQ 23.78125 -13.375 27.78125 -13.375 \nQ 36.625 -13.375 41.015625 -8.765625 \nQ 45.40625 -4.15625 45.40625 5.171875 \nL 45.40625 9.625 \nQ 42.625 4.78125 38.28125 2.390625 \nQ 33.9375 0 27.875 0 \nQ 17.828125 0 11.671875 7.65625 \nQ 5.515625 15.328125 5.515625 27.984375 \nQ 5.515625 40.671875 11.671875 48.328125 \nQ 17.828125 56 27.875 56 \nQ 33.9375 56 38.28125 53.609375 \nQ 42.625 51.21875 45.40625 46.390625 \nL 45.40625 54.6875 \nL 54.390625 54.6875 \nz\n\" id=\"DejaVuSans-103\"/>\n     <path d=\"M 56.203125 29.59375 \nL 56.203125 25.203125 \nL 14.890625 25.203125 \nQ 15.484375 15.921875 20.484375 11.0625 \nQ 25.484375 6.203125 34.421875 6.203125 \nQ 39.59375 6.203125 44.453125 7.46875 \nQ 49.3125 8.734375 54.109375 11.28125 \nL 54.109375 2.78125 \nQ 49.265625 0.734375 44.1875 -0.34375 \nQ 39.109375 -1.421875 33.890625 -1.421875 \nQ 20.796875 -1.421875 13.15625 6.1875 \nQ 5.515625 13.8125 5.515625 26.8125 \nQ 5.515625 40.234375 12.765625 48.109375 \nQ 20.015625 56 32.328125 56 \nQ 43.359375 56 49.78125 48.890625 \nQ 56.203125 41.796875 56.203125 29.59375 \nz\nM 47.21875 32.234375 \nQ 47.125 39.59375 43.09375 43.984375 \nQ 39.0625 48.390625 32.421875 48.390625 \nQ 24.90625 48.390625 20.390625 44.140625 \nQ 15.875 39.890625 15.1875 32.171875 \nz\n\" id=\"DejaVuSans-101\"/>\n     <path id=\"DejaVuSans-32\"/>\n     <path d=\"M 18.109375 8.203125 \nL 18.109375 -20.796875 \nL 9.078125 -20.796875 \nL 9.078125 54.6875 \nL 18.109375 54.6875 \nL 18.109375 46.390625 \nQ 20.953125 51.265625 25.265625 53.625 \nQ 29.59375 56 35.59375 56 \nQ 45.5625 56 51.78125 48.09375 \nQ 58.015625 40.1875 58.015625 27.296875 \nQ 58.015625 14.40625 51.78125 6.484375 \nQ 45.5625 -1.421875 35.59375 -1.421875 \nQ 29.59375 -1.421875 25.265625 0.953125 \nQ 20.953125 3.328125 18.109375 8.203125 \nz\nM 48.6875 27.296875 \nQ 48.6875 37.203125 44.609375 42.84375 \nQ 40.53125 48.484375 33.40625 48.484375 \nQ 26.265625 48.484375 22.1875 42.84375 \nQ 18.109375 37.203125 18.109375 27.296875 \nQ 18.109375 17.390625 22.1875 11.75 \nQ 26.265625 6.109375 33.40625 6.109375 \nQ 40.53125 6.109375 44.609375 11.75 \nQ 48.6875 17.390625 48.6875 27.296875 \nz\n\" id=\"DejaVuSans-112\"/>\n     <path d=\"M 9.421875 75.984375 \nL 18.40625 75.984375 \nL 18.40625 0 \nL 9.421875 0 \nz\n\" id=\"DejaVuSans-108\"/>\n     <path d=\"M 30.609375 48.390625 \nQ 23.390625 48.390625 19.1875 42.75 \nQ 14.984375 37.109375 14.984375 27.296875 \nQ 14.984375 17.484375 19.15625 11.84375 \nQ 23.34375 6.203125 30.609375 6.203125 \nQ 37.796875 6.203125 41.984375 11.859375 \nQ 46.1875 17.53125 46.1875 27.296875 \nQ 46.1875 37.015625 41.984375 42.703125 \nQ 37.796875 48.390625 30.609375 48.390625 \nz\nM 30.609375 56 \nQ 42.328125 56 49.015625 48.375 \nQ 55.71875 40.765625 55.71875 27.296875 \nQ 55.71875 13.875 49.015625 6.21875 \nQ 42.328125 -1.421875 30.609375 -1.421875 \nQ 18.84375 -1.421875 12.171875 6.21875 \nQ 5.515625 13.875 5.515625 27.296875 \nQ 5.515625 40.765625 12.171875 48.375 \nQ 18.84375 56 30.609375 56 \nz\n\" id=\"DejaVuSans-111\"/>\n     <path d=\"M 18.3125 70.21875 \nL 18.3125 54.6875 \nL 36.8125 54.6875 \nL 36.8125 47.703125 \nL 18.3125 47.703125 \nL 18.3125 18.015625 \nQ 18.3125 11.328125 20.140625 9.421875 \nQ 21.96875 7.515625 27.59375 7.515625 \nL 36.8125 7.515625 \nL 36.8125 0 \nL 27.59375 0 \nQ 17.1875 0 13.234375 3.875 \nQ 9.28125 7.765625 9.28125 18.015625 \nL 9.28125 47.703125 \nL 2.6875 47.703125 \nL 2.6875 54.6875 \nL 9.28125 54.6875 \nL 9.28125 70.21875 \nz\n\" id=\"DejaVuSans-116\"/>\n     <path d=\"M 37.109375 75.984375 \nL 37.109375 68.5 \nL 28.515625 68.5 \nQ 23.6875 68.5 21.796875 66.546875 \nQ 19.921875 64.59375 19.921875 59.515625 \nL 19.921875 54.6875 \nL 34.71875 54.6875 \nL 34.71875 47.703125 \nL 19.921875 47.703125 \nL 19.921875 0 \nL 10.890625 0 \nL 10.890625 47.703125 \nL 2.296875 47.703125 \nL 2.296875 54.6875 \nL 10.890625 54.6875 \nL 10.890625 58.5 \nQ 10.890625 67.625 15.140625 71.796875 \nQ 19.390625 75.984375 28.609375 75.984375 \nz\n\" id=\"DejaVuSans-102\"/>\n     <path d=\"M 108.90625 155.203125 \nL 52.703125 -29.5 \nL 48.5 -29.5 \nL 25.40625 45.59375 \nQ 24.296875 49.203125 22.890625 50.796875 \nQ 21.5 52.40625 19.203125 52.40625 \nQ 15.796875 52.40625 12.40625 49.703125 \nL 11.203125 51.703125 \nL 27.59375 64.296875 \nL 30.09375 64.296875 \nL 52.796875 -9.40625 \nL 53.203125 -9.40625 \nL 103.203125 155.203125 \nz\n\" id=\"STIXSizeOneSym-Regular-8730\"/>\n     <path d=\"M 60.015625 54.6875 \nL 34.90625 27.875 \nL 50.296875 0 \nL 39.984375 0 \nL 28.421875 21.6875 \nL 8.296875 0 \nL -2.59375 0 \nL 24.3125 28.8125 \nL 10.015625 54.6875 \nL 20.3125 54.6875 \nL 30.8125 34.90625 \nL 49.125 54.6875 \nz\n\" id=\"DejaVuSans-Oblique-120\"/>\n     <path d=\"M 46 62.703125 \nL 46 35.5 \nL 73.1875 35.5 \nL 73.1875 27.203125 \nL 46 27.203125 \nL 46 0 \nL 37.796875 0 \nL 37.796875 27.203125 \nL 10.59375 27.203125 \nL 10.59375 35.5 \nL 37.796875 35.5 \nL 37.796875 62.703125 \nz\n\" id=\"DejaVuSans-43\"/>\n     <path d=\"M 24.8125 -5.078125 \nQ 18.5625 -15.578125 14.625 -18.1875 \nQ 10.6875 -20.796875 4.59375 -20.796875 \nL -2.484375 -20.796875 \nL -0.984375 -13.28125 \nL 4.203125 -13.28125 \nQ 7.953125 -13.28125 10.59375 -11.234375 \nQ 13.234375 -9.1875 16.5 -3.21875 \nL 19.28125 2 \nL 7.171875 54.6875 \nL 16.703125 54.6875 \nL 25.78125 12.796875 \nL 50.875 54.6875 \nL 60.296875 54.6875 \nz\n\" id=\"DejaVuSans-Oblique-121\"/>\n     <path d=\"M 41.109375 46.296875 \nQ 39.59375 47.171875 37.8125 47.578125 \nQ 36.03125 48 33.890625 48 \nQ 26.265625 48 22.1875 43.046875 \nQ 18.109375 38.09375 18.109375 28.8125 \nL 18.109375 0 \nL 9.078125 0 \nL 9.078125 54.6875 \nL 18.109375 54.6875 \nL 18.109375 46.1875 \nQ 20.953125 51.171875 25.484375 53.578125 \nQ 30.03125 56 36.53125 56 \nQ 37.453125 56 38.578125 55.875 \nQ 39.703125 55.765625 41.0625 55.515625 \nz\n\" id=\"DejaVuSans-114\"/>\n     <path d=\"M 45.40625 46.390625 \nL 45.40625 75.984375 \nL 54.390625 75.984375 \nL 54.390625 0 \nL 45.40625 0 \nL 45.40625 8.203125 \nQ 42.578125 3.328125 38.25 0.953125 \nQ 33.9375 -1.421875 27.875 -1.421875 \nQ 17.96875 -1.421875 11.734375 6.484375 \nQ 5.515625 14.40625 5.515625 27.296875 \nQ 5.515625 40.1875 11.734375 48.09375 \nQ 17.96875 56 27.875 56 \nQ 33.9375 56 38.25 53.625 \nQ 42.578125 51.265625 45.40625 46.390625 \nz\nM 14.796875 27.296875 \nQ 14.796875 17.390625 18.875 11.75 \nQ 22.953125 6.109375 30.078125 6.109375 \nQ 37.203125 6.109375 41.296875 11.75 \nQ 45.40625 17.390625 45.40625 27.296875 \nQ 45.40625 37.203125 41.296875 42.84375 \nQ 37.203125 48.484375 30.078125 48.484375 \nQ 22.953125 48.484375 18.875 42.84375 \nQ 14.796875 37.203125 14.796875 27.296875 \nz\n\" id=\"DejaVuSans-100\"/>\n     <path d=\"M 2.984375 54.6875 \nL 12.5 54.6875 \nL 29.59375 8.796875 \nL 46.6875 54.6875 \nL 56.203125 54.6875 \nL 35.6875 0 \nL 23.484375 0 \nz\n\" id=\"DejaVuSans-118\"/>\n     <path d=\"M 8.5 21.578125 \nL 8.5 54.6875 \nL 17.484375 54.6875 \nL 17.484375 21.921875 \nQ 17.484375 14.15625 20.5 10.265625 \nQ 23.53125 6.390625 29.59375 6.390625 \nQ 36.859375 6.390625 41.078125 11.03125 \nQ 45.3125 15.671875 45.3125 23.6875 \nL 45.3125 54.6875 \nL 54.296875 54.6875 \nL 54.296875 0 \nL 45.3125 0 \nL 45.3125 8.40625 \nQ 42.046875 3.421875 37.71875 1 \nQ 33.40625 -1.421875 27.6875 -1.421875 \nQ 18.265625 -1.421875 13.375 4.4375 \nQ 8.5 10.296875 8.5 21.578125 \nz\nM 31.109375 56 \nz\n\" id=\"DejaVuSans-117\"/>\n     <path d=\"M 44.28125 53.078125 \nL 44.28125 44.578125 \nQ 40.484375 46.53125 36.375 47.5 \nQ 32.28125 48.484375 27.875 48.484375 \nQ 21.1875 48.484375 17.84375 46.4375 \nQ 14.5 44.390625 14.5 40.28125 \nQ 14.5 37.15625 16.890625 35.375 \nQ 19.28125 33.59375 26.515625 31.984375 \nL 29.59375 31.296875 \nQ 39.15625 29.25 43.1875 25.515625 \nQ 47.21875 21.78125 47.21875 15.09375 \nQ 47.21875 7.46875 41.1875 3.015625 \nQ 35.15625 -1.421875 24.609375 -1.421875 \nQ 20.21875 -1.421875 15.453125 -0.5625 \nQ 10.6875 0.296875 5.421875 2 \nL 5.421875 11.28125 \nQ 10.40625 8.6875 15.234375 7.390625 \nQ 20.0625 6.109375 24.8125 6.109375 \nQ 31.15625 6.109375 34.5625 8.28125 \nQ 37.984375 10.453125 37.984375 14.40625 \nQ 37.984375 18.0625 35.515625 20.015625 \nQ 33.0625 21.96875 24.703125 23.78125 \nL 21.578125 24.515625 \nQ 13.234375 26.265625 9.515625 29.90625 \nQ 5.8125 33.546875 5.8125 39.890625 \nQ 5.8125 47.609375 11.28125 51.796875 \nQ 16.75 56 26.8125 56 \nQ 31.78125 56 36.171875 55.265625 \nQ 40.578125 54.546875 44.28125 53.078125 \nz\n\" id=\"DejaVuSans-115\"/>\n    </defs>\n    <g transform=\"translate(69.0475 22.56)scale(0.12 -0.12)\">\n     <use transform=\"translate(0 0.53125)\" xlink:href=\"#DejaVuSans-105\"/>\n     <use transform=\"translate(27.783203 0.53125)\" xlink:href=\"#DejaVuSans-109\"/>\n     <use transform=\"translate(125.195312 0.53125)\" xlink:href=\"#DejaVuSans-97\"/>\n     <use transform=\"translate(186.474609 0.53125)\" xlink:href=\"#DejaVuSans-103\"/>\n     <use transform=\"translate(249.951172 0.53125)\" xlink:href=\"#DejaVuSans-101\"/>\n     <use transform=\"translate(311.474609 0.53125)\" xlink:href=\"#DejaVuSans-32\"/>\n     <use transform=\"translate(343.261719 0.53125)\" xlink:href=\"#DejaVuSans-112\"/>\n     <use transform=\"translate(406.738281 0.53125)\" xlink:href=\"#DejaVuSans-108\"/>\n     <use transform=\"translate(434.521484 0.53125)\" xlink:href=\"#DejaVuSans-111\"/>\n     <use transform=\"translate(495.703125 0.53125)\" xlink:href=\"#DejaVuSans-116\"/>\n     <use transform=\"translate(534.912109 0.53125)\" xlink:href=\"#DejaVuSans-32\"/>\n     <use transform=\"translate(566.699219 0.53125)\" xlink:href=\"#DejaVuSans-111\"/>\n     <use transform=\"translate(627.880859 0.53125)\" xlink:href=\"#DejaVuSans-102\"/>\n     <use transform=\"translate(663.085938 0.53125)\" xlink:href=\"#DejaVuSans-32\"/>\n     <use transform=\"translate(694.873047 2.453125)scale(0.770324)\" xlink:href=\"#STIXSizeOneSym-Regular-8730\"/>\n     <use transform=\"translate(788.795074 0.515625)\" xlink:href=\"#DejaVuSans-Oblique-120\"/>\n     <use transform=\"translate(852.440908 38.796875)scale(0.7)\" xlink:href=\"#DejaVuSans-50\"/>\n     <use transform=\"translate(919.193837 0.515625)\" xlink:href=\"#DejaVuSans-43\"/>\n     <use transform=\"translate(1022.465322 0.515625)\" xlink:href=\"#DejaVuSans-Oblique-121\"/>\n     <use transform=\"translate(1086.111155 38.796875)scale(0.7)\" xlink:href=\"#DejaVuSans-50\"/>\n     <use transform=\"translate(1145.881663 0.53125)\" xlink:href=\"#DejaVuSans-32\"/>\n     <use transform=\"translate(1177.668772 0.53125)\" xlink:href=\"#DejaVuSans-102\"/>\n     <use transform=\"translate(1212.873851 0.53125)\" xlink:href=\"#DejaVuSans-111\"/>\n     <use transform=\"translate(1274.055491 0.53125)\" xlink:href=\"#DejaVuSans-114\"/>\n     <use transform=\"translate(1315.168772 0.53125)\" xlink:href=\"#DejaVuSans-32\"/>\n     <use transform=\"translate(1346.955882 0.53125)\" xlink:href=\"#DejaVuSans-97\"/>\n     <use transform=\"translate(1408.235179 0.53125)\" xlink:href=\"#DejaVuSans-32\"/>\n     <use transform=\"translate(1440.022288 0.53125)\" xlink:href=\"#DejaVuSans-103\"/>\n     <use transform=\"translate(1503.498851 0.53125)\" xlink:href=\"#DejaVuSans-114\"/>\n     <use transform=\"translate(1544.612132 0.53125)\" xlink:href=\"#DejaVuSans-105\"/>\n     <use transform=\"translate(1572.395335 0.53125)\" xlink:href=\"#DejaVuSans-100\"/>\n     <use transform=\"translate(1635.871897 0.53125)\" xlink:href=\"#DejaVuSans-32\"/>\n     <use transform=\"translate(1667.659007 0.53125)\" xlink:href=\"#DejaVuSans-111\"/>\n     <use transform=\"translate(1728.840647 0.53125)\" xlink:href=\"#DejaVuSans-102\"/>\n     <use transform=\"translate(1764.045726 0.53125)\" xlink:href=\"#DejaVuSans-32\"/>\n     <use transform=\"translate(1795.832835 0.53125)\" xlink:href=\"#DejaVuSans-118\"/>\n     <use transform=\"translate(1855.012522 0.53125)\" xlink:href=\"#DejaVuSans-97\"/>\n     <use transform=\"translate(1916.291819 0.53125)\" xlink:href=\"#DejaVuSans-108\"/>\n     <use transform=\"translate(1944.075022 0.53125)\" xlink:href=\"#DejaVuSans-117\"/>\n     <use transform=\"translate(2007.453929 0.53125)\" xlink:href=\"#DejaVuSans-101\"/>\n     <use transform=\"translate(2068.977366 0.53125)\" xlink:href=\"#DejaVuSans-115\"/>\n     <path d=\"M 776.295074 115.5 \nL 776.295074 121.75 \nL 1145.881663 121.75 \nL 1145.881663 115.5 \nL 776.295074 115.5 \nz\n\"/>\n    </g>\n   </g>\n  </g>\n  <g id=\"axes_2\">\n   <g id=\"patch_7\">\n    <path clip-path=\"url(#pc56db3d332)\" d=\"M 387.3475 354.72 \nL 387.3475 353.445938 \nL 387.3475 29.834063 \nL 387.3475 28.56 \nL 403.6555 28.56 \nL 403.6555 29.834063 \nL 403.6555 353.445938 \nL 403.6555 354.72 \nz\n\" style=\"fill:#ffffff;stroke:#ffffff;stroke-linejoin:miter;stroke-width:0.01;\"/>\n   </g>\n   <image height=\"326\" id=\"imaged85012b7c9\" transform=\"scale(1 -1)translate(0 -326)\" width=\"17\" x=\"387\" xlink:href=\"data:image/png;base64,\niVBORw0KGgoAAAANSUhEUgAAABEAAAFGCAYAAACMkXQBAAAABHNCSVQICAgIfAhkiAAAAN5JREFUeJzt0NEJAlEAA8F3Yv8tawH5PBcOmRSwkLnOOZ9zc+/ruu42/i3yul04T7rD5MkRsFEE7I5JFAG7YxJFwEYRsDsmUQRsFAG7YxJFwEYRsDsmUQRsFAG7YxJFwEYRsDsmUQRsFAG7YxJFwO6YRBGwUQTsjkkUARtFwO6YRBGwUQTsjkkUARtFwO6YRBGwUQTsjkkUAbtjEkXARhGwOyZRBGwUAbtjEkXARhGwOyZRBGwUAbtjEkXARhGwOyZRBGwUAbtjEkXA7phEEbBRBOyOSRQBG0XA7n5i8gVamgiG+72fOQAAAABJRU5ErkJggg==\" y=\"-28\"/>\n   <g id=\"matplotlib.axis_3\"/>\n   <g id=\"matplotlib.axis_4\">\n    <g id=\"ytick_6\">\n     <g id=\"line2d_11\">\n      <defs>\n       <path d=\"M 0 0 \nL 3.5 0 \n\" id=\"mb1d1ba8272\" style=\"stroke:#000000;stroke-width:0.8;\"/>\n      </defs>\n      <g>\n       <use style=\"stroke:#000000;stroke-width:0.8;\" x=\"403.6555\" xlink:href=\"#mb1d1ba8272\" y=\"308.751776\"/>\n      </g>\n     </g>\n     <g id=\"text_12\">\n      <!-- 0.2 -->\n      <defs>\n       <path d=\"M 10.6875 12.40625 \nL 21 12.40625 \nL 21 0 \nL 10.6875 0 \nz\n\" id=\"DejaVuSans-46\"/>\n      </defs>\n      <g transform=\"translate(410.6555 312.550995)scale(0.1 -0.1)\">\n       <use xlink:href=\"#DejaVuSans-48\"/>\n       <use x=\"63.623047\" xlink:href=\"#DejaVuSans-46\"/>\n       <use x=\"95.410156\" xlink:href=\"#DejaVuSans-50\"/>\n      </g>\n     </g>\n    </g>\n    <g id=\"ytick_7\">\n     <g id=\"line2d_12\">\n      <g>\n       <use style=\"stroke:#000000;stroke-width:0.8;\" x=\"403.6555\" xlink:href=\"#mb1d1ba8272\" y=\"262.599791\"/>\n      </g>\n     </g>\n     <g id=\"text_13\">\n      <!-- 0.4 -->\n      <g transform=\"translate(410.6555 266.39901)scale(0.1 -0.1)\">\n       <use xlink:href=\"#DejaVuSans-48\"/>\n       <use x=\"63.623047\" xlink:href=\"#DejaVuSans-46\"/>\n       <use x=\"95.410156\" xlink:href=\"#DejaVuSans-52\"/>\n      </g>\n     </g>\n    </g>\n    <g id=\"ytick_8\">\n     <g id=\"line2d_13\">\n      <g>\n       <use style=\"stroke:#000000;stroke-width:0.8;\" x=\"403.6555\" xlink:href=\"#mb1d1ba8272\" y=\"216.447807\"/>\n      </g>\n     </g>\n     <g id=\"text_14\">\n      <!-- 0.6 -->\n      <g transform=\"translate(410.6555 220.247026)scale(0.1 -0.1)\">\n       <use xlink:href=\"#DejaVuSans-48\"/>\n       <use x=\"63.623047\" xlink:href=\"#DejaVuSans-46\"/>\n       <use x=\"95.410156\" xlink:href=\"#DejaVuSans-54\"/>\n      </g>\n     </g>\n    </g>\n    <g id=\"ytick_9\">\n     <g id=\"line2d_14\">\n      <g>\n       <use style=\"stroke:#000000;stroke-width:0.8;\" x=\"403.6555\" xlink:href=\"#mb1d1ba8272\" y=\"170.295822\"/>\n      </g>\n     </g>\n     <g id=\"text_15\">\n      <!-- 0.8 -->\n      <g transform=\"translate(410.6555 174.095041)scale(0.1 -0.1)\">\n       <use xlink:href=\"#DejaVuSans-48\"/>\n       <use x=\"63.623047\" xlink:href=\"#DejaVuSans-46\"/>\n       <use x=\"95.410156\" xlink:href=\"#DejaVuSans-56\"/>\n      </g>\n     </g>\n    </g>\n    <g id=\"ytick_10\">\n     <g id=\"line2d_15\">\n      <g>\n       <use style=\"stroke:#000000;stroke-width:0.8;\" x=\"403.6555\" xlink:href=\"#mb1d1ba8272\" y=\"124.143838\"/>\n      </g>\n     </g>\n     <g id=\"text_16\">\n      <!-- 1.0 -->\n      <defs>\n       <path d=\"M 12.40625 8.296875 \nL 28.515625 8.296875 \nL 28.515625 63.921875 \nL 10.984375 60.40625 \nL 10.984375 69.390625 \nL 28.421875 72.90625 \nL 38.28125 72.90625 \nL 38.28125 8.296875 \nL 54.390625 8.296875 \nL 54.390625 0 \nL 12.40625 0 \nz\n\" id=\"DejaVuSans-49\"/>\n      </defs>\n      <g transform=\"translate(410.6555 127.943057)scale(0.1 -0.1)\">\n       <use xlink:href=\"#DejaVuSans-49\"/>\n       <use x=\"63.623047\" xlink:href=\"#DejaVuSans-46\"/>\n       <use x=\"95.410156\" xlink:href=\"#DejaVuSans-48\"/>\n      </g>\n     </g>\n    </g>\n    <g id=\"ytick_11\">\n     <g id=\"line2d_16\">\n      <g>\n       <use style=\"stroke:#000000;stroke-width:0.8;\" x=\"403.6555\" xlink:href=\"#mb1d1ba8272\" y=\"77.991853\"/>\n      </g>\n     </g>\n     <g id=\"text_17\">\n      <!-- 1.2 -->\n      <g transform=\"translate(410.6555 81.791072)scale(0.1 -0.1)\">\n       <use xlink:href=\"#DejaVuSans-49\"/>\n       <use x=\"63.623047\" xlink:href=\"#DejaVuSans-46\"/>\n       <use x=\"95.410156\" xlink:href=\"#DejaVuSans-50\"/>\n      </g>\n     </g>\n    </g>\n    <g id=\"ytick_12\">\n     <g id=\"line2d_17\">\n      <g>\n       <use style=\"stroke:#000000;stroke-width:0.8;\" x=\"403.6555\" xlink:href=\"#mb1d1ba8272\" y=\"31.839869\"/>\n      </g>\n     </g>\n     <g id=\"text_18\">\n      <!-- 1.4 -->\n      <g transform=\"translate(410.6555 35.639088)scale(0.1 -0.1)\">\n       <use xlink:href=\"#DejaVuSans-49\"/>\n       <use x=\"63.623047\" xlink:href=\"#DejaVuSans-46\"/>\n       <use x=\"95.410156\" xlink:href=\"#DejaVuSans-52\"/>\n      </g>\n     </g>\n    </g>\n   </g>\n   <g id=\"patch_8\">\n    <path d=\"M 387.3475 354.72 \nL 387.3475 353.445938 \nL 387.3475 29.834063 \nL 387.3475 28.56 \nL 403.6555 28.56 \nL 403.6555 29.834063 \nL 403.6555 353.445938 \nL 403.6555 354.72 \nz\n\" style=\"fill:none;stroke:#000000;stroke-linejoin:miter;stroke-width:0.8;\"/>\n   </g>\n  </g>\n </g>\n <defs>\n  <clipPath id=\"p7c6f2bd514\">\n   <rect height=\"326.16\" width=\"326.16\" x=\"33.2875\" y=\"28.56\"/>\n  </clipPath>\n  <clipPath id=\"pc56db3d332\">\n   <rect height=\"326.16\" width=\"16.308\" x=\"387.3475\" y=\"28.56\"/>\n  </clipPath>\n </defs>\n</svg>\n",
      "image/png": "[encoded data removed]"
     },
     "metadata": {
      "needs_background": "light"
     }
    }
   ],
   "source": [
    "import matplotlib.pyplot as plt\n",
    "\n",
    "plt.imshow(z, cmap=plt.cm.gray)\n",
    "plt.colorbar()\n",
    "plt.title(\"image plot of $\\sqrt{x^2 + y^2}$ for a grid of values\")\n",
    "plt.show()"
   ]
  },
  {
   "cell_type": "markdown",
   "metadata": {},
   "source": [
    "## expressing conditional logic as array operations"
   ]
  },
  {
   "cell_type": "code",
   "execution_count": 235,
   "metadata": {},
   "outputs": [],
   "source": [
    "xarr = np.array([1.1, 1.2, 1.3, 1.4, 1.5])\n",
    "yarr = np.array([2.1, 2.2, 2.3, 2.4, 2.5])"
   ]
  },
  {
   "cell_type": "code",
   "execution_count": 237,
   "metadata": {},
   "outputs": [],
   "source": [
    "cond = np.array([True, False, True, True, False])"
   ]
  },
  {
   "cell_type": "code",
   "execution_count": 241,
   "metadata": {},
   "outputs": [
    {
     "output_type": "stream",
     "name": "stdout",
     "text": "CPU times: user 24 µs, sys: 1 µs, total: 25 µs\nWall time: 27.9 µs\n"
    },
    {
     "output_type": "execute_result",
     "data": {
      "text/plain": "[1.1, 2.2, 1.3, 1.4, 2.5]"
     },
     "metadata": {},
     "execution_count": 241
    }
   ],
   "source": [
    "%%time\n",
    "results = [(x if c else y)\n",
    "           for x, y, c in zip(xarr, yarr, cond)]\n",
    "results"
   ]
  },
  {
   "cell_type": "code",
   "execution_count": 242,
   "metadata": {},
   "outputs": [
    {
     "output_type": "stream",
     "name": "stdout",
     "text": "CPU times: user 39 µs, sys: 1 µs, total: 40 µs\nWall time: 44.1 µs\n"
    },
    {
     "output_type": "execute_result",
     "data": {
      "text/plain": "array([1.1, 2.2, 1.3, 1.4, 2.5])"
     },
     "metadata": {},
     "execution_count": 242
    }
   ],
   "source": [
    "%%time\n",
    "results = np.where(cond, xarr, yarr)\n",
    "results"
   ]
  },
  {
   "cell_type": "code",
   "execution_count": 243,
   "metadata": {},
   "outputs": [
    {
     "output_type": "execute_result",
     "data": {
      "text/plain": "array([[-0.2707,  0.1048,  0.2505, -0.9252],\n       [ 0.5671, -1.0402, -0.1537,  0.7899],\n       [-1.2262, -0.948 , -0.5697, -0.9772],\n       [-0.7706, -0.0337, -1.0329,  1.1424]])"
     },
     "metadata": {},
     "execution_count": 243
    }
   ],
   "source": [
    "arr = np.random.randn(4, 4)\n",
    "arr"
   ]
  },
  {
   "cell_type": "code",
   "execution_count": 244,
   "metadata": {},
   "outputs": [
    {
     "output_type": "execute_result",
     "data": {
      "text/plain": "array([[False,  True,  True, False],\n       [ True, False, False,  True],\n       [False, False, False, False],\n       [False, False, False,  True]])"
     },
     "metadata": {},
     "execution_count": 244
    }
   ],
   "source": [
    "arr > 0"
   ]
  },
  {
   "cell_type": "code",
   "execution_count": 245,
   "metadata": {},
   "outputs": [
    {
     "output_type": "execute_result",
     "data": {
      "text/plain": "array([[-2,  2,  2, -2],\n       [ 2, -2, -2,  2],\n       [-2, -2, -2, -2],\n       [-2, -2, -2,  2]])"
     },
     "metadata": {},
     "execution_count": 245
    }
   ],
   "source": [
    "np.where(arr>0, 2, -2)"
   ]
  },
  {
   "cell_type": "code",
   "execution_count": 247,
   "metadata": {},
   "outputs": [
    {
     "output_type": "execute_result",
     "data": {
      "text/plain": "array([[ -0.2707, 999.    , 999.    ,  -0.9252],\n       [999.    ,  -1.0402,  -0.1537, 999.    ],\n       [ -1.2262,  -0.948 ,  -0.5697,  -0.9772],\n       [ -0.7706,  -0.0337,  -1.0329, 999.    ]])"
     },
     "metadata": {},
     "execution_count": 247
    }
   ],
   "source": [
    "np.where(arr > 0, 999, arr)"
   ]
  },
  {
   "cell_type": "markdown",
   "metadata": {},
   "source": [
    "## mathematical and statistical methods"
   ]
  },
  {
   "cell_type": "code",
   "execution_count": null,
   "metadata": {},
   "outputs": [],
   "source": []
  }
 ]
}