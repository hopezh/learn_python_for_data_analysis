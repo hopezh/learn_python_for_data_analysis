{
 "nbformat": 4,
 "nbformat_minor": 2,
 "metadata": {
  "language_info": {
   "name": "python",
   "codemirror_mode": {
    "name": "ipython",
    "version": 3
   },
   "version": "3.7.5-final"
  },
  "orig_nbformat": 2,
  "file_extension": ".py",
  "mimetype": "text/x-python",
  "name": "python",
  "npconvert_exporter": "python",
  "pygments_lexer": "ipython3",
  "version": 3,
  "kernelspec": {
   "name": "python37564bit42731fe29a1c4072b88558cb14c14b00",
   "display_name": "Python 3.7.5 64-bit"
  }
 },
 "cells": [
  {
   "cell_type": "markdown",
   "metadata": {},
   "source": [
    "# Pandas Dataframe slicing methods"
   ]
  },
  {
   "cell_type": "code",
   "execution_count": 1,
   "metadata": {},
   "outputs": [],
   "source": [
    "import numpy as np\n",
    "import pandas as pd"
   ]
  },
  {
   "cell_type": "code",
   "execution_count": 2,
   "metadata": {},
   "outputs": [
    {
     "output_type": "execute_result",
     "data": {
      "text/plain": "    a   b   c   d   e\nu  25  24  23  22  21\nv  20  19  18  17  16\nx  15  14  13  12  11\ny  10   9   8   7   6\nz   5   4   3   2   1",
      "text/html": "<div>\n<style scoped>\n    .dataframe tbody tr th:only-of-type {\n        vertical-align: middle;\n    }\n\n    .dataframe tbody tr th {\n        vertical-align: top;\n    }\n\n    .dataframe thead th {\n        text-align: right;\n    }\n</style>\n<table border=\"1\" class=\"dataframe\">\n  <thead>\n    <tr style=\"text-align: right;\">\n      <th></th>\n      <th>a</th>\n      <th>b</th>\n      <th>c</th>\n      <th>d</th>\n      <th>e</th>\n    </tr>\n  </thead>\n  <tbody>\n    <tr>\n      <th>u</th>\n      <td>25</td>\n      <td>24</td>\n      <td>23</td>\n      <td>22</td>\n      <td>21</td>\n    </tr>\n    <tr>\n      <th>v</th>\n      <td>20</td>\n      <td>19</td>\n      <td>18</td>\n      <td>17</td>\n      <td>16</td>\n    </tr>\n    <tr>\n      <th>x</th>\n      <td>15</td>\n      <td>14</td>\n      <td>13</td>\n      <td>12</td>\n      <td>11</td>\n    </tr>\n    <tr>\n      <th>y</th>\n      <td>10</td>\n      <td>9</td>\n      <td>8</td>\n      <td>7</td>\n      <td>6</td>\n    </tr>\n    <tr>\n      <th>z</th>\n      <td>5</td>\n      <td>4</td>\n      <td>3</td>\n      <td>2</td>\n      <td>1</td>\n    </tr>\n  </tbody>\n</table>\n</div>"
     },
     "metadata": {},
     "execution_count": 2
    }
   ],
   "source": [
    "# create a dummy pd DF\n",
    "df = pd.DataFrame(\n",
    "    {\n",
    "        'a': [25, 20, 15, 10, 5],\n",
    "        'b': [24, 19, 14, 9, 4],\n",
    "        'c': [23, 18, 13, 8, 3],\n",
    "        'd': [22, 17, 12, 7, 2],\n",
    "        'e': [21, 16, 11, 6, 1]\n",
    "    }, \n",
    "    index = ['u', 'v', 'x', 'y', 'z']\n",
    ")\n",
    "df"
   ]
  },
  {
   "cell_type": "code",
   "execution_count": 39,
   "metadata": {},
   "outputs": [
    {
     "output_type": "execute_result",
     "data": {
      "text/plain": "    b\nu  24\nv  19\nx  14\ny   9\nz   4",
      "text/html": "<div>\n<style scoped>\n    .dataframe tbody tr th:only-of-type {\n        vertical-align: middle;\n    }\n\n    .dataframe tbody tr th {\n        vertical-align: top;\n    }\n\n    .dataframe thead th {\n        text-align: right;\n    }\n</style>\n<table border=\"1\" class=\"dataframe\">\n  <thead>\n    <tr style=\"text-align: right;\">\n      <th></th>\n      <th>b</th>\n    </tr>\n  </thead>\n  <tbody>\n    <tr>\n      <th>u</th>\n      <td>24</td>\n    </tr>\n    <tr>\n      <th>v</th>\n      <td>19</td>\n    </tr>\n    <tr>\n      <th>x</th>\n      <td>14</td>\n    </tr>\n    <tr>\n      <th>y</th>\n      <td>9</td>\n    </tr>\n    <tr>\n      <th>z</th>\n      <td>4</td>\n    </tr>\n  </tbody>\n</table>\n</div>"
     },
     "metadata": {},
     "execution_count": 39
    }
   ],
   "source": [
    "# select one column\n",
    "\n",
    "### return a pd Series\n",
    "# df['b']         # via column name\n",
    "# df.b            # via the dot notation, i.e. treat column name as attribute\n",
    "# df.loc[:, 'b']  # loc column name\n",
    "# df.iloc[:, 1]   # iloc column index num\n",
    "\n",
    "### return a pd DataFrame\n",
    "# df.loc[: , df.columns.isin(['b'])]                  # via boolean value\n",
    "df.loc[: , ~df.columns.isin(['a', 'c', 'd', 'e'])]  # via the negative of boolean value"
   ]
  },
  {
   "cell_type": "code",
   "execution_count": 31,
   "metadata": {},
   "outputs": [
    {
     "output_type": "execute_result",
     "data": {
      "text/plain": "    a   b   c   d   e\nu  25  24  23  22  21\nx  15  14  13  12  11\ny  10   9   8   7   6\nz   5   4   3   2   1",
      "text/html": "<div>\n<style scoped>\n    .dataframe tbody tr th:only-of-type {\n        vertical-align: middle;\n    }\n\n    .dataframe tbody tr th {\n        vertical-align: top;\n    }\n\n    .dataframe thead th {\n        text-align: right;\n    }\n</style>\n<table border=\"1\" class=\"dataframe\">\n  <thead>\n    <tr style=\"text-align: right;\">\n      <th></th>\n      <th>a</th>\n      <th>b</th>\n      <th>c</th>\n      <th>d</th>\n      <th>e</th>\n    </tr>\n  </thead>\n  <tbody>\n    <tr>\n      <th>u</th>\n      <td>25</td>\n      <td>24</td>\n      <td>23</td>\n      <td>22</td>\n      <td>21</td>\n    </tr>\n    <tr>\n      <th>x</th>\n      <td>15</td>\n      <td>14</td>\n      <td>13</td>\n      <td>12</td>\n      <td>11</td>\n    </tr>\n    <tr>\n      <th>y</th>\n      <td>10</td>\n      <td>9</td>\n      <td>8</td>\n      <td>7</td>\n      <td>6</td>\n    </tr>\n    <tr>\n      <th>z</th>\n      <td>5</td>\n      <td>4</td>\n      <td>3</td>\n      <td>2</td>\n      <td>1</td>\n    </tr>\n  </tbody>\n</table>\n</div>"
     },
     "metadata": {},
     "execution_count": 31
    }
   ],
   "source": [
    "# select one row and return a Series\n",
    "\n",
    "# df.loc['v']   # via row index name                        \n",
    "# df.loc['v' , :]   # via rown index name and column range\n",
    "# df.loc[df.index.isin(['v']) , :]  # via boolean values\n",
    "# df.iloc[1]  # via row index num\n",
    "# df.iloc[1 , :]  # via row index num and columne index num\n",
    "\n",
    "# the following returns a pd DataFrame, instead of a Series\n",
    "# df.loc[~df.index.isin(['v']) , :]  # exclude a row via boolean values\n"
   ]
  },
  {
   "cell_type": "code",
   "execution_count": null,
   "metadata": {},
   "outputs": [],
   "source": []
  }
 ]
}