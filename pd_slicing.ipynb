{
 "nbformat": 4,
 "nbformat_minor": 2,
 "metadata": {
  "language_info": {
   "name": "python",
   "codemirror_mode": {
    "name": "ipython",
    "version": 3
   },
   "version": "3.7.5-final"
  },
  "orig_nbformat": 2,
  "file_extension": ".py",
  "mimetype": "text/x-python",
  "name": "python",
  "npconvert_exporter": "python",
  "pygments_lexer": "ipython3",
  "version": 3,
  "kernelspec": {
   "name": "python37564bit42731fe29a1c4072b88558cb14c14b00",
   "display_name": "Python 3.7.5 64-bit"
  }
 },
 "cells": [
  {
   "cell_type": "markdown",
   "metadata": {},
   "source": [
    "# Pandas Dataframe slicing methods\n",
    "\n",
    "- styling\n",
    "\n",
    "    - https://stackoverflow.com/questions/41654949/pandas-style-function-to-highlight-specific-columns"
   ]
  },
  {
   "cell_type": "code",
   "execution_count": 1,
   "metadata": {},
   "outputs": [],
   "source": [
    "import numpy as np\n",
    "import pandas as pd"
   ]
  },
  {
   "cell_type": "code",
   "execution_count": 9,
   "metadata": {},
   "outputs": [
    {
     "output_type": "execute_result",
     "data": {
      "text/plain": "    a   b   c   d   e\nu  25  24  23  22  21\nv  20  19  18  17  16\nx  15  14  13  12  11\ny  10   9   8   7   6\nz   5   4   3   2   1",
      "text/html": "<div>\n<style scoped>\n    .dataframe tbody tr th:only-of-type {\n        vertical-align: middle;\n    }\n\n    .dataframe tbody tr th {\n        vertical-align: top;\n    }\n\n    .dataframe thead th {\n        text-align: right;\n    }\n</style>\n<table border=\"1\" class=\"dataframe\">\n  <thead>\n    <tr style=\"text-align: right;\">\n      <th></th>\n      <th>a</th>\n      <th>b</th>\n      <th>c</th>\n      <th>d</th>\n      <th>e</th>\n    </tr>\n  </thead>\n  <tbody>\n    <tr>\n      <th>u</th>\n      <td>25</td>\n      <td>24</td>\n      <td>23</td>\n      <td>22</td>\n      <td>21</td>\n    </tr>\n    <tr>\n      <th>v</th>\n      <td>20</td>\n      <td>19</td>\n      <td>18</td>\n      <td>17</td>\n      <td>16</td>\n    </tr>\n    <tr>\n      <th>x</th>\n      <td>15</td>\n      <td>14</td>\n      <td>13</td>\n      <td>12</td>\n      <td>11</td>\n    </tr>\n    <tr>\n      <th>y</th>\n      <td>10</td>\n      <td>9</td>\n      <td>8</td>\n      <td>7</td>\n      <td>6</td>\n    </tr>\n    <tr>\n      <th>z</th>\n      <td>5</td>\n      <td>4</td>\n      <td>3</td>\n      <td>2</td>\n      <td>1</td>\n    </tr>\n  </tbody>\n</table>\n</div>"
     },
     "metadata": {},
     "execution_count": 9
    }
   ],
   "source": [
    "# create a dummy pd DF\n",
    "df = pd.DataFrame(\n",
    "    {\n",
    "        'a': [25, 20, 15, 10, 5],\n",
    "        'b': [24, 19, 14, 9, 4],\n",
    "        'c': [23, 18, 13, 8, 3],\n",
    "        'd': [22, 17, 12, 7, 2],\n",
    "        'e': [21, 16, 11, 6, 1]\n",
    "    }, \n",
    "    index = ['u', 'v', 'x', 'y', 'z']\n",
    ")\n",
    "\n",
    "df"
   ]
  },
  {
   "cell_type": "markdown",
   "metadata": {},
   "source": [
    "## select column(s) by name or index"
   ]
  },
  {
   "cell_type": "code",
   "execution_count": 12,
   "metadata": {},
   "outputs": [
    {
     "output_type": "execute_result",
     "data": {
      "text/plain": "<pandas.io.formats.style.Styler at 0x11a25c450>",
      "text/html": "<style  type=\"text/css\" >\n    #T_1348e0da_7d4d_11ea_83a2_38c98644376frow0_col1 {\n            background-color:  green;\n        }    #T_1348e0da_7d4d_11ea_83a2_38c98644376frow1_col1 {\n            background-color:  green;\n        }    #T_1348e0da_7d4d_11ea_83a2_38c98644376frow2_col1 {\n            background-color:  green;\n        }    #T_1348e0da_7d4d_11ea_83a2_38c98644376frow3_col1 {\n            background-color:  green;\n        }    #T_1348e0da_7d4d_11ea_83a2_38c98644376frow4_col1 {\n            background-color:  green;\n        }</style><table id=\"T_1348e0da_7d4d_11ea_83a2_38c98644376f\" ><thead>    <tr>        <th class=\"blank level0\" ></th>        <th class=\"col_heading level0 col0\" >a</th>        <th class=\"col_heading level0 col1\" >b</th>        <th class=\"col_heading level0 col2\" >c</th>        <th class=\"col_heading level0 col3\" >d</th>        <th class=\"col_heading level0 col4\" >e</th>    </tr></thead><tbody>\n                <tr>\n                        <th id=\"T_1348e0da_7d4d_11ea_83a2_38c98644376flevel0_row0\" class=\"row_heading level0 row0\" >u</th>\n                        <td id=\"T_1348e0da_7d4d_11ea_83a2_38c98644376frow0_col0\" class=\"data row0 col0\" >25</td>\n                        <td id=\"T_1348e0da_7d4d_11ea_83a2_38c98644376frow0_col1\" class=\"data row0 col1\" >24</td>\n                        <td id=\"T_1348e0da_7d4d_11ea_83a2_38c98644376frow0_col2\" class=\"data row0 col2\" >23</td>\n                        <td id=\"T_1348e0da_7d4d_11ea_83a2_38c98644376frow0_col3\" class=\"data row0 col3\" >22</td>\n                        <td id=\"T_1348e0da_7d4d_11ea_83a2_38c98644376frow0_col4\" class=\"data row0 col4\" >21</td>\n            </tr>\n            <tr>\n                        <th id=\"T_1348e0da_7d4d_11ea_83a2_38c98644376flevel0_row1\" class=\"row_heading level0 row1\" >v</th>\n                        <td id=\"T_1348e0da_7d4d_11ea_83a2_38c98644376frow1_col0\" class=\"data row1 col0\" >20</td>\n                        <td id=\"T_1348e0da_7d4d_11ea_83a2_38c98644376frow1_col1\" class=\"data row1 col1\" >19</td>\n                        <td id=\"T_1348e0da_7d4d_11ea_83a2_38c98644376frow1_col2\" class=\"data row1 col2\" >18</td>\n                        <td id=\"T_1348e0da_7d4d_11ea_83a2_38c98644376frow1_col3\" class=\"data row1 col3\" >17</td>\n                        <td id=\"T_1348e0da_7d4d_11ea_83a2_38c98644376frow1_col4\" class=\"data row1 col4\" >16</td>\n            </tr>\n            <tr>\n                        <th id=\"T_1348e0da_7d4d_11ea_83a2_38c98644376flevel0_row2\" class=\"row_heading level0 row2\" >x</th>\n                        <td id=\"T_1348e0da_7d4d_11ea_83a2_38c98644376frow2_col0\" class=\"data row2 col0\" >15</td>\n                        <td id=\"T_1348e0da_7d4d_11ea_83a2_38c98644376frow2_col1\" class=\"data row2 col1\" >14</td>\n                        <td id=\"T_1348e0da_7d4d_11ea_83a2_38c98644376frow2_col2\" class=\"data row2 col2\" >13</td>\n                        <td id=\"T_1348e0da_7d4d_11ea_83a2_38c98644376frow2_col3\" class=\"data row2 col3\" >12</td>\n                        <td id=\"T_1348e0da_7d4d_11ea_83a2_38c98644376frow2_col4\" class=\"data row2 col4\" >11</td>\n            </tr>\n            <tr>\n                        <th id=\"T_1348e0da_7d4d_11ea_83a2_38c98644376flevel0_row3\" class=\"row_heading level0 row3\" >y</th>\n                        <td id=\"T_1348e0da_7d4d_11ea_83a2_38c98644376frow3_col0\" class=\"data row3 col0\" >10</td>\n                        <td id=\"T_1348e0da_7d4d_11ea_83a2_38c98644376frow3_col1\" class=\"data row3 col1\" >9</td>\n                        <td id=\"T_1348e0da_7d4d_11ea_83a2_38c98644376frow3_col2\" class=\"data row3 col2\" >8</td>\n                        <td id=\"T_1348e0da_7d4d_11ea_83a2_38c98644376frow3_col3\" class=\"data row3 col3\" >7</td>\n                        <td id=\"T_1348e0da_7d4d_11ea_83a2_38c98644376frow3_col4\" class=\"data row3 col4\" >6</td>\n            </tr>\n            <tr>\n                        <th id=\"T_1348e0da_7d4d_11ea_83a2_38c98644376flevel0_row4\" class=\"row_heading level0 row4\" >z</th>\n                        <td id=\"T_1348e0da_7d4d_11ea_83a2_38c98644376frow4_col0\" class=\"data row4 col0\" >5</td>\n                        <td id=\"T_1348e0da_7d4d_11ea_83a2_38c98644376frow4_col1\" class=\"data row4 col1\" >4</td>\n                        <td id=\"T_1348e0da_7d4d_11ea_83a2_38c98644376frow4_col2\" class=\"data row4 col2\" >3</td>\n                        <td id=\"T_1348e0da_7d4d_11ea_83a2_38c98644376frow4_col3\" class=\"data row4 col3\" >2</td>\n                        <td id=\"T_1348e0da_7d4d_11ea_83a2_38c98644376frow4_col4\" class=\"data row4 col4\" >1</td>\n            </tr>\n    </tbody></table>"
     },
     "metadata": {},
     "execution_count": 12
    }
   ],
   "source": [
    "# select one column\n",
    "\n",
    "def highlight_cols(s):\n",
    "    color = 'green'\n",
    "    return 'background-color: %s' % color\n",
    "\n",
    "df.style.applymap(highlight_cols, subset=pd.IndexSlice[:, ['b']])"
   ]
  },
  {
   "cell_type": "code",
   "execution_count": 16,
   "metadata": {},
   "outputs": [
    {
     "output_type": "execute_result",
     "data": {
      "text/plain": "u    24\nv    19\nx    14\ny     9\nz     4\nName: b, dtype: int64"
     },
     "metadata": {},
     "execution_count": 16
    }
   ],
   "source": [
    "# return a pd Series\n",
    "\n",
    "# df['b']         # via column name\n",
    "# df.b            # via the dot notation, i.e. treat column name as attribute\n",
    "# df.loc[:, 'b']  # loc column name\n",
    "df.iloc[:, 1]   # iloc column index num"
   ]
  },
  {
   "cell_type": "code",
   "execution_count": 19,
   "metadata": {},
   "outputs": [
    {
     "output_type": "execute_result",
     "data": {
      "text/plain": "    b\nu  24\nv  19\nx  14\ny   9\nz   4",
      "text/html": "<div>\n<style scoped>\n    .dataframe tbody tr th:only-of-type {\n        vertical-align: middle;\n    }\n\n    .dataframe tbody tr th {\n        vertical-align: top;\n    }\n\n    .dataframe thead th {\n        text-align: right;\n    }\n</style>\n<table border=\"1\" class=\"dataframe\">\n  <thead>\n    <tr style=\"text-align: right;\">\n      <th></th>\n      <th>b</th>\n    </tr>\n  </thead>\n  <tbody>\n    <tr>\n      <th>u</th>\n      <td>24</td>\n    </tr>\n    <tr>\n      <th>v</th>\n      <td>19</td>\n    </tr>\n    <tr>\n      <th>x</th>\n      <td>14</td>\n    </tr>\n    <tr>\n      <th>y</th>\n      <td>9</td>\n    </tr>\n    <tr>\n      <th>z</th>\n      <td>4</td>\n    </tr>\n  </tbody>\n</table>\n</div>"
     },
     "metadata": {},
     "execution_count": 19
    }
   ],
   "source": [
    "# return a pd DataFrame\n",
    "\n",
    "# df.loc[: , df.columns.isin(['b'])]                  # via boolean value\n",
    "# df.loc[: , np.logical_not(df.columns.isin(['a', 'c', 'd', 'e']))]\n",
    "df.loc[: , ~df.columns.isin(['a', 'c', 'd', 'e'])]  # via the negative of boolean value"
   ]
  },
  {
   "cell_type": "code",
   "execution_count": 20,
   "metadata": {},
   "outputs": [
    {
     "output_type": "execute_result",
     "data": {
      "text/plain": "<pandas.io.formats.style.Styler at 0x11a2a3a50>",
      "text/html": "<style  type=\"text/css\" >\n    #T_c6297c8c_7d4d_11ea_83a2_38c98644376frow0_col1 {\n            background-color:  green;\n        }    #T_c6297c8c_7d4d_11ea_83a2_38c98644376frow0_col2 {\n            background-color:  green;\n        }    #T_c6297c8c_7d4d_11ea_83a2_38c98644376frow0_col3 {\n            background-color:  green;\n        }    #T_c6297c8c_7d4d_11ea_83a2_38c98644376frow1_col1 {\n            background-color:  green;\n        }    #T_c6297c8c_7d4d_11ea_83a2_38c98644376frow1_col2 {\n            background-color:  green;\n        }    #T_c6297c8c_7d4d_11ea_83a2_38c98644376frow1_col3 {\n            background-color:  green;\n        }    #T_c6297c8c_7d4d_11ea_83a2_38c98644376frow2_col1 {\n            background-color:  green;\n        }    #T_c6297c8c_7d4d_11ea_83a2_38c98644376frow2_col2 {\n            background-color:  green;\n        }    #T_c6297c8c_7d4d_11ea_83a2_38c98644376frow2_col3 {\n            background-color:  green;\n        }    #T_c6297c8c_7d4d_11ea_83a2_38c98644376frow3_col1 {\n            background-color:  green;\n        }    #T_c6297c8c_7d4d_11ea_83a2_38c98644376frow3_col2 {\n            background-color:  green;\n        }    #T_c6297c8c_7d4d_11ea_83a2_38c98644376frow3_col3 {\n            background-color:  green;\n        }    #T_c6297c8c_7d4d_11ea_83a2_38c98644376frow4_col1 {\n            background-color:  green;\n        }    #T_c6297c8c_7d4d_11ea_83a2_38c98644376frow4_col2 {\n            background-color:  green;\n        }    #T_c6297c8c_7d4d_11ea_83a2_38c98644376frow4_col3 {\n            background-color:  green;\n        }</style><table id=\"T_c6297c8c_7d4d_11ea_83a2_38c98644376f\" ><thead>    <tr>        <th class=\"blank level0\" ></th>        <th class=\"col_heading level0 col0\" >a</th>        <th class=\"col_heading level0 col1\" >b</th>        <th class=\"col_heading level0 col2\" >c</th>        <th class=\"col_heading level0 col3\" >d</th>        <th class=\"col_heading level0 col4\" >e</th>    </tr></thead><tbody>\n                <tr>\n                        <th id=\"T_c6297c8c_7d4d_11ea_83a2_38c98644376flevel0_row0\" class=\"row_heading level0 row0\" >u</th>\n                        <td id=\"T_c6297c8c_7d4d_11ea_83a2_38c98644376frow0_col0\" class=\"data row0 col0\" >25</td>\n                        <td id=\"T_c6297c8c_7d4d_11ea_83a2_38c98644376frow0_col1\" class=\"data row0 col1\" >24</td>\n                        <td id=\"T_c6297c8c_7d4d_11ea_83a2_38c98644376frow0_col2\" class=\"data row0 col2\" >23</td>\n                        <td id=\"T_c6297c8c_7d4d_11ea_83a2_38c98644376frow0_col3\" class=\"data row0 col3\" >22</td>\n                        <td id=\"T_c6297c8c_7d4d_11ea_83a2_38c98644376frow0_col4\" class=\"data row0 col4\" >21</td>\n            </tr>\n            <tr>\n                        <th id=\"T_c6297c8c_7d4d_11ea_83a2_38c98644376flevel0_row1\" class=\"row_heading level0 row1\" >v</th>\n                        <td id=\"T_c6297c8c_7d4d_11ea_83a2_38c98644376frow1_col0\" class=\"data row1 col0\" >20</td>\n                        <td id=\"T_c6297c8c_7d4d_11ea_83a2_38c98644376frow1_col1\" class=\"data row1 col1\" >19</td>\n                        <td id=\"T_c6297c8c_7d4d_11ea_83a2_38c98644376frow1_col2\" class=\"data row1 col2\" >18</td>\n                        <td id=\"T_c6297c8c_7d4d_11ea_83a2_38c98644376frow1_col3\" class=\"data row1 col3\" >17</td>\n                        <td id=\"T_c6297c8c_7d4d_11ea_83a2_38c98644376frow1_col4\" class=\"data row1 col4\" >16</td>\n            </tr>\n            <tr>\n                        <th id=\"T_c6297c8c_7d4d_11ea_83a2_38c98644376flevel0_row2\" class=\"row_heading level0 row2\" >x</th>\n                        <td id=\"T_c6297c8c_7d4d_11ea_83a2_38c98644376frow2_col0\" class=\"data row2 col0\" >15</td>\n                        <td id=\"T_c6297c8c_7d4d_11ea_83a2_38c98644376frow2_col1\" class=\"data row2 col1\" >14</td>\n                        <td id=\"T_c6297c8c_7d4d_11ea_83a2_38c98644376frow2_col2\" class=\"data row2 col2\" >13</td>\n                        <td id=\"T_c6297c8c_7d4d_11ea_83a2_38c98644376frow2_col3\" class=\"data row2 col3\" >12</td>\n                        <td id=\"T_c6297c8c_7d4d_11ea_83a2_38c98644376frow2_col4\" class=\"data row2 col4\" >11</td>\n            </tr>\n            <tr>\n                        <th id=\"T_c6297c8c_7d4d_11ea_83a2_38c98644376flevel0_row3\" class=\"row_heading level0 row3\" >y</th>\n                        <td id=\"T_c6297c8c_7d4d_11ea_83a2_38c98644376frow3_col0\" class=\"data row3 col0\" >10</td>\n                        <td id=\"T_c6297c8c_7d4d_11ea_83a2_38c98644376frow3_col1\" class=\"data row3 col1\" >9</td>\n                        <td id=\"T_c6297c8c_7d4d_11ea_83a2_38c98644376frow3_col2\" class=\"data row3 col2\" >8</td>\n                        <td id=\"T_c6297c8c_7d4d_11ea_83a2_38c98644376frow3_col3\" class=\"data row3 col3\" >7</td>\n                        <td id=\"T_c6297c8c_7d4d_11ea_83a2_38c98644376frow3_col4\" class=\"data row3 col4\" >6</td>\n            </tr>\n            <tr>\n                        <th id=\"T_c6297c8c_7d4d_11ea_83a2_38c98644376flevel0_row4\" class=\"row_heading level0 row4\" >z</th>\n                        <td id=\"T_c6297c8c_7d4d_11ea_83a2_38c98644376frow4_col0\" class=\"data row4 col0\" >5</td>\n                        <td id=\"T_c6297c8c_7d4d_11ea_83a2_38c98644376frow4_col1\" class=\"data row4 col1\" >4</td>\n                        <td id=\"T_c6297c8c_7d4d_11ea_83a2_38c98644376frow4_col2\" class=\"data row4 col2\" >3</td>\n                        <td id=\"T_c6297c8c_7d4d_11ea_83a2_38c98644376frow4_col3\" class=\"data row4 col3\" >2</td>\n                        <td id=\"T_c6297c8c_7d4d_11ea_83a2_38c98644376frow4_col4\" class=\"data row4 col4\" >1</td>\n            </tr>\n    </tbody></table>"
     },
     "metadata": {},
     "execution_count": 20
    }
   ],
   "source": [
    "# select a range of continuous columns\n",
    "\n",
    "def highlight_cols(s):\n",
    "    color = 'green'\n",
    "    return 'background-color: %s' % color\n",
    "\n",
    "df.style.applymap(highlight_cols, subset=pd.IndexSlice[:, 'b':'d'])"
   ]
  },
  {
   "cell_type": "code",
   "execution_count": 45,
   "metadata": {},
   "outputs": [
    {
     "output_type": "execute_result",
     "data": {
      "text/plain": "    b   c   d\nu  24  23  22\nv  19  18  17\nx  14  13  12\ny   9   8   7\nz   4   3   2",
      "text/html": "<div>\n<style scoped>\n    .dataframe tbody tr th:only-of-type {\n        vertical-align: middle;\n    }\n\n    .dataframe tbody tr th {\n        vertical-align: top;\n    }\n\n    .dataframe thead th {\n        text-align: right;\n    }\n</style>\n<table border=\"1\" class=\"dataframe\">\n  <thead>\n    <tr style=\"text-align: right;\">\n      <th></th>\n      <th>b</th>\n      <th>c</th>\n      <th>d</th>\n    </tr>\n  </thead>\n  <tbody>\n    <tr>\n      <th>u</th>\n      <td>24</td>\n      <td>23</td>\n      <td>22</td>\n    </tr>\n    <tr>\n      <th>v</th>\n      <td>19</td>\n      <td>18</td>\n      <td>17</td>\n    </tr>\n    <tr>\n      <th>x</th>\n      <td>14</td>\n      <td>13</td>\n      <td>12</td>\n    </tr>\n    <tr>\n      <th>y</th>\n      <td>9</td>\n      <td>8</td>\n      <td>7</td>\n    </tr>\n    <tr>\n      <th>z</th>\n      <td>4</td>\n      <td>3</td>\n      <td>2</td>\n    </tr>\n  </tbody>\n</table>\n</div>"
     },
     "metadata": {},
     "execution_count": 45
    }
   ],
   "source": [
    "# df[['b', 'c', 'd']]\n",
    "\n",
    "# df.loc[:, 'b':'d']  # note that the last column name is inclusive\n",
    "# df.loc[:, df.columns.isin(['b', 'c', 'd'])]\n",
    "# df.loc[:, ~df.columns.isin(['a', 'e'])]\n",
    "# df.loc[:, np.logical_not(df.columns.isin(['a', 'e']))]\n",
    "\n",
    "df.iloc[:, 1:4] # note that the last column index is exclusive"
   ]
  },
  {
   "cell_type": "code",
   "execution_count": 37,
   "metadata": {},
   "outputs": [
    {
     "output_type": "execute_result",
     "data": {
      "text/plain": "<pandas.io.formats.style.Styler at 0x11ab9dd90>",
      "text/html": "<style  type=\"text/css\" >\n    #T_8bd39b52_7d4e_11ea_83a2_38c98644376frow0_col1 {\n            background-color:  green;\n        }    #T_8bd39b52_7d4e_11ea_83a2_38c98644376frow0_col3 {\n            background-color:  green;\n        }    #T_8bd39b52_7d4e_11ea_83a2_38c98644376frow0_col4 {\n            background-color:  green;\n        }    #T_8bd39b52_7d4e_11ea_83a2_38c98644376frow1_col1 {\n            background-color:  green;\n        }    #T_8bd39b52_7d4e_11ea_83a2_38c98644376frow1_col3 {\n            background-color:  green;\n        }    #T_8bd39b52_7d4e_11ea_83a2_38c98644376frow1_col4 {\n            background-color:  green;\n        }    #T_8bd39b52_7d4e_11ea_83a2_38c98644376frow2_col1 {\n            background-color:  green;\n        }    #T_8bd39b52_7d4e_11ea_83a2_38c98644376frow2_col3 {\n            background-color:  green;\n        }    #T_8bd39b52_7d4e_11ea_83a2_38c98644376frow2_col4 {\n            background-color:  green;\n        }    #T_8bd39b52_7d4e_11ea_83a2_38c98644376frow3_col1 {\n            background-color:  green;\n        }    #T_8bd39b52_7d4e_11ea_83a2_38c98644376frow3_col3 {\n            background-color:  green;\n        }    #T_8bd39b52_7d4e_11ea_83a2_38c98644376frow3_col4 {\n            background-color:  green;\n        }    #T_8bd39b52_7d4e_11ea_83a2_38c98644376frow4_col1 {\n            background-color:  green;\n        }    #T_8bd39b52_7d4e_11ea_83a2_38c98644376frow4_col3 {\n            background-color:  green;\n        }    #T_8bd39b52_7d4e_11ea_83a2_38c98644376frow4_col4 {\n            background-color:  green;\n        }</style><table id=\"T_8bd39b52_7d4e_11ea_83a2_38c98644376f\" ><thead>    <tr>        <th class=\"blank level0\" ></th>        <th class=\"col_heading level0 col0\" >a</th>        <th class=\"col_heading level0 col1\" >b</th>        <th class=\"col_heading level0 col2\" >c</th>        <th class=\"col_heading level0 col3\" >d</th>        <th class=\"col_heading level0 col4\" >e</th>    </tr></thead><tbody>\n                <tr>\n                        <th id=\"T_8bd39b52_7d4e_11ea_83a2_38c98644376flevel0_row0\" class=\"row_heading level0 row0\" >u</th>\n                        <td id=\"T_8bd39b52_7d4e_11ea_83a2_38c98644376frow0_col0\" class=\"data row0 col0\" >25</td>\n                        <td id=\"T_8bd39b52_7d4e_11ea_83a2_38c98644376frow0_col1\" class=\"data row0 col1\" >24</td>\n                        <td id=\"T_8bd39b52_7d4e_11ea_83a2_38c98644376frow0_col2\" class=\"data row0 col2\" >23</td>\n                        <td id=\"T_8bd39b52_7d4e_11ea_83a2_38c98644376frow0_col3\" class=\"data row0 col3\" >22</td>\n                        <td id=\"T_8bd39b52_7d4e_11ea_83a2_38c98644376frow0_col4\" class=\"data row0 col4\" >21</td>\n            </tr>\n            <tr>\n                        <th id=\"T_8bd39b52_7d4e_11ea_83a2_38c98644376flevel0_row1\" class=\"row_heading level0 row1\" >v</th>\n                        <td id=\"T_8bd39b52_7d4e_11ea_83a2_38c98644376frow1_col0\" class=\"data row1 col0\" >20</td>\n                        <td id=\"T_8bd39b52_7d4e_11ea_83a2_38c98644376frow1_col1\" class=\"data row1 col1\" >19</td>\n                        <td id=\"T_8bd39b52_7d4e_11ea_83a2_38c98644376frow1_col2\" class=\"data row1 col2\" >18</td>\n                        <td id=\"T_8bd39b52_7d4e_11ea_83a2_38c98644376frow1_col3\" class=\"data row1 col3\" >17</td>\n                        <td id=\"T_8bd39b52_7d4e_11ea_83a2_38c98644376frow1_col4\" class=\"data row1 col4\" >16</td>\n            </tr>\n            <tr>\n                        <th id=\"T_8bd39b52_7d4e_11ea_83a2_38c98644376flevel0_row2\" class=\"row_heading level0 row2\" >x</th>\n                        <td id=\"T_8bd39b52_7d4e_11ea_83a2_38c98644376frow2_col0\" class=\"data row2 col0\" >15</td>\n                        <td id=\"T_8bd39b52_7d4e_11ea_83a2_38c98644376frow2_col1\" class=\"data row2 col1\" >14</td>\n                        <td id=\"T_8bd39b52_7d4e_11ea_83a2_38c98644376frow2_col2\" class=\"data row2 col2\" >13</td>\n                        <td id=\"T_8bd39b52_7d4e_11ea_83a2_38c98644376frow2_col3\" class=\"data row2 col3\" >12</td>\n                        <td id=\"T_8bd39b52_7d4e_11ea_83a2_38c98644376frow2_col4\" class=\"data row2 col4\" >11</td>\n            </tr>\n            <tr>\n                        <th id=\"T_8bd39b52_7d4e_11ea_83a2_38c98644376flevel0_row3\" class=\"row_heading level0 row3\" >y</th>\n                        <td id=\"T_8bd39b52_7d4e_11ea_83a2_38c98644376frow3_col0\" class=\"data row3 col0\" >10</td>\n                        <td id=\"T_8bd39b52_7d4e_11ea_83a2_38c98644376frow3_col1\" class=\"data row3 col1\" >9</td>\n                        <td id=\"T_8bd39b52_7d4e_11ea_83a2_38c98644376frow3_col2\" class=\"data row3 col2\" >8</td>\n                        <td id=\"T_8bd39b52_7d4e_11ea_83a2_38c98644376frow3_col3\" class=\"data row3 col3\" >7</td>\n                        <td id=\"T_8bd39b52_7d4e_11ea_83a2_38c98644376frow3_col4\" class=\"data row3 col4\" >6</td>\n            </tr>\n            <tr>\n                        <th id=\"T_8bd39b52_7d4e_11ea_83a2_38c98644376flevel0_row4\" class=\"row_heading level0 row4\" >z</th>\n                        <td id=\"T_8bd39b52_7d4e_11ea_83a2_38c98644376frow4_col0\" class=\"data row4 col0\" >5</td>\n                        <td id=\"T_8bd39b52_7d4e_11ea_83a2_38c98644376frow4_col1\" class=\"data row4 col1\" >4</td>\n                        <td id=\"T_8bd39b52_7d4e_11ea_83a2_38c98644376frow4_col2\" class=\"data row4 col2\" >3</td>\n                        <td id=\"T_8bd39b52_7d4e_11ea_83a2_38c98644376frow4_col3\" class=\"data row4 col3\" >2</td>\n                        <td id=\"T_8bd39b52_7d4e_11ea_83a2_38c98644376frow4_col4\" class=\"data row4 col4\" >1</td>\n            </tr>\n    </tbody></table>"
     },
     "metadata": {},
     "execution_count": 37
    }
   ],
   "source": [
    "# select several incontinuous columns\n",
    "\n",
    "def highlight_cols(s):\n",
    "    color = 'green'\n",
    "    return 'background-color: %s' % color\n",
    "\n",
    "df.style.applymap(highlight_cols, subset=pd.IndexSlice[:, ['b', 'd', 'e']])"
   ]
  },
  {
   "cell_type": "code",
   "execution_count": 44,
   "metadata": {},
   "outputs": [
    {
     "output_type": "execute_result",
     "data": {
      "text/plain": "    b   d   e\nu  24  22  21\nv  19  17  16\nx  14  12  11\ny   9   7   6\nz   4   2   1",
      "text/html": "<div>\n<style scoped>\n    .dataframe tbody tr th:only-of-type {\n        vertical-align: middle;\n    }\n\n    .dataframe tbody tr th {\n        vertical-align: top;\n    }\n\n    .dataframe thead th {\n        text-align: right;\n    }\n</style>\n<table border=\"1\" class=\"dataframe\">\n  <thead>\n    <tr style=\"text-align: right;\">\n      <th></th>\n      <th>b</th>\n      <th>d</th>\n      <th>e</th>\n    </tr>\n  </thead>\n  <tbody>\n    <tr>\n      <th>u</th>\n      <td>24</td>\n      <td>22</td>\n      <td>21</td>\n    </tr>\n    <tr>\n      <th>v</th>\n      <td>19</td>\n      <td>17</td>\n      <td>16</td>\n    </tr>\n    <tr>\n      <th>x</th>\n      <td>14</td>\n      <td>12</td>\n      <td>11</td>\n    </tr>\n    <tr>\n      <th>y</th>\n      <td>9</td>\n      <td>7</td>\n      <td>6</td>\n    </tr>\n    <tr>\n      <th>z</th>\n      <td>4</td>\n      <td>2</td>\n      <td>1</td>\n    </tr>\n  </tbody>\n</table>\n</div>"
     },
     "metadata": {},
     "execution_count": 44
    }
   ],
   "source": [
    "# df[['b', 'd', 'e']]\n",
    "\n",
    "# df.loc[:, ['b', 'd', 'e']]\n",
    "# df.loc[:, df.columns.isin(['b', 'd', 'e'])]\n",
    "# df.loc[:, np.logical_not(df.columns.isin(['a', 'e']))]\n",
    "# df.loc[:, ~df.columns.isin(['a', 'e'])]\n",
    "\n",
    "df.iloc[:, [1, 3, 4]]"
   ]
  },
  {
   "cell_type": "code",
   "execution_count": 50,
   "metadata": {},
   "outputs": [
    {
     "output_type": "execute_result",
     "data": {
      "text/plain": "<pandas.io.formats.style.Styler at 0x11bd9bbd0>",
      "text/html": "<style  type=\"text/css\" >\n    #T_0cd220ee_7d6c_11ea_83a2_38c98644376frow0_col1 {\n            background-color:  green;\n        }    #T_0cd220ee_7d6c_11ea_83a2_38c98644376frow0_col3 {\n            background-color:  green;\n        }    #T_0cd220ee_7d6c_11ea_83a2_38c98644376frow1_col1 {\n            background-color:  green;\n        }    #T_0cd220ee_7d6c_11ea_83a2_38c98644376frow1_col3 {\n            background-color:  green;\n        }    #T_0cd220ee_7d6c_11ea_83a2_38c98644376frow2_col1 {\n            background-color:  green;\n        }    #T_0cd220ee_7d6c_11ea_83a2_38c98644376frow2_col3 {\n            background-color:  green;\n        }    #T_0cd220ee_7d6c_11ea_83a2_38c98644376frow3_col1 {\n            background-color:  green;\n        }    #T_0cd220ee_7d6c_11ea_83a2_38c98644376frow3_col3 {\n            background-color:  green;\n        }    #T_0cd220ee_7d6c_11ea_83a2_38c98644376frow4_col1 {\n            background-color:  green;\n        }    #T_0cd220ee_7d6c_11ea_83a2_38c98644376frow4_col3 {\n            background-color:  green;\n        }</style><table id=\"T_0cd220ee_7d6c_11ea_83a2_38c98644376f\" ><thead>    <tr>        <th class=\"blank level0\" ></th>        <th class=\"col_heading level0 col0\" >a</th>        <th class=\"col_heading level0 col1\" >b</th>        <th class=\"col_heading level0 col2\" >c</th>        <th class=\"col_heading level0 col3\" >d</th>        <th class=\"col_heading level0 col4\" >e</th>    </tr></thead><tbody>\n                <tr>\n                        <th id=\"T_0cd220ee_7d6c_11ea_83a2_38c98644376flevel0_row0\" class=\"row_heading level0 row0\" >u</th>\n                        <td id=\"T_0cd220ee_7d6c_11ea_83a2_38c98644376frow0_col0\" class=\"data row0 col0\" >25</td>\n                        <td id=\"T_0cd220ee_7d6c_11ea_83a2_38c98644376frow0_col1\" class=\"data row0 col1\" >24</td>\n                        <td id=\"T_0cd220ee_7d6c_11ea_83a2_38c98644376frow0_col2\" class=\"data row0 col2\" >23</td>\n                        <td id=\"T_0cd220ee_7d6c_11ea_83a2_38c98644376frow0_col3\" class=\"data row0 col3\" >22</td>\n                        <td id=\"T_0cd220ee_7d6c_11ea_83a2_38c98644376frow0_col4\" class=\"data row0 col4\" >21</td>\n            </tr>\n            <tr>\n                        <th id=\"T_0cd220ee_7d6c_11ea_83a2_38c98644376flevel0_row1\" class=\"row_heading level0 row1\" >v</th>\n                        <td id=\"T_0cd220ee_7d6c_11ea_83a2_38c98644376frow1_col0\" class=\"data row1 col0\" >20</td>\n                        <td id=\"T_0cd220ee_7d6c_11ea_83a2_38c98644376frow1_col1\" class=\"data row1 col1\" >19</td>\n                        <td id=\"T_0cd220ee_7d6c_11ea_83a2_38c98644376frow1_col2\" class=\"data row1 col2\" >18</td>\n                        <td id=\"T_0cd220ee_7d6c_11ea_83a2_38c98644376frow1_col3\" class=\"data row1 col3\" >17</td>\n                        <td id=\"T_0cd220ee_7d6c_11ea_83a2_38c98644376frow1_col4\" class=\"data row1 col4\" >16</td>\n            </tr>\n            <tr>\n                        <th id=\"T_0cd220ee_7d6c_11ea_83a2_38c98644376flevel0_row2\" class=\"row_heading level0 row2\" >x</th>\n                        <td id=\"T_0cd220ee_7d6c_11ea_83a2_38c98644376frow2_col0\" class=\"data row2 col0\" >15</td>\n                        <td id=\"T_0cd220ee_7d6c_11ea_83a2_38c98644376frow2_col1\" class=\"data row2 col1\" >14</td>\n                        <td id=\"T_0cd220ee_7d6c_11ea_83a2_38c98644376frow2_col2\" class=\"data row2 col2\" >13</td>\n                        <td id=\"T_0cd220ee_7d6c_11ea_83a2_38c98644376frow2_col3\" class=\"data row2 col3\" >12</td>\n                        <td id=\"T_0cd220ee_7d6c_11ea_83a2_38c98644376frow2_col4\" class=\"data row2 col4\" >11</td>\n            </tr>\n            <tr>\n                        <th id=\"T_0cd220ee_7d6c_11ea_83a2_38c98644376flevel0_row3\" class=\"row_heading level0 row3\" >y</th>\n                        <td id=\"T_0cd220ee_7d6c_11ea_83a2_38c98644376frow3_col0\" class=\"data row3 col0\" >10</td>\n                        <td id=\"T_0cd220ee_7d6c_11ea_83a2_38c98644376frow3_col1\" class=\"data row3 col1\" >9</td>\n                        <td id=\"T_0cd220ee_7d6c_11ea_83a2_38c98644376frow3_col2\" class=\"data row3 col2\" >8</td>\n                        <td id=\"T_0cd220ee_7d6c_11ea_83a2_38c98644376frow3_col3\" class=\"data row3 col3\" >7</td>\n                        <td id=\"T_0cd220ee_7d6c_11ea_83a2_38c98644376frow3_col4\" class=\"data row3 col4\" >6</td>\n            </tr>\n            <tr>\n                        <th id=\"T_0cd220ee_7d6c_11ea_83a2_38c98644376flevel0_row4\" class=\"row_heading level0 row4\" >z</th>\n                        <td id=\"T_0cd220ee_7d6c_11ea_83a2_38c98644376frow4_col0\" class=\"data row4 col0\" >5</td>\n                        <td id=\"T_0cd220ee_7d6c_11ea_83a2_38c98644376frow4_col1\" class=\"data row4 col1\" >4</td>\n                        <td id=\"T_0cd220ee_7d6c_11ea_83a2_38c98644376frow4_col2\" class=\"data row4 col2\" >3</td>\n                        <td id=\"T_0cd220ee_7d6c_11ea_83a2_38c98644376frow4_col3\" class=\"data row4 col3\" >2</td>\n                        <td id=\"T_0cd220ee_7d6c_11ea_83a2_38c98644376frow4_col4\" class=\"data row4 col4\" >1</td>\n            </tr>\n    </tbody></table>"
     },
     "metadata": {},
     "execution_count": 50
    }
   ],
   "source": [
    "# select every nth columns\n",
    "\n",
    "def highlight_cols(s):\n",
    "    color = 'green'\n",
    "    return 'background-color: %s' % color\n",
    "\n",
    "df.style.applymap(highlight_cols, subset=pd.IndexSlice[:, ['b', 'd']])"
   ]
  },
  {
   "cell_type": "code",
   "execution_count": 116,
   "metadata": {},
   "outputs": [
    {
     "output_type": "execute_result",
     "data": {
      "text/plain": "    b   d\nu  24  22\nv  19  17\nx  14  12\ny   9   7\nz   4   2",
      "text/html": "<div>\n<style scoped>\n    .dataframe tbody tr th:only-of-type {\n        vertical-align: middle;\n    }\n\n    .dataframe tbody tr th {\n        vertical-align: top;\n    }\n\n    .dataframe thead th {\n        text-align: right;\n    }\n</style>\n<table border=\"1\" class=\"dataframe\">\n  <thead>\n    <tr style=\"text-align: right;\">\n      <th></th>\n      <th>b</th>\n      <th>d</th>\n    </tr>\n  </thead>\n  <tbody>\n    <tr>\n      <th>u</th>\n      <td>24</td>\n      <td>22</td>\n    </tr>\n    <tr>\n      <th>v</th>\n      <td>19</td>\n      <td>17</td>\n    </tr>\n    <tr>\n      <th>x</th>\n      <td>14</td>\n      <td>12</td>\n    </tr>\n    <tr>\n      <th>y</th>\n      <td>9</td>\n      <td>7</td>\n    </tr>\n    <tr>\n      <th>z</th>\n      <td>4</td>\n      <td>2</td>\n    </tr>\n  </tbody>\n</table>\n</div>"
     },
     "metadata": {},
     "execution_count": 116
    }
   ],
   "source": [
    "# df[df.columns[1::2]]\n",
    "# df.loc[: , df.columns[1::2]]\n",
    "df.iloc[: , 1::2]"
   ]
  },
  {
   "cell_type": "markdown",
   "metadata": {},
   "source": [
    "## select row(s) by name or index"
   ]
  },
  {
   "cell_type": "code",
   "execution_count": 57,
   "metadata": {},
   "outputs": [
    {
     "output_type": "execute_result",
     "data": {
      "text/plain": "<pandas.io.formats.style.Styler at 0x11b287390>",
      "text/html": "<style  type=\"text/css\" >\n    #T_941e5166_7d6d_11ea_83a2_38c98644376frow1_col0 {\n            background-color:  green;\n        }    #T_941e5166_7d6d_11ea_83a2_38c98644376frow1_col1 {\n            background-color:  green;\n        }    #T_941e5166_7d6d_11ea_83a2_38c98644376frow1_col2 {\n            background-color:  green;\n        }    #T_941e5166_7d6d_11ea_83a2_38c98644376frow1_col3 {\n            background-color:  green;\n        }    #T_941e5166_7d6d_11ea_83a2_38c98644376frow1_col4 {\n            background-color:  green;\n        }</style><table id=\"T_941e5166_7d6d_11ea_83a2_38c98644376f\" ><thead>    <tr>        <th class=\"blank level0\" ></th>        <th class=\"col_heading level0 col0\" >a</th>        <th class=\"col_heading level0 col1\" >b</th>        <th class=\"col_heading level0 col2\" >c</th>        <th class=\"col_heading level0 col3\" >d</th>        <th class=\"col_heading level0 col4\" >e</th>    </tr></thead><tbody>\n                <tr>\n                        <th id=\"T_941e5166_7d6d_11ea_83a2_38c98644376flevel0_row0\" class=\"row_heading level0 row0\" >u</th>\n                        <td id=\"T_941e5166_7d6d_11ea_83a2_38c98644376frow0_col0\" class=\"data row0 col0\" >25</td>\n                        <td id=\"T_941e5166_7d6d_11ea_83a2_38c98644376frow0_col1\" class=\"data row0 col1\" >24</td>\n                        <td id=\"T_941e5166_7d6d_11ea_83a2_38c98644376frow0_col2\" class=\"data row0 col2\" >23</td>\n                        <td id=\"T_941e5166_7d6d_11ea_83a2_38c98644376frow0_col3\" class=\"data row0 col3\" >22</td>\n                        <td id=\"T_941e5166_7d6d_11ea_83a2_38c98644376frow0_col4\" class=\"data row0 col4\" >21</td>\n            </tr>\n            <tr>\n                        <th id=\"T_941e5166_7d6d_11ea_83a2_38c98644376flevel0_row1\" class=\"row_heading level0 row1\" >v</th>\n                        <td id=\"T_941e5166_7d6d_11ea_83a2_38c98644376frow1_col0\" class=\"data row1 col0\" >20</td>\n                        <td id=\"T_941e5166_7d6d_11ea_83a2_38c98644376frow1_col1\" class=\"data row1 col1\" >19</td>\n                        <td id=\"T_941e5166_7d6d_11ea_83a2_38c98644376frow1_col2\" class=\"data row1 col2\" >18</td>\n                        <td id=\"T_941e5166_7d6d_11ea_83a2_38c98644376frow1_col3\" class=\"data row1 col3\" >17</td>\n                        <td id=\"T_941e5166_7d6d_11ea_83a2_38c98644376frow1_col4\" class=\"data row1 col4\" >16</td>\n            </tr>\n            <tr>\n                        <th id=\"T_941e5166_7d6d_11ea_83a2_38c98644376flevel0_row2\" class=\"row_heading level0 row2\" >x</th>\n                        <td id=\"T_941e5166_7d6d_11ea_83a2_38c98644376frow2_col0\" class=\"data row2 col0\" >15</td>\n                        <td id=\"T_941e5166_7d6d_11ea_83a2_38c98644376frow2_col1\" class=\"data row2 col1\" >14</td>\n                        <td id=\"T_941e5166_7d6d_11ea_83a2_38c98644376frow2_col2\" class=\"data row2 col2\" >13</td>\n                        <td id=\"T_941e5166_7d6d_11ea_83a2_38c98644376frow2_col3\" class=\"data row2 col3\" >12</td>\n                        <td id=\"T_941e5166_7d6d_11ea_83a2_38c98644376frow2_col4\" class=\"data row2 col4\" >11</td>\n            </tr>\n            <tr>\n                        <th id=\"T_941e5166_7d6d_11ea_83a2_38c98644376flevel0_row3\" class=\"row_heading level0 row3\" >y</th>\n                        <td id=\"T_941e5166_7d6d_11ea_83a2_38c98644376frow3_col0\" class=\"data row3 col0\" >10</td>\n                        <td id=\"T_941e5166_7d6d_11ea_83a2_38c98644376frow3_col1\" class=\"data row3 col1\" >9</td>\n                        <td id=\"T_941e5166_7d6d_11ea_83a2_38c98644376frow3_col2\" class=\"data row3 col2\" >8</td>\n                        <td id=\"T_941e5166_7d6d_11ea_83a2_38c98644376frow3_col3\" class=\"data row3 col3\" >7</td>\n                        <td id=\"T_941e5166_7d6d_11ea_83a2_38c98644376frow3_col4\" class=\"data row3 col4\" >6</td>\n            </tr>\n            <tr>\n                        <th id=\"T_941e5166_7d6d_11ea_83a2_38c98644376flevel0_row4\" class=\"row_heading level0 row4\" >z</th>\n                        <td id=\"T_941e5166_7d6d_11ea_83a2_38c98644376frow4_col0\" class=\"data row4 col0\" >5</td>\n                        <td id=\"T_941e5166_7d6d_11ea_83a2_38c98644376frow4_col1\" class=\"data row4 col1\" >4</td>\n                        <td id=\"T_941e5166_7d6d_11ea_83a2_38c98644376frow4_col2\" class=\"data row4 col2\" >3</td>\n                        <td id=\"T_941e5166_7d6d_11ea_83a2_38c98644376frow4_col3\" class=\"data row4 col3\" >2</td>\n                        <td id=\"T_941e5166_7d6d_11ea_83a2_38c98644376frow4_col4\" class=\"data row4 col4\" >1</td>\n            </tr>\n    </tbody></table>"
     },
     "metadata": {},
     "execution_count": 57
    }
   ],
   "source": [
    "# select one row\n",
    "\n",
    "def highlight_cols(s):\n",
    "    color = 'green'\n",
    "    return 'background-color: %s' % color\n",
    "\n",
    "df.style.applymap(highlight_cols, subset=pd.IndexSlice['v', :])"
   ]
  },
  {
   "cell_type": "code",
   "execution_count": 75,
   "metadata": {},
   "outputs": [
    {
     "output_type": "execute_result",
     "data": {
      "text/plain": "a    20\nb    19\nc    18\nd    17\ne    16\nName: v, dtype: int64"
     },
     "metadata": {},
     "execution_count": 75
    }
   ],
   "source": [
    "# return a Series\n",
    "\n",
    "# df.loc['v']   # via row index name                        \n",
    "# df.loc['v' , :]   # via rown index name and column range\n",
    "\n",
    "# df.iloc[1]  # via row index num\n",
    "df.iloc[1 , :]  # via row index num and columne index num"
   ]
  },
  {
   "cell_type": "code",
   "execution_count": 78,
   "metadata": {},
   "outputs": [
    {
     "output_type": "execute_result",
     "data": {
      "text/plain": "    a   b   c   d   e\nv  20  19  18  17  16",
      "text/html": "<div>\n<style scoped>\n    .dataframe tbody tr th:only-of-type {\n        vertical-align: middle;\n    }\n\n    .dataframe tbody tr th {\n        vertical-align: top;\n    }\n\n    .dataframe thead th {\n        text-align: right;\n    }\n</style>\n<table border=\"1\" class=\"dataframe\">\n  <thead>\n    <tr style=\"text-align: right;\">\n      <th></th>\n      <th>a</th>\n      <th>b</th>\n      <th>c</th>\n      <th>d</th>\n      <th>e</th>\n    </tr>\n  </thead>\n  <tbody>\n    <tr>\n      <th>v</th>\n      <td>20</td>\n      <td>19</td>\n      <td>18</td>\n      <td>17</td>\n      <td>16</td>\n    </tr>\n  </tbody>\n</table>\n</div>"
     },
     "metadata": {},
     "execution_count": 78
    }
   ],
   "source": [
    "# return a DataFrame\n",
    "\n",
    "# df.loc[df.index.isin(['v']) , :]  # via boolean values\n",
    "df.loc[~df.index.isin(['u', 'x', 'y', 'z']) , :]  # exclude row via boolean values"
   ]
  },
  {
   "cell_type": "code",
   "execution_count": 79,
   "metadata": {},
   "outputs": [
    {
     "output_type": "execute_result",
     "data": {
      "text/plain": "<pandas.io.formats.style.Styler at 0x11d0d3890>",
      "text/html": "<style  type=\"text/css\" >\n    #T_a14c8226_7d6e_11ea_83a2_38c98644376frow1_col0 {\n            background-color:  green;\n        }    #T_a14c8226_7d6e_11ea_83a2_38c98644376frow1_col1 {\n            background-color:  green;\n        }    #T_a14c8226_7d6e_11ea_83a2_38c98644376frow1_col2 {\n            background-color:  green;\n        }    #T_a14c8226_7d6e_11ea_83a2_38c98644376frow1_col3 {\n            background-color:  green;\n        }    #T_a14c8226_7d6e_11ea_83a2_38c98644376frow1_col4 {\n            background-color:  green;\n        }    #T_a14c8226_7d6e_11ea_83a2_38c98644376frow2_col0 {\n            background-color:  green;\n        }    #T_a14c8226_7d6e_11ea_83a2_38c98644376frow2_col1 {\n            background-color:  green;\n        }    #T_a14c8226_7d6e_11ea_83a2_38c98644376frow2_col2 {\n            background-color:  green;\n        }    #T_a14c8226_7d6e_11ea_83a2_38c98644376frow2_col3 {\n            background-color:  green;\n        }    #T_a14c8226_7d6e_11ea_83a2_38c98644376frow2_col4 {\n            background-color:  green;\n        }    #T_a14c8226_7d6e_11ea_83a2_38c98644376frow3_col0 {\n            background-color:  green;\n        }    #T_a14c8226_7d6e_11ea_83a2_38c98644376frow3_col1 {\n            background-color:  green;\n        }    #T_a14c8226_7d6e_11ea_83a2_38c98644376frow3_col2 {\n            background-color:  green;\n        }    #T_a14c8226_7d6e_11ea_83a2_38c98644376frow3_col3 {\n            background-color:  green;\n        }    #T_a14c8226_7d6e_11ea_83a2_38c98644376frow3_col4 {\n            background-color:  green;\n        }</style><table id=\"T_a14c8226_7d6e_11ea_83a2_38c98644376f\" ><thead>    <tr>        <th class=\"blank level0\" ></th>        <th class=\"col_heading level0 col0\" >a</th>        <th class=\"col_heading level0 col1\" >b</th>        <th class=\"col_heading level0 col2\" >c</th>        <th class=\"col_heading level0 col3\" >d</th>        <th class=\"col_heading level0 col4\" >e</th>    </tr></thead><tbody>\n                <tr>\n                        <th id=\"T_a14c8226_7d6e_11ea_83a2_38c98644376flevel0_row0\" class=\"row_heading level0 row0\" >u</th>\n                        <td id=\"T_a14c8226_7d6e_11ea_83a2_38c98644376frow0_col0\" class=\"data row0 col0\" >25</td>\n                        <td id=\"T_a14c8226_7d6e_11ea_83a2_38c98644376frow0_col1\" class=\"data row0 col1\" >24</td>\n                        <td id=\"T_a14c8226_7d6e_11ea_83a2_38c98644376frow0_col2\" class=\"data row0 col2\" >23</td>\n                        <td id=\"T_a14c8226_7d6e_11ea_83a2_38c98644376frow0_col3\" class=\"data row0 col3\" >22</td>\n                        <td id=\"T_a14c8226_7d6e_11ea_83a2_38c98644376frow0_col4\" class=\"data row0 col4\" >21</td>\n            </tr>\n            <tr>\n                        <th id=\"T_a14c8226_7d6e_11ea_83a2_38c98644376flevel0_row1\" class=\"row_heading level0 row1\" >v</th>\n                        <td id=\"T_a14c8226_7d6e_11ea_83a2_38c98644376frow1_col0\" class=\"data row1 col0\" >20</td>\n                        <td id=\"T_a14c8226_7d6e_11ea_83a2_38c98644376frow1_col1\" class=\"data row1 col1\" >19</td>\n                        <td id=\"T_a14c8226_7d6e_11ea_83a2_38c98644376frow1_col2\" class=\"data row1 col2\" >18</td>\n                        <td id=\"T_a14c8226_7d6e_11ea_83a2_38c98644376frow1_col3\" class=\"data row1 col3\" >17</td>\n                        <td id=\"T_a14c8226_7d6e_11ea_83a2_38c98644376frow1_col4\" class=\"data row1 col4\" >16</td>\n            </tr>\n            <tr>\n                        <th id=\"T_a14c8226_7d6e_11ea_83a2_38c98644376flevel0_row2\" class=\"row_heading level0 row2\" >x</th>\n                        <td id=\"T_a14c8226_7d6e_11ea_83a2_38c98644376frow2_col0\" class=\"data row2 col0\" >15</td>\n                        <td id=\"T_a14c8226_7d6e_11ea_83a2_38c98644376frow2_col1\" class=\"data row2 col1\" >14</td>\n                        <td id=\"T_a14c8226_7d6e_11ea_83a2_38c98644376frow2_col2\" class=\"data row2 col2\" >13</td>\n                        <td id=\"T_a14c8226_7d6e_11ea_83a2_38c98644376frow2_col3\" class=\"data row2 col3\" >12</td>\n                        <td id=\"T_a14c8226_7d6e_11ea_83a2_38c98644376frow2_col4\" class=\"data row2 col4\" >11</td>\n            </tr>\n            <tr>\n                        <th id=\"T_a14c8226_7d6e_11ea_83a2_38c98644376flevel0_row3\" class=\"row_heading level0 row3\" >y</th>\n                        <td id=\"T_a14c8226_7d6e_11ea_83a2_38c98644376frow3_col0\" class=\"data row3 col0\" >10</td>\n                        <td id=\"T_a14c8226_7d6e_11ea_83a2_38c98644376frow3_col1\" class=\"data row3 col1\" >9</td>\n                        <td id=\"T_a14c8226_7d6e_11ea_83a2_38c98644376frow3_col2\" class=\"data row3 col2\" >8</td>\n                        <td id=\"T_a14c8226_7d6e_11ea_83a2_38c98644376frow3_col3\" class=\"data row3 col3\" >7</td>\n                        <td id=\"T_a14c8226_7d6e_11ea_83a2_38c98644376frow3_col4\" class=\"data row3 col4\" >6</td>\n            </tr>\n            <tr>\n                        <th id=\"T_a14c8226_7d6e_11ea_83a2_38c98644376flevel0_row4\" class=\"row_heading level0 row4\" >z</th>\n                        <td id=\"T_a14c8226_7d6e_11ea_83a2_38c98644376frow4_col0\" class=\"data row4 col0\" >5</td>\n                        <td id=\"T_a14c8226_7d6e_11ea_83a2_38c98644376frow4_col1\" class=\"data row4 col1\" >4</td>\n                        <td id=\"T_a14c8226_7d6e_11ea_83a2_38c98644376frow4_col2\" class=\"data row4 col2\" >3</td>\n                        <td id=\"T_a14c8226_7d6e_11ea_83a2_38c98644376frow4_col3\" class=\"data row4 col3\" >2</td>\n                        <td id=\"T_a14c8226_7d6e_11ea_83a2_38c98644376frow4_col4\" class=\"data row4 col4\" >1</td>\n            </tr>\n    </tbody></table>"
     },
     "metadata": {},
     "execution_count": 79
    }
   ],
   "source": [
    "# select a range of continuous rows\n",
    "\n",
    "def highlight_cols(s):\n",
    "    color = 'green'\n",
    "    return 'background-color: %s' % color\n",
    "\n",
    "df.style.applymap(highlight_cols, subset=pd.IndexSlice['v':'y', :])"
   ]
  },
  {
   "cell_type": "code",
   "execution_count": 84,
   "metadata": {},
   "outputs": [
    {
     "output_type": "execute_result",
     "data": {
      "text/plain": "    a   b   c   d   e\nv  20  19  18  17  16\nx  15  14  13  12  11\ny  10   9   8   7   6",
      "text/html": "<div>\n<style scoped>\n    .dataframe tbody tr th:only-of-type {\n        vertical-align: middle;\n    }\n\n    .dataframe tbody tr th {\n        vertical-align: top;\n    }\n\n    .dataframe thead th {\n        text-align: right;\n    }\n</style>\n<table border=\"1\" class=\"dataframe\">\n  <thead>\n    <tr style=\"text-align: right;\">\n      <th></th>\n      <th>a</th>\n      <th>b</th>\n      <th>c</th>\n      <th>d</th>\n      <th>e</th>\n    </tr>\n  </thead>\n  <tbody>\n    <tr>\n      <th>v</th>\n      <td>20</td>\n      <td>19</td>\n      <td>18</td>\n      <td>17</td>\n      <td>16</td>\n    </tr>\n    <tr>\n      <th>x</th>\n      <td>15</td>\n      <td>14</td>\n      <td>13</td>\n      <td>12</td>\n      <td>11</td>\n    </tr>\n    <tr>\n      <th>y</th>\n      <td>10</td>\n      <td>9</td>\n      <td>8</td>\n      <td>7</td>\n      <td>6</td>\n    </tr>\n  </tbody>\n</table>\n</div>"
     },
     "metadata": {},
     "execution_count": 84
    }
   ],
   "source": [
    "# df.loc['v':'y' , :]\n",
    "df.iloc[1:4 , :]    # note that the end of the index range is exclusive"
   ]
  },
  {
   "cell_type": "code",
   "execution_count": 85,
   "metadata": {},
   "outputs": [
    {
     "output_type": "execute_result",
     "data": {
      "text/plain": "<pandas.io.formats.style.Styler at 0x11ccc1d10>",
      "text/html": "<style  type=\"text/css\" >\n    #T_f54b641e_7d6e_11ea_83a2_38c98644376frow1_col0 {\n            background-color:  green;\n        }    #T_f54b641e_7d6e_11ea_83a2_38c98644376frow1_col1 {\n            background-color:  green;\n        }    #T_f54b641e_7d6e_11ea_83a2_38c98644376frow1_col2 {\n            background-color:  green;\n        }    #T_f54b641e_7d6e_11ea_83a2_38c98644376frow1_col3 {\n            background-color:  green;\n        }    #T_f54b641e_7d6e_11ea_83a2_38c98644376frow1_col4 {\n            background-color:  green;\n        }    #T_f54b641e_7d6e_11ea_83a2_38c98644376frow3_col0 {\n            background-color:  green;\n        }    #T_f54b641e_7d6e_11ea_83a2_38c98644376frow3_col1 {\n            background-color:  green;\n        }    #T_f54b641e_7d6e_11ea_83a2_38c98644376frow3_col2 {\n            background-color:  green;\n        }    #T_f54b641e_7d6e_11ea_83a2_38c98644376frow3_col3 {\n            background-color:  green;\n        }    #T_f54b641e_7d6e_11ea_83a2_38c98644376frow3_col4 {\n            background-color:  green;\n        }    #T_f54b641e_7d6e_11ea_83a2_38c98644376frow4_col0 {\n            background-color:  green;\n        }    #T_f54b641e_7d6e_11ea_83a2_38c98644376frow4_col1 {\n            background-color:  green;\n        }    #T_f54b641e_7d6e_11ea_83a2_38c98644376frow4_col2 {\n            background-color:  green;\n        }    #T_f54b641e_7d6e_11ea_83a2_38c98644376frow4_col3 {\n            background-color:  green;\n        }    #T_f54b641e_7d6e_11ea_83a2_38c98644376frow4_col4 {\n            background-color:  green;\n        }</style><table id=\"T_f54b641e_7d6e_11ea_83a2_38c98644376f\" ><thead>    <tr>        <th class=\"blank level0\" ></th>        <th class=\"col_heading level0 col0\" >a</th>        <th class=\"col_heading level0 col1\" >b</th>        <th class=\"col_heading level0 col2\" >c</th>        <th class=\"col_heading level0 col3\" >d</th>        <th class=\"col_heading level0 col4\" >e</th>    </tr></thead><tbody>\n                <tr>\n                        <th id=\"T_f54b641e_7d6e_11ea_83a2_38c98644376flevel0_row0\" class=\"row_heading level0 row0\" >u</th>\n                        <td id=\"T_f54b641e_7d6e_11ea_83a2_38c98644376frow0_col0\" class=\"data row0 col0\" >25</td>\n                        <td id=\"T_f54b641e_7d6e_11ea_83a2_38c98644376frow0_col1\" class=\"data row0 col1\" >24</td>\n                        <td id=\"T_f54b641e_7d6e_11ea_83a2_38c98644376frow0_col2\" class=\"data row0 col2\" >23</td>\n                        <td id=\"T_f54b641e_7d6e_11ea_83a2_38c98644376frow0_col3\" class=\"data row0 col3\" >22</td>\n                        <td id=\"T_f54b641e_7d6e_11ea_83a2_38c98644376frow0_col4\" class=\"data row0 col4\" >21</td>\n            </tr>\n            <tr>\n                        <th id=\"T_f54b641e_7d6e_11ea_83a2_38c98644376flevel0_row1\" class=\"row_heading level0 row1\" >v</th>\n                        <td id=\"T_f54b641e_7d6e_11ea_83a2_38c98644376frow1_col0\" class=\"data row1 col0\" >20</td>\n                        <td id=\"T_f54b641e_7d6e_11ea_83a2_38c98644376frow1_col1\" class=\"data row1 col1\" >19</td>\n                        <td id=\"T_f54b641e_7d6e_11ea_83a2_38c98644376frow1_col2\" class=\"data row1 col2\" >18</td>\n                        <td id=\"T_f54b641e_7d6e_11ea_83a2_38c98644376frow1_col3\" class=\"data row1 col3\" >17</td>\n                        <td id=\"T_f54b641e_7d6e_11ea_83a2_38c98644376frow1_col4\" class=\"data row1 col4\" >16</td>\n            </tr>\n            <tr>\n                        <th id=\"T_f54b641e_7d6e_11ea_83a2_38c98644376flevel0_row2\" class=\"row_heading level0 row2\" >x</th>\n                        <td id=\"T_f54b641e_7d6e_11ea_83a2_38c98644376frow2_col0\" class=\"data row2 col0\" >15</td>\n                        <td id=\"T_f54b641e_7d6e_11ea_83a2_38c98644376frow2_col1\" class=\"data row2 col1\" >14</td>\n                        <td id=\"T_f54b641e_7d6e_11ea_83a2_38c98644376frow2_col2\" class=\"data row2 col2\" >13</td>\n                        <td id=\"T_f54b641e_7d6e_11ea_83a2_38c98644376frow2_col3\" class=\"data row2 col3\" >12</td>\n                        <td id=\"T_f54b641e_7d6e_11ea_83a2_38c98644376frow2_col4\" class=\"data row2 col4\" >11</td>\n            </tr>\n            <tr>\n                        <th id=\"T_f54b641e_7d6e_11ea_83a2_38c98644376flevel0_row3\" class=\"row_heading level0 row3\" >y</th>\n                        <td id=\"T_f54b641e_7d6e_11ea_83a2_38c98644376frow3_col0\" class=\"data row3 col0\" >10</td>\n                        <td id=\"T_f54b641e_7d6e_11ea_83a2_38c98644376frow3_col1\" class=\"data row3 col1\" >9</td>\n                        <td id=\"T_f54b641e_7d6e_11ea_83a2_38c98644376frow3_col2\" class=\"data row3 col2\" >8</td>\n                        <td id=\"T_f54b641e_7d6e_11ea_83a2_38c98644376frow3_col3\" class=\"data row3 col3\" >7</td>\n                        <td id=\"T_f54b641e_7d6e_11ea_83a2_38c98644376frow3_col4\" class=\"data row3 col4\" >6</td>\n            </tr>\n            <tr>\n                        <th id=\"T_f54b641e_7d6e_11ea_83a2_38c98644376flevel0_row4\" class=\"row_heading level0 row4\" >z</th>\n                        <td id=\"T_f54b641e_7d6e_11ea_83a2_38c98644376frow4_col0\" class=\"data row4 col0\" >5</td>\n                        <td id=\"T_f54b641e_7d6e_11ea_83a2_38c98644376frow4_col1\" class=\"data row4 col1\" >4</td>\n                        <td id=\"T_f54b641e_7d6e_11ea_83a2_38c98644376frow4_col2\" class=\"data row4 col2\" >3</td>\n                        <td id=\"T_f54b641e_7d6e_11ea_83a2_38c98644376frow4_col3\" class=\"data row4 col3\" >2</td>\n                        <td id=\"T_f54b641e_7d6e_11ea_83a2_38c98644376frow4_col4\" class=\"data row4 col4\" >1</td>\n            </tr>\n    </tbody></table>"
     },
     "metadata": {},
     "execution_count": 85
    }
   ],
   "source": [
    "# select incontinuous rows\n",
    "\n",
    "def highlight_cols(s):\n",
    "    color = 'green'\n",
    "    return 'background-color: %s' % color\n",
    "\n",
    "df.style.applymap(highlight_cols, subset=pd.IndexSlice[['v', 'y', 'z'], :])"
   ]
  },
  {
   "cell_type": "code",
   "execution_count": 88,
   "metadata": {},
   "outputs": [
    {
     "output_type": "execute_result",
     "data": {
      "text/plain": "    a   b   c   d   e\nv  20  19  18  17  16\ny  10   9   8   7   6\nz   5   4   3   2   1",
      "text/html": "<div>\n<style scoped>\n    .dataframe tbody tr th:only-of-type {\n        vertical-align: middle;\n    }\n\n    .dataframe tbody tr th {\n        vertical-align: top;\n    }\n\n    .dataframe thead th {\n        text-align: right;\n    }\n</style>\n<table border=\"1\" class=\"dataframe\">\n  <thead>\n    <tr style=\"text-align: right;\">\n      <th></th>\n      <th>a</th>\n      <th>b</th>\n      <th>c</th>\n      <th>d</th>\n      <th>e</th>\n    </tr>\n  </thead>\n  <tbody>\n    <tr>\n      <th>v</th>\n      <td>20</td>\n      <td>19</td>\n      <td>18</td>\n      <td>17</td>\n      <td>16</td>\n    </tr>\n    <tr>\n      <th>y</th>\n      <td>10</td>\n      <td>9</td>\n      <td>8</td>\n      <td>7</td>\n      <td>6</td>\n    </tr>\n    <tr>\n      <th>z</th>\n      <td>5</td>\n      <td>4</td>\n      <td>3</td>\n      <td>2</td>\n      <td>1</td>\n    </tr>\n  </tbody>\n</table>\n</div>"
     },
     "metadata": {},
     "execution_count": 88
    }
   ],
   "source": [
    "# df.loc[['v', 'y', 'z'] , :]\n",
    "df.iloc[[1, 3, 4] , :]"
   ]
  },
  {
   "cell_type": "code",
   "execution_count": 89,
   "metadata": {},
   "outputs": [
    {
     "output_type": "execute_result",
     "data": {
      "text/plain": "<pandas.io.formats.style.Styler at 0x11a545190>",
      "text/html": "<style  type=\"text/css\" >\n    #T_2c6b193a_7d6f_11ea_83a2_38c98644376frow1_col0 {\n            background-color:  green;\n        }    #T_2c6b193a_7d6f_11ea_83a2_38c98644376frow1_col1 {\n            background-color:  green;\n        }    #T_2c6b193a_7d6f_11ea_83a2_38c98644376frow1_col2 {\n            background-color:  green;\n        }    #T_2c6b193a_7d6f_11ea_83a2_38c98644376frow1_col3 {\n            background-color:  green;\n        }    #T_2c6b193a_7d6f_11ea_83a2_38c98644376frow1_col4 {\n            background-color:  green;\n        }    #T_2c6b193a_7d6f_11ea_83a2_38c98644376frow3_col0 {\n            background-color:  green;\n        }    #T_2c6b193a_7d6f_11ea_83a2_38c98644376frow3_col1 {\n            background-color:  green;\n        }    #T_2c6b193a_7d6f_11ea_83a2_38c98644376frow3_col2 {\n            background-color:  green;\n        }    #T_2c6b193a_7d6f_11ea_83a2_38c98644376frow3_col3 {\n            background-color:  green;\n        }    #T_2c6b193a_7d6f_11ea_83a2_38c98644376frow3_col4 {\n            background-color:  green;\n        }</style><table id=\"T_2c6b193a_7d6f_11ea_83a2_38c98644376f\" ><thead>    <tr>        <th class=\"blank level0\" ></th>        <th class=\"col_heading level0 col0\" >a</th>        <th class=\"col_heading level0 col1\" >b</th>        <th class=\"col_heading level0 col2\" >c</th>        <th class=\"col_heading level0 col3\" >d</th>        <th class=\"col_heading level0 col4\" >e</th>    </tr></thead><tbody>\n                <tr>\n                        <th id=\"T_2c6b193a_7d6f_11ea_83a2_38c98644376flevel0_row0\" class=\"row_heading level0 row0\" >u</th>\n                        <td id=\"T_2c6b193a_7d6f_11ea_83a2_38c98644376frow0_col0\" class=\"data row0 col0\" >25</td>\n                        <td id=\"T_2c6b193a_7d6f_11ea_83a2_38c98644376frow0_col1\" class=\"data row0 col1\" >24</td>\n                        <td id=\"T_2c6b193a_7d6f_11ea_83a2_38c98644376frow0_col2\" class=\"data row0 col2\" >23</td>\n                        <td id=\"T_2c6b193a_7d6f_11ea_83a2_38c98644376frow0_col3\" class=\"data row0 col3\" >22</td>\n                        <td id=\"T_2c6b193a_7d6f_11ea_83a2_38c98644376frow0_col4\" class=\"data row0 col4\" >21</td>\n            </tr>\n            <tr>\n                        <th id=\"T_2c6b193a_7d6f_11ea_83a2_38c98644376flevel0_row1\" class=\"row_heading level0 row1\" >v</th>\n                        <td id=\"T_2c6b193a_7d6f_11ea_83a2_38c98644376frow1_col0\" class=\"data row1 col0\" >20</td>\n                        <td id=\"T_2c6b193a_7d6f_11ea_83a2_38c98644376frow1_col1\" class=\"data row1 col1\" >19</td>\n                        <td id=\"T_2c6b193a_7d6f_11ea_83a2_38c98644376frow1_col2\" class=\"data row1 col2\" >18</td>\n                        <td id=\"T_2c6b193a_7d6f_11ea_83a2_38c98644376frow1_col3\" class=\"data row1 col3\" >17</td>\n                        <td id=\"T_2c6b193a_7d6f_11ea_83a2_38c98644376frow1_col4\" class=\"data row1 col4\" >16</td>\n            </tr>\n            <tr>\n                        <th id=\"T_2c6b193a_7d6f_11ea_83a2_38c98644376flevel0_row2\" class=\"row_heading level0 row2\" >x</th>\n                        <td id=\"T_2c6b193a_7d6f_11ea_83a2_38c98644376frow2_col0\" class=\"data row2 col0\" >15</td>\n                        <td id=\"T_2c6b193a_7d6f_11ea_83a2_38c98644376frow2_col1\" class=\"data row2 col1\" >14</td>\n                        <td id=\"T_2c6b193a_7d6f_11ea_83a2_38c98644376frow2_col2\" class=\"data row2 col2\" >13</td>\n                        <td id=\"T_2c6b193a_7d6f_11ea_83a2_38c98644376frow2_col3\" class=\"data row2 col3\" >12</td>\n                        <td id=\"T_2c6b193a_7d6f_11ea_83a2_38c98644376frow2_col4\" class=\"data row2 col4\" >11</td>\n            </tr>\n            <tr>\n                        <th id=\"T_2c6b193a_7d6f_11ea_83a2_38c98644376flevel0_row3\" class=\"row_heading level0 row3\" >y</th>\n                        <td id=\"T_2c6b193a_7d6f_11ea_83a2_38c98644376frow3_col0\" class=\"data row3 col0\" >10</td>\n                        <td id=\"T_2c6b193a_7d6f_11ea_83a2_38c98644376frow3_col1\" class=\"data row3 col1\" >9</td>\n                        <td id=\"T_2c6b193a_7d6f_11ea_83a2_38c98644376frow3_col2\" class=\"data row3 col2\" >8</td>\n                        <td id=\"T_2c6b193a_7d6f_11ea_83a2_38c98644376frow3_col3\" class=\"data row3 col3\" >7</td>\n                        <td id=\"T_2c6b193a_7d6f_11ea_83a2_38c98644376frow3_col4\" class=\"data row3 col4\" >6</td>\n            </tr>\n            <tr>\n                        <th id=\"T_2c6b193a_7d6f_11ea_83a2_38c98644376flevel0_row4\" class=\"row_heading level0 row4\" >z</th>\n                        <td id=\"T_2c6b193a_7d6f_11ea_83a2_38c98644376frow4_col0\" class=\"data row4 col0\" >5</td>\n                        <td id=\"T_2c6b193a_7d6f_11ea_83a2_38c98644376frow4_col1\" class=\"data row4 col1\" >4</td>\n                        <td id=\"T_2c6b193a_7d6f_11ea_83a2_38c98644376frow4_col2\" class=\"data row4 col2\" >3</td>\n                        <td id=\"T_2c6b193a_7d6f_11ea_83a2_38c98644376frow4_col3\" class=\"data row4 col3\" >2</td>\n                        <td id=\"T_2c6b193a_7d6f_11ea_83a2_38c98644376frow4_col4\" class=\"data row4 col4\" >1</td>\n            </tr>\n    </tbody></table>"
     },
     "metadata": {},
     "execution_count": 89
    }
   ],
   "source": [
    "# select every nth rows\n",
    "\n",
    "def highlight_cols(s):\n",
    "    color = 'green'\n",
    "    return 'background-color: %s' % color\n",
    "\n",
    "df.style.applymap(highlight_cols, subset=pd.IndexSlice[['v', 'y'], :])"
   ]
  },
  {
   "cell_type": "code",
   "execution_count": 118,
   "metadata": {},
   "outputs": [
    {
     "output_type": "execute_result",
     "data": {
      "text/plain": "    a   b   c   d   e\nv  20  19  18  17  16\ny  10   9   8   7   6",
      "text/html": "<div>\n<style scoped>\n    .dataframe tbody tr th:only-of-type {\n        vertical-align: middle;\n    }\n\n    .dataframe tbody tr th {\n        vertical-align: top;\n    }\n\n    .dataframe thead th {\n        text-align: right;\n    }\n</style>\n<table border=\"1\" class=\"dataframe\">\n  <thead>\n    <tr style=\"text-align: right;\">\n      <th></th>\n      <th>a</th>\n      <th>b</th>\n      <th>c</th>\n      <th>d</th>\n      <th>e</th>\n    </tr>\n  </thead>\n  <tbody>\n    <tr>\n      <th>v</th>\n      <td>20</td>\n      <td>19</td>\n      <td>18</td>\n      <td>17</td>\n      <td>16</td>\n    </tr>\n    <tr>\n      <th>y</th>\n      <td>10</td>\n      <td>9</td>\n      <td>8</td>\n      <td>7</td>\n      <td>6</td>\n    </tr>\n  </tbody>\n</table>\n</div>"
     },
     "metadata": {},
     "execution_count": 118
    }
   ],
   "source": [
    "# df.loc[df.index[1::2] , :]\n",
    "df.iloc[1::2 , :]"
   ]
  },
  {
   "cell_type": "markdown",
   "metadata": {},
   "source": [
    "## select column(s) and row(s) by name or index"
   ]
  },
  {
   "cell_type": "code",
   "execution_count": 121,
   "metadata": {},
   "outputs": [
    {
     "output_type": "execute_result",
     "data": {
      "text/plain": "<pandas.io.formats.style.Styler at 0x11d3b5350>",
      "text/html": "<style  type=\"text/css\" >\n    #T_09dca8c8_7d71_11ea_83a2_38c98644376frow0_col0 {\n            background-color:  green;\n        }    #T_09dca8c8_7d71_11ea_83a2_38c98644376frow0_col2 {\n            background-color:  green;\n        }    #T_09dca8c8_7d71_11ea_83a2_38c98644376frow0_col4 {\n            background-color:  green;\n        }    #T_09dca8c8_7d71_11ea_83a2_38c98644376frow2_col0 {\n            background-color:  green;\n        }    #T_09dca8c8_7d71_11ea_83a2_38c98644376frow2_col2 {\n            background-color:  green;\n        }    #T_09dca8c8_7d71_11ea_83a2_38c98644376frow2_col4 {\n            background-color:  green;\n        }    #T_09dca8c8_7d71_11ea_83a2_38c98644376frow4_col0 {\n            background-color:  green;\n        }    #T_09dca8c8_7d71_11ea_83a2_38c98644376frow4_col2 {\n            background-color:  green;\n        }    #T_09dca8c8_7d71_11ea_83a2_38c98644376frow4_col4 {\n            background-color:  green;\n        }</style><table id=\"T_09dca8c8_7d71_11ea_83a2_38c98644376f\" ><thead>    <tr>        <th class=\"blank level0\" ></th>        <th class=\"col_heading level0 col0\" >a</th>        <th class=\"col_heading level0 col1\" >b</th>        <th class=\"col_heading level0 col2\" >c</th>        <th class=\"col_heading level0 col3\" >d</th>        <th class=\"col_heading level0 col4\" >e</th>    </tr></thead><tbody>\n                <tr>\n                        <th id=\"T_09dca8c8_7d71_11ea_83a2_38c98644376flevel0_row0\" class=\"row_heading level0 row0\" >u</th>\n                        <td id=\"T_09dca8c8_7d71_11ea_83a2_38c98644376frow0_col0\" class=\"data row0 col0\" >25</td>\n                        <td id=\"T_09dca8c8_7d71_11ea_83a2_38c98644376frow0_col1\" class=\"data row0 col1\" >24</td>\n                        <td id=\"T_09dca8c8_7d71_11ea_83a2_38c98644376frow0_col2\" class=\"data row0 col2\" >23</td>\n                        <td id=\"T_09dca8c8_7d71_11ea_83a2_38c98644376frow0_col3\" class=\"data row0 col3\" >22</td>\n                        <td id=\"T_09dca8c8_7d71_11ea_83a2_38c98644376frow0_col4\" class=\"data row0 col4\" >21</td>\n            </tr>\n            <tr>\n                        <th id=\"T_09dca8c8_7d71_11ea_83a2_38c98644376flevel0_row1\" class=\"row_heading level0 row1\" >v</th>\n                        <td id=\"T_09dca8c8_7d71_11ea_83a2_38c98644376frow1_col0\" class=\"data row1 col0\" >20</td>\n                        <td id=\"T_09dca8c8_7d71_11ea_83a2_38c98644376frow1_col1\" class=\"data row1 col1\" >19</td>\n                        <td id=\"T_09dca8c8_7d71_11ea_83a2_38c98644376frow1_col2\" class=\"data row1 col2\" >18</td>\n                        <td id=\"T_09dca8c8_7d71_11ea_83a2_38c98644376frow1_col3\" class=\"data row1 col3\" >17</td>\n                        <td id=\"T_09dca8c8_7d71_11ea_83a2_38c98644376frow1_col4\" class=\"data row1 col4\" >16</td>\n            </tr>\n            <tr>\n                        <th id=\"T_09dca8c8_7d71_11ea_83a2_38c98644376flevel0_row2\" class=\"row_heading level0 row2\" >x</th>\n                        <td id=\"T_09dca8c8_7d71_11ea_83a2_38c98644376frow2_col0\" class=\"data row2 col0\" >15</td>\n                        <td id=\"T_09dca8c8_7d71_11ea_83a2_38c98644376frow2_col1\" class=\"data row2 col1\" >14</td>\n                        <td id=\"T_09dca8c8_7d71_11ea_83a2_38c98644376frow2_col2\" class=\"data row2 col2\" >13</td>\n                        <td id=\"T_09dca8c8_7d71_11ea_83a2_38c98644376frow2_col3\" class=\"data row2 col3\" >12</td>\n                        <td id=\"T_09dca8c8_7d71_11ea_83a2_38c98644376frow2_col4\" class=\"data row2 col4\" >11</td>\n            </tr>\n            <tr>\n                        <th id=\"T_09dca8c8_7d71_11ea_83a2_38c98644376flevel0_row3\" class=\"row_heading level0 row3\" >y</th>\n                        <td id=\"T_09dca8c8_7d71_11ea_83a2_38c98644376frow3_col0\" class=\"data row3 col0\" >10</td>\n                        <td id=\"T_09dca8c8_7d71_11ea_83a2_38c98644376frow3_col1\" class=\"data row3 col1\" >9</td>\n                        <td id=\"T_09dca8c8_7d71_11ea_83a2_38c98644376frow3_col2\" class=\"data row3 col2\" >8</td>\n                        <td id=\"T_09dca8c8_7d71_11ea_83a2_38c98644376frow3_col3\" class=\"data row3 col3\" >7</td>\n                        <td id=\"T_09dca8c8_7d71_11ea_83a2_38c98644376frow3_col4\" class=\"data row3 col4\" >6</td>\n            </tr>\n            <tr>\n                        <th id=\"T_09dca8c8_7d71_11ea_83a2_38c98644376flevel0_row4\" class=\"row_heading level0 row4\" >z</th>\n                        <td id=\"T_09dca8c8_7d71_11ea_83a2_38c98644376frow4_col0\" class=\"data row4 col0\" >5</td>\n                        <td id=\"T_09dca8c8_7d71_11ea_83a2_38c98644376frow4_col1\" class=\"data row4 col1\" >4</td>\n                        <td id=\"T_09dca8c8_7d71_11ea_83a2_38c98644376frow4_col2\" class=\"data row4 col2\" >3</td>\n                        <td id=\"T_09dca8c8_7d71_11ea_83a2_38c98644376frow4_col3\" class=\"data row4 col3\" >2</td>\n                        <td id=\"T_09dca8c8_7d71_11ea_83a2_38c98644376frow4_col4\" class=\"data row4 col4\" >1</td>\n            </tr>\n    </tbody></table>"
     },
     "metadata": {},
     "execution_count": 121
    }
   ],
   "source": [
    "# select every nth rows\n",
    "\n",
    "def highlight_cols(s):\n",
    "    color = 'green'\n",
    "    return 'background-color: %s' % color\n",
    "\n",
    "df.style.applymap(highlight_cols, subset=pd.IndexSlice[['u', 'x', 'z'], ['a', 'c', 'e']])"
   ]
  },
  {
   "cell_type": "code",
   "execution_count": 124,
   "metadata": {},
   "outputs": [
    {
     "output_type": "execute_result",
     "data": {
      "text/plain": "    a   c   e\nu  25  23  21\nx  15  13  11\nz   5   3   1",
      "text/html": "<div>\n<style scoped>\n    .dataframe tbody tr th:only-of-type {\n        vertical-align: middle;\n    }\n\n    .dataframe tbody tr th {\n        vertical-align: top;\n    }\n\n    .dataframe thead th {\n        text-align: right;\n    }\n</style>\n<table border=\"1\" class=\"dataframe\">\n  <thead>\n    <tr style=\"text-align: right;\">\n      <th></th>\n      <th>a</th>\n      <th>c</th>\n      <th>e</th>\n    </tr>\n  </thead>\n  <tbody>\n    <tr>\n      <th>u</th>\n      <td>25</td>\n      <td>23</td>\n      <td>21</td>\n    </tr>\n    <tr>\n      <th>x</th>\n      <td>15</td>\n      <td>13</td>\n      <td>11</td>\n    </tr>\n    <tr>\n      <th>z</th>\n      <td>5</td>\n      <td>3</td>\n      <td>1</td>\n    </tr>\n  </tbody>\n</table>\n</div>"
     },
     "metadata": {},
     "execution_count": 124
    }
   ],
   "source": [
    "# df.loc[['u', 'x', 'z'] , ['a', 'c', 'e']]\n",
    "df.iloc[[0, 2, 4] , [0, 2, 4]]"
   ]
  },
  {
   "cell_type": "markdown",
   "metadata": {},
   "source": [
    "## select a row by condition for values in one column"
   ]
  },
  {
   "cell_type": "code",
   "execution_count": 141,
   "metadata": {},
   "outputs": [
    {
     "output_type": "execute_result",
     "data": {
      "text/plain": "<pandas.io.formats.style.Styler at 0x11cd7e750>",
      "text/html": "<style  type=\"text/css\" >\n    #T_f16dd244_7d75_11ea_83a2_38c98644376frow0_col0 {\n            background-color:  green;\n        }    #T_f16dd244_7d75_11ea_83a2_38c98644376frow0_col1 {\n            background-color:  green;\n        }    #T_f16dd244_7d75_11ea_83a2_38c98644376frow0_col2 {\n            background-color:  green;\n        }    #T_f16dd244_7d75_11ea_83a2_38c98644376frow0_col3 {\n            background-color:  green;\n        }    #T_f16dd244_7d75_11ea_83a2_38c98644376frow0_col4 {\n            background-color:  green;\n        }    #T_f16dd244_7d75_11ea_83a2_38c98644376frow1_col0 {\n            background-color:  green;\n        }    #T_f16dd244_7d75_11ea_83a2_38c98644376frow1_col1 {\n            background-color:  green;\n        }    #T_f16dd244_7d75_11ea_83a2_38c98644376frow1_col2 {\n            background-color:  green;\n        }    #T_f16dd244_7d75_11ea_83a2_38c98644376frow1_col3 {\n            background-color:  green;\n        }    #T_f16dd244_7d75_11ea_83a2_38c98644376frow1_col4 {\n            background-color:  green;\n        }    #T_f16dd244_7d75_11ea_83a2_38c98644376frow2_col0 {\n            background-color:  green;\n        }    #T_f16dd244_7d75_11ea_83a2_38c98644376frow2_col1 {\n            background-color:  green;\n        }    #T_f16dd244_7d75_11ea_83a2_38c98644376frow2_col2 {\n            background-color:  green;\n        }    #T_f16dd244_7d75_11ea_83a2_38c98644376frow2_col3 {\n            background-color:  green;\n        }    #T_f16dd244_7d75_11ea_83a2_38c98644376frow2_col4 {\n            background-color:  green;\n        }</style><table id=\"T_f16dd244_7d75_11ea_83a2_38c98644376f\" ><thead>    <tr>        <th class=\"blank level0\" ></th>        <th class=\"col_heading level0 col0\" >a</th>        <th class=\"col_heading level0 col1\" >b</th>        <th class=\"col_heading level0 col2\" >c</th>        <th class=\"col_heading level0 col3\" >d</th>        <th class=\"col_heading level0 col4\" >e</th>    </tr></thead><tbody>\n                <tr>\n                        <th id=\"T_f16dd244_7d75_11ea_83a2_38c98644376flevel0_row0\" class=\"row_heading level0 row0\" >u</th>\n                        <td id=\"T_f16dd244_7d75_11ea_83a2_38c98644376frow0_col0\" class=\"data row0 col0\" >25</td>\n                        <td id=\"T_f16dd244_7d75_11ea_83a2_38c98644376frow0_col1\" class=\"data row0 col1\" >24</td>\n                        <td id=\"T_f16dd244_7d75_11ea_83a2_38c98644376frow0_col2\" class=\"data row0 col2\" >23</td>\n                        <td id=\"T_f16dd244_7d75_11ea_83a2_38c98644376frow0_col3\" class=\"data row0 col3\" >22</td>\n                        <td id=\"T_f16dd244_7d75_11ea_83a2_38c98644376frow0_col4\" class=\"data row0 col4\" >21</td>\n            </tr>\n            <tr>\n                        <th id=\"T_f16dd244_7d75_11ea_83a2_38c98644376flevel0_row1\" class=\"row_heading level0 row1\" >v</th>\n                        <td id=\"T_f16dd244_7d75_11ea_83a2_38c98644376frow1_col0\" class=\"data row1 col0\" >20</td>\n                        <td id=\"T_f16dd244_7d75_11ea_83a2_38c98644376frow1_col1\" class=\"data row1 col1\" >19</td>\n                        <td id=\"T_f16dd244_7d75_11ea_83a2_38c98644376frow1_col2\" class=\"data row1 col2\" >18</td>\n                        <td id=\"T_f16dd244_7d75_11ea_83a2_38c98644376frow1_col3\" class=\"data row1 col3\" >17</td>\n                        <td id=\"T_f16dd244_7d75_11ea_83a2_38c98644376frow1_col4\" class=\"data row1 col4\" >16</td>\n            </tr>\n            <tr>\n                        <th id=\"T_f16dd244_7d75_11ea_83a2_38c98644376flevel0_row2\" class=\"row_heading level0 row2\" >x</th>\n                        <td id=\"T_f16dd244_7d75_11ea_83a2_38c98644376frow2_col0\" class=\"data row2 col0\" >15</td>\n                        <td id=\"T_f16dd244_7d75_11ea_83a2_38c98644376frow2_col1\" class=\"data row2 col1\" >14</td>\n                        <td id=\"T_f16dd244_7d75_11ea_83a2_38c98644376frow2_col2\" class=\"data row2 col2\" >13</td>\n                        <td id=\"T_f16dd244_7d75_11ea_83a2_38c98644376frow2_col3\" class=\"data row2 col3\" >12</td>\n                        <td id=\"T_f16dd244_7d75_11ea_83a2_38c98644376frow2_col4\" class=\"data row2 col4\" >11</td>\n            </tr>\n            <tr>\n                        <th id=\"T_f16dd244_7d75_11ea_83a2_38c98644376flevel0_row3\" class=\"row_heading level0 row3\" >y</th>\n                        <td id=\"T_f16dd244_7d75_11ea_83a2_38c98644376frow3_col0\" class=\"data row3 col0\" >10</td>\n                        <td id=\"T_f16dd244_7d75_11ea_83a2_38c98644376frow3_col1\" class=\"data row3 col1\" >9</td>\n                        <td id=\"T_f16dd244_7d75_11ea_83a2_38c98644376frow3_col2\" class=\"data row3 col2\" >8</td>\n                        <td id=\"T_f16dd244_7d75_11ea_83a2_38c98644376frow3_col3\" class=\"data row3 col3\" >7</td>\n                        <td id=\"T_f16dd244_7d75_11ea_83a2_38c98644376frow3_col4\" class=\"data row3 col4\" >6</td>\n            </tr>\n            <tr>\n                        <th id=\"T_f16dd244_7d75_11ea_83a2_38c98644376flevel0_row4\" class=\"row_heading level0 row4\" >z</th>\n                        <td id=\"T_f16dd244_7d75_11ea_83a2_38c98644376frow4_col0\" class=\"data row4 col0\" >5</td>\n                        <td id=\"T_f16dd244_7d75_11ea_83a2_38c98644376frow4_col1\" class=\"data row4 col1\" >4</td>\n                        <td id=\"T_f16dd244_7d75_11ea_83a2_38c98644376frow4_col2\" class=\"data row4 col2\" >3</td>\n                        <td id=\"T_f16dd244_7d75_11ea_83a2_38c98644376frow4_col3\" class=\"data row4 col3\" >2</td>\n                        <td id=\"T_f16dd244_7d75_11ea_83a2_38c98644376frow4_col4\" class=\"data row4 col4\" >1</td>\n            </tr>\n    </tbody></table>"
     },
     "metadata": {},
     "execution_count": 141
    }
   ],
   "source": [
    "def highlight_cols(s):\n",
    "    color = 'green'\n",
    "    return 'background-color: %s' % color\n",
    "\n",
    "df.style.applymap(highlight_cols, subset=pd.IndexSlice['u':'x' , :])"
   ]
  },
  {
   "cell_type": "code",
   "execution_count": 142,
   "metadata": {},
   "outputs": [
    {
     "output_type": "execute_result",
     "data": {
      "text/plain": "    a   b   c   d   e\nu  25  24  23  22  21\nv  20  19  18  17  16\nx  15  14  13  12  11",
      "text/html": "<div>\n<style scoped>\n    .dataframe tbody tr th:only-of-type {\n        vertical-align: middle;\n    }\n\n    .dataframe tbody tr th {\n        vertical-align: top;\n    }\n\n    .dataframe thead th {\n        text-align: right;\n    }\n</style>\n<table border=\"1\" class=\"dataframe\">\n  <thead>\n    <tr style=\"text-align: right;\">\n      <th></th>\n      <th>a</th>\n      <th>b</th>\n      <th>c</th>\n      <th>d</th>\n      <th>e</th>\n    </tr>\n  </thead>\n  <tbody>\n    <tr>\n      <th>u</th>\n      <td>25</td>\n      <td>24</td>\n      <td>23</td>\n      <td>22</td>\n      <td>21</td>\n    </tr>\n    <tr>\n      <th>v</th>\n      <td>20</td>\n      <td>19</td>\n      <td>18</td>\n      <td>17</td>\n      <td>16</td>\n    </tr>\n    <tr>\n      <th>x</th>\n      <td>15</td>\n      <td>14</td>\n      <td>13</td>\n      <td>12</td>\n      <td>11</td>\n    </tr>\n  </tbody>\n</table>\n</div>"
     },
     "metadata": {},
     "execution_count": 142
    }
   ],
   "source": [
    "df[ df['d'] >= 12 ]"
   ]
  },
  {
   "cell_type": "code",
   "execution_count": null,
   "metadata": {},
   "outputs": [],
   "source": []
  }
 ]
}