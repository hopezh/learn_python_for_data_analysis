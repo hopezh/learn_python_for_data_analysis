{
 "cells": [
  {
   "cell_type": "markdown",
   "metadata": {},
   "source": [
    "# Pandas Dataframe slicing methods\n",
    "\n",
    "styling reference: \n",
    "\n",
    "- https://stackoverflow.com/questions/41654949/pandas-style-function-to-highlight-specific-columns\n",
    "\n",
    "- https://kanoki.org/2019/01/02/pandas-trick-for-the-day-color-code-columns-rows-cells-of-dataframe/"
   ]
  },
  {
   "cell_type": "code",
   "execution_count": 4,
   "metadata": {},
   "outputs": [],
   "source": [
    "import numpy as np\n",
    "import pandas as pd"
   ]
  },
  {
   "cell_type": "code",
   "execution_count": 5,
   "metadata": {},
   "outputs": [
    {
     "output_type": "execute_result",
     "data": {
      "text/plain": "    a   b   c   d   e\nu  25  24  23  22  21\nv  20  19  18  17  16\nx  15  14  13  12  11\ny  10   9   8   7   6\nz   5   4   3   2   1",
      "text/html": "<div>\n<style scoped>\n    .dataframe tbody tr th:only-of-type {\n        vertical-align: middle;\n    }\n\n    .dataframe tbody tr th {\n        vertical-align: top;\n    }\n\n    .dataframe thead th {\n        text-align: right;\n    }\n</style>\n<table border=\"1\" class=\"dataframe\">\n  <thead>\n    <tr style=\"text-align: right;\">\n      <th></th>\n      <th>a</th>\n      <th>b</th>\n      <th>c</th>\n      <th>d</th>\n      <th>e</th>\n    </tr>\n  </thead>\n  <tbody>\n    <tr>\n      <th>u</th>\n      <td>25</td>\n      <td>24</td>\n      <td>23</td>\n      <td>22</td>\n      <td>21</td>\n    </tr>\n    <tr>\n      <th>v</th>\n      <td>20</td>\n      <td>19</td>\n      <td>18</td>\n      <td>17</td>\n      <td>16</td>\n    </tr>\n    <tr>\n      <th>x</th>\n      <td>15</td>\n      <td>14</td>\n      <td>13</td>\n      <td>12</td>\n      <td>11</td>\n    </tr>\n    <tr>\n      <th>y</th>\n      <td>10</td>\n      <td>9</td>\n      <td>8</td>\n      <td>7</td>\n      <td>6</td>\n    </tr>\n    <tr>\n      <th>z</th>\n      <td>5</td>\n      <td>4</td>\n      <td>3</td>\n      <td>2</td>\n      <td>1</td>\n    </tr>\n  </tbody>\n</table>\n</div>"
     },
     "metadata": {},
     "execution_count": 5
    }
   ],
   "source": [
    "# create a dummy pd DF\n",
    "df = pd.DataFrame(\n",
    "    {\n",
    "        'a': [25, 20, 15, 10, 5],\n",
    "        'b': [24, 19, 14, 9, 4],\n",
    "        'c': [23, 18, 13, 8, 3],\n",
    "        'd': [22, 17, 12, 7, 2],\n",
    "        'e': [21, 16, 11, 6, 1]\n",
    "    }, \n",
    "    index = ['u', 'v', 'x', 'y', 'z']\n",
    ")\n",
    "\n",
    "df"
   ]
  },
  {
   "cell_type": "markdown",
   "metadata": {},
   "source": [
    "## select column(s) by name or index"
   ]
  },
  {
   "cell_type": "markdown",
   "metadata": {},
   "source": [
    "### select one column"
   ]
  },
  {
   "cell_type": "code",
   "execution_count": 6,
   "metadata": {},
   "outputs": [
    {
     "output_type": "execute_result",
     "data": {
      "text/plain": "<pandas.io.formats.style.Styler at 0x10e280d90>",
      "text/html": "<style  type=\"text/css\" >\n    #T_83b157e8_8aaf_11ea_a70f_38c98644376frow0_col1 {\n            background-color:  green;\n        }    #T_83b157e8_8aaf_11ea_a70f_38c98644376frow1_col1 {\n            background-color:  green;\n        }    #T_83b157e8_8aaf_11ea_a70f_38c98644376frow2_col1 {\n            background-color:  green;\n        }    #T_83b157e8_8aaf_11ea_a70f_38c98644376frow3_col1 {\n            background-color:  green;\n        }    #T_83b157e8_8aaf_11ea_a70f_38c98644376frow4_col1 {\n            background-color:  green;\n        }</style><table id=\"T_83b157e8_8aaf_11ea_a70f_38c98644376f\" ><thead>    <tr>        <th class=\"blank level0\" ></th>        <th class=\"col_heading level0 col0\" >a</th>        <th class=\"col_heading level0 col1\" >b</th>        <th class=\"col_heading level0 col2\" >c</th>        <th class=\"col_heading level0 col3\" >d</th>        <th class=\"col_heading level0 col4\" >e</th>    </tr></thead><tbody>\n                <tr>\n                        <th id=\"T_83b157e8_8aaf_11ea_a70f_38c98644376flevel0_row0\" class=\"row_heading level0 row0\" >u</th>\n                        <td id=\"T_83b157e8_8aaf_11ea_a70f_38c98644376frow0_col0\" class=\"data row0 col0\" >25</td>\n                        <td id=\"T_83b157e8_8aaf_11ea_a70f_38c98644376frow0_col1\" class=\"data row0 col1\" >24</td>\n                        <td id=\"T_83b157e8_8aaf_11ea_a70f_38c98644376frow0_col2\" class=\"data row0 col2\" >23</td>\n                        <td id=\"T_83b157e8_8aaf_11ea_a70f_38c98644376frow0_col3\" class=\"data row0 col3\" >22</td>\n                        <td id=\"T_83b157e8_8aaf_11ea_a70f_38c98644376frow0_col4\" class=\"data row0 col4\" >21</td>\n            </tr>\n            <tr>\n                        <th id=\"T_83b157e8_8aaf_11ea_a70f_38c98644376flevel0_row1\" class=\"row_heading level0 row1\" >v</th>\n                        <td id=\"T_83b157e8_8aaf_11ea_a70f_38c98644376frow1_col0\" class=\"data row1 col0\" >20</td>\n                        <td id=\"T_83b157e8_8aaf_11ea_a70f_38c98644376frow1_col1\" class=\"data row1 col1\" >19</td>\n                        <td id=\"T_83b157e8_8aaf_11ea_a70f_38c98644376frow1_col2\" class=\"data row1 col2\" >18</td>\n                        <td id=\"T_83b157e8_8aaf_11ea_a70f_38c98644376frow1_col3\" class=\"data row1 col3\" >17</td>\n                        <td id=\"T_83b157e8_8aaf_11ea_a70f_38c98644376frow1_col4\" class=\"data row1 col4\" >16</td>\n            </tr>\n            <tr>\n                        <th id=\"T_83b157e8_8aaf_11ea_a70f_38c98644376flevel0_row2\" class=\"row_heading level0 row2\" >x</th>\n                        <td id=\"T_83b157e8_8aaf_11ea_a70f_38c98644376frow2_col0\" class=\"data row2 col0\" >15</td>\n                        <td id=\"T_83b157e8_8aaf_11ea_a70f_38c98644376frow2_col1\" class=\"data row2 col1\" >14</td>\n                        <td id=\"T_83b157e8_8aaf_11ea_a70f_38c98644376frow2_col2\" class=\"data row2 col2\" >13</td>\n                        <td id=\"T_83b157e8_8aaf_11ea_a70f_38c98644376frow2_col3\" class=\"data row2 col3\" >12</td>\n                        <td id=\"T_83b157e8_8aaf_11ea_a70f_38c98644376frow2_col4\" class=\"data row2 col4\" >11</td>\n            </tr>\n            <tr>\n                        <th id=\"T_83b157e8_8aaf_11ea_a70f_38c98644376flevel0_row3\" class=\"row_heading level0 row3\" >y</th>\n                        <td id=\"T_83b157e8_8aaf_11ea_a70f_38c98644376frow3_col0\" class=\"data row3 col0\" >10</td>\n                        <td id=\"T_83b157e8_8aaf_11ea_a70f_38c98644376frow3_col1\" class=\"data row3 col1\" >9</td>\n                        <td id=\"T_83b157e8_8aaf_11ea_a70f_38c98644376frow3_col2\" class=\"data row3 col2\" >8</td>\n                        <td id=\"T_83b157e8_8aaf_11ea_a70f_38c98644376frow3_col3\" class=\"data row3 col3\" >7</td>\n                        <td id=\"T_83b157e8_8aaf_11ea_a70f_38c98644376frow3_col4\" class=\"data row3 col4\" >6</td>\n            </tr>\n            <tr>\n                        <th id=\"T_83b157e8_8aaf_11ea_a70f_38c98644376flevel0_row4\" class=\"row_heading level0 row4\" >z</th>\n                        <td id=\"T_83b157e8_8aaf_11ea_a70f_38c98644376frow4_col0\" class=\"data row4 col0\" >5</td>\n                        <td id=\"T_83b157e8_8aaf_11ea_a70f_38c98644376frow4_col1\" class=\"data row4 col1\" >4</td>\n                        <td id=\"T_83b157e8_8aaf_11ea_a70f_38c98644376frow4_col2\" class=\"data row4 col2\" >3</td>\n                        <td id=\"T_83b157e8_8aaf_11ea_a70f_38c98644376frow4_col3\" class=\"data row4 col3\" >2</td>\n                        <td id=\"T_83b157e8_8aaf_11ea_a70f_38c98644376frow4_col4\" class=\"data row4 col4\" >1</td>\n            </tr>\n    </tbody></table>"
     },
     "metadata": {},
     "execution_count": 6
    }
   ],
   "source": [
    "def highlight_cols(s):\n",
    "    color = 'green'\n",
    "    return 'background-color: %s' % color\n",
    "\n",
    "df.style.applymap(highlight_cols, subset=pd.IndexSlice[:, ['b']])"
   ]
  },
  {
   "cell_type": "code",
   "execution_count": 7,
   "metadata": {},
   "outputs": [
    {
     "output_type": "execute_result",
     "data": {
      "text/plain": "u    24\nv    19\nx    14\ny     9\nz     4\nName: b, dtype: int64"
     },
     "metadata": {},
     "execution_count": 7
    }
   ],
   "source": [
    "# return a pd Series\n",
    "\n",
    "# df['b']         # via column name\n",
    "# df.b            # via the dot notation, i.e. treat column name as attribute\n",
    "# df.loc[:, 'b']  # loc column name\n",
    "df.iloc[:, 1]   # iloc column index num"
   ]
  },
  {
   "cell_type": "code",
   "execution_count": 8,
   "metadata": {},
   "outputs": [
    {
     "output_type": "execute_result",
     "data": {
      "text/plain": "    b\nu  24\nv  19\nx  14\ny   9\nz   4",
      "text/html": "<div>\n<style scoped>\n    .dataframe tbody tr th:only-of-type {\n        vertical-align: middle;\n    }\n\n    .dataframe tbody tr th {\n        vertical-align: top;\n    }\n\n    .dataframe thead th {\n        text-align: right;\n    }\n</style>\n<table border=\"1\" class=\"dataframe\">\n  <thead>\n    <tr style=\"text-align: right;\">\n      <th></th>\n      <th>b</th>\n    </tr>\n  </thead>\n  <tbody>\n    <tr>\n      <th>u</th>\n      <td>24</td>\n    </tr>\n    <tr>\n      <th>v</th>\n      <td>19</td>\n    </tr>\n    <tr>\n      <th>x</th>\n      <td>14</td>\n    </tr>\n    <tr>\n      <th>y</th>\n      <td>9</td>\n    </tr>\n    <tr>\n      <th>z</th>\n      <td>4</td>\n    </tr>\n  </tbody>\n</table>\n</div>"
     },
     "metadata": {},
     "execution_count": 8
    }
   ],
   "source": [
    "# return a pd DataFrame\n",
    "\n",
    "# df.loc[: , df.columns.isin(['b'])]                  # via boolean value\n",
    "# df.loc[: , np.logical_not(df.columns.isin(['a', 'c', 'd', 'e']))]\n",
    "df.loc[: , ~df.columns.isin(['a', 'c', 'd', 'e'])]  # via the negative of boolean value"
   ]
  },
  {
   "cell_type": "code",
   "execution_count": 9,
   "metadata": {},
   "outputs": [
    {
     "output_type": "execute_result",
     "data": {
      "text/plain": "<pandas.io.formats.style.Styler at 0x11c16e1d0>",
      "text/html": "<style  type=\"text/css\" >\n    #T_83d609c6_8aaf_11ea_a70f_38c98644376frow0_col1 {\n            background-color:  green;\n        }    #T_83d609c6_8aaf_11ea_a70f_38c98644376frow0_col2 {\n            background-color:  green;\n        }    #T_83d609c6_8aaf_11ea_a70f_38c98644376frow0_col3 {\n            background-color:  green;\n        }    #T_83d609c6_8aaf_11ea_a70f_38c98644376frow1_col1 {\n            background-color:  green;\n        }    #T_83d609c6_8aaf_11ea_a70f_38c98644376frow1_col2 {\n            background-color:  green;\n        }    #T_83d609c6_8aaf_11ea_a70f_38c98644376frow1_col3 {\n            background-color:  green;\n        }    #T_83d609c6_8aaf_11ea_a70f_38c98644376frow2_col1 {\n            background-color:  green;\n        }    #T_83d609c6_8aaf_11ea_a70f_38c98644376frow2_col2 {\n            background-color:  green;\n        }    #T_83d609c6_8aaf_11ea_a70f_38c98644376frow2_col3 {\n            background-color:  green;\n        }    #T_83d609c6_8aaf_11ea_a70f_38c98644376frow3_col1 {\n            background-color:  green;\n        }    #T_83d609c6_8aaf_11ea_a70f_38c98644376frow3_col2 {\n            background-color:  green;\n        }    #T_83d609c6_8aaf_11ea_a70f_38c98644376frow3_col3 {\n            background-color:  green;\n        }    #T_83d609c6_8aaf_11ea_a70f_38c98644376frow4_col1 {\n            background-color:  green;\n        }    #T_83d609c6_8aaf_11ea_a70f_38c98644376frow4_col2 {\n            background-color:  green;\n        }    #T_83d609c6_8aaf_11ea_a70f_38c98644376frow4_col3 {\n            background-color:  green;\n        }</style><table id=\"T_83d609c6_8aaf_11ea_a70f_38c98644376f\" ><thead>    <tr>        <th class=\"blank level0\" ></th>        <th class=\"col_heading level0 col0\" >a</th>        <th class=\"col_heading level0 col1\" >b</th>        <th class=\"col_heading level0 col2\" >c</th>        <th class=\"col_heading level0 col3\" >d</th>        <th class=\"col_heading level0 col4\" >e</th>    </tr></thead><tbody>\n                <tr>\n                        <th id=\"T_83d609c6_8aaf_11ea_a70f_38c98644376flevel0_row0\" class=\"row_heading level0 row0\" >u</th>\n                        <td id=\"T_83d609c6_8aaf_11ea_a70f_38c98644376frow0_col0\" class=\"data row0 col0\" >25</td>\n                        <td id=\"T_83d609c6_8aaf_11ea_a70f_38c98644376frow0_col1\" class=\"data row0 col1\" >24</td>\n                        <td id=\"T_83d609c6_8aaf_11ea_a70f_38c98644376frow0_col2\" class=\"data row0 col2\" >23</td>\n                        <td id=\"T_83d609c6_8aaf_11ea_a70f_38c98644376frow0_col3\" class=\"data row0 col3\" >22</td>\n                        <td id=\"T_83d609c6_8aaf_11ea_a70f_38c98644376frow0_col4\" class=\"data row0 col4\" >21</td>\n            </tr>\n            <tr>\n                        <th id=\"T_83d609c6_8aaf_11ea_a70f_38c98644376flevel0_row1\" class=\"row_heading level0 row1\" >v</th>\n                        <td id=\"T_83d609c6_8aaf_11ea_a70f_38c98644376frow1_col0\" class=\"data row1 col0\" >20</td>\n                        <td id=\"T_83d609c6_8aaf_11ea_a70f_38c98644376frow1_col1\" class=\"data row1 col1\" >19</td>\n                        <td id=\"T_83d609c6_8aaf_11ea_a70f_38c98644376frow1_col2\" class=\"data row1 col2\" >18</td>\n                        <td id=\"T_83d609c6_8aaf_11ea_a70f_38c98644376frow1_col3\" class=\"data row1 col3\" >17</td>\n                        <td id=\"T_83d609c6_8aaf_11ea_a70f_38c98644376frow1_col4\" class=\"data row1 col4\" >16</td>\n            </tr>\n            <tr>\n                        <th id=\"T_83d609c6_8aaf_11ea_a70f_38c98644376flevel0_row2\" class=\"row_heading level0 row2\" >x</th>\n                        <td id=\"T_83d609c6_8aaf_11ea_a70f_38c98644376frow2_col0\" class=\"data row2 col0\" >15</td>\n                        <td id=\"T_83d609c6_8aaf_11ea_a70f_38c98644376frow2_col1\" class=\"data row2 col1\" >14</td>\n                        <td id=\"T_83d609c6_8aaf_11ea_a70f_38c98644376frow2_col2\" class=\"data row2 col2\" >13</td>\n                        <td id=\"T_83d609c6_8aaf_11ea_a70f_38c98644376frow2_col3\" class=\"data row2 col3\" >12</td>\n                        <td id=\"T_83d609c6_8aaf_11ea_a70f_38c98644376frow2_col4\" class=\"data row2 col4\" >11</td>\n            </tr>\n            <tr>\n                        <th id=\"T_83d609c6_8aaf_11ea_a70f_38c98644376flevel0_row3\" class=\"row_heading level0 row3\" >y</th>\n                        <td id=\"T_83d609c6_8aaf_11ea_a70f_38c98644376frow3_col0\" class=\"data row3 col0\" >10</td>\n                        <td id=\"T_83d609c6_8aaf_11ea_a70f_38c98644376frow3_col1\" class=\"data row3 col1\" >9</td>\n                        <td id=\"T_83d609c6_8aaf_11ea_a70f_38c98644376frow3_col2\" class=\"data row3 col2\" >8</td>\n                        <td id=\"T_83d609c6_8aaf_11ea_a70f_38c98644376frow3_col3\" class=\"data row3 col3\" >7</td>\n                        <td id=\"T_83d609c6_8aaf_11ea_a70f_38c98644376frow3_col4\" class=\"data row3 col4\" >6</td>\n            </tr>\n            <tr>\n                        <th id=\"T_83d609c6_8aaf_11ea_a70f_38c98644376flevel0_row4\" class=\"row_heading level0 row4\" >z</th>\n                        <td id=\"T_83d609c6_8aaf_11ea_a70f_38c98644376frow4_col0\" class=\"data row4 col0\" >5</td>\n                        <td id=\"T_83d609c6_8aaf_11ea_a70f_38c98644376frow4_col1\" class=\"data row4 col1\" >4</td>\n                        <td id=\"T_83d609c6_8aaf_11ea_a70f_38c98644376frow4_col2\" class=\"data row4 col2\" >3</td>\n                        <td id=\"T_83d609c6_8aaf_11ea_a70f_38c98644376frow4_col3\" class=\"data row4 col3\" >2</td>\n                        <td id=\"T_83d609c6_8aaf_11ea_a70f_38c98644376frow4_col4\" class=\"data row4 col4\" >1</td>\n            </tr>\n    </tbody></table>"
     },
     "metadata": {},
     "execution_count": 9
    }
   ],
   "source": [
    "# select a range of continuous columns\n",
    "\n",
    "def highlight_cols(s):\n",
    "    color = 'green'\n",
    "    return 'background-color: %s' % color\n",
    "\n",
    "df.style.applymap(highlight_cols, subset=pd.IndexSlice[:, 'b':'d'])"
   ]
  },
  {
   "cell_type": "code",
   "execution_count": 10,
   "metadata": {},
   "outputs": [
    {
     "output_type": "execute_result",
     "data": {
      "text/plain": "    b   c   d\nu  24  23  22\nv  19  18  17\nx  14  13  12\ny   9   8   7\nz   4   3   2",
      "text/html": "<div>\n<style scoped>\n    .dataframe tbody tr th:only-of-type {\n        vertical-align: middle;\n    }\n\n    .dataframe tbody tr th {\n        vertical-align: top;\n    }\n\n    .dataframe thead th {\n        text-align: right;\n    }\n</style>\n<table border=\"1\" class=\"dataframe\">\n  <thead>\n    <tr style=\"text-align: right;\">\n      <th></th>\n      <th>b</th>\n      <th>c</th>\n      <th>d</th>\n    </tr>\n  </thead>\n  <tbody>\n    <tr>\n      <th>u</th>\n      <td>24</td>\n      <td>23</td>\n      <td>22</td>\n    </tr>\n    <tr>\n      <th>v</th>\n      <td>19</td>\n      <td>18</td>\n      <td>17</td>\n    </tr>\n    <tr>\n      <th>x</th>\n      <td>14</td>\n      <td>13</td>\n      <td>12</td>\n    </tr>\n    <tr>\n      <th>y</th>\n      <td>9</td>\n      <td>8</td>\n      <td>7</td>\n    </tr>\n    <tr>\n      <th>z</th>\n      <td>4</td>\n      <td>3</td>\n      <td>2</td>\n    </tr>\n  </tbody>\n</table>\n</div>"
     },
     "metadata": {},
     "execution_count": 10
    }
   ],
   "source": [
    "# df[['b', 'c', 'd']]\n",
    "\n",
    "# df.loc[:, 'b':'d']  # note that the last column name is inclusive\n",
    "# df.loc[:, df.columns.isin(['b', 'c', 'd'])]\n",
    "# df.loc[:, ~df.columns.isin(['a', 'e'])]\n",
    "# df.loc[:, np.logical_not(df.columns.isin(['a', 'e']))]\n",
    "\n",
    "df.iloc[:, 1:4] # note that the last column index is exclusive"
   ]
  },
  {
   "cell_type": "code",
   "execution_count": 11,
   "metadata": {},
   "outputs": [
    {
     "output_type": "execute_result",
     "data": {
      "text/plain": "<pandas.io.formats.style.Styler at 0x11c1790d0>",
      "text/html": "<style  type=\"text/css\" >\n    #T_83ecaad2_8aaf_11ea_a70f_38c98644376frow0_col1 {\n            background-color:  green;\n        }    #T_83ecaad2_8aaf_11ea_a70f_38c98644376frow0_col3 {\n            background-color:  green;\n        }    #T_83ecaad2_8aaf_11ea_a70f_38c98644376frow0_col4 {\n            background-color:  green;\n        }    #T_83ecaad2_8aaf_11ea_a70f_38c98644376frow1_col1 {\n            background-color:  green;\n        }    #T_83ecaad2_8aaf_11ea_a70f_38c98644376frow1_col3 {\n            background-color:  green;\n        }    #T_83ecaad2_8aaf_11ea_a70f_38c98644376frow1_col4 {\n            background-color:  green;\n        }    #T_83ecaad2_8aaf_11ea_a70f_38c98644376frow2_col1 {\n            background-color:  green;\n        }    #T_83ecaad2_8aaf_11ea_a70f_38c98644376frow2_col3 {\n            background-color:  green;\n        }    #T_83ecaad2_8aaf_11ea_a70f_38c98644376frow2_col4 {\n            background-color:  green;\n        }    #T_83ecaad2_8aaf_11ea_a70f_38c98644376frow3_col1 {\n            background-color:  green;\n        }    #T_83ecaad2_8aaf_11ea_a70f_38c98644376frow3_col3 {\n            background-color:  green;\n        }    #T_83ecaad2_8aaf_11ea_a70f_38c98644376frow3_col4 {\n            background-color:  green;\n        }    #T_83ecaad2_8aaf_11ea_a70f_38c98644376frow4_col1 {\n            background-color:  green;\n        }    #T_83ecaad2_8aaf_11ea_a70f_38c98644376frow4_col3 {\n            background-color:  green;\n        }    #T_83ecaad2_8aaf_11ea_a70f_38c98644376frow4_col4 {\n            background-color:  green;\n        }</style><table id=\"T_83ecaad2_8aaf_11ea_a70f_38c98644376f\" ><thead>    <tr>        <th class=\"blank level0\" ></th>        <th class=\"col_heading level0 col0\" >a</th>        <th class=\"col_heading level0 col1\" >b</th>        <th class=\"col_heading level0 col2\" >c</th>        <th class=\"col_heading level0 col3\" >d</th>        <th class=\"col_heading level0 col4\" >e</th>    </tr></thead><tbody>\n                <tr>\n                        <th id=\"T_83ecaad2_8aaf_11ea_a70f_38c98644376flevel0_row0\" class=\"row_heading level0 row0\" >u</th>\n                        <td id=\"T_83ecaad2_8aaf_11ea_a70f_38c98644376frow0_col0\" class=\"data row0 col0\" >25</td>\n                        <td id=\"T_83ecaad2_8aaf_11ea_a70f_38c98644376frow0_col1\" class=\"data row0 col1\" >24</td>\n                        <td id=\"T_83ecaad2_8aaf_11ea_a70f_38c98644376frow0_col2\" class=\"data row0 col2\" >23</td>\n                        <td id=\"T_83ecaad2_8aaf_11ea_a70f_38c98644376frow0_col3\" class=\"data row0 col3\" >22</td>\n                        <td id=\"T_83ecaad2_8aaf_11ea_a70f_38c98644376frow0_col4\" class=\"data row0 col4\" >21</td>\n            </tr>\n            <tr>\n                        <th id=\"T_83ecaad2_8aaf_11ea_a70f_38c98644376flevel0_row1\" class=\"row_heading level0 row1\" >v</th>\n                        <td id=\"T_83ecaad2_8aaf_11ea_a70f_38c98644376frow1_col0\" class=\"data row1 col0\" >20</td>\n                        <td id=\"T_83ecaad2_8aaf_11ea_a70f_38c98644376frow1_col1\" class=\"data row1 col1\" >19</td>\n                        <td id=\"T_83ecaad2_8aaf_11ea_a70f_38c98644376frow1_col2\" class=\"data row1 col2\" >18</td>\n                        <td id=\"T_83ecaad2_8aaf_11ea_a70f_38c98644376frow1_col3\" class=\"data row1 col3\" >17</td>\n                        <td id=\"T_83ecaad2_8aaf_11ea_a70f_38c98644376frow1_col4\" class=\"data row1 col4\" >16</td>\n            </tr>\n            <tr>\n                        <th id=\"T_83ecaad2_8aaf_11ea_a70f_38c98644376flevel0_row2\" class=\"row_heading level0 row2\" >x</th>\n                        <td id=\"T_83ecaad2_8aaf_11ea_a70f_38c98644376frow2_col0\" class=\"data row2 col0\" >15</td>\n                        <td id=\"T_83ecaad2_8aaf_11ea_a70f_38c98644376frow2_col1\" class=\"data row2 col1\" >14</td>\n                        <td id=\"T_83ecaad2_8aaf_11ea_a70f_38c98644376frow2_col2\" class=\"data row2 col2\" >13</td>\n                        <td id=\"T_83ecaad2_8aaf_11ea_a70f_38c98644376frow2_col3\" class=\"data row2 col3\" >12</td>\n                        <td id=\"T_83ecaad2_8aaf_11ea_a70f_38c98644376frow2_col4\" class=\"data row2 col4\" >11</td>\n            </tr>\n            <tr>\n                        <th id=\"T_83ecaad2_8aaf_11ea_a70f_38c98644376flevel0_row3\" class=\"row_heading level0 row3\" >y</th>\n                        <td id=\"T_83ecaad2_8aaf_11ea_a70f_38c98644376frow3_col0\" class=\"data row3 col0\" >10</td>\n                        <td id=\"T_83ecaad2_8aaf_11ea_a70f_38c98644376frow3_col1\" class=\"data row3 col1\" >9</td>\n                        <td id=\"T_83ecaad2_8aaf_11ea_a70f_38c98644376frow3_col2\" class=\"data row3 col2\" >8</td>\n                        <td id=\"T_83ecaad2_8aaf_11ea_a70f_38c98644376frow3_col3\" class=\"data row3 col3\" >7</td>\n                        <td id=\"T_83ecaad2_8aaf_11ea_a70f_38c98644376frow3_col4\" class=\"data row3 col4\" >6</td>\n            </tr>\n            <tr>\n                        <th id=\"T_83ecaad2_8aaf_11ea_a70f_38c98644376flevel0_row4\" class=\"row_heading level0 row4\" >z</th>\n                        <td id=\"T_83ecaad2_8aaf_11ea_a70f_38c98644376frow4_col0\" class=\"data row4 col0\" >5</td>\n                        <td id=\"T_83ecaad2_8aaf_11ea_a70f_38c98644376frow4_col1\" class=\"data row4 col1\" >4</td>\n                        <td id=\"T_83ecaad2_8aaf_11ea_a70f_38c98644376frow4_col2\" class=\"data row4 col2\" >3</td>\n                        <td id=\"T_83ecaad2_8aaf_11ea_a70f_38c98644376frow4_col3\" class=\"data row4 col3\" >2</td>\n                        <td id=\"T_83ecaad2_8aaf_11ea_a70f_38c98644376frow4_col4\" class=\"data row4 col4\" >1</td>\n            </tr>\n    </tbody></table>"
     },
     "metadata": {},
     "execution_count": 11
    }
   ],
   "source": [
    "# select several incontinuous columns\n",
    "\n",
    "def highlight_cols(s):\n",
    "    color = 'green'\n",
    "    return 'background-color: %s' % color\n",
    "\n",
    "df.style.applymap(highlight_cols, subset=pd.IndexSlice[:, ['b', 'd', 'e']])"
   ]
  },
  {
   "cell_type": "code",
   "execution_count": 12,
   "metadata": {},
   "outputs": [
    {
     "output_type": "execute_result",
     "data": {
      "text/plain": "    b   d   e\nu  24  22  21\nv  19  17  16\nx  14  12  11\ny   9   7   6\nz   4   2   1",
      "text/html": "<div>\n<style scoped>\n    .dataframe tbody tr th:only-of-type {\n        vertical-align: middle;\n    }\n\n    .dataframe tbody tr th {\n        vertical-align: top;\n    }\n\n    .dataframe thead th {\n        text-align: right;\n    }\n</style>\n<table border=\"1\" class=\"dataframe\">\n  <thead>\n    <tr style=\"text-align: right;\">\n      <th></th>\n      <th>b</th>\n      <th>d</th>\n      <th>e</th>\n    </tr>\n  </thead>\n  <tbody>\n    <tr>\n      <th>u</th>\n      <td>24</td>\n      <td>22</td>\n      <td>21</td>\n    </tr>\n    <tr>\n      <th>v</th>\n      <td>19</td>\n      <td>17</td>\n      <td>16</td>\n    </tr>\n    <tr>\n      <th>x</th>\n      <td>14</td>\n      <td>12</td>\n      <td>11</td>\n    </tr>\n    <tr>\n      <th>y</th>\n      <td>9</td>\n      <td>7</td>\n      <td>6</td>\n    </tr>\n    <tr>\n      <th>z</th>\n      <td>4</td>\n      <td>2</td>\n      <td>1</td>\n    </tr>\n  </tbody>\n</table>\n</div>"
     },
     "metadata": {},
     "execution_count": 12
    }
   ],
   "source": [
    "# df[['b', 'd', 'e']]\n",
    "\n",
    "# df.loc[:, ['b', 'd', 'e']]\n",
    "# df.loc[:, df.columns.isin(['b', 'd', 'e'])]\n",
    "# df.loc[:, np.logical_not(df.columns.isin(['a', 'e']))]\n",
    "# df.loc[:, ~df.columns.isin(['a', 'e'])]\n",
    "\n",
    "df.iloc[:, [1, 3, 4]]"
   ]
  },
  {
   "cell_type": "code",
   "execution_count": 13,
   "metadata": {},
   "outputs": [
    {
     "output_type": "execute_result",
     "data": {
      "text/plain": "<pandas.io.formats.style.Styler at 0x11c179c10>",
      "text/html": "<style  type=\"text/css\" >\n    #T_84040c68_8aaf_11ea_a70f_38c98644376frow0_col1 {\n            background-color:  green;\n        }    #T_84040c68_8aaf_11ea_a70f_38c98644376frow0_col3 {\n            background-color:  green;\n        }    #T_84040c68_8aaf_11ea_a70f_38c98644376frow1_col1 {\n            background-color:  green;\n        }    #T_84040c68_8aaf_11ea_a70f_38c98644376frow1_col3 {\n            background-color:  green;\n        }    #T_84040c68_8aaf_11ea_a70f_38c98644376frow2_col1 {\n            background-color:  green;\n        }    #T_84040c68_8aaf_11ea_a70f_38c98644376frow2_col3 {\n            background-color:  green;\n        }    #T_84040c68_8aaf_11ea_a70f_38c98644376frow3_col1 {\n            background-color:  green;\n        }    #T_84040c68_8aaf_11ea_a70f_38c98644376frow3_col3 {\n            background-color:  green;\n        }    #T_84040c68_8aaf_11ea_a70f_38c98644376frow4_col1 {\n            background-color:  green;\n        }    #T_84040c68_8aaf_11ea_a70f_38c98644376frow4_col3 {\n            background-color:  green;\n        }</style><table id=\"T_84040c68_8aaf_11ea_a70f_38c98644376f\" ><thead>    <tr>        <th class=\"blank level0\" ></th>        <th class=\"col_heading level0 col0\" >a</th>        <th class=\"col_heading level0 col1\" >b</th>        <th class=\"col_heading level0 col2\" >c</th>        <th class=\"col_heading level0 col3\" >d</th>        <th class=\"col_heading level0 col4\" >e</th>    </tr></thead><tbody>\n                <tr>\n                        <th id=\"T_84040c68_8aaf_11ea_a70f_38c98644376flevel0_row0\" class=\"row_heading level0 row0\" >u</th>\n                        <td id=\"T_84040c68_8aaf_11ea_a70f_38c98644376frow0_col0\" class=\"data row0 col0\" >25</td>\n                        <td id=\"T_84040c68_8aaf_11ea_a70f_38c98644376frow0_col1\" class=\"data row0 col1\" >24</td>\n                        <td id=\"T_84040c68_8aaf_11ea_a70f_38c98644376frow0_col2\" class=\"data row0 col2\" >23</td>\n                        <td id=\"T_84040c68_8aaf_11ea_a70f_38c98644376frow0_col3\" class=\"data row0 col3\" >22</td>\n                        <td id=\"T_84040c68_8aaf_11ea_a70f_38c98644376frow0_col4\" class=\"data row0 col4\" >21</td>\n            </tr>\n            <tr>\n                        <th id=\"T_84040c68_8aaf_11ea_a70f_38c98644376flevel0_row1\" class=\"row_heading level0 row1\" >v</th>\n                        <td id=\"T_84040c68_8aaf_11ea_a70f_38c98644376frow1_col0\" class=\"data row1 col0\" >20</td>\n                        <td id=\"T_84040c68_8aaf_11ea_a70f_38c98644376frow1_col1\" class=\"data row1 col1\" >19</td>\n                        <td id=\"T_84040c68_8aaf_11ea_a70f_38c98644376frow1_col2\" class=\"data row1 col2\" >18</td>\n                        <td id=\"T_84040c68_8aaf_11ea_a70f_38c98644376frow1_col3\" class=\"data row1 col3\" >17</td>\n                        <td id=\"T_84040c68_8aaf_11ea_a70f_38c98644376frow1_col4\" class=\"data row1 col4\" >16</td>\n            </tr>\n            <tr>\n                        <th id=\"T_84040c68_8aaf_11ea_a70f_38c98644376flevel0_row2\" class=\"row_heading level0 row2\" >x</th>\n                        <td id=\"T_84040c68_8aaf_11ea_a70f_38c98644376frow2_col0\" class=\"data row2 col0\" >15</td>\n                        <td id=\"T_84040c68_8aaf_11ea_a70f_38c98644376frow2_col1\" class=\"data row2 col1\" >14</td>\n                        <td id=\"T_84040c68_8aaf_11ea_a70f_38c98644376frow2_col2\" class=\"data row2 col2\" >13</td>\n                        <td id=\"T_84040c68_8aaf_11ea_a70f_38c98644376frow2_col3\" class=\"data row2 col3\" >12</td>\n                        <td id=\"T_84040c68_8aaf_11ea_a70f_38c98644376frow2_col4\" class=\"data row2 col4\" >11</td>\n            </tr>\n            <tr>\n                        <th id=\"T_84040c68_8aaf_11ea_a70f_38c98644376flevel0_row3\" class=\"row_heading level0 row3\" >y</th>\n                        <td id=\"T_84040c68_8aaf_11ea_a70f_38c98644376frow3_col0\" class=\"data row3 col0\" >10</td>\n                        <td id=\"T_84040c68_8aaf_11ea_a70f_38c98644376frow3_col1\" class=\"data row3 col1\" >9</td>\n                        <td id=\"T_84040c68_8aaf_11ea_a70f_38c98644376frow3_col2\" class=\"data row3 col2\" >8</td>\n                        <td id=\"T_84040c68_8aaf_11ea_a70f_38c98644376frow3_col3\" class=\"data row3 col3\" >7</td>\n                        <td id=\"T_84040c68_8aaf_11ea_a70f_38c98644376frow3_col4\" class=\"data row3 col4\" >6</td>\n            </tr>\n            <tr>\n                        <th id=\"T_84040c68_8aaf_11ea_a70f_38c98644376flevel0_row4\" class=\"row_heading level0 row4\" >z</th>\n                        <td id=\"T_84040c68_8aaf_11ea_a70f_38c98644376frow4_col0\" class=\"data row4 col0\" >5</td>\n                        <td id=\"T_84040c68_8aaf_11ea_a70f_38c98644376frow4_col1\" class=\"data row4 col1\" >4</td>\n                        <td id=\"T_84040c68_8aaf_11ea_a70f_38c98644376frow4_col2\" class=\"data row4 col2\" >3</td>\n                        <td id=\"T_84040c68_8aaf_11ea_a70f_38c98644376frow4_col3\" class=\"data row4 col3\" >2</td>\n                        <td id=\"T_84040c68_8aaf_11ea_a70f_38c98644376frow4_col4\" class=\"data row4 col4\" >1</td>\n            </tr>\n    </tbody></table>"
     },
     "metadata": {},
     "execution_count": 13
    }
   ],
   "source": [
    "# select every nth columns\n",
    "\n",
    "def highlight_cols(s):\n",
    "    color = 'green'\n",
    "    return 'background-color: %s' % color\n",
    "\n",
    "df.style.applymap(highlight_cols, subset=pd.IndexSlice[:, ['b', 'd']])"
   ]
  },
  {
   "cell_type": "code",
   "execution_count": 14,
   "metadata": {},
   "outputs": [
    {
     "output_type": "execute_result",
     "data": {
      "text/plain": "    b   d\nu  24  22\nv  19  17\nx  14  12\ny   9   7\nz   4   2",
      "text/html": "<div>\n<style scoped>\n    .dataframe tbody tr th:only-of-type {\n        vertical-align: middle;\n    }\n\n    .dataframe tbody tr th {\n        vertical-align: top;\n    }\n\n    .dataframe thead th {\n        text-align: right;\n    }\n</style>\n<table border=\"1\" class=\"dataframe\">\n  <thead>\n    <tr style=\"text-align: right;\">\n      <th></th>\n      <th>b</th>\n      <th>d</th>\n    </tr>\n  </thead>\n  <tbody>\n    <tr>\n      <th>u</th>\n      <td>24</td>\n      <td>22</td>\n    </tr>\n    <tr>\n      <th>v</th>\n      <td>19</td>\n      <td>17</td>\n    </tr>\n    <tr>\n      <th>x</th>\n      <td>14</td>\n      <td>12</td>\n    </tr>\n    <tr>\n      <th>y</th>\n      <td>9</td>\n      <td>7</td>\n    </tr>\n    <tr>\n      <th>z</th>\n      <td>4</td>\n      <td>2</td>\n    </tr>\n  </tbody>\n</table>\n</div>"
     },
     "metadata": {},
     "execution_count": 14
    }
   ],
   "source": [
    "# df[df.columns[1::2]]\n",
    "# df.loc[: , df.columns[1::2]]\n",
    "df.iloc[: , 1::2]"
   ]
  },
  {
   "cell_type": "markdown",
   "metadata": {},
   "source": [
    "## select row(s) by name or index"
   ]
  },
  {
   "cell_type": "code",
   "execution_count": 15,
   "metadata": {},
   "outputs": [
    {
     "output_type": "execute_result",
     "data": {
      "text/plain": "<pandas.io.formats.style.Styler at 0x11c179450>",
      "text/html": "<style  type=\"text/css\" >\n    #T_8416a850_8aaf_11ea_a70f_38c98644376frow1_col0 {\n            background-color:  green;\n        }    #T_8416a850_8aaf_11ea_a70f_38c98644376frow1_col1 {\n            background-color:  green;\n        }    #T_8416a850_8aaf_11ea_a70f_38c98644376frow1_col2 {\n            background-color:  green;\n        }    #T_8416a850_8aaf_11ea_a70f_38c98644376frow1_col3 {\n            background-color:  green;\n        }    #T_8416a850_8aaf_11ea_a70f_38c98644376frow1_col4 {\n            background-color:  green;\n        }</style><table id=\"T_8416a850_8aaf_11ea_a70f_38c98644376f\" ><thead>    <tr>        <th class=\"blank level0\" ></th>        <th class=\"col_heading level0 col0\" >a</th>        <th class=\"col_heading level0 col1\" >b</th>        <th class=\"col_heading level0 col2\" >c</th>        <th class=\"col_heading level0 col3\" >d</th>        <th class=\"col_heading level0 col4\" >e</th>    </tr></thead><tbody>\n                <tr>\n                        <th id=\"T_8416a850_8aaf_11ea_a70f_38c98644376flevel0_row0\" class=\"row_heading level0 row0\" >u</th>\n                        <td id=\"T_8416a850_8aaf_11ea_a70f_38c98644376frow0_col0\" class=\"data row0 col0\" >25</td>\n                        <td id=\"T_8416a850_8aaf_11ea_a70f_38c98644376frow0_col1\" class=\"data row0 col1\" >24</td>\n                        <td id=\"T_8416a850_8aaf_11ea_a70f_38c98644376frow0_col2\" class=\"data row0 col2\" >23</td>\n                        <td id=\"T_8416a850_8aaf_11ea_a70f_38c98644376frow0_col3\" class=\"data row0 col3\" >22</td>\n                        <td id=\"T_8416a850_8aaf_11ea_a70f_38c98644376frow0_col4\" class=\"data row0 col4\" >21</td>\n            </tr>\n            <tr>\n                        <th id=\"T_8416a850_8aaf_11ea_a70f_38c98644376flevel0_row1\" class=\"row_heading level0 row1\" >v</th>\n                        <td id=\"T_8416a850_8aaf_11ea_a70f_38c98644376frow1_col0\" class=\"data row1 col0\" >20</td>\n                        <td id=\"T_8416a850_8aaf_11ea_a70f_38c98644376frow1_col1\" class=\"data row1 col1\" >19</td>\n                        <td id=\"T_8416a850_8aaf_11ea_a70f_38c98644376frow1_col2\" class=\"data row1 col2\" >18</td>\n                        <td id=\"T_8416a850_8aaf_11ea_a70f_38c98644376frow1_col3\" class=\"data row1 col3\" >17</td>\n                        <td id=\"T_8416a850_8aaf_11ea_a70f_38c98644376frow1_col4\" class=\"data row1 col4\" >16</td>\n            </tr>\n            <tr>\n                        <th id=\"T_8416a850_8aaf_11ea_a70f_38c98644376flevel0_row2\" class=\"row_heading level0 row2\" >x</th>\n                        <td id=\"T_8416a850_8aaf_11ea_a70f_38c98644376frow2_col0\" class=\"data row2 col0\" >15</td>\n                        <td id=\"T_8416a850_8aaf_11ea_a70f_38c98644376frow2_col1\" class=\"data row2 col1\" >14</td>\n                        <td id=\"T_8416a850_8aaf_11ea_a70f_38c98644376frow2_col2\" class=\"data row2 col2\" >13</td>\n                        <td id=\"T_8416a850_8aaf_11ea_a70f_38c98644376frow2_col3\" class=\"data row2 col3\" >12</td>\n                        <td id=\"T_8416a850_8aaf_11ea_a70f_38c98644376frow2_col4\" class=\"data row2 col4\" >11</td>\n            </tr>\n            <tr>\n                        <th id=\"T_8416a850_8aaf_11ea_a70f_38c98644376flevel0_row3\" class=\"row_heading level0 row3\" >y</th>\n                        <td id=\"T_8416a850_8aaf_11ea_a70f_38c98644376frow3_col0\" class=\"data row3 col0\" >10</td>\n                        <td id=\"T_8416a850_8aaf_11ea_a70f_38c98644376frow3_col1\" class=\"data row3 col1\" >9</td>\n                        <td id=\"T_8416a850_8aaf_11ea_a70f_38c98644376frow3_col2\" class=\"data row3 col2\" >8</td>\n                        <td id=\"T_8416a850_8aaf_11ea_a70f_38c98644376frow3_col3\" class=\"data row3 col3\" >7</td>\n                        <td id=\"T_8416a850_8aaf_11ea_a70f_38c98644376frow3_col4\" class=\"data row3 col4\" >6</td>\n            </tr>\n            <tr>\n                        <th id=\"T_8416a850_8aaf_11ea_a70f_38c98644376flevel0_row4\" class=\"row_heading level0 row4\" >z</th>\n                        <td id=\"T_8416a850_8aaf_11ea_a70f_38c98644376frow4_col0\" class=\"data row4 col0\" >5</td>\n                        <td id=\"T_8416a850_8aaf_11ea_a70f_38c98644376frow4_col1\" class=\"data row4 col1\" >4</td>\n                        <td id=\"T_8416a850_8aaf_11ea_a70f_38c98644376frow4_col2\" class=\"data row4 col2\" >3</td>\n                        <td id=\"T_8416a850_8aaf_11ea_a70f_38c98644376frow4_col3\" class=\"data row4 col3\" >2</td>\n                        <td id=\"T_8416a850_8aaf_11ea_a70f_38c98644376frow4_col4\" class=\"data row4 col4\" >1</td>\n            </tr>\n    </tbody></table>"
     },
     "metadata": {},
     "execution_count": 15
    }
   ],
   "source": [
    "# select one row\n",
    "\n",
    "def highlight_cols(s):\n",
    "    color = 'green'\n",
    "    return 'background-color: %s' % color\n",
    "\n",
    "df.style.applymap(highlight_cols, subset=pd.IndexSlice['v', :])"
   ]
  },
  {
   "cell_type": "code",
   "execution_count": 16,
   "metadata": {},
   "outputs": [
    {
     "output_type": "execute_result",
     "data": {
      "text/plain": "a    20\nb    19\nc    18\nd    17\ne    16\nName: v, dtype: int64"
     },
     "metadata": {},
     "execution_count": 16
    }
   ],
   "source": [
    "# return a Series\n",
    "\n",
    "# df.loc['v']   # via row index name                        \n",
    "# df.loc['v' , :]   # via rown index name and column range\n",
    "\n",
    "# df.iloc[1]  # via row index num\n",
    "df.iloc[1 , :]  # via row index num and columne index num"
   ]
  },
  {
   "cell_type": "code",
   "execution_count": 17,
   "metadata": {},
   "outputs": [
    {
     "output_type": "execute_result",
     "data": {
      "text/plain": "    a   b   c   d   e\nv  20  19  18  17  16",
      "text/html": "<div>\n<style scoped>\n    .dataframe tbody tr th:only-of-type {\n        vertical-align: middle;\n    }\n\n    .dataframe tbody tr th {\n        vertical-align: top;\n    }\n\n    .dataframe thead th {\n        text-align: right;\n    }\n</style>\n<table border=\"1\" class=\"dataframe\">\n  <thead>\n    <tr style=\"text-align: right;\">\n      <th></th>\n      <th>a</th>\n      <th>b</th>\n      <th>c</th>\n      <th>d</th>\n      <th>e</th>\n    </tr>\n  </thead>\n  <tbody>\n    <tr>\n      <th>v</th>\n      <td>20</td>\n      <td>19</td>\n      <td>18</td>\n      <td>17</td>\n      <td>16</td>\n    </tr>\n  </tbody>\n</table>\n</div>"
     },
     "metadata": {},
     "execution_count": 17
    }
   ],
   "source": [
    "# return a DataFrame\n",
    "\n",
    "# df.loc[df.index.isin(['v']) , :]  # via boolean values\n",
    "df.loc[~df.index.isin(['u', 'x', 'y', 'z']) , :]  # exclude row via boolean values"
   ]
  },
  {
   "cell_type": "code",
   "execution_count": 18,
   "metadata": {},
   "outputs": [
    {
     "output_type": "execute_result",
     "data": {
      "text/plain": "<pandas.io.formats.style.Styler at 0x11c1a28d0>",
      "text/html": "<style  type=\"text/css\" >\n    #T_84339686_8aaf_11ea_a70f_38c98644376frow1_col0 {\n            background-color:  green;\n        }    #T_84339686_8aaf_11ea_a70f_38c98644376frow1_col1 {\n            background-color:  green;\n        }    #T_84339686_8aaf_11ea_a70f_38c98644376frow1_col2 {\n            background-color:  green;\n        }    #T_84339686_8aaf_11ea_a70f_38c98644376frow1_col3 {\n            background-color:  green;\n        }    #T_84339686_8aaf_11ea_a70f_38c98644376frow1_col4 {\n            background-color:  green;\n        }    #T_84339686_8aaf_11ea_a70f_38c98644376frow2_col0 {\n            background-color:  green;\n        }    #T_84339686_8aaf_11ea_a70f_38c98644376frow2_col1 {\n            background-color:  green;\n        }    #T_84339686_8aaf_11ea_a70f_38c98644376frow2_col2 {\n            background-color:  green;\n        }    #T_84339686_8aaf_11ea_a70f_38c98644376frow2_col3 {\n            background-color:  green;\n        }    #T_84339686_8aaf_11ea_a70f_38c98644376frow2_col4 {\n            background-color:  green;\n        }    #T_84339686_8aaf_11ea_a70f_38c98644376frow3_col0 {\n            background-color:  green;\n        }    #T_84339686_8aaf_11ea_a70f_38c98644376frow3_col1 {\n            background-color:  green;\n        }    #T_84339686_8aaf_11ea_a70f_38c98644376frow3_col2 {\n            background-color:  green;\n        }    #T_84339686_8aaf_11ea_a70f_38c98644376frow3_col3 {\n            background-color:  green;\n        }    #T_84339686_8aaf_11ea_a70f_38c98644376frow3_col4 {\n            background-color:  green;\n        }</style><table id=\"T_84339686_8aaf_11ea_a70f_38c98644376f\" ><thead>    <tr>        <th class=\"blank level0\" ></th>        <th class=\"col_heading level0 col0\" >a</th>        <th class=\"col_heading level0 col1\" >b</th>        <th class=\"col_heading level0 col2\" >c</th>        <th class=\"col_heading level0 col3\" >d</th>        <th class=\"col_heading level0 col4\" >e</th>    </tr></thead><tbody>\n                <tr>\n                        <th id=\"T_84339686_8aaf_11ea_a70f_38c98644376flevel0_row0\" class=\"row_heading level0 row0\" >u</th>\n                        <td id=\"T_84339686_8aaf_11ea_a70f_38c98644376frow0_col0\" class=\"data row0 col0\" >25</td>\n                        <td id=\"T_84339686_8aaf_11ea_a70f_38c98644376frow0_col1\" class=\"data row0 col1\" >24</td>\n                        <td id=\"T_84339686_8aaf_11ea_a70f_38c98644376frow0_col2\" class=\"data row0 col2\" >23</td>\n                        <td id=\"T_84339686_8aaf_11ea_a70f_38c98644376frow0_col3\" class=\"data row0 col3\" >22</td>\n                        <td id=\"T_84339686_8aaf_11ea_a70f_38c98644376frow0_col4\" class=\"data row0 col4\" >21</td>\n            </tr>\n            <tr>\n                        <th id=\"T_84339686_8aaf_11ea_a70f_38c98644376flevel0_row1\" class=\"row_heading level0 row1\" >v</th>\n                        <td id=\"T_84339686_8aaf_11ea_a70f_38c98644376frow1_col0\" class=\"data row1 col0\" >20</td>\n                        <td id=\"T_84339686_8aaf_11ea_a70f_38c98644376frow1_col1\" class=\"data row1 col1\" >19</td>\n                        <td id=\"T_84339686_8aaf_11ea_a70f_38c98644376frow1_col2\" class=\"data row1 col2\" >18</td>\n                        <td id=\"T_84339686_8aaf_11ea_a70f_38c98644376frow1_col3\" class=\"data row1 col3\" >17</td>\n                        <td id=\"T_84339686_8aaf_11ea_a70f_38c98644376frow1_col4\" class=\"data row1 col4\" >16</td>\n            </tr>\n            <tr>\n                        <th id=\"T_84339686_8aaf_11ea_a70f_38c98644376flevel0_row2\" class=\"row_heading level0 row2\" >x</th>\n                        <td id=\"T_84339686_8aaf_11ea_a70f_38c98644376frow2_col0\" class=\"data row2 col0\" >15</td>\n                        <td id=\"T_84339686_8aaf_11ea_a70f_38c98644376frow2_col1\" class=\"data row2 col1\" >14</td>\n                        <td id=\"T_84339686_8aaf_11ea_a70f_38c98644376frow2_col2\" class=\"data row2 col2\" >13</td>\n                        <td id=\"T_84339686_8aaf_11ea_a70f_38c98644376frow2_col3\" class=\"data row2 col3\" >12</td>\n                        <td id=\"T_84339686_8aaf_11ea_a70f_38c98644376frow2_col4\" class=\"data row2 col4\" >11</td>\n            </tr>\n            <tr>\n                        <th id=\"T_84339686_8aaf_11ea_a70f_38c98644376flevel0_row3\" class=\"row_heading level0 row3\" >y</th>\n                        <td id=\"T_84339686_8aaf_11ea_a70f_38c98644376frow3_col0\" class=\"data row3 col0\" >10</td>\n                        <td id=\"T_84339686_8aaf_11ea_a70f_38c98644376frow3_col1\" class=\"data row3 col1\" >9</td>\n                        <td id=\"T_84339686_8aaf_11ea_a70f_38c98644376frow3_col2\" class=\"data row3 col2\" >8</td>\n                        <td id=\"T_84339686_8aaf_11ea_a70f_38c98644376frow3_col3\" class=\"data row3 col3\" >7</td>\n                        <td id=\"T_84339686_8aaf_11ea_a70f_38c98644376frow3_col4\" class=\"data row3 col4\" >6</td>\n            </tr>\n            <tr>\n                        <th id=\"T_84339686_8aaf_11ea_a70f_38c98644376flevel0_row4\" class=\"row_heading level0 row4\" >z</th>\n                        <td id=\"T_84339686_8aaf_11ea_a70f_38c98644376frow4_col0\" class=\"data row4 col0\" >5</td>\n                        <td id=\"T_84339686_8aaf_11ea_a70f_38c98644376frow4_col1\" class=\"data row4 col1\" >4</td>\n                        <td id=\"T_84339686_8aaf_11ea_a70f_38c98644376frow4_col2\" class=\"data row4 col2\" >3</td>\n                        <td id=\"T_84339686_8aaf_11ea_a70f_38c98644376frow4_col3\" class=\"data row4 col3\" >2</td>\n                        <td id=\"T_84339686_8aaf_11ea_a70f_38c98644376frow4_col4\" class=\"data row4 col4\" >1</td>\n            </tr>\n    </tbody></table>"
     },
     "metadata": {},
     "execution_count": 18
    }
   ],
   "source": [
    "# select a range of continuous rows\n",
    "\n",
    "def highlight_cols(s):\n",
    "    color = 'green'\n",
    "    return 'background-color: %s' % color\n",
    "\n",
    "df.style.applymap(highlight_cols, subset=pd.IndexSlice['v':'y', :])"
   ]
  },
  {
   "cell_type": "code",
   "execution_count": 19,
   "metadata": {},
   "outputs": [
    {
     "output_type": "execute_result",
     "data": {
      "text/plain": "    a   b   c   d   e\nv  20  19  18  17  16\nx  15  14  13  12  11\ny  10   9   8   7   6",
      "text/html": "<div>\n<style scoped>\n    .dataframe tbody tr th:only-of-type {\n        vertical-align: middle;\n    }\n\n    .dataframe tbody tr th {\n        vertical-align: top;\n    }\n\n    .dataframe thead th {\n        text-align: right;\n    }\n</style>\n<table border=\"1\" class=\"dataframe\">\n  <thead>\n    <tr style=\"text-align: right;\">\n      <th></th>\n      <th>a</th>\n      <th>b</th>\n      <th>c</th>\n      <th>d</th>\n      <th>e</th>\n    </tr>\n  </thead>\n  <tbody>\n    <tr>\n      <th>v</th>\n      <td>20</td>\n      <td>19</td>\n      <td>18</td>\n      <td>17</td>\n      <td>16</td>\n    </tr>\n    <tr>\n      <th>x</th>\n      <td>15</td>\n      <td>14</td>\n      <td>13</td>\n      <td>12</td>\n      <td>11</td>\n    </tr>\n    <tr>\n      <th>y</th>\n      <td>10</td>\n      <td>9</td>\n      <td>8</td>\n      <td>7</td>\n      <td>6</td>\n    </tr>\n  </tbody>\n</table>\n</div>"
     },
     "metadata": {},
     "execution_count": 19
    }
   ],
   "source": [
    "# df.loc['v':'y' , :]\n",
    "df.iloc[1:4 , :]    # note that the end of the index range is exclusive"
   ]
  },
  {
   "cell_type": "code",
   "execution_count": 20,
   "metadata": {},
   "outputs": [
    {
     "output_type": "execute_result",
     "data": {
      "text/plain": "<pandas.io.formats.style.Styler at 0x11c1a2b50>",
      "text/html": "<style  type=\"text/css\" >\n    #T_8448026a_8aaf_11ea_a70f_38c98644376frow1_col0 {\n            background-color:  green;\n        }    #T_8448026a_8aaf_11ea_a70f_38c98644376frow1_col1 {\n            background-color:  green;\n        }    #T_8448026a_8aaf_11ea_a70f_38c98644376frow1_col2 {\n            background-color:  green;\n        }    #T_8448026a_8aaf_11ea_a70f_38c98644376frow1_col3 {\n            background-color:  green;\n        }    #T_8448026a_8aaf_11ea_a70f_38c98644376frow1_col4 {\n            background-color:  green;\n        }    #T_8448026a_8aaf_11ea_a70f_38c98644376frow3_col0 {\n            background-color:  green;\n        }    #T_8448026a_8aaf_11ea_a70f_38c98644376frow3_col1 {\n            background-color:  green;\n        }    #T_8448026a_8aaf_11ea_a70f_38c98644376frow3_col2 {\n            background-color:  green;\n        }    #T_8448026a_8aaf_11ea_a70f_38c98644376frow3_col3 {\n            background-color:  green;\n        }    #T_8448026a_8aaf_11ea_a70f_38c98644376frow3_col4 {\n            background-color:  green;\n        }    #T_8448026a_8aaf_11ea_a70f_38c98644376frow4_col0 {\n            background-color:  green;\n        }    #T_8448026a_8aaf_11ea_a70f_38c98644376frow4_col1 {\n            background-color:  green;\n        }    #T_8448026a_8aaf_11ea_a70f_38c98644376frow4_col2 {\n            background-color:  green;\n        }    #T_8448026a_8aaf_11ea_a70f_38c98644376frow4_col3 {\n            background-color:  green;\n        }    #T_8448026a_8aaf_11ea_a70f_38c98644376frow4_col4 {\n            background-color:  green;\n        }</style><table id=\"T_8448026a_8aaf_11ea_a70f_38c98644376f\" ><thead>    <tr>        <th class=\"blank level0\" ></th>        <th class=\"col_heading level0 col0\" >a</th>        <th class=\"col_heading level0 col1\" >b</th>        <th class=\"col_heading level0 col2\" >c</th>        <th class=\"col_heading level0 col3\" >d</th>        <th class=\"col_heading level0 col4\" >e</th>    </tr></thead><tbody>\n                <tr>\n                        <th id=\"T_8448026a_8aaf_11ea_a70f_38c98644376flevel0_row0\" class=\"row_heading level0 row0\" >u</th>\n                        <td id=\"T_8448026a_8aaf_11ea_a70f_38c98644376frow0_col0\" class=\"data row0 col0\" >25</td>\n                        <td id=\"T_8448026a_8aaf_11ea_a70f_38c98644376frow0_col1\" class=\"data row0 col1\" >24</td>\n                        <td id=\"T_8448026a_8aaf_11ea_a70f_38c98644376frow0_col2\" class=\"data row0 col2\" >23</td>\n                        <td id=\"T_8448026a_8aaf_11ea_a70f_38c98644376frow0_col3\" class=\"data row0 col3\" >22</td>\n                        <td id=\"T_8448026a_8aaf_11ea_a70f_38c98644376frow0_col4\" class=\"data row0 col4\" >21</td>\n            </tr>\n            <tr>\n                        <th id=\"T_8448026a_8aaf_11ea_a70f_38c98644376flevel0_row1\" class=\"row_heading level0 row1\" >v</th>\n                        <td id=\"T_8448026a_8aaf_11ea_a70f_38c98644376frow1_col0\" class=\"data row1 col0\" >20</td>\n                        <td id=\"T_8448026a_8aaf_11ea_a70f_38c98644376frow1_col1\" class=\"data row1 col1\" >19</td>\n                        <td id=\"T_8448026a_8aaf_11ea_a70f_38c98644376frow1_col2\" class=\"data row1 col2\" >18</td>\n                        <td id=\"T_8448026a_8aaf_11ea_a70f_38c98644376frow1_col3\" class=\"data row1 col3\" >17</td>\n                        <td id=\"T_8448026a_8aaf_11ea_a70f_38c98644376frow1_col4\" class=\"data row1 col4\" >16</td>\n            </tr>\n            <tr>\n                        <th id=\"T_8448026a_8aaf_11ea_a70f_38c98644376flevel0_row2\" class=\"row_heading level0 row2\" >x</th>\n                        <td id=\"T_8448026a_8aaf_11ea_a70f_38c98644376frow2_col0\" class=\"data row2 col0\" >15</td>\n                        <td id=\"T_8448026a_8aaf_11ea_a70f_38c98644376frow2_col1\" class=\"data row2 col1\" >14</td>\n                        <td id=\"T_8448026a_8aaf_11ea_a70f_38c98644376frow2_col2\" class=\"data row2 col2\" >13</td>\n                        <td id=\"T_8448026a_8aaf_11ea_a70f_38c98644376frow2_col3\" class=\"data row2 col3\" >12</td>\n                        <td id=\"T_8448026a_8aaf_11ea_a70f_38c98644376frow2_col4\" class=\"data row2 col4\" >11</td>\n            </tr>\n            <tr>\n                        <th id=\"T_8448026a_8aaf_11ea_a70f_38c98644376flevel0_row3\" class=\"row_heading level0 row3\" >y</th>\n                        <td id=\"T_8448026a_8aaf_11ea_a70f_38c98644376frow3_col0\" class=\"data row3 col0\" >10</td>\n                        <td id=\"T_8448026a_8aaf_11ea_a70f_38c98644376frow3_col1\" class=\"data row3 col1\" >9</td>\n                        <td id=\"T_8448026a_8aaf_11ea_a70f_38c98644376frow3_col2\" class=\"data row3 col2\" >8</td>\n                        <td id=\"T_8448026a_8aaf_11ea_a70f_38c98644376frow3_col3\" class=\"data row3 col3\" >7</td>\n                        <td id=\"T_8448026a_8aaf_11ea_a70f_38c98644376frow3_col4\" class=\"data row3 col4\" >6</td>\n            </tr>\n            <tr>\n                        <th id=\"T_8448026a_8aaf_11ea_a70f_38c98644376flevel0_row4\" class=\"row_heading level0 row4\" >z</th>\n                        <td id=\"T_8448026a_8aaf_11ea_a70f_38c98644376frow4_col0\" class=\"data row4 col0\" >5</td>\n                        <td id=\"T_8448026a_8aaf_11ea_a70f_38c98644376frow4_col1\" class=\"data row4 col1\" >4</td>\n                        <td id=\"T_8448026a_8aaf_11ea_a70f_38c98644376frow4_col2\" class=\"data row4 col2\" >3</td>\n                        <td id=\"T_8448026a_8aaf_11ea_a70f_38c98644376frow4_col3\" class=\"data row4 col3\" >2</td>\n                        <td id=\"T_8448026a_8aaf_11ea_a70f_38c98644376frow4_col4\" class=\"data row4 col4\" >1</td>\n            </tr>\n    </tbody></table>"
     },
     "metadata": {},
     "execution_count": 20
    }
   ],
   "source": [
    "# select incontinuous rows\n",
    "\n",
    "def highlight_cols(s):\n",
    "    color = 'green'\n",
    "    return 'background-color: %s' % color\n",
    "\n",
    "df.style.applymap(highlight_cols, subset=pd.IndexSlice[['v', 'y', 'z'], :])"
   ]
  },
  {
   "cell_type": "code",
   "execution_count": 21,
   "metadata": {},
   "outputs": [
    {
     "output_type": "execute_result",
     "data": {
      "text/plain": "    a   b   c   d   e\nv  20  19  18  17  16\ny  10   9   8   7   6\nz   5   4   3   2   1",
      "text/html": "<div>\n<style scoped>\n    .dataframe tbody tr th:only-of-type {\n        vertical-align: middle;\n    }\n\n    .dataframe tbody tr th {\n        vertical-align: top;\n    }\n\n    .dataframe thead th {\n        text-align: right;\n    }\n</style>\n<table border=\"1\" class=\"dataframe\">\n  <thead>\n    <tr style=\"text-align: right;\">\n      <th></th>\n      <th>a</th>\n      <th>b</th>\n      <th>c</th>\n      <th>d</th>\n      <th>e</th>\n    </tr>\n  </thead>\n  <tbody>\n    <tr>\n      <th>v</th>\n      <td>20</td>\n      <td>19</td>\n      <td>18</td>\n      <td>17</td>\n      <td>16</td>\n    </tr>\n    <tr>\n      <th>y</th>\n      <td>10</td>\n      <td>9</td>\n      <td>8</td>\n      <td>7</td>\n      <td>6</td>\n    </tr>\n    <tr>\n      <th>z</th>\n      <td>5</td>\n      <td>4</td>\n      <td>3</td>\n      <td>2</td>\n      <td>1</td>\n    </tr>\n  </tbody>\n</table>\n</div>"
     },
     "metadata": {},
     "execution_count": 21
    }
   ],
   "source": [
    "# df.loc[['v', 'y', 'z'] , :]\n",
    "df.iloc[[1, 3, 4] , :]"
   ]
  },
  {
   "cell_type": "code",
   "execution_count": 22,
   "metadata": {},
   "outputs": [
    {
     "output_type": "execute_result",
     "data": {
      "text/plain": "<pandas.io.formats.style.Styler at 0x11c101a90>",
      "text/html": "<style  type=\"text/css\" >\n    #T_845b8498_8aaf_11ea_a70f_38c98644376frow1_col0 {\n            background-color:  green;\n        }    #T_845b8498_8aaf_11ea_a70f_38c98644376frow1_col1 {\n            background-color:  green;\n        }    #T_845b8498_8aaf_11ea_a70f_38c98644376frow1_col2 {\n            background-color:  green;\n        }    #T_845b8498_8aaf_11ea_a70f_38c98644376frow1_col3 {\n            background-color:  green;\n        }    #T_845b8498_8aaf_11ea_a70f_38c98644376frow1_col4 {\n            background-color:  green;\n        }    #T_845b8498_8aaf_11ea_a70f_38c98644376frow3_col0 {\n            background-color:  green;\n        }    #T_845b8498_8aaf_11ea_a70f_38c98644376frow3_col1 {\n            background-color:  green;\n        }    #T_845b8498_8aaf_11ea_a70f_38c98644376frow3_col2 {\n            background-color:  green;\n        }    #T_845b8498_8aaf_11ea_a70f_38c98644376frow3_col3 {\n            background-color:  green;\n        }    #T_845b8498_8aaf_11ea_a70f_38c98644376frow3_col4 {\n            background-color:  green;\n        }</style><table id=\"T_845b8498_8aaf_11ea_a70f_38c98644376f\" ><thead>    <tr>        <th class=\"blank level0\" ></th>        <th class=\"col_heading level0 col0\" >a</th>        <th class=\"col_heading level0 col1\" >b</th>        <th class=\"col_heading level0 col2\" >c</th>        <th class=\"col_heading level0 col3\" >d</th>        <th class=\"col_heading level0 col4\" >e</th>    </tr></thead><tbody>\n                <tr>\n                        <th id=\"T_845b8498_8aaf_11ea_a70f_38c98644376flevel0_row0\" class=\"row_heading level0 row0\" >u</th>\n                        <td id=\"T_845b8498_8aaf_11ea_a70f_38c98644376frow0_col0\" class=\"data row0 col0\" >25</td>\n                        <td id=\"T_845b8498_8aaf_11ea_a70f_38c98644376frow0_col1\" class=\"data row0 col1\" >24</td>\n                        <td id=\"T_845b8498_8aaf_11ea_a70f_38c98644376frow0_col2\" class=\"data row0 col2\" >23</td>\n                        <td id=\"T_845b8498_8aaf_11ea_a70f_38c98644376frow0_col3\" class=\"data row0 col3\" >22</td>\n                        <td id=\"T_845b8498_8aaf_11ea_a70f_38c98644376frow0_col4\" class=\"data row0 col4\" >21</td>\n            </tr>\n            <tr>\n                        <th id=\"T_845b8498_8aaf_11ea_a70f_38c98644376flevel0_row1\" class=\"row_heading level0 row1\" >v</th>\n                        <td id=\"T_845b8498_8aaf_11ea_a70f_38c98644376frow1_col0\" class=\"data row1 col0\" >20</td>\n                        <td id=\"T_845b8498_8aaf_11ea_a70f_38c98644376frow1_col1\" class=\"data row1 col1\" >19</td>\n                        <td id=\"T_845b8498_8aaf_11ea_a70f_38c98644376frow1_col2\" class=\"data row1 col2\" >18</td>\n                        <td id=\"T_845b8498_8aaf_11ea_a70f_38c98644376frow1_col3\" class=\"data row1 col3\" >17</td>\n                        <td id=\"T_845b8498_8aaf_11ea_a70f_38c98644376frow1_col4\" class=\"data row1 col4\" >16</td>\n            </tr>\n            <tr>\n                        <th id=\"T_845b8498_8aaf_11ea_a70f_38c98644376flevel0_row2\" class=\"row_heading level0 row2\" >x</th>\n                        <td id=\"T_845b8498_8aaf_11ea_a70f_38c98644376frow2_col0\" class=\"data row2 col0\" >15</td>\n                        <td id=\"T_845b8498_8aaf_11ea_a70f_38c98644376frow2_col1\" class=\"data row2 col1\" >14</td>\n                        <td id=\"T_845b8498_8aaf_11ea_a70f_38c98644376frow2_col2\" class=\"data row2 col2\" >13</td>\n                        <td id=\"T_845b8498_8aaf_11ea_a70f_38c98644376frow2_col3\" class=\"data row2 col3\" >12</td>\n                        <td id=\"T_845b8498_8aaf_11ea_a70f_38c98644376frow2_col4\" class=\"data row2 col4\" >11</td>\n            </tr>\n            <tr>\n                        <th id=\"T_845b8498_8aaf_11ea_a70f_38c98644376flevel0_row3\" class=\"row_heading level0 row3\" >y</th>\n                        <td id=\"T_845b8498_8aaf_11ea_a70f_38c98644376frow3_col0\" class=\"data row3 col0\" >10</td>\n                        <td id=\"T_845b8498_8aaf_11ea_a70f_38c98644376frow3_col1\" class=\"data row3 col1\" >9</td>\n                        <td id=\"T_845b8498_8aaf_11ea_a70f_38c98644376frow3_col2\" class=\"data row3 col2\" >8</td>\n                        <td id=\"T_845b8498_8aaf_11ea_a70f_38c98644376frow3_col3\" class=\"data row3 col3\" >7</td>\n                        <td id=\"T_845b8498_8aaf_11ea_a70f_38c98644376frow3_col4\" class=\"data row3 col4\" >6</td>\n            </tr>\n            <tr>\n                        <th id=\"T_845b8498_8aaf_11ea_a70f_38c98644376flevel0_row4\" class=\"row_heading level0 row4\" >z</th>\n                        <td id=\"T_845b8498_8aaf_11ea_a70f_38c98644376frow4_col0\" class=\"data row4 col0\" >5</td>\n                        <td id=\"T_845b8498_8aaf_11ea_a70f_38c98644376frow4_col1\" class=\"data row4 col1\" >4</td>\n                        <td id=\"T_845b8498_8aaf_11ea_a70f_38c98644376frow4_col2\" class=\"data row4 col2\" >3</td>\n                        <td id=\"T_845b8498_8aaf_11ea_a70f_38c98644376frow4_col3\" class=\"data row4 col3\" >2</td>\n                        <td id=\"T_845b8498_8aaf_11ea_a70f_38c98644376frow4_col4\" class=\"data row4 col4\" >1</td>\n            </tr>\n    </tbody></table>"
     },
     "metadata": {},
     "execution_count": 22
    }
   ],
   "source": [
    "# select every nth rows\n",
    "\n",
    "def highlight_cols(s):\n",
    "    color = 'green'\n",
    "    return 'background-color: %s' % color\n",
    "\n",
    "df.style.applymap(highlight_cols, subset=pd.IndexSlice[['v', 'y'], :])"
   ]
  },
  {
   "cell_type": "code",
   "execution_count": 23,
   "metadata": {},
   "outputs": [
    {
     "output_type": "execute_result",
     "data": {
      "text/plain": "    a   b   c   d   e\nv  20  19  18  17  16\ny  10   9   8   7   6",
      "text/html": "<div>\n<style scoped>\n    .dataframe tbody tr th:only-of-type {\n        vertical-align: middle;\n    }\n\n    .dataframe tbody tr th {\n        vertical-align: top;\n    }\n\n    .dataframe thead th {\n        text-align: right;\n    }\n</style>\n<table border=\"1\" class=\"dataframe\">\n  <thead>\n    <tr style=\"text-align: right;\">\n      <th></th>\n      <th>a</th>\n      <th>b</th>\n      <th>c</th>\n      <th>d</th>\n      <th>e</th>\n    </tr>\n  </thead>\n  <tbody>\n    <tr>\n      <th>v</th>\n      <td>20</td>\n      <td>19</td>\n      <td>18</td>\n      <td>17</td>\n      <td>16</td>\n    </tr>\n    <tr>\n      <th>y</th>\n      <td>10</td>\n      <td>9</td>\n      <td>8</td>\n      <td>7</td>\n      <td>6</td>\n    </tr>\n  </tbody>\n</table>\n</div>"
     },
     "metadata": {},
     "execution_count": 23
    }
   ],
   "source": [
    "# df.loc[df.index[1::2] , :]\n",
    "df.iloc[1::2 , :]"
   ]
  },
  {
   "cell_type": "markdown",
   "metadata": {},
   "source": [
    "## select column(s) and row(s) by name or index"
   ]
  },
  {
   "cell_type": "code",
   "execution_count": 24,
   "metadata": {},
   "outputs": [
    {
     "output_type": "execute_result",
     "data": {
      "text/plain": "<pandas.io.formats.style.Styler at 0x11c17e550>",
      "text/html": "<style  type=\"text/css\" >\n    #T_8472192e_8aaf_11ea_a70f_38c98644376frow0_col0 {\n            background-color:  green;\n        }    #T_8472192e_8aaf_11ea_a70f_38c98644376frow0_col2 {\n            background-color:  green;\n        }    #T_8472192e_8aaf_11ea_a70f_38c98644376frow0_col4 {\n            background-color:  green;\n        }    #T_8472192e_8aaf_11ea_a70f_38c98644376frow2_col0 {\n            background-color:  green;\n        }    #T_8472192e_8aaf_11ea_a70f_38c98644376frow2_col2 {\n            background-color:  green;\n        }    #T_8472192e_8aaf_11ea_a70f_38c98644376frow2_col4 {\n            background-color:  green;\n        }    #T_8472192e_8aaf_11ea_a70f_38c98644376frow4_col0 {\n            background-color:  green;\n        }    #T_8472192e_8aaf_11ea_a70f_38c98644376frow4_col2 {\n            background-color:  green;\n        }    #T_8472192e_8aaf_11ea_a70f_38c98644376frow4_col4 {\n            background-color:  green;\n        }</style><table id=\"T_8472192e_8aaf_11ea_a70f_38c98644376f\" ><thead>    <tr>        <th class=\"blank level0\" ></th>        <th class=\"col_heading level0 col0\" >a</th>        <th class=\"col_heading level0 col1\" >b</th>        <th class=\"col_heading level0 col2\" >c</th>        <th class=\"col_heading level0 col3\" >d</th>        <th class=\"col_heading level0 col4\" >e</th>    </tr></thead><tbody>\n                <tr>\n                        <th id=\"T_8472192e_8aaf_11ea_a70f_38c98644376flevel0_row0\" class=\"row_heading level0 row0\" >u</th>\n                        <td id=\"T_8472192e_8aaf_11ea_a70f_38c98644376frow0_col0\" class=\"data row0 col0\" >25</td>\n                        <td id=\"T_8472192e_8aaf_11ea_a70f_38c98644376frow0_col1\" class=\"data row0 col1\" >24</td>\n                        <td id=\"T_8472192e_8aaf_11ea_a70f_38c98644376frow0_col2\" class=\"data row0 col2\" >23</td>\n                        <td id=\"T_8472192e_8aaf_11ea_a70f_38c98644376frow0_col3\" class=\"data row0 col3\" >22</td>\n                        <td id=\"T_8472192e_8aaf_11ea_a70f_38c98644376frow0_col4\" class=\"data row0 col4\" >21</td>\n            </tr>\n            <tr>\n                        <th id=\"T_8472192e_8aaf_11ea_a70f_38c98644376flevel0_row1\" class=\"row_heading level0 row1\" >v</th>\n                        <td id=\"T_8472192e_8aaf_11ea_a70f_38c98644376frow1_col0\" class=\"data row1 col0\" >20</td>\n                        <td id=\"T_8472192e_8aaf_11ea_a70f_38c98644376frow1_col1\" class=\"data row1 col1\" >19</td>\n                        <td id=\"T_8472192e_8aaf_11ea_a70f_38c98644376frow1_col2\" class=\"data row1 col2\" >18</td>\n                        <td id=\"T_8472192e_8aaf_11ea_a70f_38c98644376frow1_col3\" class=\"data row1 col3\" >17</td>\n                        <td id=\"T_8472192e_8aaf_11ea_a70f_38c98644376frow1_col4\" class=\"data row1 col4\" >16</td>\n            </tr>\n            <tr>\n                        <th id=\"T_8472192e_8aaf_11ea_a70f_38c98644376flevel0_row2\" class=\"row_heading level0 row2\" >x</th>\n                        <td id=\"T_8472192e_8aaf_11ea_a70f_38c98644376frow2_col0\" class=\"data row2 col0\" >15</td>\n                        <td id=\"T_8472192e_8aaf_11ea_a70f_38c98644376frow2_col1\" class=\"data row2 col1\" >14</td>\n                        <td id=\"T_8472192e_8aaf_11ea_a70f_38c98644376frow2_col2\" class=\"data row2 col2\" >13</td>\n                        <td id=\"T_8472192e_8aaf_11ea_a70f_38c98644376frow2_col3\" class=\"data row2 col3\" >12</td>\n                        <td id=\"T_8472192e_8aaf_11ea_a70f_38c98644376frow2_col4\" class=\"data row2 col4\" >11</td>\n            </tr>\n            <tr>\n                        <th id=\"T_8472192e_8aaf_11ea_a70f_38c98644376flevel0_row3\" class=\"row_heading level0 row3\" >y</th>\n                        <td id=\"T_8472192e_8aaf_11ea_a70f_38c98644376frow3_col0\" class=\"data row3 col0\" >10</td>\n                        <td id=\"T_8472192e_8aaf_11ea_a70f_38c98644376frow3_col1\" class=\"data row3 col1\" >9</td>\n                        <td id=\"T_8472192e_8aaf_11ea_a70f_38c98644376frow3_col2\" class=\"data row3 col2\" >8</td>\n                        <td id=\"T_8472192e_8aaf_11ea_a70f_38c98644376frow3_col3\" class=\"data row3 col3\" >7</td>\n                        <td id=\"T_8472192e_8aaf_11ea_a70f_38c98644376frow3_col4\" class=\"data row3 col4\" >6</td>\n            </tr>\n            <tr>\n                        <th id=\"T_8472192e_8aaf_11ea_a70f_38c98644376flevel0_row4\" class=\"row_heading level0 row4\" >z</th>\n                        <td id=\"T_8472192e_8aaf_11ea_a70f_38c98644376frow4_col0\" class=\"data row4 col0\" >5</td>\n                        <td id=\"T_8472192e_8aaf_11ea_a70f_38c98644376frow4_col1\" class=\"data row4 col1\" >4</td>\n                        <td id=\"T_8472192e_8aaf_11ea_a70f_38c98644376frow4_col2\" class=\"data row4 col2\" >3</td>\n                        <td id=\"T_8472192e_8aaf_11ea_a70f_38c98644376frow4_col3\" class=\"data row4 col3\" >2</td>\n                        <td id=\"T_8472192e_8aaf_11ea_a70f_38c98644376frow4_col4\" class=\"data row4 col4\" >1</td>\n            </tr>\n    </tbody></table>"
     },
     "metadata": {},
     "execution_count": 24
    }
   ],
   "source": [
    "# select every nth rows\n",
    "\n",
    "def highlight_cols(s):\n",
    "    color = 'green'\n",
    "    return 'background-color: %s' % color\n",
    "\n",
    "df.style.applymap(highlight_cols, subset=pd.IndexSlice[['u', 'x', 'z'], ['a', 'c', 'e']])"
   ]
  },
  {
   "cell_type": "code",
   "execution_count": 25,
   "metadata": {},
   "outputs": [
    {
     "output_type": "execute_result",
     "data": {
      "text/plain": "    a   c   e\nu  25  23  21\nx  15  13  11\nz   5   3   1",
      "text/html": "<div>\n<style scoped>\n    .dataframe tbody tr th:only-of-type {\n        vertical-align: middle;\n    }\n\n    .dataframe tbody tr th {\n        vertical-align: top;\n    }\n\n    .dataframe thead th {\n        text-align: right;\n    }\n</style>\n<table border=\"1\" class=\"dataframe\">\n  <thead>\n    <tr style=\"text-align: right;\">\n      <th></th>\n      <th>a</th>\n      <th>c</th>\n      <th>e</th>\n    </tr>\n  </thead>\n  <tbody>\n    <tr>\n      <th>u</th>\n      <td>25</td>\n      <td>23</td>\n      <td>21</td>\n    </tr>\n    <tr>\n      <th>x</th>\n      <td>15</td>\n      <td>13</td>\n      <td>11</td>\n    </tr>\n    <tr>\n      <th>z</th>\n      <td>5</td>\n      <td>3</td>\n      <td>1</td>\n    </tr>\n  </tbody>\n</table>\n</div>"
     },
     "metadata": {},
     "execution_count": 25
    }
   ],
   "source": [
    "# df.loc[['u', 'x', 'z'] , ['a', 'c', 'e']]\n",
    "df.iloc[[0, 2, 4] , [0, 2, 4]]"
   ]
  },
  {
   "cell_type": "markdown",
   "metadata": {},
   "source": [
    "## select a row by condition for values in one column"
   ]
  },
  {
   "cell_type": "code",
   "execution_count": 26,
   "metadata": {},
   "outputs": [
    {
     "output_type": "execute_result",
     "data": {
      "text/plain": "<pandas.io.formats.style.Styler at 0x11c17ed50>",
      "text/html": "<style  type=\"text/css\" >\n    #T_84833f06_8aaf_11ea_a70f_38c98644376frow0_col0 {\n            background-color:  green;\n        }    #T_84833f06_8aaf_11ea_a70f_38c98644376frow0_col1 {\n            background-color:  green;\n        }    #T_84833f06_8aaf_11ea_a70f_38c98644376frow0_col2 {\n            background-color:  green;\n        }    #T_84833f06_8aaf_11ea_a70f_38c98644376frow0_col3 {\n            background-color:  green;\n        }    #T_84833f06_8aaf_11ea_a70f_38c98644376frow0_col4 {\n            background-color:  green;\n        }    #T_84833f06_8aaf_11ea_a70f_38c98644376frow1_col0 {\n            background-color:  green;\n        }    #T_84833f06_8aaf_11ea_a70f_38c98644376frow1_col1 {\n            background-color:  green;\n        }    #T_84833f06_8aaf_11ea_a70f_38c98644376frow1_col2 {\n            background-color:  green;\n        }    #T_84833f06_8aaf_11ea_a70f_38c98644376frow1_col3 {\n            background-color:  green;\n        }    #T_84833f06_8aaf_11ea_a70f_38c98644376frow1_col4 {\n            background-color:  green;\n        }    #T_84833f06_8aaf_11ea_a70f_38c98644376frow2_col0 {\n            background-color:  green;\n        }    #T_84833f06_8aaf_11ea_a70f_38c98644376frow2_col1 {\n            background-color:  green;\n        }    #T_84833f06_8aaf_11ea_a70f_38c98644376frow2_col2 {\n            background-color:  green;\n        }    #T_84833f06_8aaf_11ea_a70f_38c98644376frow2_col3 {\n            background-color:  green;\n        }    #T_84833f06_8aaf_11ea_a70f_38c98644376frow2_col4 {\n            background-color:  green;\n        }</style><table id=\"T_84833f06_8aaf_11ea_a70f_38c98644376f\" ><thead>    <tr>        <th class=\"blank level0\" ></th>        <th class=\"col_heading level0 col0\" >a</th>        <th class=\"col_heading level0 col1\" >b</th>        <th class=\"col_heading level0 col2\" >c</th>        <th class=\"col_heading level0 col3\" >d</th>        <th class=\"col_heading level0 col4\" >e</th>    </tr></thead><tbody>\n                <tr>\n                        <th id=\"T_84833f06_8aaf_11ea_a70f_38c98644376flevel0_row0\" class=\"row_heading level0 row0\" >u</th>\n                        <td id=\"T_84833f06_8aaf_11ea_a70f_38c98644376frow0_col0\" class=\"data row0 col0\" >25</td>\n                        <td id=\"T_84833f06_8aaf_11ea_a70f_38c98644376frow0_col1\" class=\"data row0 col1\" >24</td>\n                        <td id=\"T_84833f06_8aaf_11ea_a70f_38c98644376frow0_col2\" class=\"data row0 col2\" >23</td>\n                        <td id=\"T_84833f06_8aaf_11ea_a70f_38c98644376frow0_col3\" class=\"data row0 col3\" >22</td>\n                        <td id=\"T_84833f06_8aaf_11ea_a70f_38c98644376frow0_col4\" class=\"data row0 col4\" >21</td>\n            </tr>\n            <tr>\n                        <th id=\"T_84833f06_8aaf_11ea_a70f_38c98644376flevel0_row1\" class=\"row_heading level0 row1\" >v</th>\n                        <td id=\"T_84833f06_8aaf_11ea_a70f_38c98644376frow1_col0\" class=\"data row1 col0\" >20</td>\n                        <td id=\"T_84833f06_8aaf_11ea_a70f_38c98644376frow1_col1\" class=\"data row1 col1\" >19</td>\n                        <td id=\"T_84833f06_8aaf_11ea_a70f_38c98644376frow1_col2\" class=\"data row1 col2\" >18</td>\n                        <td id=\"T_84833f06_8aaf_11ea_a70f_38c98644376frow1_col3\" class=\"data row1 col3\" >17</td>\n                        <td id=\"T_84833f06_8aaf_11ea_a70f_38c98644376frow1_col4\" class=\"data row1 col4\" >16</td>\n            </tr>\n            <tr>\n                        <th id=\"T_84833f06_8aaf_11ea_a70f_38c98644376flevel0_row2\" class=\"row_heading level0 row2\" >x</th>\n                        <td id=\"T_84833f06_8aaf_11ea_a70f_38c98644376frow2_col0\" class=\"data row2 col0\" >15</td>\n                        <td id=\"T_84833f06_8aaf_11ea_a70f_38c98644376frow2_col1\" class=\"data row2 col1\" >14</td>\n                        <td id=\"T_84833f06_8aaf_11ea_a70f_38c98644376frow2_col2\" class=\"data row2 col2\" >13</td>\n                        <td id=\"T_84833f06_8aaf_11ea_a70f_38c98644376frow2_col3\" class=\"data row2 col3\" >12</td>\n                        <td id=\"T_84833f06_8aaf_11ea_a70f_38c98644376frow2_col4\" class=\"data row2 col4\" >11</td>\n            </tr>\n            <tr>\n                        <th id=\"T_84833f06_8aaf_11ea_a70f_38c98644376flevel0_row3\" class=\"row_heading level0 row3\" >y</th>\n                        <td id=\"T_84833f06_8aaf_11ea_a70f_38c98644376frow3_col0\" class=\"data row3 col0\" >10</td>\n                        <td id=\"T_84833f06_8aaf_11ea_a70f_38c98644376frow3_col1\" class=\"data row3 col1\" >9</td>\n                        <td id=\"T_84833f06_8aaf_11ea_a70f_38c98644376frow3_col2\" class=\"data row3 col2\" >8</td>\n                        <td id=\"T_84833f06_8aaf_11ea_a70f_38c98644376frow3_col3\" class=\"data row3 col3\" >7</td>\n                        <td id=\"T_84833f06_8aaf_11ea_a70f_38c98644376frow3_col4\" class=\"data row3 col4\" >6</td>\n            </tr>\n            <tr>\n                        <th id=\"T_84833f06_8aaf_11ea_a70f_38c98644376flevel0_row4\" class=\"row_heading level0 row4\" >z</th>\n                        <td id=\"T_84833f06_8aaf_11ea_a70f_38c98644376frow4_col0\" class=\"data row4 col0\" >5</td>\n                        <td id=\"T_84833f06_8aaf_11ea_a70f_38c98644376frow4_col1\" class=\"data row4 col1\" >4</td>\n                        <td id=\"T_84833f06_8aaf_11ea_a70f_38c98644376frow4_col2\" class=\"data row4 col2\" >3</td>\n                        <td id=\"T_84833f06_8aaf_11ea_a70f_38c98644376frow4_col3\" class=\"data row4 col3\" >2</td>\n                        <td id=\"T_84833f06_8aaf_11ea_a70f_38c98644376frow4_col4\" class=\"data row4 col4\" >1</td>\n            </tr>\n    </tbody></table>"
     },
     "metadata": {},
     "execution_count": 26
    }
   ],
   "source": [
    "def highlight_cols(s):\n",
    "    color = 'green'\n",
    "    return 'background-color: %s' % color\n",
    "\n",
    "df.style.applymap(highlight_cols, subset=pd.IndexSlice['u':'x' , :])"
   ]
  },
  {
   "cell_type": "code",
   "execution_count": 27,
   "metadata": {},
   "outputs": [
    {
     "output_type": "execute_result",
     "data": {
      "text/plain": "    a   b   c   d   e\nu  25  24  23  22  21\nv  20  19  18  17  16\nx  15  14  13  12  11",
      "text/html": "<div>\n<style scoped>\n    .dataframe tbody tr th:only-of-type {\n        vertical-align: middle;\n    }\n\n    .dataframe tbody tr th {\n        vertical-align: top;\n    }\n\n    .dataframe thead th {\n        text-align: right;\n    }\n</style>\n<table border=\"1\" class=\"dataframe\">\n  <thead>\n    <tr style=\"text-align: right;\">\n      <th></th>\n      <th>a</th>\n      <th>b</th>\n      <th>c</th>\n      <th>d</th>\n      <th>e</th>\n    </tr>\n  </thead>\n  <tbody>\n    <tr>\n      <th>u</th>\n      <td>25</td>\n      <td>24</td>\n      <td>23</td>\n      <td>22</td>\n      <td>21</td>\n    </tr>\n    <tr>\n      <th>v</th>\n      <td>20</td>\n      <td>19</td>\n      <td>18</td>\n      <td>17</td>\n      <td>16</td>\n    </tr>\n    <tr>\n      <th>x</th>\n      <td>15</td>\n      <td>14</td>\n      <td>13</td>\n      <td>12</td>\n      <td>11</td>\n    </tr>\n  </tbody>\n</table>\n</div>"
     },
     "metadata": {},
     "execution_count": 27
    }
   ],
   "source": [
    "df[ df['d'] >= 12 ]"
   ]
  },
  {
   "cell_type": "code",
   "execution_count": null,
   "metadata": {},
   "outputs": [],
   "source": []
  }
 ],
 "metadata": {
  "language_info": {
   "name": "python",
   "codemirror_mode": {
    "name": "ipython",
    "version": 3
   },
   "version": "3.7.5-final"
  },
  "orig_nbformat": 2,
  "file_extension": ".py",
  "mimetype": "text/x-python",
  "name": "python",
  "npconvert_exporter": "python",
  "pygments_lexer": "ipython3",
  "version": 3,
  "kernelspec": {
   "name": "python37564bit42731fe29a1c4072b88558cb14c14b00",
   "display_name": "Python 3.7.5 64-bit"
  }
 },
 "nbformat": 4,
 "nbformat_minor": 2
}